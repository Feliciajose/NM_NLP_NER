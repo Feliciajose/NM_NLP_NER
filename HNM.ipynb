{
  "cells": [
    {
      "cell_type": "code",
      "execution_count": 6,
      "metadata": {
        "colab": {
          "base_uri": "https://localhost:8080/",
          "height": 403,
          "referenced_widgets": [
            "0bb26648c9264d7583935041b6fd48e8",
            "ee68dc943f07492b8cb23ea5f8786200",
            "6e14dc840f1e4aa793cc0a33a7bd944c",
            "6e727f467474498095105e8056abbf17",
            "7166c4de31554938a69db9bb9858f9b4",
            "e4fe17449d9848bd9ee429d8684548fe",
            "5147279800e44b3fa81142a8f12ccf43",
            "992f1e91f9e7479889cb2227085fbf30",
            "58d5110dc34a4e87811da8fca83cae53",
            "eaa8cd5724a64989be8072ee655bc08f",
            "d642ade93eb24ae291b378b0cea686dc",
            "498cc2d19cbc4dc1813a6028f7d73c06",
            "89a14bedeb2a498286f6eb67d5b3ffd0",
            "86e5cbca65f54120a945d8b32ef2a35f",
            "6e135896864442b0bb6560aafaca9a76",
            "1370d3de916e411ead98eeeca38f2d9e",
            "29730829f4e045ccaa30b2f1b7ca0ab3",
            "64c49502f0ac419b86ebd00a221ae466",
            "59463b361cad41e3ab5992a07a218de7",
            "626dd4966eac46c7bb11a23810b4c11a",
            "b6bd39962e934a06938ba02dc7b65cd4",
            "e7d15f76cf854699b01f28babd471ec2",
            "d3183b788ace4f488cae819e89139adc",
            "03083220364147f6ab544cb4399b675a",
            "f028b9cf43fe4c7ab69960cf55a4987e",
            "7e850ce50df04f5982b8e3bc737d54c0",
            "a1c300a9cf594bd883547920bbf3f51a",
            "3ad0640a81ed49ec9a95af3925ded337",
            "221561ee700e461bbc7f6dfd33077bdc",
            "957492934ed34b06b8e6504ea4786da0",
            "30af6805dc3d49749973a28f6d4881ec",
            "e10bf00a298e4c07a50d6d7dae298220",
            "0e2a960c69754b3f896cdf8adb0f4164",
            "4c960765d919466e8b6c1c6d6d077c1a",
            "82d66858e0ca47079124573686d17eef",
            "2649d53c6d584f4fb15de23acb3d3a6c",
            "f6387f1a57c9459b9391e41ecbb0adb2",
            "2db102c77e00444aace72265d8387d23",
            "3c81a8c356a24147aa7833f3da1ee8b9",
            "5248e549feae4d5fabda369207857760",
            "f2446e5377ca4f6ba6a581f16f6c800f",
            "2d5f1a44430447edbcfa98fcb330fc77",
            "28445e0156434114afe1eaf195a7255b",
            "c22024efd0d9436e9dae1b9eec54f4c5",
            "e77a06511d5343fca388c3e349c575cc",
            "0de2eb77d5d54552a352f618936499d2",
            "1bfdce7631814150920a5056a7b4ac96",
            "abaaeab955234ee7938547a27a453e3b",
            "298314c41f894c78915dc19108df626d",
            "8037c1fa994948f2b0bc1f262cf61937",
            "d4ca7dc152d3493db8cad6b4dc124333",
            "f7ae297879fe4ca1a190075d80ab6409",
            "d9d24099e4be404a9d9c9cad31d9ea29",
            "023567ceeaca42d68d22ca35291d4af1",
            "9dddc02a246348b19d07d722f32d4ec8",
            "3dc0e0ec4d5b4a018bd9446431d312e7",
            "66a8ea38e1a846dda43a16498709455a",
            "6253c53643f74c4c98529c13a7478acd",
            "97d1756b4ae94a138e7fa1e8c72f67f9",
            "1aa897e75899421594934cd1c29e3054",
            "5ac571dcad224c1187ea93f1130f912c",
            "89957363db4b4e8d951438d16e24cacf",
            "0658f6f1e21d4f9f80c119aca2347ec2",
            "2851655d334646eea12190a6cbc813d5",
            "df3a7a17c99e4afc99189914c3357bef",
            "3c170ff36a5f49fa84b5bcc4afbad0c7"
          ]
        },
        "id": "tMs7eA-tDwuI",
        "outputId": "159f94f4-9cd5-4bbb-965e-d7dfabd4d3f7"
      },
      "outputs": [
        {
          "name": "stderr",
          "output_type": "stream",
          "text": [
            "/usr/local/lib/python3.11/dist-packages/huggingface_hub/utils/_auth.py:94: UserWarning: \n",
            "The secret `HF_TOKEN` does not exist in your Colab secrets.\n",
            "To authenticate with the Hugging Face Hub, create a token in your settings tab (https://huggingface.co/settings/tokens), set it as secret in your Google Colab and restart your session.\n",
            "You will be able to reuse this secret in all of your notebooks.\n",
            "Please note that authentication is recommended but still optional to access public models or datasets.\n",
            "  warnings.warn(\n"
          ]
        },
        {
          "data": {
            "application/vnd.jupyter.widget-view+json": {
              "model_id": "0bb26648c9264d7583935041b6fd48e8",
              "version_major": 2,
              "version_minor": 0
            },
            "text/plain": [
              "tokenizer_config.json:   0%|          | 0.00/59.0 [00:00<?, ?B/s]"
            ]
          },
          "metadata": {},
          "output_type": "display_data"
        },
        {
          "data": {
            "application/vnd.jupyter.widget-view+json": {
              "model_id": "498cc2d19cbc4dc1813a6028f7d73c06",
              "version_major": 2,
              "version_minor": 0
            },
            "text/plain": [
              "config.json:   0%|          | 0.00/829 [00:00<?, ?B/s]"
            ]
          },
          "metadata": {},
          "output_type": "display_data"
        },
        {
          "data": {
            "application/vnd.jupyter.widget-view+json": {
              "model_id": "d3183b788ace4f488cae819e89139adc",
              "version_major": 2,
              "version_minor": 0
            },
            "text/plain": [
              "vocab.txt:   0%|          | 0.00/213k [00:00<?, ?B/s]"
            ]
          },
          "metadata": {},
          "output_type": "display_data"
        },
        {
          "data": {
            "application/vnd.jupyter.widget-view+json": {
              "model_id": "4c960765d919466e8b6c1c6d6d077c1a",
              "version_major": 2,
              "version_minor": 0
            },
            "text/plain": [
              "added_tokens.json:   0%|          | 0.00/2.00 [00:00<?, ?B/s]"
            ]
          },
          "metadata": {},
          "output_type": "display_data"
        },
        {
          "data": {
            "application/vnd.jupyter.widget-view+json": {
              "model_id": "e77a06511d5343fca388c3e349c575cc",
              "version_major": 2,
              "version_minor": 0
            },
            "text/plain": [
              "special_tokens_map.json:   0%|          | 0.00/112 [00:00<?, ?B/s]"
            ]
          },
          "metadata": {},
          "output_type": "display_data"
        },
        {
          "data": {
            "application/vnd.jupyter.widget-view+json": {
              "model_id": "3dc0e0ec4d5b4a018bd9446431d312e7",
              "version_major": 2,
              "version_minor": 0
            },
            "text/plain": [
              "model.safetensors:   0%|          | 0.00/433M [00:00<?, ?B/s]"
            ]
          },
          "metadata": {},
          "output_type": "display_data"
        },
        {
          "name": "stderr",
          "output_type": "stream",
          "text": [
            "Some weights of the model checkpoint at dslim/bert-base-NER were not used when initializing BertForTokenClassification: ['bert.pooler.dense.bias', 'bert.pooler.dense.weight']\n",
            "- This IS expected if you are initializing BertForTokenClassification from the checkpoint of a model trained on another task or with another architecture (e.g. initializing a BertForSequenceClassification model from a BertForPreTraining model).\n",
            "- This IS NOT expected if you are initializing BertForTokenClassification from the checkpoint of a model that you expect to be exactly identical (initializing a BertForSequenceClassification model from a BertForSequenceClassification model).\n",
            "Device set to use cpu\n"
          ]
        }
      ],
      "source": [
        "import spacy\n",
        "from transformers import AutoTokenizer, AutoModelForTokenClassification\n",
        "from transformers import pipeline\n",
        "import pandas as pd\n",
        "import json\n",
        "tokenizer = AutoTokenizer.from_pretrained(\"dslim/bert-base-NER\")\n",
        "model = AutoModelForTokenClassification.from_pretrained(\"dslim/bert-base-NER\")\n",
        "ner_pipeline = pipeline(\"ner\", model=model, tokenizer=tokenizer, aggregation_strategy=\"simple\")\n",
        "nlp = spacy.load(\"en_core_web_sm\")"
      ]
    },
    {
      "cell_type": "code",
      "execution_count": 7,
      "metadata": {
        "colab": {
          "base_uri": "https://localhost:8080/"
        },
        "id": "d6-HGg5DEsyn",
        "outputId": "203f4896-6cdc-463d-9be3-551b932b4f2c"
      },
      "outputs": [
        {
          "data": {
            "text/plain": [
              "BertForTokenClassification(\n",
              "  (bert): BertModel(\n",
              "    (embeddings): BertEmbeddings(\n",
              "      (word_embeddings): Embedding(28996, 768, padding_idx=0)\n",
              "      (position_embeddings): Embedding(512, 768)\n",
              "      (token_type_embeddings): Embedding(2, 768)\n",
              "      (LayerNorm): LayerNorm((768,), eps=1e-12, elementwise_affine=True)\n",
              "      (dropout): Dropout(p=0.1, inplace=False)\n",
              "    )\n",
              "    (encoder): BertEncoder(\n",
              "      (layer): ModuleList(\n",
              "        (0-11): 12 x BertLayer(\n",
              "          (attention): BertAttention(\n",
              "            (self): BertSdpaSelfAttention(\n",
              "              (query): Linear(in_features=768, out_features=768, bias=True)\n",
              "              (key): Linear(in_features=768, out_features=768, bias=True)\n",
              "              (value): Linear(in_features=768, out_features=768, bias=True)\n",
              "              (dropout): Dropout(p=0.1, inplace=False)\n",
              "            )\n",
              "            (output): BertSelfOutput(\n",
              "              (dense): Linear(in_features=768, out_features=768, bias=True)\n",
              "              (LayerNorm): LayerNorm((768,), eps=1e-12, elementwise_affine=True)\n",
              "              (dropout): Dropout(p=0.1, inplace=False)\n",
              "            )\n",
              "          )\n",
              "          (intermediate): BertIntermediate(\n",
              "            (dense): Linear(in_features=768, out_features=3072, bias=True)\n",
              "            (intermediate_act_fn): GELUActivation()\n",
              "          )\n",
              "          (output): BertOutput(\n",
              "            (dense): Linear(in_features=3072, out_features=768, bias=True)\n",
              "            (LayerNorm): LayerNorm((768,), eps=1e-12, elementwise_affine=True)\n",
              "            (dropout): Dropout(p=0.1, inplace=False)\n",
              "          )\n",
              "        )\n",
              "      )\n",
              "    )\n",
              "  )\n",
              "  (dropout): Dropout(p=0.1, inplace=False)\n",
              "  (classifier): Linear(in_features=768, out_features=9, bias=True)\n",
              ")"
            ]
          },
          "execution_count": 7,
          "metadata": {},
          "output_type": "execute_result"
        }
      ],
      "source": [
        "import torch\n",
        "device = torch.device('cuda' if torch.cuda.is_available() else 'cpu')\n",
        "model.to(device)\n"
      ]
    },
    {
      "cell_type": "code",
      "execution_count": 8,
      "metadata": {
        "colab": {
          "base_uri": "https://localhost:8080/"
        },
        "id": "NZJpIUsZEzX0",
        "outputId": "4721cde4-4a22-47ec-adab-82b95e852386"
      },
      "outputs": [
        {
          "name": "stderr",
          "output_type": "stream",
          "text": [
            "Device set to use cpu\n"
          ]
        }
      ],
      "source": [
        "ner_pipeline = pipeline(\"ner\", model=model, tokenizer=tokenizer, aggregation_strategy=\"simple\", device=0 if torch.cuda.is_available() else -1)\n",
        "\n"
      ]
    },
    {
      "cell_type": "code",
      "execution_count": 9,
      "metadata": {
        "colab": {
          "base_uri": "https://localhost:8080/"
        },
        "id": "pHxrpqHNFUie",
        "outputId": "520f3eb0-1f89-4152-de52-6bb675ec6217"
      },
      "outputs": [
        {
          "name": "stdout",
          "output_type": "stream",
          "text": [
            "Requirement already satisfied: transformers in /usr/local/lib/python3.11/dist-packages (4.51.3)\n",
            "Requirement already satisfied: datasets in /usr/local/lib/python3.11/dist-packages (2.14.4)\n",
            "Collecting seqeval\n",
            "  Downloading seqeval-1.2.2.tar.gz (43 kB)\n",
            "\u001b[?25l     \u001b[90m━━━━━━━━━━━━━━━━━━━━━━━━━━━━━━━━━━━━━━━━\u001b[0m \u001b[32m0.0/43.6 kB\u001b[0m \u001b[31m?\u001b[0m eta \u001b[36m-:--:--\u001b[0m\r\u001b[2K     \u001b[90m━━━━━━━━━━━━━━━━━━━━━━━━━━━━━━━━━━━━━━━━\u001b[0m \u001b[32m43.6/43.6 kB\u001b[0m \u001b[31m2.4 MB/s\u001b[0m eta \u001b[36m0:00:00\u001b[0m\n",
            "\u001b[?25h  Preparing metadata (setup.py) ... \u001b[?25l\u001b[?25hdone\n",
            "Requirement already satisfied: filelock in /usr/local/lib/python3.11/dist-packages (from transformers) (3.18.0)\n",
            "Requirement already satisfied: huggingface-hub<1.0,>=0.30.0 in /usr/local/lib/python3.11/dist-packages (from transformers) (0.31.2)\n",
            "Requirement already satisfied: numpy>=1.17 in /usr/local/lib/python3.11/dist-packages (from transformers) (2.0.2)\n",
            "Requirement already satisfied: packaging>=20.0 in /usr/local/lib/python3.11/dist-packages (from transformers) (24.2)\n",
            "Requirement already satisfied: pyyaml>=5.1 in /usr/local/lib/python3.11/dist-packages (from transformers) (6.0.2)\n",
            "Requirement already satisfied: regex!=2019.12.17 in /usr/local/lib/python3.11/dist-packages (from transformers) (2024.11.6)\n",
            "Requirement already satisfied: requests in /usr/local/lib/python3.11/dist-packages (from transformers) (2.32.3)\n",
            "Requirement already satisfied: tokenizers<0.22,>=0.21 in /usr/local/lib/python3.11/dist-packages (from transformers) (0.21.1)\n",
            "Requirement already satisfied: safetensors>=0.4.3 in /usr/local/lib/python3.11/dist-packages (from transformers) (0.5.3)\n",
            "Requirement already satisfied: tqdm>=4.27 in /usr/local/lib/python3.11/dist-packages (from transformers) (4.67.1)\n",
            "Requirement already satisfied: pyarrow>=8.0.0 in /usr/local/lib/python3.11/dist-packages (from datasets) (18.1.0)\n",
            "Requirement already satisfied: dill<0.3.8,>=0.3.0 in /usr/local/lib/python3.11/dist-packages (from datasets) (0.3.7)\n",
            "Requirement already satisfied: pandas in /usr/local/lib/python3.11/dist-packages (from datasets) (2.2.2)\n",
            "Requirement already satisfied: xxhash in /usr/local/lib/python3.11/dist-packages (from datasets) (3.5.0)\n",
            "Requirement already satisfied: multiprocess in /usr/local/lib/python3.11/dist-packages (from datasets) (0.70.15)\n",
            "Requirement already satisfied: fsspec>=2021.11.1 in /usr/local/lib/python3.11/dist-packages (from fsspec[http]>=2021.11.1->datasets) (2025.3.2)\n",
            "Requirement already satisfied: aiohttp in /usr/local/lib/python3.11/dist-packages (from datasets) (3.11.15)\n",
            "Requirement already satisfied: scikit-learn>=0.21.3 in /usr/local/lib/python3.11/dist-packages (from seqeval) (1.6.1)\n",
            "Requirement already satisfied: aiohappyeyeballs>=2.3.0 in /usr/local/lib/python3.11/dist-packages (from aiohttp->datasets) (2.6.1)\n",
            "Requirement already satisfied: aiosignal>=1.1.2 in /usr/local/lib/python3.11/dist-packages (from aiohttp->datasets) (1.3.2)\n",
            "Requirement already satisfied: attrs>=17.3.0 in /usr/local/lib/python3.11/dist-packages (from aiohttp->datasets) (25.3.0)\n",
            "Requirement already satisfied: frozenlist>=1.1.1 in /usr/local/lib/python3.11/dist-packages (from aiohttp->datasets) (1.6.0)\n",
            "Requirement already satisfied: multidict<7.0,>=4.5 in /usr/local/lib/python3.11/dist-packages (from aiohttp->datasets) (6.4.3)\n",
            "Requirement already satisfied: propcache>=0.2.0 in /usr/local/lib/python3.11/dist-packages (from aiohttp->datasets) (0.3.1)\n",
            "Requirement already satisfied: yarl<2.0,>=1.17.0 in /usr/local/lib/python3.11/dist-packages (from aiohttp->datasets) (1.20.0)\n",
            "Requirement already satisfied: typing-extensions>=3.7.4.3 in /usr/local/lib/python3.11/dist-packages (from huggingface-hub<1.0,>=0.30.0->transformers) (4.13.2)\n",
            "Requirement already satisfied: charset-normalizer<4,>=2 in /usr/local/lib/python3.11/dist-packages (from requests->transformers) (3.4.2)\n",
            "Requirement already satisfied: idna<4,>=2.5 in /usr/local/lib/python3.11/dist-packages (from requests->transformers) (3.10)\n",
            "Requirement already satisfied: urllib3<3,>=1.21.1 in /usr/local/lib/python3.11/dist-packages (from requests->transformers) (2.4.0)\n",
            "Requirement already satisfied: certifi>=2017.4.17 in /usr/local/lib/python3.11/dist-packages (from requests->transformers) (2025.4.26)\n",
            "Requirement already satisfied: scipy>=1.6.0 in /usr/local/lib/python3.11/dist-packages (from scikit-learn>=0.21.3->seqeval) (1.15.3)\n",
            "Requirement already satisfied: joblib>=1.2.0 in /usr/local/lib/python3.11/dist-packages (from scikit-learn>=0.21.3->seqeval) (1.5.0)\n",
            "Requirement already satisfied: threadpoolctl>=3.1.0 in /usr/local/lib/python3.11/dist-packages (from scikit-learn>=0.21.3->seqeval) (3.6.0)\n",
            "Requirement already satisfied: python-dateutil>=2.8.2 in /usr/local/lib/python3.11/dist-packages (from pandas->datasets) (2.9.0.post0)\n",
            "Requirement already satisfied: pytz>=2020.1 in /usr/local/lib/python3.11/dist-packages (from pandas->datasets) (2025.2)\n",
            "Requirement already satisfied: tzdata>=2022.7 in /usr/local/lib/python3.11/dist-packages (from pandas->datasets) (2025.2)\n",
            "Requirement already satisfied: six>=1.5 in /usr/local/lib/python3.11/dist-packages (from python-dateutil>=2.8.2->pandas->datasets) (1.17.0)\n",
            "Building wheels for collected packages: seqeval\n",
            "  Building wheel for seqeval (setup.py) ... \u001b[?25l\u001b[?25hdone\n",
            "  Created wheel for seqeval: filename=seqeval-1.2.2-py3-none-any.whl size=16162 sha256=23d45267063f522f7cb4c20dff177d391134b377a17627c5aaa90947031ee868\n",
            "  Stored in directory: /root/.cache/pip/wheels/bc/92/f0/243288f899c2eacdfa8c5f9aede4c71a9bad0ee26a01dc5ead\n",
            "Successfully built seqeval\n",
            "Installing collected packages: seqeval\n",
            "Successfully installed seqeval-1.2.2\n"
          ]
        }
      ],
      "source": [
        "!pip install transformers datasets seqeval\n",
        "\n"
      ]
    },
    {
      "cell_type": "code",
      "execution_count": 10,
      "metadata": {
        "id": "8aOj7giqNIfu"
      },
      "outputs": [],
      "source": [
        "from datasets import load_dataset, load_metric\n",
        "from transformers import AutoTokenizer, AutoModelForTokenClassification, TrainingArguments, Trainer\n",
        "import numpy as np\n"
      ]
    },
    {
      "cell_type": "code",
      "execution_count": 3,
      "metadata": {
        "colab": {
          "base_uri": "https://localhost:8080/"
        },
        "id": "XuyVu4NXQ6wh",
        "outputId": "66aa5130-8192-4175-f3a1-b4346b6ffca3"
      },
      "outputs": [
        {
          "name": "stdout",
          "output_type": "stream",
          "text": [
            "NM  nm.csv\n"
          ]
        }
      ],
      "source": [
        "!ls\n"
      ]
    },
    {
      "cell_type": "code",
      "execution_count": 4,
      "metadata": {
        "colab": {
          "base_uri": "https://localhost:8080/",
          "height": 301,
          "referenced_widgets": [
            "ca747e5d39c642798358627ae2d84963",
            "f053a5b248aa43049ce8cec25b7cc736",
            "76e4bb6b5abc4b43832d96d8ae5740ec",
            "f217e7732c1443359b7eac6056e597e9",
            "dfa30335352f4c5985d9224ad9883109",
            "2e8de3a36b8b4b2b98a0817f2782070d",
            "4538de836725405eb58a00ea5870e8f3",
            "00437598e3e24f29b4809e465bdeca2f",
            "f821a101e4ce43a2bd371448e6daa5ae",
            "43b9573a44164224b1dec08f8f43fb43",
            "ee6bed54ee8445d49011d74d27a87355",
            "a1fc0542282849aeb8edfdde4c10eb3d",
            "0399f0e5f6874a1da1ada1b9344b7071",
            "9103c10a223841b2a05a4b0273392d6d",
            "717dfddd7b4543e3aaf8663be1a14ab2",
            "257f2f8c889446258dc63a5bc5a91dc7",
            "b527ace41e6d4f50920a3234bd0e8088",
            "bc28d0636dfe4c66988932a10e5983a6",
            "7a3f3a4510eb4a7ca8276b0d7d813c50",
            "ea636221bd64414b926416fc7078ee1e",
            "1eb37443e48b411098c87fc88ffcaaf5",
            "5fb7ad1c096e4942a7460f982bbd0796",
            "2af805bef2ee496d84d7df00f7b5a7d3",
            "9ade824f7fa643c9afa554d8289b05e4",
            "611b248f71204c32a31c062208986add",
            "11af2236294b46c5a90102bf67e9b6ef",
            "e0526d0cdcda42229fe32154b3fe1d3f",
            "26add6338326424bbfe46108cb7356ed",
            "1e44a8595fd34483adf875bf2df2ab02",
            "48c8a7e9f65f4256bb2ec6eb0697b556",
            "d76d16cc6fc844488c9e3288cf6b720c",
            "d36d088e40dc4af0b1f22cb3056b4590",
            "c388a2ada6d042a1b2651b76432bf46a",
            "626c546419e4451eb6367e8a0373e974",
            "be6300f21e104935b192dca57dda078b",
            "0258ea7497e04e2ebf59522c9ffcdb0b",
            "c48bd47341924c97ade69239eb0aa379",
            "87dcf3e1b6e1468cb12ce824047113eb",
            "8a27c708f50a40daae689c739f4a7681",
            "24eaf9dc9ed04cd285ee64587874c66d",
            "01f19f337e574134804bc5f331b48614",
            "99c0b1b9d74d4528b4776fa266975444",
            "5e114e6369ec4318b0aafd10b36a91fd",
            "4126ea7c50214a51879971e391d04d04",
            "52abdc1c1e33437f9674584dab4afd71",
            "526d72cc68714b989c52363b517a90ab",
            "09bcb08e98cf4276970b5fe1735f1cbd",
            "8cefbac0ded7477892e2bf3ec3333fb3",
            "6c638db05cf14ef4b76c055135270628",
            "1984c56b4ab044708a90bdc1ce36fef6",
            "89553868335b400bac4cbe4afdf1c838",
            "05050d60379c41c6865b0cf0a7a0053f",
            "a76af1a9715c4173a25dcaef7e158e87",
            "e3ec2d466bc643a0a6d95f15dd31fd4f",
            "6c20286349814a7d8764d4f906509749"
          ]
        },
        "id": "HJHy47MXRNDw",
        "outputId": "497f3822-1749-4b70-8bae-2324fc9478a9"
      },
      "outputs": [
        {
          "name": "stderr",
          "output_type": "stream",
          "text": [
            "/usr/local/lib/python3.11/dist-packages/huggingface_hub/utils/_auth.py:94: UserWarning: \n",
            "The secret `HF_TOKEN` does not exist in your Colab secrets.\n",
            "To authenticate with the Hugging Face Hub, create a token in your settings tab (https://huggingface.co/settings/tokens), set it as secret in your Google Colab and restart your session.\n",
            "You will be able to reuse this secret in all of your notebooks.\n",
            "Please note that authentication is recommended but still optional to access public models or datasets.\n",
            "  warnings.warn(\n"
          ]
        },
        {
          "data": {
            "application/vnd.jupyter.widget-view+json": {
              "model_id": "ca747e5d39c642798358627ae2d84963",
              "version_major": 2,
              "version_minor": 0
            },
            "text/plain": [
              "README.md:   0%|          | 0.00/12.3k [00:00<?, ?B/s]"
            ]
          },
          "metadata": {},
          "output_type": "display_data"
        },
        {
          "data": {
            "application/vnd.jupyter.widget-view+json": {
              "model_id": "a1fc0542282849aeb8edfdde4c10eb3d",
              "version_major": 2,
              "version_minor": 0
            },
            "text/plain": [
              "conll2003.py:   0%|          | 0.00/9.57k [00:00<?, ?B/s]"
            ]
          },
          "metadata": {},
          "output_type": "display_data"
        },
        {
          "data": {
            "application/vnd.jupyter.widget-view+json": {
              "model_id": "2af805bef2ee496d84d7df00f7b5a7d3",
              "version_major": 2,
              "version_minor": 0
            },
            "text/plain": [
              "Generating train split:   0%|          | 0/14041 [00:00<?, ? examples/s]"
            ]
          },
          "metadata": {},
          "output_type": "display_data"
        },
        {
          "data": {
            "application/vnd.jupyter.widget-view+json": {
              "model_id": "626c546419e4451eb6367e8a0373e974",
              "version_major": 2,
              "version_minor": 0
            },
            "text/plain": [
              "Generating validation split:   0%|          | 0/3250 [00:00<?, ? examples/s]"
            ]
          },
          "metadata": {},
          "output_type": "display_data"
        },
        {
          "data": {
            "application/vnd.jupyter.widget-view+json": {
              "model_id": "52abdc1c1e33437f9674584dab4afd71",
              "version_major": 2,
              "version_minor": 0
            },
            "text/plain": [
              "Generating test split:   0%|          | 0/3453 [00:00<?, ? examples/s]"
            ]
          },
          "metadata": {},
          "output_type": "display_data"
        }
      ],
      "source": [
        "from datasets import load_dataset\n",
        "\n",
        "dataset = load_dataset(\"conll2003\", data_dir=\"/content/\")\n"
      ]
    },
    {
      "cell_type": "code",
      "execution_count": 5,
      "metadata": {
        "colab": {
          "base_uri": "https://localhost:8080/",
          "height": 333
        },
        "id": "DsIPWjtbRVeg",
        "outputId": "58446004-774e-4956-9512-6238fb34abce"
      },
      "outputs": [
        {
          "data": {
            "text/html": [
              "\n",
              "     <input type=\"file\" id=\"files-16ce7ce1-ecd6-4c67-a5c7-7a9e36127b9d\" name=\"files[]\" multiple disabled\n",
              "        style=\"border:none\" />\n",
              "     <output id=\"result-16ce7ce1-ecd6-4c67-a5c7-7a9e36127b9d\">\n",
              "      Upload widget is only available when the cell has been executed in the\n",
              "      current browser session. Please rerun this cell to enable.\n",
              "      </output>\n",
              "      <script>// Copyright 2017 Google LLC\n",
              "//\n",
              "// Licensed under the Apache License, Version 2.0 (the \"License\");\n",
              "// you may not use this file except in compliance with the License.\n",
              "// You may obtain a copy of the License at\n",
              "//\n",
              "//      http://www.apache.org/licenses/LICENSE-2.0\n",
              "//\n",
              "// Unless required by applicable law or agreed to in writing, software\n",
              "// distributed under the License is distributed on an \"AS IS\" BASIS,\n",
              "// WITHOUT WARRANTIES OR CONDITIONS OF ANY KIND, either express or implied.\n",
              "// See the License for the specific language governing permissions and\n",
              "// limitations under the License.\n",
              "\n",
              "/**\n",
              " * @fileoverview Helpers for google.colab Python module.\n",
              " */\n",
              "(function(scope) {\n",
              "function span(text, styleAttributes = {}) {\n",
              "  const element = document.createElement('span');\n",
              "  element.textContent = text;\n",
              "  for (const key of Object.keys(styleAttributes)) {\n",
              "    element.style[key] = styleAttributes[key];\n",
              "  }\n",
              "  return element;\n",
              "}\n",
              "\n",
              "// Max number of bytes which will be uploaded at a time.\n",
              "const MAX_PAYLOAD_SIZE = 100 * 1024;\n",
              "\n",
              "function _uploadFiles(inputId, outputId) {\n",
              "  const steps = uploadFilesStep(inputId, outputId);\n",
              "  const outputElement = document.getElementById(outputId);\n",
              "  // Cache steps on the outputElement to make it available for the next call\n",
              "  // to uploadFilesContinue from Python.\n",
              "  outputElement.steps = steps;\n",
              "\n",
              "  return _uploadFilesContinue(outputId);\n",
              "}\n",
              "\n",
              "// This is roughly an async generator (not supported in the browser yet),\n",
              "// where there are multiple asynchronous steps and the Python side is going\n",
              "// to poll for completion of each step.\n",
              "// This uses a Promise to block the python side on completion of each step,\n",
              "// then passes the result of the previous step as the input to the next step.\n",
              "function _uploadFilesContinue(outputId) {\n",
              "  const outputElement = document.getElementById(outputId);\n",
              "  const steps = outputElement.steps;\n",
              "\n",
              "  const next = steps.next(outputElement.lastPromiseValue);\n",
              "  return Promise.resolve(next.value.promise).then((value) => {\n",
              "    // Cache the last promise value to make it available to the next\n",
              "    // step of the generator.\n",
              "    outputElement.lastPromiseValue = value;\n",
              "    return next.value.response;\n",
              "  });\n",
              "}\n",
              "\n",
              "/**\n",
              " * Generator function which is called between each async step of the upload\n",
              " * process.\n",
              " * @param {string} inputId Element ID of the input file picker element.\n",
              " * @param {string} outputId Element ID of the output display.\n",
              " * @return {!Iterable<!Object>} Iterable of next steps.\n",
              " */\n",
              "function* uploadFilesStep(inputId, outputId) {\n",
              "  const inputElement = document.getElementById(inputId);\n",
              "  inputElement.disabled = false;\n",
              "\n",
              "  const outputElement = document.getElementById(outputId);\n",
              "  outputElement.innerHTML = '';\n",
              "\n",
              "  const pickedPromise = new Promise((resolve) => {\n",
              "    inputElement.addEventListener('change', (e) => {\n",
              "      resolve(e.target.files);\n",
              "    });\n",
              "  });\n",
              "\n",
              "  const cancel = document.createElement('button');\n",
              "  inputElement.parentElement.appendChild(cancel);\n",
              "  cancel.textContent = 'Cancel upload';\n",
              "  const cancelPromise = new Promise((resolve) => {\n",
              "    cancel.onclick = () => {\n",
              "      resolve(null);\n",
              "    };\n",
              "  });\n",
              "\n",
              "  // Wait for the user to pick the files.\n",
              "  const files = yield {\n",
              "    promise: Promise.race([pickedPromise, cancelPromise]),\n",
              "    response: {\n",
              "      action: 'starting',\n",
              "    }\n",
              "  };\n",
              "\n",
              "  cancel.remove();\n",
              "\n",
              "  // Disable the input element since further picks are not allowed.\n",
              "  inputElement.disabled = true;\n",
              "\n",
              "  if (!files) {\n",
              "    return {\n",
              "      response: {\n",
              "        action: 'complete',\n",
              "      }\n",
              "    };\n",
              "  }\n",
              "\n",
              "  for (const file of files) {\n",
              "    const li = document.createElement('li');\n",
              "    li.append(span(file.name, {fontWeight: 'bold'}));\n",
              "    li.append(span(\n",
              "        `(${file.type || 'n/a'}) - ${file.size} bytes, ` +\n",
              "        `last modified: ${\n",
              "            file.lastModifiedDate ? file.lastModifiedDate.toLocaleDateString() :\n",
              "                                    'n/a'} - `));\n",
              "    const percent = span('0% done');\n",
              "    li.appendChild(percent);\n",
              "\n",
              "    outputElement.appendChild(li);\n",
              "\n",
              "    const fileDataPromise = new Promise((resolve) => {\n",
              "      const reader = new FileReader();\n",
              "      reader.onload = (e) => {\n",
              "        resolve(e.target.result);\n",
              "      };\n",
              "      reader.readAsArrayBuffer(file);\n",
              "    });\n",
              "    // Wait for the data to be ready.\n",
              "    let fileData = yield {\n",
              "      promise: fileDataPromise,\n",
              "      response: {\n",
              "        action: 'continue',\n",
              "      }\n",
              "    };\n",
              "\n",
              "    // Use a chunked sending to avoid message size limits. See b/62115660.\n",
              "    let position = 0;\n",
              "    do {\n",
              "      const length = Math.min(fileData.byteLength - position, MAX_PAYLOAD_SIZE);\n",
              "      const chunk = new Uint8Array(fileData, position, length);\n",
              "      position += length;\n",
              "\n",
              "      const base64 = btoa(String.fromCharCode.apply(null, chunk));\n",
              "      yield {\n",
              "        response: {\n",
              "          action: 'append',\n",
              "          file: file.name,\n",
              "          data: base64,\n",
              "        },\n",
              "      };\n",
              "\n",
              "      let percentDone = fileData.byteLength === 0 ?\n",
              "          100 :\n",
              "          Math.round((position / fileData.byteLength) * 100);\n",
              "      percent.textContent = `${percentDone}% done`;\n",
              "\n",
              "    } while (position < fileData.byteLength);\n",
              "  }\n",
              "\n",
              "  // All done.\n",
              "  yield {\n",
              "    response: {\n",
              "      action: 'complete',\n",
              "    }\n",
              "  };\n",
              "}\n",
              "\n",
              "scope.google = scope.google || {};\n",
              "scope.google.colab = scope.google.colab || {};\n",
              "scope.google.colab._files = {\n",
              "  _uploadFiles,\n",
              "  _uploadFilesContinue,\n",
              "};\n",
              "})(self);\n",
              "</script> "
            ],
            "text/plain": [
              "<IPython.core.display.HTML object>"
            ]
          },
          "metadata": {},
          "output_type": "display_data"
        },
        {
          "name": "stdout",
          "output_type": "stream",
          "text": [
            "Saving nm.csv to nm (1).csv\n",
            " NM  'nm (1).csv'   nm.csv\n",
            "DatasetDict({\n",
            "    train: Dataset({\n",
            "        features: ['id', 'tokens', 'pos_tags', 'chunk_tags', 'ner_tags'],\n",
            "        num_rows: 14041\n",
            "    })\n",
            "    validation: Dataset({\n",
            "        features: ['id', 'tokens', 'pos_tags', 'chunk_tags', 'ner_tags'],\n",
            "        num_rows: 3250\n",
            "    })\n",
            "    test: Dataset({\n",
            "        features: ['id', 'tokens', 'pos_tags', 'chunk_tags', 'ner_tags'],\n",
            "        num_rows: 3453\n",
            "    })\n",
            "})\n"
          ]
        }
      ],
      "source": [
        "from google.colab import files\n",
        "\n",
        "# Upload files (choose all required files at once)\n",
        "uploaded = files.upload()\n",
        "\n",
        "# List files to verify upload\n",
        "!ls /content/\n",
        "\n",
        "# Now load the dataset from /content/ (where files got uploaded)\n",
        "from datasets import load_dataset\n",
        "\n",
        "dataset = load_dataset(\"conll2003\", data_dir=\"/content/\")\n",
        "\n",
        "print(dataset)\n"
      ]
    },
    {
      "cell_type": "code",
      "execution_count": 11,
      "metadata": {
        "colab": {
          "base_uri": "https://localhost:8080/",
          "height": 153,
          "referenced_widgets": [
            "1359690e1110433386e2946e8d41342b",
            "8b62976b0faf460ebdeddd8c9f73e78b",
            "ee9ceefb752a4491ac853ec72f750f57",
            "070b47b4b97e4d27b49de49d8a740f06",
            "79995849eb9548a997f8d22aa5cdf695",
            "14148d7fcd7a42ab8f9c9280cbc9a756",
            "95b60bb4383b4343963dfbff56e55227",
            "71eddf8ac98b44289f0599b0f14a6b6e",
            "0005e956a36e40a69ab946a396136e8f",
            "0ba4ef33606b4a0a8c90158ac13c6b76",
            "574836fe95df4956a1f34c5deb48dafd"
          ]
        },
        "id": "00WfyHf4SxLh",
        "outputId": "4d3f1c0c-004c-42d1-900d-fa6cfc0ed4dd"
      },
      "outputs": [
        {
          "data": {
            "application/vnd.jupyter.widget-view+json": {
              "model_id": "1359690e1110433386e2946e8d41342b",
              "version_major": 2,
              "version_minor": 0
            },
            "text/plain": [
              "Generating train split: 0 examples [00:00, ? examples/s]"
            ]
          },
          "metadata": {},
          "output_type": "display_data"
        },
        {
          "name": "stdout",
          "output_type": "stream",
          "text": [
            "DatasetDict({\n",
            "    train: Dataset({\n",
            "        features: ['id', 'date', 'client_id', 'card_id', 'amount', 'use_chip', 'merchant_id', 'merchant_city', 'merchant_state', 'zip', 'mcc'],\n",
            "        num_rows: 1025\n",
            "    })\n",
            "})\n"
          ]
        }
      ],
      "source": [
        "from datasets import load_dataset\n",
        "\n",
        "dataset = load_dataset('csv', data_files='nm.csv')\n",
        "print(dataset)\n"
      ]
    },
    {
      "cell_type": "code",
      "execution_count": 12,
      "metadata": {
        "colab": {
          "base_uri": "https://localhost:8080/",
          "height": 1000
        },
        "id": "v3Lfw5-jS3t0",
        "outputId": "49af6a6b-0b2f-4b08-89df-707e612a25f1"
      },
      "outputs": [
        {
          "data": {
            "text/html": [
              "\n",
              "     <input type=\"file\" id=\"files-f816e33e-9b30-4198-8683-d9d5d6ba4ca4\" name=\"files[]\" multiple disabled\n",
              "        style=\"border:none\" />\n",
              "     <output id=\"result-f816e33e-9b30-4198-8683-d9d5d6ba4ca4\">\n",
              "      Upload widget is only available when the cell has been executed in the\n",
              "      current browser session. Please rerun this cell to enable.\n",
              "      </output>\n",
              "      <script>// Copyright 2017 Google LLC\n",
              "//\n",
              "// Licensed under the Apache License, Version 2.0 (the \"License\");\n",
              "// you may not use this file except in compliance with the License.\n",
              "// You may obtain a copy of the License at\n",
              "//\n",
              "//      http://www.apache.org/licenses/LICENSE-2.0\n",
              "//\n",
              "// Unless required by applicable law or agreed to in writing, software\n",
              "// distributed under the License is distributed on an \"AS IS\" BASIS,\n",
              "// WITHOUT WARRANTIES OR CONDITIONS OF ANY KIND, either express or implied.\n",
              "// See the License for the specific language governing permissions and\n",
              "// limitations under the License.\n",
              "\n",
              "/**\n",
              " * @fileoverview Helpers for google.colab Python module.\n",
              " */\n",
              "(function(scope) {\n",
              "function span(text, styleAttributes = {}) {\n",
              "  const element = document.createElement('span');\n",
              "  element.textContent = text;\n",
              "  for (const key of Object.keys(styleAttributes)) {\n",
              "    element.style[key] = styleAttributes[key];\n",
              "  }\n",
              "  return element;\n",
              "}\n",
              "\n",
              "// Max number of bytes which will be uploaded at a time.\n",
              "const MAX_PAYLOAD_SIZE = 100 * 1024;\n",
              "\n",
              "function _uploadFiles(inputId, outputId) {\n",
              "  const steps = uploadFilesStep(inputId, outputId);\n",
              "  const outputElement = document.getElementById(outputId);\n",
              "  // Cache steps on the outputElement to make it available for the next call\n",
              "  // to uploadFilesContinue from Python.\n",
              "  outputElement.steps = steps;\n",
              "\n",
              "  return _uploadFilesContinue(outputId);\n",
              "}\n",
              "\n",
              "// This is roughly an async generator (not supported in the browser yet),\n",
              "// where there are multiple asynchronous steps and the Python side is going\n",
              "// to poll for completion of each step.\n",
              "// This uses a Promise to block the python side on completion of each step,\n",
              "// then passes the result of the previous step as the input to the next step.\n",
              "function _uploadFilesContinue(outputId) {\n",
              "  const outputElement = document.getElementById(outputId);\n",
              "  const steps = outputElement.steps;\n",
              "\n",
              "  const next = steps.next(outputElement.lastPromiseValue);\n",
              "  return Promise.resolve(next.value.promise).then((value) => {\n",
              "    // Cache the last promise value to make it available to the next\n",
              "    // step of the generator.\n",
              "    outputElement.lastPromiseValue = value;\n",
              "    return next.value.response;\n",
              "  });\n",
              "}\n",
              "\n",
              "/**\n",
              " * Generator function which is called between each async step of the upload\n",
              " * process.\n",
              " * @param {string} inputId Element ID of the input file picker element.\n",
              " * @param {string} outputId Element ID of the output display.\n",
              " * @return {!Iterable<!Object>} Iterable of next steps.\n",
              " */\n",
              "function* uploadFilesStep(inputId, outputId) {\n",
              "  const inputElement = document.getElementById(inputId);\n",
              "  inputElement.disabled = false;\n",
              "\n",
              "  const outputElement = document.getElementById(outputId);\n",
              "  outputElement.innerHTML = '';\n",
              "\n",
              "  const pickedPromise = new Promise((resolve) => {\n",
              "    inputElement.addEventListener('change', (e) => {\n",
              "      resolve(e.target.files);\n",
              "    });\n",
              "  });\n",
              "\n",
              "  const cancel = document.createElement('button');\n",
              "  inputElement.parentElement.appendChild(cancel);\n",
              "  cancel.textContent = 'Cancel upload';\n",
              "  const cancelPromise = new Promise((resolve) => {\n",
              "    cancel.onclick = () => {\n",
              "      resolve(null);\n",
              "    };\n",
              "  });\n",
              "\n",
              "  // Wait for the user to pick the files.\n",
              "  const files = yield {\n",
              "    promise: Promise.race([pickedPromise, cancelPromise]),\n",
              "    response: {\n",
              "      action: 'starting',\n",
              "    }\n",
              "  };\n",
              "\n",
              "  cancel.remove();\n",
              "\n",
              "  // Disable the input element since further picks are not allowed.\n",
              "  inputElement.disabled = true;\n",
              "\n",
              "  if (!files) {\n",
              "    return {\n",
              "      response: {\n",
              "        action: 'complete',\n",
              "      }\n",
              "    };\n",
              "  }\n",
              "\n",
              "  for (const file of files) {\n",
              "    const li = document.createElement('li');\n",
              "    li.append(span(file.name, {fontWeight: 'bold'}));\n",
              "    li.append(span(\n",
              "        `(${file.type || 'n/a'}) - ${file.size} bytes, ` +\n",
              "        `last modified: ${\n",
              "            file.lastModifiedDate ? file.lastModifiedDate.toLocaleDateString() :\n",
              "                                    'n/a'} - `));\n",
              "    const percent = span('0% done');\n",
              "    li.appendChild(percent);\n",
              "\n",
              "    outputElement.appendChild(li);\n",
              "\n",
              "    const fileDataPromise = new Promise((resolve) => {\n",
              "      const reader = new FileReader();\n",
              "      reader.onload = (e) => {\n",
              "        resolve(e.target.result);\n",
              "      };\n",
              "      reader.readAsArrayBuffer(file);\n",
              "    });\n",
              "    // Wait for the data to be ready.\n",
              "    let fileData = yield {\n",
              "      promise: fileDataPromise,\n",
              "      response: {\n",
              "        action: 'continue',\n",
              "      }\n",
              "    };\n",
              "\n",
              "    // Use a chunked sending to avoid message size limits. See b/62115660.\n",
              "    let position = 0;\n",
              "    do {\n",
              "      const length = Math.min(fileData.byteLength - position, MAX_PAYLOAD_SIZE);\n",
              "      const chunk = new Uint8Array(fileData, position, length);\n",
              "      position += length;\n",
              "\n",
              "      const base64 = btoa(String.fromCharCode.apply(null, chunk));\n",
              "      yield {\n",
              "        response: {\n",
              "          action: 'append',\n",
              "          file: file.name,\n",
              "          data: base64,\n",
              "        },\n",
              "      };\n",
              "\n",
              "      let percentDone = fileData.byteLength === 0 ?\n",
              "          100 :\n",
              "          Math.round((position / fileData.byteLength) * 100);\n",
              "      percent.textContent = `${percentDone}% done`;\n",
              "\n",
              "    } while (position < fileData.byteLength);\n",
              "  }\n",
              "\n",
              "  // All done.\n",
              "  yield {\n",
              "    response: {\n",
              "      action: 'complete',\n",
              "    }\n",
              "  };\n",
              "}\n",
              "\n",
              "scope.google = scope.google || {};\n",
              "scope.google.colab = scope.google.colab || {};\n",
              "scope.google.colab._files = {\n",
              "  _uploadFiles,\n",
              "  _uploadFilesContinue,\n",
              "};\n",
              "})(self);\n",
              "</script> "
            ],
            "text/plain": [
              "<IPython.core.display.HTML object>"
            ]
          },
          "metadata": {},
          "output_type": "display_data"
        },
        {
          "name": "stdout",
          "output_type": "stream",
          "text": [
            "Saving nm.csv to nm (2).csv\n"
          ]
        },
        {
          "data": {
            "text/plain": [
              "{'nm (2).csv': b'id,date,client_id,card_id,amount,use_chip,merchant_id,merchant_city,merchant_state,zip,mcc\\r\\n7475327,01-01-2010 00:01,1556,2972,$-77.00,Swipe Transaction,59935,Beulah,ND,58523,5499\\r\\n7475328,01-01-2010 00:02,561,4575,$14.57,Swipe Transaction,67570,Bettendorf,IA,52722,5311\\r\\n7475329,01-01-2010 00:02,1129,102,$80.00,Swipe Transaction,27092,Vista,CA,92084,4829\\r\\n7475331,01-01-2010 00:05,430,2860,$200.00,Swipe Transaction,27092,Crown Point,IN,46307,4829\\r\\n7475332,01-01-2010 00:06,848,3915,$46.41,Swipe Transaction,13051,Harwood,MD,20776,5813\\r\\n7475333,01-01-2010 00:07,1807,165,$4.81,Swipe Transaction,20519,Bronx,NY,10464,5942\\r\\n7475334,01-01-2010 00:09,1556,2972,$77.00,Swipe Transaction,59935,Beulah,ND,58523,5499\\r\\n7475335,01-01-2010 00:14,1684,2140,$26.46,Online Transaction,39021,ONLINE,,,4784\\r\\n7475336,01-01-2010 00:21,335,5131,$261.58,Online Transaction,50292,ONLINE,,,7801\\r\\n7475337,01-01-2010 00:21,351,1112,$10.74,Swipe Transaction,3864,Flushing,NY,11355,5813\\r\\n7475338,01-01-2010 00:23,554,3912,$3.51,Swipe Transaction,67570,Pearland,TX,77581,5311\\r\\n7475339,01-01-2010 00:23,605,5061,$2.58,Swipe Transaction,75781,Brooklyn,NY,11210,5411\\r\\n7475340,01-01-2010 00:26,1556,2972,$39.63,Swipe Transaction,59935,Beulah,ND,58523,5499\\r\\n7475341,01-01-2010 00:27,1797,1127,$43.33,Swipe Transaction,33326,Kahului,HI,96732,4121\\r\\n7475342,01-01-2010 00:30,114,3398,$49.42,Swipe Transaction,61195,North Hollywood,CA,91606,5541\\r\\n7475343,01-01-2010 00:31,1634,2464,$1.09,Swipe Transaction,20519,San Benito,TX,78586,5942\\r\\n7475344,01-01-2010 00:32,646,2093,$73.79,Swipe Transaction,1636,Erie,PA,16511,7538\\r\\n7475345,01-01-2010 00:32,1129,5492,$100.00,Swipe Transaction,27092,Vista,CA,92084,4829\\r\\n7475346,01-01-2010 00:34,394,4717,$26.04,Online Transaction,39021,ONLINE,,,4784\\r\\n7475347,01-01-2010 00:36,114,3398,$-64.00,Swipe Transaction,61195,North Hollywood,CA,91606,5541\\r\\n7475348,01-01-2010 00:36,1376,2182,$54.27,Swipe Transaction,88945,Cedar Park,TX,78613,5813\\r\\n7475349,01-01-2010 00:37,1682,238,$20.74,Swipe Transaction,21586,Grand Forks,ND,58201,5411\\r\\n7475350,01-01-2010 00:38,114,3398,$64.00,Swipe Transaction,61195,North Hollywood,CA,91606,5541\\r\\n7475351,01-01-2010 00:38,121,5952,$57.54,Swipe Transaction,11901,Menasha,WI,54952,5300\\r\\n7475353,01-01-2010 00:43,301,3742,$10.17,Online Transaction,39021,ONLINE,,,4784\\r\\n7475354,01-01-2010 00:43,1755,4228,$12.01,Swipe Transaction,28666,Cordele,GA,31015,5921\\r\\n7475356,01-01-2010 00:45,566,3439,$16.86,Online Transaction,16798,ONLINE,,,4121\\r\\n7475357,01-01-2010 00:46,379,3881,$4.64,Swipe Transaction,50783,Mobile,AL,36695,5411\\r\\n7475358,01-01-2010 00:48,401,3004,$669.88,Swipe Transaction,68977,West Covina,CA,91791,3174\\r\\n7475359,01-01-2010 00:48,1127,3869,$22.57,Online Transaction,39021,ONLINE,,,4784\\r\\n7475360,01-01-2010 00:49,652,4293,$2.40,Swipe Transaction,74624,East Hartford,CT,6108,5411\\r\\n7475361,01-01-2010 00:53,1963,3317,$40.35,Swipe Transaction,69972,Vacaville,CA,95687,5814\\r\\n7475362,01-01-2010 00:56,1357,4488,$14.57,Swipe Transaction,78632,Tacoma,WA,98404,5921\\r\\n7475363,01-01-2010 00:57,285,3442,$7.80,Swipe Transaction,81536,Watsonville,CA,95076,5310\\r\\n7475364,01-01-2010 00:57,1201,16,$2.95,Swipe Transaction,61195,Woburn,MA,1801,5541\\r\\n7475365,01-01-2010 01:01,820,127,$270.22,Online Transaction,73186,ONLINE,,,4814\\r\\n7475366,01-01-2010 01:03,1703,2969,$78.00,Swipe Transaction,43293,Grand Junction,CO,81506,5499\\r\\n7475367,01-01-2010 01:06,1758,4686,$87.09,Online Transaction,17976,ONLINE,,,4900\\r\\n7475368,01-01-2010 01:07,414,2815,$148.39,Swipe Transaction,5258,Morristown,NJ,7960,4900\\r\\n7475370,01-01-2010 01:07,1963,3364,$48.12,Swipe Transaction,88646,Vacaville,CA,95688,5812\\r\\n7475371,01-01-2010 01:08,561,3764,$7.75,Swipe Transaction,86977,Burlington,IA,52601,5813\\r\\n7475372,01-01-2010 01:11,566,5577,$14.66,Online Transaction,16798,ONLINE,,,4121\\r\\n7475373,01-01-2010 01:11,1642,4281,$3.96,Swipe Transaction,44625,Manasquan,NJ,8736,5812\\r\\n7475374,01-01-2010 01:13,1684,94,$12.67,Online Transaction,39021,ONLINE,,,4784\\r\\n7475376,01-01-2010 01:19,989,2511,$580.98,Swipe Transaction,73661,Thackerville,OK,73459,7995\\r\\n7475377,01-01-2010 01:19,1519,2452,$10.34,Swipe Transaction,12399,Laurel,MT,59044,5813\\r\\n7475378,01-01-2010 01:19,1575,2112,$17.14,Swipe Transaction,29232,Osprey,FL,34229,4121\\r\\n7475379,01-01-2010 01:22,986,4755,$1.85,Swipe Transaction,14528,Garden City,NY,11530,5499\\r\\n7475380,01-01-2010 01:23,1703,2969,$71.72,Swipe Transaction,43293,Grand Junction,CO,81506,5499\\r\\n7475381,01-01-2010 01:25,430,5768,$200.00,Swipe Transaction,27092,Crown Point,IN,46307,4829\\r\\n7475382,01-01-2010 01:25,1703,2969,$-78.00,Swipe Transaction,43293,Grand Junction,CO,81506,5499\\r\\n7475383,01-01-2010 01:30,1357,65,$23.08,Swipe Transaction,80797,Tacoma,WA,98404,5813\\r\\n7475385,01-01-2010 01:37,1484,2527,$40.00,Swipe Transaction,27092,Pinetop,AZ,85935,4829\\r\\n7475388,01-01-2010 01:40,1077,2539,$2.43,Swipe Transaction,46284,Ukiah,CA,95482,5411\\r\\n7475389,01-01-2010 01:40,1787,2228,$3.77,Swipe Transaction,20519,Lexington,KY,40515,5942\\r\\n7475390,01-01-2010 01:41,247,4155,$3.29,Swipe Transaction,92883,Lake Charles,LA,70605,5812\\r\\n7475391,01-01-2010 01:41,1087,1029,$62.98,Online Transaction,17976,ONLINE,,,4900\\r\\n7475394,01-01-2010 01:46,1575,224,$34.34,Online Transaction,16798,ONLINE,,,4121\\r\\n7475395,01-01-2010 01:47,1731,2797,$73.46,Swipe Transaction,18293,Fontana,CA,92336,7995\\r\\n7475396,01-01-2010 01:48,125,2023,$9.16,Swipe Transaction,23462,Modesto,CA,95351,5813\\r\\n7475397,01-01-2010 01:48,989,4124,$541.29,Swipe Transaction,40475,Arlington Heights,IL,60005,7802\\r\\n7475398,01-01-2010 01:53,63,60,$30.69,Swipe Transaction,32175,Newark,NJ,7104,7538\\r\\n7475399,01-01-2010 01:54,152,2848,$177.41,Swipe Transaction,86616,Muscle Shoals,AL,35661,4814\\r\\n7475400,01-01-2010 01:54,597,4540,$14.20,Swipe Transaction,66541,San Francisco,CA,94131,5300\\r\\n7475401,01-01-2010 01:54,1449,241,$119.23,Online Transaction,87530,ONLINE,,,4900\\r\\n7475402,01-01-2010 01:55,1755,4228,$10.61,Swipe Transaction,82981,Dublin,GA,31021,5912\\r\\n7475403,01-01-2010 01:56,760,5876,$52.98,Online Transaction,39021,ONLINE,,,4784\\r\\n7475404,01-01-2010 01:56,1642,4281,$3.35,Swipe Transaction,44625,Manasquan,NJ,8736,5812\\r\\n7475406,01-01-2010 01:58,1542,2906,$39.05,Swipe Transaction,58215,Cleveland,OH,44118,5813\\r\\n7475407,01-01-2010 02:00,727,4295,$6.79,Swipe Transaction,72351,Saint Louis,MO,63112,5541\\r\\n7475410,01-01-2010 02:05,1097,4690,$100.00,Swipe Transaction,27092,Grand Rapids,MI,49548,4829\\r\\n7475411,01-01-2010 02:05,1453,1117,$196.22,Swipe Transaction,5009,Middletown,NY,10940,7011\\r\\n7475412,01-01-2010 02:06,1024,1006,$3.83,Swipe Transaction,2177,Colwich,KS,67030,5411\\r\\n7475413,01-01-2010 02:07,858,13,$1.87,Swipe Transaction,81833,Gonzales,TX,78629,5912\\r\\n7475414,01-01-2010 02:08,1084,3454,$6.63,Swipe Transaction,45926,Tacoma,WA,98403,5814\\r\\n7475415,01-01-2010 02:08,1622,2877,$8.30,Swipe Transaction,43293,Canton,MA,2021,5499\\r\\n7475416,01-01-2010 02:09,1787,2228,$2.75,Swipe Transaction,75781,Lexington,KY,40509,5411\\r\\n7475417,01-01-2010 02:11,34,1166,$4.07,Swipe Transaction,49789,Sacramento,CA,95829,5541\\r\\n7475419,01-01-2010 02:12,1424,4710,$2.31,Swipe Transaction,95811,Seligman,AZ,86337,5411\\r\\n7475420,01-01-2010 02:13,121,5952,$0.21,Swipe Transaction,61195,Menasha,WI,54952,5541\\r\\n7475421,01-01-2010 02:13,989,2938,$396.03,Swipe Transaction,73661,Thackerville,OK,73459,7995\\r\\n7475422,01-01-2010 02:13,1453,1117,$-460.00,Swipe Transaction,5009,Middletown,NY,10940,7011\\r\\n7475423,01-01-2010 02:14,474,2493,$91.02,Swipe Transaction,35451,Williston Park,NY,11596,5812\\r\\n7475424,01-01-2010 02:15,1142,4674,$3.68,Swipe Transaction,59397,Cohasset,MA,2025,5812\\r\\n7475425,01-01-2010 02:16,241,58,$38.11,Online Transaction,17976,ONLINE,,,4900\\r\\n7475426,01-01-2010 02:17,461,5482,$25.97,Swipe Transaction,45389,Canton,MI,48188,5813\\r\\n7475427,01-01-2010 02:17,1776,4938,$66.05,Online Transaction,39021,ONLINE,,,4784\\r\\n7475429,01-01-2010 02:22,595,4667,$33.02,Swipe Transaction,71416,Bullock,NC,27507,4900\\r\\n7475430,01-01-2010 02:22,972,4166,$103.97,Swipe Transaction,18966,Markesan,WI,53946,4900\\r\\n7475431,01-01-2010 02:25,212,2418,$2.33,Swipe Transaction,61195,Dallas,TX,75227,5541\\r\\n7475432,01-01-2010 02:25,1214,5508,$51.58,Online Transaction,98436,ONLINE,,,5192\\r\\n7475434,01-01-2010 02:28,178,4261,$57.43,Swipe Transaction,78454,Grain Valley,MO,64029,5812\\r\\n7475435,01-01-2010 02:31,1077,4104,$2.87,Swipe Transaction,61195,Ukiah,CA,95482,5541\\r\\n7475436,01-01-2010 02:32,1155,5784,$27.63,Swipe Transaction,1903,Miami,FL,33127,5812\\r\\n7475437,01-01-2010 02:33,1443,4730,$76.76,Swipe Transaction,59288,Waianae,HI,96792,5912\\r\\n7475438,01-01-2010 02:35,387,4601,$9.10,Swipe Transaction,75936,Amherst,OH,44001,5814\\r\\n7475439,01-01-2010 02:35,1998,2160,$0.75,Swipe Transaction,99312,Burlingame,CA,94010,5411\\r\\n7475440,01-01-2010 02:39,706,4284,$160.00,Swipe Transaction,27092,Boulder Creek,CA,95006,4829\\r\\n7475441,01-01-2010 02:40,503,1088,$28.21,Swipe Transaction,20561,Chicago,IL,60629,5912\\r\\n7475442,01-01-2010 02:40,714,2958,$44.86,Swipe Transaction,1238,Fayetteville,AR,72703,7393\\r\\n7475443,01-01-2010 02:44,908,5154,$57.73,Swipe Transaction,68751,Holly Springs,NC,27540,5651\\r\\n7475444,01-01-2010 02:45,758,2181,$6.52,Swipe Transaction,75781,Alhambra,CA,91801,5411\\r\\n7475446,01-01-2010 02:48,1411,1069,$4.04,Swipe Transaction,10455,Saint Charles,IL,60174,5812\\r\\n7475447,01-01-2010 02:51,140,152,$3.93,Swipe Transaction,61195,Woodbury,TN,37190,5541\\r\\n7475449,01-01-2010 02:51,1424,4710,$5.12,Swipe Transaction,95811,Seligman,AZ,86337,5411\\r\\n7475450,01-01-2010 02:52,843,184,$19.15,Swipe Transaction,73365,Terre Haute,IN,47805,5651\\r\\n7475452,01-01-2010 02:57,895,217,$58.85,Swipe Transaction,88544,Big Bear Lake,CA,92315,5300\\r\\n7475453,01-01-2010 02:57,1313,4183,$2.77,Swipe Transaction,61746,Sutersville,PA,15083,5411\\r\\n7475454,01-01-2010 02:57,1459,3383,$2.75,Swipe Transaction,47756,Albuquerque,NM,87121,5411\\r\\n7475455,01-01-2010 02:59,474,2493,$115.37,Swipe Transaction,98648,Williston Park,NY,11596,5814\\r\\n7475456,01-01-2010 03:02,1802,5836,$77.70,Swipe Transaction,60569,Somerset,NJ,8873,5300\\r\\n7475457,01-01-2010 03:03,702,4199,$120.87,Swipe Transaction,61195,Huntington Station,NY,11746,5541\\r\\n7475458,01-01-2010 03:06,461,5482,$23.86,Swipe Transaction,45389,Canton,MI,48188,5813\\r\\n7475459,01-01-2010 03:08,169,3256,$11.18,Swipe Transaction,2205,Sumter,SC,29153,5813\\r\\n7475460,01-01-2010 03:08,957,4532,$-147.00,Swipe Transaction,44795,Marysville,OH,43040,3780\\r\\n7475461,01-01-2010 03:09,140,152,$3.92,Swipe Transaction,75936,Whites Creek,TN,37189,5814\\r\\n7475462,01-01-2010 03:09,843,184,$27.29,Swipe Transaction,73365,Terre Haute,IN,47805,5651\\r\\n7475463,01-01-2010 03:11,1921,1181,$40.89,Online Transaction,59350,ONLINE,,,7922\\r\\n7475464,01-01-2010 03:13,957,4532,$14.21,Swipe Transaction,44795,Marysville,OH,43040,3780\\r\\n7475465,01-01-2010 03:16,1920,3415,$24.47,Swipe Transaction,35001,Oak Park,MN,56357,5813\\r\\n7475466,01-01-2010 03:17,319,248,$29.60,Swipe Transaction,54850,Fresno,CA,93727,4814\\r\\n7475467,01-01-2010 03:17,613,1191,$22.77,Swipe Transaction,44919,Lombard,IL,60148,5814\\r\\n7475468,01-01-2010 03:20,121,5952,$58.47,Online Transaction,80770,ONLINE,,,7922\\r\\n7475469,01-01-2010 03:23,1787,2228,$37.09,Swipe Transaction,96712,Lexington,KY,40509,5813\\r\\n7475470,01-01-2010 03:26,609,2892,$11.44,Swipe Transaction,46284,Garland,TX,75040,5411\\r\\n7475471,01-01-2010 03:27,1209,3387,$4.78,Swipe Transaction,50783,New Rochelle,NY,10801,5411\\r\\n7475473,01-01-2010 03:29,895,1116,$35.23,Swipe Transaction,45188,Big Bear Lake,CA,92315,5651\\r\\n7475474,01-01-2010 03:32,819,3245,$102.27,Swipe Transaction,51664,Pittsburgh,PA,15224,4900\\r\\n7475475,01-01-2010 03:32,1237,2092,$3.58,Swipe Transaction,75936,Waukegan,IL,60085,5814\\r\\n7475476,01-01-2010 03:32,1538,3206,$14.36,Swipe Transaction,98374,Nazareth,PA,18064,5411\\r\\n7475477,01-01-2010 03:36,1686,2617,$176.44,Swipe Transaction,1827,Lafayette,CO,80026,5912\\r\\n7475478,01-01-2010 03:49,442,112,$120.00,Swipe Transaction,27092,Belleville,IL,62221,4829\\r\\n7475479,01-01-2010 03:51,1209,3387,$4.39,Swipe Transaction,50783,New Rochelle,NY,10801,5411\\r\\n7475480,01-01-2010 03:52,618,3411,$6.72,Swipe Transaction,75781,Manhattan Beach,CA,90266,5411\\r\\n7475481,01-01-2010 03:52,1941,2940,$13.79,Swipe Transaction,56241,Campbell,TX,75422,5310\\r\\n7475482,01-01-2010 03:53,241,3921,$63.50,Swipe Transaction,70766,Rockingham,NC,28379,5651\\r\\n7475483,01-01-2010 03:56,377,4602,$59.44,Swipe Transaction,55604,Withee,WI,54498,7538\\r\\n7475485,01-01-2010 03:57,185,5361,$15.89,Online Transaction,39261,ONLINE,,,5815\\r\\n7475486,01-01-2010 04:01,421,2177,$96.63,Swipe Transaction,20561,Ottumwa,IA,52501,5912\\r\\n7475487,01-01-2010 04:05,1382,2838,$93.13,Swipe Transaction,22014,Dallas,TX,75253,4900\\r\\n7475488,01-01-2010 04:06,1080,2562,$31.50,Swipe Transaction,85304,Eastman,GA,31023,5310\\r\\n7475489,01-01-2010 04:13,1413,4673,$1.62,Swipe Transaction,20519,Jasper,IN,47546,5942\\r\\n7475490,01-01-2010 04:14,585,5881,$20.86,Online Transaction,41122,ONLINE,,,4784\\r\\n7475491,01-01-2010 04:17,356,3251,$7.71,Online Transaction,50404,ONLINE,,,4784\\r\\n7475492,01-01-2010 04:17,1920,2791,$33.19,Swipe Transaction,35001,Oak Park,MN,56357,5813\\r\\n7475493,01-01-2010 04:18,816,5066,$108.13,Swipe Transaction,98374,Church Hill,TN,37642,5411\\r\\n7475494,01-01-2010 04:21,103,5113,$166.34,Online Transaction,56276,ONLINE,,,4899\\r\\n7475495,01-01-2010 04:21,1635,115,$14.50,Swipe Transaction,45501,Jamaica,NY,11434,5912\\r\\n7475496,01-01-2010 04:22,1313,4183,$3.36,Swipe Transaction,98374,Slovan,PA,15078,5411\\r\\n7475497,01-01-2010 04:25,20,3857,$2.56,Swipe Transaction,59397,Weatherford,TX,76086,5812\\r\\n7475498,01-01-2010 04:27,1736,113,$55.79,Swipe Transaction,24823,Brooklyn,NY,11211,7538\\r\\n7475499,01-01-2010 04:28,1812,2531,$174.06,Swipe Transaction,68671,North Little Rock,AR,72116,5541\\r\\nid,date,client_id,card_id,amount,use_chip,merchant_id,merchant_city,merchant_state,zip,mcc\\r\\n7475503.152,01-01-2010 00:01,958.9460613,3100.56274,$-77.01,Swipe Transaction,57680.38951,Beulah,ND,48322.00129,5711.90894\\r\\n7475504.318,01-01-2010 00:01,958.5495014,3101.06356,$14.58,Swipe Transaction,57781.21374,Bettendorf,IA,48238.87226,5713.786405\\r\\n7475505.483,01-01-2010 00:01,958.1529415,3101.56438,$80.01,Swipe Transaction,57882.03798,Vista,CA,48155.74323,5715.66387\\r\\n7475506.649,01-01-2010 00:01,957.7563816,3102.0652,$200.01,Swipe Transaction,57982.86221,Crown Point,IN,48072.61421,5717.541334\\r\\n7475507.815,01-01-2010 00:01,957.3598217,3102.56602,$46.42,Swipe Transaction,58083.68645,Harwood,MD,47989.48518,5719.418799\\r\\n7475508.98,01-01-2010 00:01,956.9632618,3103.06684,$4.82,Swipe Transaction,58184.51068,Bronx,NY,47906.35616,5721.296264\\r\\n7475510.146,01-01-2010 00:01,956.5667019,3103.56766,$77.01,Swipe Transaction,58285.33492,Beulah,ND,47823.22713,5723.173728\\r\\n7475511.311,01-01-2010 00:01,956.170142,3104.068481,$26.47,Online Transaction,58386.15915,ONLINE,,47740.09811,5725.051193\\r\\n7475512.477,01-01-2010 00:01,955.773582,3104.569301,$261.59,Online Transaction,58486.98339,ONLINE,,47656.96908,5726.928658\\r\\n7475513.643,01-01-2010 00:01,955.3770221,3105.070121,$10.75,Swipe Transaction,58587.80762,Flushing,NY,47573.84006,5728.806122\\r\\n7475514.808,01-01-2010 00:01,954.9804622,3105.570941,$3.52,Swipe Transaction,58688.63186,Pearland,TX,47490.71103,5730.683587\\r\\n7475515.974,01-01-2010 00:01,954.5839023,3106.071761,$2.59,Swipe Transaction,58789.45609,Brooklyn,NY,47407.58201,5732.561052\\r\\n7475517.14,01-01-2010 00:01,954.1873424,3106.572581,$39.64,Swipe Transaction,58890.28033,Beulah,ND,47324.45298,5734.438516\\r\\n7475518.305,01-01-2010 00:01,953.7907825,3107.073401,$43.34,Swipe Transaction,58991.10456,Kahului,HI,47241.32396,5736.315981\\r\\n7475519.471,01-01-2010 00:01,953.3942226,3107.574221,$49.43,Swipe Transaction,59091.9288,North Hollywood,CA,47158.19493,5738.193445\\r\\n7475520.637,01-01-2010 00:01,952.9976626,3108.075042,$1.10,Swipe Transaction,59192.75303,San Benito,TX,47075.06591,5740.07091\\r\\n7475521.802,01-01-2010 00:01,952.6011027,3108.575862,$73.80,Swipe Transaction,59293.57727,Erie,PA,46991.93688,5741.948375\\r\\n7475522.968,01-01-2010 00:01,952.2045428,3109.076682,$100.01,Swipe Transaction,59394.4015,Vista,CA,46908.80786,5743.825839\\r\\n7475524.134,01-01-2010 00:01,951.8079829,3109.577502,$26.05,Online Transaction,59495.22574,ONLINE,,46825.67883,5745.703304\\r\\n7475525.299,01-01-2010 00:01,951.411423,3110.078322,$-64.01,Swipe Transaction,59596.04997,North Hollywood,CA,46742.54981,5747.580769\\r\\n7475526.465,01-01-2010 00:01,951.0148631,3110.579142,$54.28,Swipe Transaction,59696.87421,Cedar Park,TX,46659.42078,5749.458233\\r\\n7475527.63,01-01-2010 00:01,950.6183032,3111.079962,$20.75,Swipe Transaction,59797.69844,Grand Forks,ND,46576.29176,5751.335698\\r\\n7475528.796,01-01-2010 00:01,950.2217432,3111.580782,$64.01,Swipe Transaction,59898.52268,North Hollywood,CA,46493.16273,5753.213163\\r\\n7475529.962,01-01-2010 00:01,949.8251833,3112.081603,$57.55,Swipe Transaction,59999.34691,Menasha,WI,46410.03371,5755.090627\\r\\n7475531.127,01-01-2010 00:01,949.4286234,3112.582423,$10.18,Online Transaction,60100.17115,ONLINE,,46326.90468,5756.968092\\r\\n7475532.293,01-01-2010 00:01,949.0320635,3113.083243,$12.02,Swipe Transaction,60200.99539,Cordele,GA,46243.77566,5758.845557\\r\\n7475533.459,01-01-2010 00:01,948.6355036,3113.584063,$16.87,Online Transaction,60301.81962,ONLINE,,46160.64663,5760.723021\\r\\n7475534.624,01-01-2010 00:01,948.2389437,3114.084883,$4.65,Swipe Transaction,60402.64386,Mobile,AL,46077.51761,5762.600486\\r\\n7475535.79,01-01-2010 00:01,947.8423838,3114.585703,$669.89,Swipe Transaction,60503.46809,West Covina,CA,45994.38858,5764.477951\\r\\n7475536.956,01-01-2010 00:01,947.4458239,3115.086523,$22.58,Online Transaction,60604.29233,ONLINE,,45911.25956,5766.355415\\r\\n7475538.121,01-01-2010 00:01,947.0492639,3115.587343,$2.41,Swipe Transaction,60705.11656,East Hartford,CT,45828.13053,5768.23288\\r\\n7475539.287,01-01-2010 00:01,946.652704,3116.088164,$40.36,Swipe Transaction,60805.9408,Vacaville,CA,45745.00151,5770.110345\\r\\n7475540.453,01-01-2010 00:01,946.2561441,3116.588984,$14.58,Swipe Transaction,60906.76503,Tacoma,WA,45661.87248,5771.987809\\r\\n7475541.618,01-01-2010 00:01,945.8595842,3117.089804,$7.81,Swipe Transaction,61007.58927,Watsonville,CA,45578.74346,5773.865274\\r\\n7475542.784,01-01-2010 00:01,945.4630243,3117.590624,$2.96,Swipe Transaction,61108.4135,Woburn,MA,45495.61443,5775.742738\\r\\n7475543.949,01-01-2010 00:01,945.0664644,3118.091444,$270.23,Online Transaction,61209.23774,ONLINE,,45412.4854,5777.620203\\r\\n7475545.115,01-01-2010 00:01,944.6699045,3118.592264,$78.01,Swipe Transaction,61310.06197,Grand Junction,CO,45329.35638,5779.497668\\r\\n7475546.281,01-01-2010 00:01,944.2733445,3119.093084,$87.10,Online Transaction,61410.88621,ONLINE,,45246.22735,5781.375132\\r\\n7475547.446,01-01-2010 00:01,943.8767846,3119.593904,$148.40,Swipe Transaction,61511.71044,Morristown,NJ,45163.09833,5783.252597\\r\\n7475548.612,01-01-2010 00:01,943.4802247,3120.094725,$48.13,Swipe Transaction,61612.53468,Vacaville,CA,45079.9693,5785.130062\\r\\n7475549.778,01-01-2010 00:01,943.0836648,3120.595545,$7.76,Swipe Transaction,61713.35891,Burlington,IA,44996.84028,5787.007526\\r\\n7475550.943,01-01-2010 00:01,942.6871049,3121.096365,$14.67,Online Transaction,61814.18315,ONLINE,,44913.71125,5788.884991\\r\\n7475552.109,01-01-2010 00:01,942.290545,3121.597185,$3.97,Swipe Transaction,61915.00738,Manasquan,NJ,44830.58223,5790.762456\\r\\n7475553.275,01-01-2010 00:01,941.8939851,3122.098005,$12.68,Online Transaction,62015.83162,ONLINE,,44747.4532,5792.63992\\r\\n7475554.44,01-01-2010 00:01,941.4974251,3122.598825,$580.99,Swipe Transaction,62116.65585,Thackerville,OK,44664.32418,5794.517385\\r\\n7475555.606,01-01-2010 00:01,941.1008652,3123.099645,$10.35,Swipe Transaction,62217.48009,Laurel,MT,44581.19515,5796.39485\\r\\n7475556.772,01-01-2010 00:01,940.7043053,3123.600465,$17.15,Swipe Transaction,62318.30432,Osprey,FL,44498.06613,5798.272314\\r\\n7475557.937,01-01-2010 00:01,940.3077454,3124.101286,$1.86,Swipe Transaction,62419.12856,Garden City,NY,44414.9371,5800.149779\\r\\n7475559.103,01-01-2010 00:01,939.9111855,3124.602106,$71.73,Swipe Transaction,62519.95279,Grand Junction,CO,44331.80808,5802.027244\\r\\n7475560.268,01-01-2010 00:01,939.5146256,3125.102926,$200.01,Swipe Transaction,62620.77703,Crown Point,IN,44248.67905,5803.904708\\r\\n7475561.434,01-01-2010 00:01,939.1180657,3125.603746,$-78.01,Swipe Transaction,62721.60126,Grand Junction,CO,44165.55003,5805.782173\\r\\n7475562.6,01-01-2010 00:01,938.7215058,3126.104566,$23.09,Swipe Transaction,62822.4255,Tacoma,WA,44082.421,5807.659638\\r\\n7475563.765,01-01-2010 00:01,938.3249458,3126.605386,$40.01,Swipe Transaction,62923.24973,Pinetop,AZ,43999.29198,5809.537102\\r\\n7475564.931,01-01-2010 00:01,937.9283859,3127.106206,$2.44,Swipe Transaction,63024.07397,Ukiah,CA,43916.16295,5811.414567\\r\\n7475566.097,01-01-2010 00:01,937.531826,3127.607026,$3.19,Swipe Transaction,63124.8982,Lexington,KY,43833.03393,5813.292031\\r\\n7475567.262,01-01-2010 00:01,937.1352661,3128.107847,$3.67,Swipe Transaction,63225.72244,Lake Charles,LA,43749.9049,5815.169496\\r\\n7475568.428,01-01-2010 00:01,936.7387062,3128.608667,$62.99,Online Transaction,63326.54667,ONLINE,,43666.77588,5817.046961\\r\\n7475569.594,01-01-2010 00:01,936.3421463,3129.109487,$34.35,Online Transaction,63427.37091,ONLINE,,43583.64685,5818.924425\\r\\n7475570.759,01-01-2010 00:01,935.9455864,3129.610307,$73.47,Swipe Transaction,63528.19514,Fontana,CA,43500.51783,5820.80189\\r\\n7475571.925,01-01-2010 00:01,935.5490264,3130.111127,$9.17,Swipe Transaction,63629.01938,Modesto,CA,43417.3888,5822.679355\\r\\n7475573.091,01-01-2010 00:01,935.1524665,3130.611947,$541.30,Swipe Transaction,63729.84361,Arlington Heights,IL,43334.25978,5824.556819\\r\\n7475574.256,01-01-2010 00:01,934.7559066,3131.112767,$30.70,Swipe Transaction,63830.66785,Newark,NJ,43251.13075,5826.434284\\r\\n7475575.422,01-01-2010 00:01,934.3593467,3131.613587,$177.42,Swipe Transaction,63931.49208,Muscle Shoals,AL,43168.00173,5828.311749\\r\\n7475576.587,01-01-2010 00:01,933.9627868,3132.114408,$14.21,Swipe Transaction,64032.31632,San Francisco,CA,43084.8727,5830.189213\\r\\n7475577.753,01-01-2010 00:01,933.5662269,3132.615228,$119.24,Online Transaction,64133.14055,ONLINE,,43001.74368,5832.066678\\r\\n7475578.919,01-01-2010 00:01,933.169667,3133.116048,$10.62,Swipe Transaction,64233.96479,Dublin,GA,42918.61465,5833.944143\\r\\n7475580.084,01-01-2010 00:01,932.773107,3133.616868,$52.99,Online Transaction,64334.78902,ONLINE,,42835.48562,5835.821607\\r\\n7475581.25,01-01-2010 00:01,932.3765471,3134.117688,$3.36,Swipe Transaction,64435.61326,Manasquan,NJ,42752.3566,5837.699072\\r\\n7475582.416,01-01-2010 00:01,931.9799872,3134.618508,$39.06,Swipe Transaction,64536.43749,Cleveland,OH,42669.22757,5839.576537\\r\\n7475583.581,01-01-2010 00:01,931.5834273,3135.119328,$6.80,Swipe Transaction,64637.26173,Saint Louis,MO,42586.09855,5841.454001\\r\\n7475584.747,01-01-2010 00:01,931.1868674,3135.620148,$100.01,Swipe Transaction,64738.08596,Grand Rapids,MI,42502.96952,5843.331466\\r\\n7475585.913,01-01-2010 00:01,930.7903075,3136.120969,$196.23,Swipe Transaction,64838.9102,Middletown,NY,42419.8405,5845.20893\\r\\n7475587.078,01-01-2010 00:01,930.3937476,3136.621789,$3.84,Swipe Transaction,64939.73443,Colwich,KS,42336.71147,5847.086395\\r\\n7475588.244,01-01-2010 00:01,929.9971877,3137.122609,$1.88,Swipe Transaction,65040.55867,Gonzales,TX,42253.58245,5848.96386\\r\\n7475589.41,01-01-2010 00:01,929.6006277,3137.623429,$6.64,Swipe Transaction,65141.3829,Tacoma,WA,42170.45342,5850.841324\\r\\n7475590.575,01-01-2010 00:01,929.2040678,3138.124249,$8.31,Swipe Transaction,65242.20714,Canton,MA,42087.3244,5852.718789\\r\\n7475591.741,01-01-2010 00:01,928.8075079,3138.625069,$2.76,Swipe Transaction,65343.03137,Lexington,KY,42004.19537,5854.596254\\r\\n7475592.906,01-01-2010 00:01,928.410948,3139.125889,$4.08,Swipe Transaction,65443.85561,Sacramento,CA,41921.06635,5856.473718\\r\\n7475594.072,01-01-2010 00:01,928.0143881,3139.626709,$2.32,Swipe Transaction,65544.67984,Seligman,AZ,41837.93732,5858.351183\\r\\n7475595.238,01-01-2010 00:01,927.6178282,3140.12753,$0.22,Swipe Transaction,65645.50408,Menasha,WI,41754.8083,5860.228648\\r\\n7475596.403,01-01-2010 00:01,927.2212683,3140.62835,$396.04,Swipe Transaction,65746.32831,Thackerville,OK,41671.67927,5862.106112\\r\\n7475597.569,01-01-2010 00:01,926.8247083,3141.12917,$-460.01,Swipe Transaction,65847.15255,Middletown,NY,41588.55025,5863.983577\\r\\n7475598.735,01-01-2010 00:01,926.4281484,3141.62999,$91.03,Swipe Transaction,65947.97678,Williston Park,NY,41505.42122,5865.861042\\r\\n7475599.9,01-01-2010 00:01,926.0315885,3142.13081,$3.69,Swipe Transaction,66048.80102,Cohasset,MA,41422.2922,5867.738506\\r\\n7475601.066,01-01-2010 00:01,925.6350286,3142.63163,$38.12,Online Transaction,66149.62525,ONLINE,,41339.16317,5869.615971\\r\\n7475602.232,01-01-2010 00:01,925.2384687,3143.13245,$25.98,Swipe Transaction,66250.44949,Canton,MI,41256.03415,5871.493436\\r\\n7475603.397,01-01-2010 00:01,924.8419088,3143.63327,$66.06,Online Transaction,66351.27372,ONLINE,,41172.90512,5873.3709\\r\\n7475604.563,01-01-2010 00:01,924.4453489,3144.134091,$33.03,Swipe Transaction,66452.09796,Bullock,NC,41089.7761,5875.248365\\r\\n7475605.729,01-01-2010 00:01,924.0487889,3144.634911,$103.98,Swipe Transaction,66552.92219,Markesan,WI,41006.64707,5877.12583\\r\\n7475606.894,01-01-2010 00:01,923.652229,3145.135731,$2.34,Swipe Transaction,66653.74643,Dallas,TX,40923.51805,5879.003294\\r\\n7475608.06,01-01-2010 00:01,923.2556691,3145.636551,$51.59,Online Transaction,66754.57066,ONLINE,,40840.38902,5880.880759\\r\\n7475609.226,01-01-2010 00:01,922.8591092,3146.137371,$57.44,Swipe Transaction,66855.3949,Grain Valley,MO,40757.26,5882.758223\\r\\n7475610.391,01-01-2010 00:01,922.4625493,3146.638191,$2.88,Swipe Transaction,66956.21913,Ukiah,CA,40674.13097,5884.635688\\r\\n7475611.557,01-01-2010 00:01,922.0659894,3147.139011,$27.64,Swipe Transaction,67057.04337,Miami,FL,40591.00195,5886.513153\\r\\n7475612.722,01-01-2010 00:01,921.6694295,3147.639831,$76.77,Swipe Transaction,67157.8676,Waianae,HI,40507.87292,5888.390617\\r\\n7475613.888,01-01-2010 00:01,921.2728696,3148.140652,$9.11,Swipe Transaction,67258.69184,Amherst,OH,40424.7439,5890.268082\\r\\n7475615.054,01-01-2010 00:01,920.8763096,3148.641472,$0.76,Swipe Transaction,67359.51607,Burlingame,CA,40341.61487,5892.145547\\r\\n7475616.219,01-01-2010 00:01,920.4797497,3149.142292,$160.01,Swipe Transaction,67460.34031,Boulder Creek,CA,40258.48585,5894.023011\\r\\n7475617.385,01-01-2010 00:01,920.0831898,3149.643112,$28.22,Swipe Transaction,67561.16454,Chicago,IL,40175.35682,5895.900476\\r\\n7475618.551,01-01-2010 00:01,919.6866299,3150.143932,$44.87,Swipe Transaction,67661.98878,Fayetteville,AR,40092.22779,5897.777941\\r\\n7475619.716,01-01-2010 00:01,919.29007,3150.644752,$57.74,Swipe Transaction,67762.81301,Holly Springs,NC,40009.09877,5899.655405\\r\\n7475620.882,01-01-2010 00:01,918.8935101,3151.145572,$6.53,Swipe Transaction,67863.63725,Alhambra,CA,39925.96974,5901.53287\\r\\n7475622.048,01-01-2010 00:01,918.4969502,3151.646392,$4.05,Swipe Transaction,67964.46148,Saint Charles,IL,39842.84072,5903.410335\\r\\n7475623.213,01-01-2010 00:01,918.1003902,3152.147213,$3.94,Swipe Transaction,68065.28572,Woodbury,TN,39759.71169,5905.287799\\r\\n7475624.379,01-01-2010 00:01,917.7038303,3152.648033,$5.13,Swipe Transaction,68166.10995,Seligman,AZ,39676.58267,5907.165264\\r\\n7475625.545,01-01-2010 00:01,917.3072704,3153.148853,$19.16,Swipe Transaction,68266.93419,Terre Haute,IN,39593.45364,5909.042729\\r\\n7475626.71,01-01-2010 00:01,916.9107105,3153.649673,$58.86,Swipe Transaction,68367.75843,Big Bear Lake,CA,39510.32462,5910.920193\\r\\n7475627.876,01-01-2010 00:01,916.5141506,3154.150493,$2.73,Swipe Transaction,68468.58266,Sutersville,PA,39427.19559,5912.797658\\r\\n7475629.041,01-01-2010 00:01,916.1175907,3154.651313,$2.71,Swipe Transaction,68569.4069,Albuquerque,NM,39344.06657,5914.675123\\r\\n7475630.207,01-01-2010 00:01,915.7210308,3155.152133,$115.38,Swipe Transaction,68670.23113,Williston Park,NY,39260.93754,5916.552587\\r\\n7475631.373,01-01-2010 00:01,915.3244708,3155.652953,$77.71,Swipe Transaction,68771.05537,Somerset,NJ,39177.80852,5918.430052\\r\\n7475632.538,01-01-2010 00:01,914.9279109,3156.153774,$120.88,Swipe Transaction,68871.8796,Huntington Station,NY,39094.67949,5920.307516\\r\\n7475633.704,01-01-2010 00:01,914.531351,3156.654594,$23.87,Swipe Transaction,68972.70384,Canton,MI,39011.55047,5922.184981\\r\\n7475634.87,01-01-2010 00:01,914.1347911,3157.155414,$11.19,Swipe Transaction,69073.52807,Sumter,SC,38928.42144,5924.062446\\r\\n7475636.035,01-01-2010 00:01,913.7382312,3157.656234,$-147.01,Swipe Transaction,69174.35231,Marysville,OH,38845.29242,5925.93991\\r\\n7475637.201,01-01-2010 00:01,913.3416713,3158.157054,$3.93,Swipe Transaction,69275.17654,Whites Creek,TN,38762.16339,5927.817375\\r\\n7475638.367,01-01-2010 00:01,912.9451114,3158.657874,$27.30,Swipe Transaction,69376.00078,Terre Haute,IN,38679.03437,5929.69484\\r\\n7475639.532,01-01-2010 00:01,912.5485515,3159.158694,$40.90,Online Transaction,69476.82501,ONLINE,,38595.90534,5931.572304\\r\\n7475640.698,01-01-2010 00:01,912.1519915,3159.659514,$14.22,Swipe Transaction,69577.64925,Marysville,OH,38512.77632,5933.449769\\r\\n7475641.864,01-01-2010 00:01,911.7554316,3160.160335,$24.48,Swipe Transaction,69678.47348,Oak Park,MN,38429.64729,5935.327234\\r\\n7475643.029,01-01-2010 00:01,911.3588717,3160.661155,$29.61,Swipe Transaction,69779.29772,Fresno,CA,38346.51827,5937.204698\\r\\n7475644.195,01-01-2010 00:01,910.9623118,3161.161975,$22.78,Swipe Transaction,69880.12195,Lombard,IL,38263.38924,5939.082163\\r\\n7475645.36,01-01-2010 00:01,910.5657519,3161.662795,$58.48,Online Transaction,69980.94619,ONLINE,,38180.26022,5940.959628\\r\\n7475646.526,01-01-2010 00:01,910.169192,3162.163615,$37.10,Swipe Transaction,70081.77042,Lexington,KY,38097.13119,5942.837092\\r\\n7475647.692,01-01-2010 00:01,909.7726321,3162.664435,$11.45,Swipe Transaction,70182.59466,Garland,TX,38014.00217,5944.714557\\r\\n7475648.857,01-01-2010 00:01,909.3760721,3163.165255,$4.79,Swipe Transaction,70283.41889,New Rochelle,NY,37930.87314,5946.592022\\r\\n7475650.023,01-01-2010 00:01,908.9795122,3163.666075,$35.24,Swipe Transaction,70384.24313,Big Bear Lake,CA,37847.74412,5948.469486\\r\\n7475651.189,01-01-2010 00:01,908.5829523,3164.166896,$102.28,Swipe Transaction,70485.06736,Pittsburgh,PA,37764.61509,5950.346951\\r\\n7475652.354,01-01-2010 00:01,908.1863924,3164.667716,$3.59,Swipe Transaction,70585.8916,Waukegan,IL,37681.48607,5952.224415\\r\\n7475653.52,01-01-2010 00:01,907.7898325,3165.168536,$14.37,Swipe Transaction,70686.71583,Nazareth,PA,37598.35704,5954.10188\\r\\n7475654.686,01-01-2010 00:01,907.3932726,3165.669356,$176.45,Swipe Transaction,70787.54007,Lafayette,CO,37515.22802,5955.979345\\r\\n7475655.851,01-01-2010 00:01,906.9967127,3166.170176,$120.01,Swipe Transaction,70888.3643,Belleville,IL,37432.09899,5957.856809\\r\\n7475657.017,01-01-2010 00:01,906.6001527,3166.670996,$4.40,Swipe Transaction,70989.18854,New Rochelle,NY,37348.96996,5959.734274\\r\\n7475658.183,01-01-2010 00:01,906.2035928,3167.171816,$6.73,Swipe Transaction,71090.01277,Manhattan Beach,CA,37265.84094,5961.611739\\r\\n7475659.348,01-01-2010 00:01,905.8070329,3167.672636,$13.80,Swipe Transaction,71190.83701,Campbell,TX,37182.71191,5963.489203\\r\\n7475660.514,01-01-2010 00:01,905.410473,3168.173457,$63.51,Swipe Transaction,71291.66124,Rockingham,NC,37099.58289,5965.366668\\r\\n7475661.679,01-01-2010 00:01,905.0139131,3168.674277,$59.45,Swipe Transaction,71392.48548,Withee,WI,37016.45386,5967.244133\\r\\n7475662.845,01-01-2010 00:01,904.6173532,3169.175097,$15.90,Online Transaction,71493.30971,ONLINE,,36933.32484,5969.121597\\r\\n7475664.011,01-01-2010 00:01,904.2207933,3169.675917,$96.64,Swipe Transaction,71594.13395,Ottumwa,IA,36850.19581,5970.999062\\r\\n7475665.176,01-01-2010 00:01,903.8242334,3170.176737,$93.14,Swipe Transaction,71694.95818,Dallas,TX,36767.06679,5972.876527\\r\\n7475666.342,01-01-2010 00:01,903.4276734,3170.677557,$31.51,Swipe Transaction,71795.78242,Eastman,GA,36683.93776,5974.753991\\r\\n7475667.508,01-01-2010 00:01,903.0311135,3171.178377,$1.63,Swipe Transaction,71896.60665,Jasper,IN,36600.80874,5976.631456\\r\\n7475668.673,01-01-2010 00:01,902.6345536,3171.679198,$20.87,Online Transaction,71997.43089,ONLINE,,36517.67971,5978.508921\\r\\n7475669.839,01-01-2010 00:01,902.2379937,3172.180018,$7.72,Online Transaction,72098.25512,ONLINE,,36434.55069,5980.386385\\r\\n7475671.005,01-01-2010 00:01,901.8414338,3172.680838,$33.20,Swipe Transaction,72199.07936,Oak Park,MN,36351.42166,5982.26385\\r\\n7475672.17,01-01-2010 00:01,901.4448739,3173.181658,$108.14,Swipe Transaction,72299.90359,Church Hill,TN,36268.29264,5984.141315\\r\\n7475673.336,01-01-2010 00:01,901.048314,3173.682478,$166.35,Online Transaction,72400.72783,ONLINE,,36185.16361,5986.018779\\r\\n7475674.502,01-01-2010 00:01,900.651754,3174.183298,$14.51,Swipe Transaction,72501.55206,Jamaica,NY,36102.03459,5987.896244\\r\\n7475675.667,01-01-2010 00:01,900.2551941,3174.684118,$3.37,Swipe Transaction,72602.3763,Slovan,PA,36018.90556,5989.773708\\r\\n7475676.833,01-01-2010 00:01,899.8586342,3175.184938,$2.57,Swipe Transaction,72703.20053,Weatherford,TX,35935.77654,5991.651173\\r\\n7475677.998,01-01-2010 00:01,899.4620743,3175.685759,$55.80,Swipe Transaction,72804.02477,Brooklyn,NY,35852.64751,5993.528638\\r\\n7475679.164,01-01-2010 00:01,899.0655144,3176.186579,$174.07,Swipe Transaction,72904.849,North Little Rock,AR,35769.51849,5995.406102\\r\\nid,date,client_id,card_id,amount,use_chip,merchant_id,merchant_city,merchant_state,zip,mcc\\r\\n7475680.33,01-01-2010 00:01,898.6689545,3176.687399,$-77.02,Swipe Transaction,73005.67324,Beulah,ND,35686.38946,5997.283567\\r\\n7475681.495,01-01-2010 00:01,898.2723946,3177.188219,$14.59,Swipe Transaction,73106.49747,Bettendorf,IA,35603.26044,5999.161032\\r\\n7475682.661,01-01-2010 00:01,897.8758346,3177.689039,$80.02,Swipe Transaction,73207.32171,Vista,CA,35520.13141,6001.038496\\r\\n7475683.827,01-01-2010 00:01,897.4792747,3178.189859,$200.02,Swipe Transaction,73308.14594,Crown Point,IN,35437.00239,6002.915961\\r\\n7475684.992,01-01-2010 00:01,897.0827148,3178.690679,$46.43,Swipe Transaction,73408.97018,Harwood,MD,35353.87336,6004.793426\\r\\n7475686.158,01-01-2010 00:01,896.6861549,3179.191499,$4.83,Swipe Transaction,73509.79441,Bronx,NY,35270.74434,6006.67089\\r\\n7475687.324,01-01-2010 00:01,896.289595,3179.69232,$77.02,Swipe Transaction,73610.61865,Beulah,ND,35187.61531,6008.548355\\r\\n7475688.489,01-01-2010 00:01,895.8930351,3180.19314,$26.48,Online Transaction,73711.44288,ONLINE,,35104.48629,6010.42582\\r\\n7475689.655,01-01-2010 00:01,895.4964752,3180.69396,$261.60,Online Transaction,73812.26712,ONLINE,,35021.35726,6012.303284\\r\\n7475690.821,01-01-2010 00:01,895.0999153,3181.19478,$10.76,Swipe Transaction,73913.09135,Flushing,NY,34938.22824,6014.180749\\r\\n7475691.986,01-01-2010 00:01,894.7033553,3181.6956,$3.53,Swipe Transaction,74013.91559,Pearland,TX,34855.09921,6016.058214\\r\\n7475693.152,01-01-2010 00:01,894.3067954,3182.19642,$2.60,Swipe Transaction,74114.73982,Brooklyn,NY,34771.97019,6017.935678\\r\\n7475694.317,01-01-2010 00:01,893.9102355,3182.69724,$39.65,Swipe Transaction,74215.56406,Beulah,ND,34688.84116,6019.813143\\r\\n7475695.483,01-01-2010 00:01,893.5136756,3183.19806,$43.35,Swipe Transaction,74316.38829,Kahului,HI,34605.71213,6021.690608\\r\\n7475696.649,01-01-2010 00:01,893.1171157,3183.698881,$49.44,Swipe Transaction,74417.21253,North Hollywood,CA,34522.58311,6023.568072\\r\\n7475697.814,01-01-2010 00:01,892.7205558,3184.199701,$1.11,Swipe Transaction,74518.03676,San Benito,TX,34439.45408,6025.445537\\r\\n7475698.98,01-01-2010 00:01,892.3239959,3184.700521,$73.81,Swipe Transaction,74618.861,Erie,PA,34356.32506,6027.323001\\r\\n7475700.146,01-01-2010 00:01,891.9274359,3185.201341,$100.02,Swipe Transaction,74719.68523,Vista,CA,34273.19603,6029.200466\\r\\n7475701.311,01-01-2010 00:01,891.530876,3185.702161,$26.06,Online Transaction,74820.50947,ONLINE,,34190.06701,6031.077931\\r\\n7475702.477,01-01-2010 00:01,891.1343161,3186.202981,$-64.02,Swipe Transaction,74921.3337,North Hollywood,CA,34106.93798,6032.955395\\r\\n7475703.643,01-01-2010 00:01,890.7377562,3186.703801,$54.29,Swipe Transaction,75022.15794,Cedar Park,TX,34023.80896,6034.83286\\r\\n7475704.808,01-01-2010 00:01,890.3411963,3187.204621,$20.76,Swipe Transaction,75122.98217,Grand Forks,ND,33940.67993,6036.710325\\r\\n7475705.974,01-01-2010 00:01,889.9446364,3187.705442,$64.02,Swipe Transaction,75223.80641,North Hollywood,CA,33857.55091,6038.587789\\r\\n7475707.14,01-01-2010 00:01,889.5480765,3188.206262,$57.56,Swipe Transaction,75324.63064,Menasha,WI,33774.42188,6040.465254\\r\\n7475708.305,01-01-2010 00:01,889.1515165,3188.707082,$10.19,Online Transaction,75425.45488,ONLINE,,33691.29286,6042.342719\\r\\n7475709.471,01-01-2010 00:01,888.7549566,3189.207902,$12.03,Swipe Transaction,75526.27911,Cordele,GA,33608.16383,6044.220183\\r\\n7475710.636,01-01-2010 00:01,888.3583967,3189.708722,$16.88,Online Transaction,75627.10335,ONLINE,,33525.03481,6046.097648\\r\\n7475711.802,01-01-2010 00:01,887.9618368,3190.209542,$4.66,Swipe Transaction,75727.92758,Mobile,AL,33441.90578,6047.975113\\r\\n7475712.968,01-01-2010 00:01,887.5652769,3190.710362,$669.90,Swipe Transaction,75828.75182,West Covina,CA,33358.77676,6049.852577\\r\\n7475714.133,01-01-2010 00:01,887.168717,3191.211182,$22.59,Online Transaction,75929.57605,ONLINE,,33275.64773,6051.730042\\r\\n7475715.299,01-01-2010 00:01,886.7721571,3191.712003,$2.42,Swipe Transaction,76030.40029,East Hartford,CT,33192.51871,6053.607507\\r\\n7475716.465,01-01-2010 00:01,886.3755972,3192.212823,$40.37,Swipe Transaction,76131.22452,Vacaville,CA,33109.38968,6055.484971\\r\\n7475717.63,01-01-2010 00:01,885.9790372,3192.713643,$14.59,Swipe Transaction,76232.04876,Tacoma,WA,33026.26066,6057.362436\\r\\n7475718.796,01-01-2010 00:01,885.5824773,3193.214463,$7.82,Swipe Transaction,76332.87299,Watsonville,CA,32943.13163,6059.2399\\r\\n7475719.962,01-01-2010 00:01,885.1859174,3193.715283,$2.97,Swipe Transaction,76433.69723,Woburn,MA,32860.00261,6061.117365\\r\\n7475721.127,01-01-2010 00:01,884.7893575,3194.216103,$270.24,Online Transaction,76534.52147,ONLINE,,32776.87358,6062.99483\\r\\n7475722.293,01-01-2010 00:01,884.3927976,3194.716923,$78.02,Swipe Transaction,76635.3457,Grand Junction,CO,32693.74456,6064.872294\\r\\n7475723.459,01-01-2010 00:01,883.9962377,3195.217743,$87.11,Online Transaction,76736.16994,ONLINE,,32610.61553,6066.749759\\r\\n7475724.624,01-01-2010 00:01,883.5996778,3195.718564,$148.41,Swipe Transaction,76836.99417,Morristown,NJ,32527.48651,6068.627224\\r\\n7475725.79,01-01-2010 00:01,883.2031178,3196.219384,$48.14,Swipe Transaction,76937.81841,Vacaville,CA,32444.35748,6070.504688\\r\\n7475726.955,01-01-2010 00:01,882.8065579,3196.720204,$7.77,Swipe Transaction,77038.64264,Burlington,IA,32361.22846,6072.382153\\r\\n7475728.121,01-01-2010 00:01,882.409998,3197.221024,$14.68,Online Transaction,77139.46688,ONLINE,,32278.09943,6074.259618\\r\\n7475729.287,01-01-2010 00:01,882.0134381,3197.721844,$3.98,Swipe Transaction,77240.29111,Manasquan,NJ,32194.97041,6076.137082\\r\\n7475730.452,01-01-2010 00:01,881.6168782,3198.222664,$12.69,Online Transaction,77341.11535,ONLINE,,32111.84138,6078.014547\\r\\n7475731.618,01-01-2010 00:01,881.2203183,3198.723484,$580.100,Swipe Transaction,77441.93958,Thackerville,OK,32028.71236,6079.892012\\r\\n7475732.784,01-01-2010 00:01,880.8237584,3199.224304,$10.36,Swipe Transaction,77542.76382,Laurel,MT,31945.58333,6081.769476\\r\\n7475733.949,01-01-2010 00:01,880.4271984,3199.725125,$17.16,Swipe Transaction,77643.58805,Osprey,FL,31862.4543,6083.646941\\r\\n7475735.115,01-01-2010 00:01,880.0306385,3200.225945,$1.87,Swipe Transaction,77744.41229,Garden City,NY,31779.32528,6085.524406\\r\\n7475736.281,01-01-2010 00:01,879.6340786,3200.726765,$71.74,Swipe Transaction,77845.23652,Grand Junction,CO,31696.19625,6087.40187\\r\\n7475737.446,01-01-2010 00:01,879.2375187,3201.227585,$200.02,Swipe Transaction,77946.06076,Crown Point,IN,31613.06723,6089.279335\\r\\n7475738.612,01-01-2010 00:01,878.8409588,3201.728405,$-78.02,Swipe Transaction,78046.88499,Grand Junction,CO,31529.9382,6091.1568\\r\\n7475739.778,01-01-2010 00:01,878.4443989,3202.229225,$23.10,Swipe Transaction,78147.70923,Tacoma,WA,31446.80918,6093.034264\\r\\n7475740.943,01-01-2010 00:01,878.047839,3202.730045,$40.02,Swipe Transaction,78248.53346,Pinetop,AZ,31363.68015,6094.911729\\r\\n7475742.109,01-01-2010 00:01,877.6512791,3203.230865,$2.45,Swipe Transaction,78349.3577,Ukiah,CA,31280.55113,6096.789193\\r\\n7475743.274,01-01-2010 00:01,877.2547191,3203.731686,$3.115,Swipe Transaction,78450.18193,Lexington,KY,31197.4221,6098.666658\\r\\n7475744.44,01-01-2010 00:01,876.8581592,3204.232506,$3.163,Swipe Transaction,78551.00617,Lake Charles,LA,31114.29308,6100.544123\\r\\n7475745.606,01-01-2010 00:01,876.4615993,3204.733326,$62.100,Online Transaction,78651.8304,ONLINE,,31031.16405,6102.421587\\r\\n7475746.771,01-01-2010 00:01,876.0650394,3205.234146,$34.36,Online Transaction,78752.65464,ONLINE,,30948.03503,6104.299052\\r\\n7475747.937,01-01-2010 00:01,875.6684795,3205.734966,$73.48,Swipe Transaction,78853.47887,Fontana,CA,30864.906,6106.176517\\r\\n7475749.103,01-01-2010 00:01,875.2719196,3206.235786,$9.18,Swipe Transaction,78954.30311,Modesto,CA,30781.77698,6108.053981\\r\\n7475750.268,01-01-2010 00:01,874.8753597,3206.736606,$541.31,Swipe Transaction,79055.12734,Arlington Heights,IL,30698.64795,6109.931446\\r\\n7475751.434,01-01-2010 00:01,874.4787997,3207.237426,$30.71,Swipe Transaction,79155.95158,Newark,NJ,30615.51893,6111.808911\\r\\n7475752.6,01-01-2010 00:01,874.0822398,3207.738247,$177.43,Swipe Transaction,79256.77581,Muscle Shoals,AL,30532.3899,6113.686375\\r\\n7475753.765,01-01-2010 00:01,873.6856799,3208.239067,$14.22,Swipe Transaction,79357.60005,San Francisco,CA,30449.26088,6115.56384\\r\\n7475754.931,01-01-2010 00:01,873.28912,3208.739887,$119.25,Online Transaction,79458.42428,ONLINE,,30366.13185,6117.441305\\r\\n7475756.097,01-01-2010 00:01,872.8925601,3209.240707,$10.63,Swipe Transaction,79559.24852,Dublin,GA,30283.00283,6119.318769\\r\\n7475757.262,01-01-2010 00:01,872.4960002,3209.741527,$52.100,Online Transaction,79660.07275,ONLINE,,30199.8738,6121.196234\\r\\n7475758.428,01-01-2010 00:01,872.0994403,3210.242347,$3.37,Swipe Transaction,79760.89699,Manasquan,NJ,30116.74478,6123.073699\\r\\n7475759.593,01-01-2010 00:01,871.7028804,3210.743167,$39.07,Swipe Transaction,79861.72122,Cleveland,OH,30033.61575,6124.951163\\r\\n7475760.759,01-01-2010 00:01,871.3063204,3211.243987,$6.81,Swipe Transaction,79962.54546,Saint Louis,MO,29950.48673,6126.828628\\r\\n7475761.925,01-01-2010 00:01,870.9097605,3211.744808,$100.02,Swipe Transaction,80063.36969,Grand Rapids,MI,29867.3577,6128.706093\\r\\n7475763.09,01-01-2010 00:01,870.5132006,3212.245628,$196.24,Swipe Transaction,80164.19393,Middletown,NY,29784.22868,6130.583557\\r\\n7475764.256,01-01-2010 00:01,870.1166407,3212.746448,$3.85,Swipe Transaction,80265.01816,Colwich,KS,29701.09965,6132.461022\\r\\n7475765.422,01-01-2010 00:01,869.7200808,3213.247268,$1.89,Swipe Transaction,80365.8424,Gonzales,TX,29617.97063,6134.338486\\r\\n7475766.587,01-01-2010 00:01,869.3235209,3213.748088,$6.65,Swipe Transaction,80466.66663,Tacoma,WA,29534.8416,6136.215951\\r\\n7475767.753,01-01-2010 00:01,868.926961,3214.248908,$8.32,Swipe Transaction,80567.49087,Canton,MA,29451.71258,6138.093416\\r\\n7475768.919,01-01-2010 00:01,868.530401,3214.749728,$2.77,Swipe Transaction,80668.3151,Lexington,KY,29368.58355,6139.97088\\r\\n7475770.084,01-01-2010 00:01,868.1338411,3215.250548,$4.09,Swipe Transaction,80769.13934,Sacramento,CA,29285.45453,6141.848345\\r\\n7475771.25,01-01-2010 00:01,867.7372812,3215.751369,$2.33,Swipe Transaction,80869.96357,Seligman,AZ,29202.3255,6143.72581\\r\\n7475772.416,01-01-2010 00:01,867.3407213,3216.252189,$0.23,Swipe Transaction,80970.78781,Menasha,WI,29119.19647,6145.603274\\r\\n7475773.581,01-01-2010 00:01,866.9441614,3216.753009,$396.05,Swipe Transaction,81071.61204,Thackerville,OK,29036.06745,6147.480739\\r\\n7475774.747,01-01-2010 00:01,866.5476015,3217.253829,$-460.02,Swipe Transaction,81172.43628,Middletown,NY,28952.93842,6149.358204\\r\\n7475775.912,01-01-2010 00:01,866.1510416,3217.754649,$91.04,Swipe Transaction,81273.26051,Williston Park,NY,28869.8094,6151.235668\\r\\n7475777.078,01-01-2010 00:01,865.7544816,3218.255469,$3.70,Swipe Transaction,81374.08475,Cohasset,MA,28786.68037,6153.113133\\r\\n7475778.244,01-01-2010 00:01,865.3579217,3218.756289,$38.13,Online Transaction,81474.90898,ONLINE,,28703.55135,6154.990598\\r\\n7475779.409,01-01-2010 00:01,864.9613618,3219.257109,$25.99,Swipe Transaction,81575.73322,Canton,MI,28620.42232,6156.868062\\r\\n7475780.575,01-01-2010 00:01,864.5648019,3219.75793,$66.07,Online Transaction,81676.55745,ONLINE,,28537.2933,6158.745527\\r\\n7475781.741,01-01-2010 00:01,864.168242,3220.25875,$33.04,Swipe Transaction,81777.38169,Bullock,NC,28454.16427,6160.622992\\r\\n7475782.906,01-01-2010 00:01,863.7716821,3220.75957,$103.99,Swipe Transaction,81878.20592,Markesan,WI,28371.03525,6162.500456\\r\\n7475784.072,01-01-2010 00:01,863.3751222,3221.26039,$2.35,Swipe Transaction,81979.03016,Dallas,TX,28287.90622,6164.377921\\r\\n7475785.238,01-01-2010 00:01,862.9785623,3221.76121,$51.60,Online Transaction,82079.85439,ONLINE,,28204.7772,6166.255385\\r\\n7475786.403,01-01-2010 00:01,862.5820023,3222.26203,$57.45,Swipe Transaction,82180.67863,Grain Valley,MO,28121.64817,6168.13285\\r\\n7475787.569,01-01-2010 00:01,862.1854424,3222.76285,$2.89,Swipe Transaction,82281.50286,Ukiah,CA,28038.51915,6170.010315\\r\\n7475788.735,01-01-2010 00:01,861.7888825,3223.26367,$27.65,Swipe Transaction,82382.3271,Miami,FL,27955.39012,6171.887779\\r\\n7475789.9,01-01-2010 00:01,861.3923226,3223.764491,$76.78,Swipe Transaction,82483.15133,Waianae,HI,27872.2611,6173.765244\\r\\n7475791.066,01-01-2010 00:01,860.9957627,3224.265311,$9.12,Swipe Transaction,82583.97557,Amherst,OH,27789.13207,6175.642709\\r\\n7475792.231,01-01-2010 00:01,860.5992028,3224.766131,$0.77,Swipe Transaction,82684.7998,Burlingame,CA,27706.00305,6177.520173\\r\\n7475793.397,01-01-2010 00:01,860.2026429,3225.266951,$160.02,Swipe Transaction,82785.62404,Boulder Creek,CA,27622.87402,6179.397638\\r\\n7475794.563,01-01-2010 00:01,859.8060829,3225.767771,$28.23,Swipe Transaction,82886.44827,Chicago,IL,27539.745,6181.275103\\r\\n7475795.728,01-01-2010 00:01,859.409523,3226.268591,$44.88,Swipe Transaction,82987.27251,Fayetteville,AR,27456.61597,6183.152567\\r\\n7475796.894,01-01-2010 00:01,859.0129631,3226.769411,$57.75,Swipe Transaction,83088.09674,Holly Springs,NC,27373.48695,6185.030032\\r\\n7475798.06,01-01-2010 00:01,858.6164032,3227.270231,$6.54,Swipe Transaction,83188.92098,Alhambra,CA,27290.35792,6186.907497\\r\\n7475799.225,01-01-2010 00:01,858.2198433,3227.771052,$4.06,Swipe Transaction,83289.74521,Saint Charles,IL,27207.2289,6188.784961\\r\\n7475800.391,01-01-2010 00:01,857.8232834,3228.271872,$3.95,Swipe Transaction,83390.56945,Woodbury,TN,27124.09987,6190.662426\\r\\n7475801.557,01-01-2010 00:01,857.4267235,3228.772692,$5.14,Swipe Transaction,83491.39368,Seligman,AZ,27040.97085,6192.539891\\r\\n7475802.722,01-01-2010 00:01,857.0301635,3229.273512,$19.17,Swipe Transaction,83592.21792,Terre Haute,IN,26957.84182,6194.417355\\r\\n7475803.888,01-01-2010 00:01,856.6336036,3229.774332,$58.87,Swipe Transaction,83693.04215,Big Bear Lake,CA,26874.7128,6196.29482\\r\\n7475805.054,01-01-2010 00:01,856.2370437,3230.275152,$2.69,Swipe Transaction,83793.86639,Sutersville,PA,26791.58377,6198.172285\\r\\n7475806.219,01-01-2010 00:01,855.8404838,3230.775972,$2.67,Swipe Transaction,83894.69062,Albuquerque,NM,26708.45475,6200.049749\\r\\n7475807.385,01-01-2010 00:01,855.4439239,3231.276792,$115.39,Swipe Transaction,83995.51486,Williston Park,NY,26625.32572,6201.927214\\r\\n7475808.55,01-01-2010 00:01,855.047364,3231.777613,$77.72,Swipe Transaction,84096.33909,Somerset,NJ,26542.1967,6203.804678\\r\\n7475809.716,01-01-2010 00:01,854.6508041,3232.278433,$120.89,Swipe Transaction,84197.16333,Huntington Station,NY,26459.06767,6205.682143\\r\\n7475810.882,01-01-2010 00:01,854.2542442,3232.779253,$23.88,Swipe Transaction,84297.98756,Canton,MI,26375.93864,6207.559608\\r\\n7475812.047,01-01-2010 00:01,853.8576842,3233.280073,$11.20,Swipe Transaction,84398.8118,Sumter,SC,26292.80962,6209.437072\\r\\n7475813.213,01-01-2010 00:01,853.4611243,3233.780893,$-147.02,Swipe Transaction,84499.63603,Marysville,OH,26209.68059,6211.314537\\r\\n7475814.379,01-01-2010 00:01,853.0645644,3234.281713,$3.94,Swipe Transaction,84600.46027,Whites Creek,TN,26126.55157,6213.192002\\r\\n7475815.544,01-01-2010 00:01,852.6680045,3234.782533,$27.31,Swipe Transaction,84701.28451,Terre Haute,IN,26043.42254,6215.069466\\r\\n7475816.71,01-01-2010 00:01,852.2714446,3235.283353,$40.91,Online Transaction,84802.10874,ONLINE,,25960.29352,6216.946931\\r\\n7475817.876,01-01-2010 00:01,851.8748847,3235.784174,$14.23,Swipe Transaction,84902.93298,Marysville,OH,25877.16449,6218.824396\\r\\n7475819.041,01-01-2010 00:01,851.4783248,3236.284994,$24.49,Swipe Transaction,85003.75721,Oak Park,MN,25794.03547,6220.70186\\r\\n7475820.207,01-01-2010 00:01,851.0817648,3236.785814,$29.62,Swipe Transaction,85104.58145,Fresno,CA,25710.90644,6222.579325\\r\\n7475821.373,01-01-2010 00:01,850.6852049,3237.286634,$22.79,Swipe Transaction,85205.40568,Lombard,IL,25627.77742,6224.45679\\r\\n7475822.538,01-01-2010 00:01,850.288645,3237.787454,$58.49,Online Transaction,85306.22992,ONLINE,,25544.64839,6226.334254\\r\\n7475823.704,01-01-2010 00:01,849.8920851,3238.288274,$37.11,Swipe Transaction,85407.05415,Lexington,KY,25461.51937,6228.211719\\r\\n7475824.869,01-01-2010 00:01,849.4955252,3238.789094,$11.46,Swipe Transaction,85507.87839,Garland,TX,25378.39034,6230.089184\\r\\n7475826.035,01-01-2010 00:01,849.0989653,3239.289915,$4.80,Swipe Transaction,85608.70262,New Rochelle,NY,25295.26132,6231.966648\\r\\n7475827.201,01-01-2010 00:01,848.7024054,3239.790735,$35.25,Swipe Transaction,85709.52686,Big Bear Lake,CA,25212.13229,6233.844113\\r\\n7475828.366,01-01-2010 00:01,848.3058454,3240.291555,$102.29,Swipe Transaction,85810.35109,Pittsburgh,PA,25129.00327,6235.721578\\r\\n7475829.532,01-01-2010 00:01,847.9092855,3240.792375,$3.60,Swipe Transaction,85911.17533,Waukegan,IL,25045.87424,6237.599042\\r\\n7475830.698,01-01-2010 00:01,847.5127256,3241.293195,$14.38,Swipe Transaction,86011.99956,Nazareth,PA,24962.74522,6239.476507\\r\\n7475831.863,01-01-2010 00:01,847.1161657,3241.794015,$176.46,Swipe Transaction,86112.8238,Lafayette,CO,24879.61619,6241.353971\\r\\n7475833.029,01-01-2010 00:01,846.7196058,3242.294835,$120.02,Swipe Transaction,86213.64803,Belleville,IL,24796.48717,6243.231436\\r\\n7475834.195,01-01-2010 00:01,846.3230459,3242.795655,$4.41,Swipe Transaction,86314.47227,New Rochelle,NY,24713.35814,6245.108901\\r\\n7475835.36,01-01-2010 00:01,845.926486,3243.296476,$6.74,Swipe Transaction,86415.2965,Manhattan Beach,CA,24630.22912,6246.986365\\r\\n7475836.526,01-01-2010 00:01,845.5299261,3243.797296,$13.81,Swipe Transaction,86516.12074,Campbell,TX,24547.10009,6248.86383\\r\\n7475837.692,01-01-2010 00:01,845.1333661,3244.298116,$63.52,Swipe Transaction,86616.94497,Rockingham,NC,24463.97107,6250.741295\\r\\n7475838.857,01-01-2010 00:01,844.7368062,3244.798936,$59.46,Swipe Transaction,86717.76921,Withee,WI,24380.84204,6252.618759\\r\\n7475840.023,01-01-2010 00:01,844.3402463,3245.299756,$15.91,Online Transaction,86818.59344,ONLINE,,24297.71302,6254.496224\\r\\n7475841.189,01-01-2010 00:01,843.9436864,3245.800576,$96.65,Swipe Transaction,86919.41768,Ottumwa,IA,24214.58399,6256.373689\\r\\n7475842.354,01-01-2010 00:01,843.5471265,3246.301396,$93.15,Swipe Transaction,87020.24191,Dallas,TX,24131.45497,6258.251153\\r\\n7475843.52,01-01-2010 00:01,843.1505666,3246.802216,$31.52,Swipe Transaction,87121.06615,Eastman,GA,24048.32594,6260.128618\\r\\n7475844.685,01-01-2010 00:01,842.7540067,3247.303037,$1.64,Swipe Transaction,87221.89038,Jasper,IN,23965.19692,6262.006083\\r\\n7475845.851,01-01-2010 00:01,842.3574467,3247.803857,$20.88,Online Transaction,87322.71462,ONLINE,,23882.06789,6263.883547\\r\\n7475847.017,01-01-2010 00:01,841.9608868,3248.304677,$7.73,Online Transaction,87423.53885,ONLINE,,23798.93887,6265.761012\\r\\n7475848.182,01-01-2010 00:01,841.5643269,3248.805497,$33.21,Swipe Transaction,87524.36309,Oak Park,MN,23715.80984,6267.638477\\r\\n7475849.348,01-01-2010 00:01,841.167767,3249.306317,$108.15,Swipe Transaction,87625.18732,Church Hill,TN,23632.68081,6269.515941\\r\\n7475850.514,01-01-2010 00:01,840.7712071,3249.807137,$166.36,Online Transaction,87726.01156,ONLINE,,23549.55179,6271.393406\\r\\n7475851.679,01-01-2010 00:01,840.3746472,3250.307957,$14.52,Swipe Transaction,87826.83579,Jamaica,NY,23466.42276,6273.27087\\r\\n7475852.845,01-01-2010 00:01,839.9780873,3250.808777,$3.38,Swipe Transaction,87927.66003,Slovan,PA,23383.29374,6275.148335\\r\\n7475854.011,01-01-2010 00:01,839.5815273,3251.309598,$2.58,Swipe Transaction,88028.48426,Weatherford,TX,23300.16471,6277.0258\\r\\n7475855.176,01-01-2010 00:01,839.1849674,3251.810418,$55.81,Swipe Transaction,88129.3085,Brooklyn,NY,23217.03569,6278.903264\\r\\n7475856.342,01-01-2010 00:01,838.7884075,3252.311238,$174.08,Swipe Transaction,88230.13273,North Little Rock,AR,23133.90666,6280.780729\\r\\nid,date,client_id,card_id,amount,use_chip,merchant_id,merchant_city,merchant_state,zip,mcc\\r\\n7475857.508,01-01-2010 00:01,838.3918476,3252.812058,$-77.03,Swipe Transaction,88330.95697,Beulah,ND,23050.77764,6282.658194\\r\\n7475858.673,01-01-2010 00:01,837.9952877,3253.312878,$14.60,Swipe Transaction,88431.7812,Bettendorf,IA,22967.64861,6284.535658\\r\\n7475859.839,01-01-2010 00:01,837.5987278,3253.813698,$80.03,Swipe Transaction,88532.60544,Vista,CA,22884.51959,6286.413123\\r\\n7475861.004,01-01-2010 00:01,837.2021679,3254.314518,$200.03,Swipe Transaction,88633.42967,Crown Point,IN,22801.39056,6288.290588\\r\\n7475862.17,01-01-2010 00:01,836.805608,3254.815338,$46.44,Swipe Transaction,88734.25391,Harwood,MD,22718.26154,6290.168052\\r\\n7475863.336,01-01-2010 00:01,836.409048,3255.316159,$4.84,Swipe Transaction,88835.07814,Bronx,NY,22635.13251,6292.045517\\r\\n7475864.501,01-01-2010 00:01,836.0124881,3255.816979,$77.03,Swipe Transaction,88935.90238,Beulah,ND,22552.00349,6293.922982\\r\\n7475865.667,01-01-2010 00:01,835.6159282,3256.317799,$26.49,Online Transaction,89036.72661,ONLINE,,22468.87446,6295.800446\\r\\n7475866.833,01-01-2010 00:01,835.2193683,3256.818619,$261.61,Online Transaction,89137.55085,ONLINE,,22385.74544,6297.677911\\r\\n7475867.998,01-01-2010 00:01,834.8228084,3257.319439,$10.77,Swipe Transaction,89238.37508,Flushing,NY,22302.61641,6299.555376\\r\\n7475869.164,01-01-2010 00:01,834.4262485,3257.820259,$3.54,Swipe Transaction,89339.19932,Pearland,TX,22219.48739,6301.43284\\r\\n7475870.33,01-01-2010 00:01,834.0296886,3258.321079,$2.61,Swipe Transaction,89440.02355,Brooklyn,NY,22136.35836,6303.310305\\r\\n7475871.495,01-01-2010 00:01,833.6331286,3258.821899,$39.66,Swipe Transaction,89540.84779,Beulah,ND,22053.22934,6305.18777\\r\\n7475872.661,01-01-2010 00:01,833.2365687,3259.32272,$43.36,Swipe Transaction,89641.67202,Kahului,HI,21970.10031,6307.065234\\r\\n7475873.827,01-01-2010 00:01,832.8400088,3259.82354,$49.45,Swipe Transaction,89742.49626,North Hollywood,CA,21886.97129,6308.942699\\r\\n7475874.992,01-01-2010 00:01,832.4434489,3260.32436,$1.12,Swipe Transaction,89843.32049,San Benito,TX,21803.84226,6310.820163\\r\\n7475876.158,01-01-2010 00:01,832.046889,3260.82518,$73.82,Swipe Transaction,89944.14473,Erie,PA,21720.71324,6312.697628\\r\\n7475877.323,01-01-2010 00:01,831.6503291,3261.326,$100.03,Swipe Transaction,90044.96896,Vista,CA,21637.58421,6314.575093\\r\\n7475878.489,01-01-2010 00:01,831.2537692,3261.82682,$26.07,Online Transaction,90145.7932,ONLINE,,21554.45519,6316.452557\\r\\n7475879.655,01-01-2010 00:01,830.8572092,3262.32764,$-64.03,Swipe Transaction,90246.61743,North Hollywood,CA,21471.32616,6318.330022\\r\\n7475880.82,01-01-2010 00:01,830.4606493,3262.82846,$54.30,Swipe Transaction,90347.44167,Cedar Park,TX,21388.19714,6320.207487\\r\\n7475881.986,01-01-2010 00:01,830.0640894,3263.329281,$20.77,Swipe Transaction,90448.2659,Grand Forks,ND,21305.06811,6322.084951\\r\\n7475883.152,01-01-2010 00:01,829.6675295,3263.830101,$64.03,Swipe Transaction,90549.09014,North Hollywood,CA,21221.93909,6323.962416\\r\\n7475884.317,01-01-2010 00:01,829.2709696,3264.330921,$57.57,Swipe Transaction,90649.91437,Menasha,WI,21138.81006,6325.839881\\r\\n7475885.483,01-01-2010 00:01,828.8744097,3264.831741,$10.20,Online Transaction,90750.73861,ONLINE,,21055.68104,6327.717345\\r\\n7475886.649,01-01-2010 00:01,828.4778498,3265.332561,$12.04,Swipe Transaction,90851.56284,Cordele,GA,20972.55201,6329.59481\\r\\n7475887.814,01-01-2010 00:01,828.0812899,3265.833381,$16.89,Online Transaction,90952.38708,ONLINE,,20889.42298,6331.472275\\r\\n7475888.98,01-01-2010 00:01,827.6847299,3266.334201,$4.67,Swipe Transaction,91053.21131,Mobile,AL,20806.29396,6333.349739\\r\\n7475890.146,01-01-2010 00:01,827.28817,3266.835021,$669.91,Swipe Transaction,91154.03555,West Covina,CA,20723.16493,6335.227204\\r\\n7475891.311,01-01-2010 00:01,826.8916101,3267.335842,$22.60,Online Transaction,91254.85978,ONLINE,,20640.03591,6337.104669\\r\\n7475892.477,01-01-2010 00:01,826.4950502,3267.836662,$2.43,Swipe Transaction,91355.68402,East Hartford,CT,20556.90688,6338.982133\\r\\n7475893.642,01-01-2010 00:01,826.0984903,3268.337482,$40.38,Swipe Transaction,91456.50825,Vacaville,CA,20473.77786,6340.859598\\r\\n7475894.808,01-01-2010 00:01,825.7019304,3268.838302,$14.60,Swipe Transaction,91557.33249,Tacoma,WA,20390.64883,6342.737063\\r\\n7475895.974,01-01-2010 00:01,825.3053705,3269.339122,$7.83,Swipe Transaction,91658.15672,Watsonville,CA,20307.51981,6344.614527\\r\\n7475897.139,01-01-2010 00:01,824.9088105,3269.839942,$2.98,Swipe Transaction,91758.98096,Woburn,MA,20224.39078,6346.491992\\r\\n7475898.305,01-01-2010 00:01,824.5122506,3270.340762,$270.25,Online Transaction,91859.80519,ONLINE,,20141.26176,6348.369456\\r\\n7475899.471,01-01-2010 00:01,824.1156907,3270.841582,$78.03,Swipe Transaction,91960.62943,Grand Junction,CO,20058.13273,6350.246921\\r\\n7475900.636,01-01-2010 00:01,823.7191308,3271.342403,$87.12,Online Transaction,92061.45366,ONLINE,,19975.00371,6352.124386\\r\\n7475901.802,01-01-2010 00:01,823.3225709,3271.843223,$148.42,Swipe Transaction,92162.2779,Morristown,NJ,19891.87468,6354.00185\\r\\n7475902.968,01-01-2010 00:01,822.926011,3272.344043,$48.15,Swipe Transaction,92263.10213,Vacaville,CA,19808.74566,6355.879315\\r\\n7475904.133,01-01-2010 00:01,822.5294511,3272.844863,$7.78,Swipe Transaction,92363.92637,Burlington,IA,19725.61663,6357.75678\\r\\n7475905.299,01-01-2010 00:01,822.1328911,3273.345683,$14.69,Online Transaction,92464.7506,ONLINE,,19642.48761,6359.634244\\r\\n7475906.465,01-01-2010 00:01,821.7363312,3273.846503,$3.99,Swipe Transaction,92565.57484,Manasquan,NJ,19559.35858,6361.511709\\r\\n7475907.63,01-01-2010 00:01,821.3397713,3274.347323,$12.70,Online Transaction,92666.39907,ONLINE,,19476.22956,6363.389174\\r\\n7475908.796,01-01-2010 00:01,820.9432114,3274.848143,$580.101,Swipe Transaction,92767.22331,Thackerville,OK,19393.10053,6365.266638\\r\\n7475909.961,01-01-2010 00:01,820.5466515,3275.348964,$10.37,Swipe Transaction,92868.04755,Laurel,MT,19309.97151,6367.144103\\r\\n7475911.127,01-01-2010 00:01,820.1500916,3275.849784,$17.17,Swipe Transaction,92968.87178,Osprey,FL,19226.84248,6369.021568\\r\\n7475912.293,01-01-2010 00:01,819.7535317,3276.350604,$1.88,Swipe Transaction,93069.69602,Garden City,NY,19143.71346,6370.899032\\r\\n7475913.458,01-01-2010 00:01,819.3569718,3276.851424,$71.75,Swipe Transaction,93170.52025,Grand Junction,CO,19060.58443,6372.776497\\r\\n7475914.624,01-01-2010 00:01,818.9604118,3277.352244,$200.03,Swipe Transaction,93271.34449,Crown Point,IN,18977.45541,6374.653962\\r\\n7475915.79,01-01-2010 00:01,818.5638519,3277.853064,$-78.03,Swipe Transaction,93372.16872,Grand Junction,CO,18894.32638,6376.531426\\r\\n7475916.955,01-01-2010 00:01,818.167292,3278.353884,$23.11,Swipe Transaction,93472.99296,Tacoma,WA,18811.19736,6378.408891\\r\\n7475918.121,01-01-2010 00:01,817.7707321,3278.854704,$40.03,Swipe Transaction,93573.81719,Pinetop,AZ,18728.06833,6380.286355\\r\\n7475919.287,01-01-2010 00:01,817.3741722,3279.355525,$2.46,Swipe Transaction,93674.64143,Ukiah,CA,18644.93931,6382.16382\\r\\n7475920.452,01-01-2010 00:01,816.9776123,3279.856345,$3.211,Swipe Transaction,93775.46566,Lexington,KY,18561.81028,6384.041285\\r\\n7475921.618,01-01-2010 00:01,816.5810524,3280.357165,$3.259,Swipe Transaction,93876.2899,Lake Charles,LA,18478.68126,6385.918749\\r\\n7475922.784,01-01-2010 00:01,816.1844924,3280.857985,$62.101,Online Transaction,93977.11413,ONLINE,,18395.55223,6387.796214\\r\\n7475923.949,01-01-2010 00:01,815.7879325,3281.358805,$34.37,Online Transaction,94077.93837,ONLINE,,18312.42321,6389.673679\\r\\n7475925.115,01-01-2010 00:01,815.3913726,3281.859625,$73.49,Swipe Transaction,94178.7626,Fontana,CA,18229.29418,6391.551143\\r\\n7475926.28,01-01-2010 00:01,814.9948127,3282.360445,$9.19,Swipe Transaction,94279.58684,Modesto,CA,18146.16515,6393.428608\\r\\n7475927.446,01-01-2010 00:01,814.5982528,3282.861265,$541.32,Swipe Transaction,94380.41107,Arlington Heights,IL,18063.03613,6395.306073\\r\\n7475928.612,01-01-2010 00:01,814.2016929,3283.362086,$30.72,Swipe Transaction,94481.23531,Newark,NJ,17979.9071,6397.183537\\r\\n7475929.777,01-01-2010 00:01,813.805133,3283.862906,$177.44,Swipe Transaction,94582.05954,Muscle Shoals,AL,17896.77808,6399.061002\\r\\n7475930.943,01-01-2010 00:01,813.408573,3284.363726,$14.23,Swipe Transaction,94682.88378,San Francisco,CA,17813.64905,6400.938467\\r\\n7475932.109,01-01-2010 00:01,813.0120131,3284.864546,$119.26,Online Transaction,94783.70801,ONLINE,,17730.52003,6402.815931\\r\\n7475933.274,01-01-2010 00:01,812.6154532,3285.365366,$10.64,Swipe Transaction,94884.53225,Dublin,GA,17647.391,6404.693396\\r\\n7475934.44,01-01-2010 00:01,812.2188933,3285.866186,$52.101,Online Transaction,94985.35648,ONLINE,,17564.26198,6406.570861\\r\\n7475935.606,01-01-2010 00:01,811.8223334,3286.367006,$3.38,Swipe Transaction,95086.18072,Manasquan,NJ,17481.13295,6408.448325\\r\\n7475936.771,01-01-2010 00:01,811.4257735,3286.867826,$39.08,Swipe Transaction,95187.00495,Cleveland,OH,17398.00393,6410.32579\\r\\n7475937.937,01-01-2010 00:01,811.0292136,3287.368647,$6.82,Swipe Transaction,95287.82919,Saint Louis,MO,17314.8749,6412.203255\\r\\n7475939.103,01-01-2010 00:01,810.6326537,3287.869467,$100.03,Swipe Transaction,95388.65342,Grand Rapids,MI,17231.74588,6414.080719\\r\\n7475940.268,01-01-2010 00:01,810.2360937,3288.370287,$196.25,Swipe Transaction,95489.47766,Middletown,NY,17148.61685,6415.958184\\r\\n7475941.434,01-01-2010 00:01,809.8395338,3288.871107,$3.86,Swipe Transaction,95590.30189,Colwich,KS,17065.48783,6417.835648\\r\\n7475942.599,01-01-2010 00:01,809.4429739,3289.371927,$1.90,Swipe Transaction,95691.12613,Gonzales,TX,16982.3588,6419.713113\\r\\n7475943.765,01-01-2010 00:01,809.046414,3289.872747,$6.66,Swipe Transaction,95791.95036,Tacoma,WA,16899.22978,6421.590578\\r\\n7475944.931,01-01-2010 00:01,808.6498541,3290.373567,$8.33,Swipe Transaction,95892.7746,Canton,MA,16816.10075,6423.468042\\r\\n7475946.096,01-01-2010 00:01,808.2532942,3290.874387,$2.78,Swipe Transaction,95993.59883,Lexington,KY,16732.97173,6425.345507\\r\\n7475947.262,01-01-2010 00:01,807.8567343,3291.375208,$4.10,Swipe Transaction,96094.42307,Sacramento,CA,16649.8427,6427.222972\\r\\n7475948.428,01-01-2010 00:01,807.4601743,3291.876028,$2.34,Swipe Transaction,96195.2473,Seligman,AZ,16566.71368,6429.100436\\r\\n7475949.593,01-01-2010 00:01,807.0636144,3292.376848,$0.24,Swipe Transaction,96296.07154,Menasha,WI,16483.58465,6430.977901\\r\\n7475950.759,01-01-2010 00:01,806.6670545,3292.877668,$396.06,Swipe Transaction,96396.89577,Thackerville,OK,16400.45563,6432.855366\\r\\n7475951.925,01-01-2010 00:01,806.2704946,3293.378488,$-460.03,Swipe Transaction,96497.72001,Middletown,NY,16317.3266,6434.73283\\r\\n7475953.09,01-01-2010 00:01,805.8739347,3293.879308,$91.05,Swipe Transaction,96598.54424,Williston Park,NY,16234.19758,6436.610295\\r\\n7475954.256,01-01-2010 00:01,805.4773748,3294.380128,$3.71,Swipe Transaction,96699.36848,Cohasset,MA,16151.06855,6438.48776\\r\\n7475955.422,01-01-2010 00:01,805.0808149,3294.880948,$38.14,Online Transaction,96800.19271,ONLINE,,16067.93953,6440.365224\\r\\n7475956.587,01-01-2010 00:01,804.6842549,3295.381769,$25.100,Swipe Transaction,96901.01695,Canton,MI,15984.8105,6442.242689\\r\\n7475957.753,01-01-2010 00:01,804.287695,3295.882589,$66.08,Online Transaction,97001.84118,ONLINE,,15901.68148,6444.120154\\r\\n7475958.918,01-01-2010 00:01,803.8911351,3296.383409,$33.05,Swipe Transaction,97102.66542,Bullock,NC,15818.55245,6445.997618\\r\\n7475960.084,01-01-2010 00:01,803.4945752,3296.884229,$103.100,Swipe Transaction,97203.48965,Markesan,WI,15735.42343,6447.875083\\r\\n7475961.25,01-01-2010 00:01,803.0980153,3297.385049,$2.36,Swipe Transaction,97304.31389,Dallas,TX,15652.2944,6449.752548\\r\\n7475962.415,01-01-2010 00:01,802.7014554,3297.885869,$51.61,Online Transaction,97405.13812,ONLINE,,15569.16538,6451.630012\\r\\n7475963.581,01-01-2010 00:01,802.3048955,3298.386689,$57.46,Swipe Transaction,97505.96236,Grain Valley,MO,15486.03635,6453.507477\\r\\n7475964.747,01-01-2010 00:01,801.9083356,3298.887509,$2.90,Swipe Transaction,97606.78659,Ukiah,CA,15402.90732,6455.384941\\r\\n7475965.912,01-01-2010 00:01,801.5117756,3299.38833,$27.66,Swipe Transaction,97707.61083,Miami,FL,15319.7783,6457.262406\\r\\n7475967.078,01-01-2010 00:01,801.1152157,3299.88915,$76.79,Swipe Transaction,97808.43506,Waianae,HI,15236.64927,6459.139871\\r\\n7475968.244,01-01-2010 00:01,800.7186558,3300.38997,$9.13,Swipe Transaction,97909.2593,Amherst,OH,15153.52025,6461.017335\\r\\n7475969.409,01-01-2010 00:01,800.3220959,3300.89079,$0.78,Swipe Transaction,98010.08353,Burlingame,CA,15070.39122,6462.8948\\r\\n7475970.575,01-01-2010 00:01,799.925536,3301.39161,$160.03,Swipe Transaction,98110.90777,Boulder Creek,CA,14987.2622,6464.772265\\r\\n7475971.741,01-01-2010 00:01,799.5289761,3301.89243,$28.24,Swipe Transaction,98211.732,Chicago,IL,14904.13317,6466.649729\\r\\n7475972.906,01-01-2010 00:01,799.1324162,3302.39325,$44.89,Swipe Transaction,98312.55624,Fayetteville,AR,14821.00415,6468.527194\\r\\n7475974.072,01-01-2010 00:01,798.7358562,3302.89407,$57.76,Swipe Transaction,98413.38047,Holly Springs,NC,14737.87512,6470.404659\\r\\n7475975.237,01-01-2010 00:01,798.3392963,3303.394891,$6.55,Swipe Transaction,98514.20471,Alhambra,CA,14654.7461,6472.282123\\r\\n7475976.403,01-01-2010 00:01,797.9427364,3303.895711,$4.07,Swipe Transaction,98615.02894,Saint Charles,IL,14571.61707,6474.159588\\r\\n7475977.569,01-01-2010 00:01,797.5461765,3304.396531,$3.96,Swipe Transaction,98715.85318,Woodbury,TN,14488.48805,6476.037053\\r\\n7475978.734,01-01-2010 00:01,797.1496166,3304.897351,$5.15,Swipe Transaction,98816.67741,Seligman,AZ,14405.35902,6477.914517\\r\\n7475979.9,01-01-2010 00:01,796.7530567,3305.398171,$19.18,Swipe Transaction,98917.50165,Terre Haute,IN,14322.23,6479.791982\\r\\n7475981.066,01-01-2010 00:01,796.3564968,3305.898991,$58.88,Swipe Transaction,99018.32588,Big Bear Lake,CA,14239.10097,6481.669447\\r\\n7475982.231,01-01-2010 00:01,795.9599369,3306.399811,$2.65,Swipe Transaction,99119.15012,Sutersville,PA,14155.97195,6483.546911\\r\\n7475983.397,01-01-2010 00:01,795.5633769,3306.900631,$2.63,Swipe Transaction,99219.97435,Albuquerque,NM,14072.84292,6485.424376\\r\\n7475984.563,01-01-2010 00:01,795.166817,3307.401452,$115.40,Swipe Transaction,99320.79859,Williston Park,NY,13989.7139,6487.30184\\r\\n7475985.728,01-01-2010 00:01,794.7702571,3307.902272,$77.73,Swipe Transaction,99421.62282,Somerset,NJ,13906.58487,6489.179305\\r\\n7475986.894,01-01-2010 00:01,794.3736972,3308.403092,$120.90,Swipe Transaction,99522.44706,Huntington Station,NY,13823.45585,6491.05677\\r\\n7475988.06,01-01-2010 00:01,793.9771373,3308.903912,$23.89,Swipe Transaction,99623.27129,Canton,MI,13740.32682,6492.934234\\r\\n7475989.225,01-01-2010 00:01,793.5805774,3309.404732,$11.21,Swipe Transaction,99724.09553,Sumter,SC,13657.1978,6494.811699\\r\\n7475990.391,01-01-2010 00:01,793.1840175,3309.905552,$-147.03,Swipe Transaction,99824.91976,Marysville,OH,13574.06877,6496.689164\\r\\n7475991.556,01-01-2010 00:01,792.7874575,3310.406372,$3.95,Swipe Transaction,99925.744,Whites Creek,TN,13490.93975,6498.566628\\r\\n7475992.722,01-01-2010 00:01,792.3908976,3310.907193,$27.32,Swipe Transaction,100026.5682,Terre Haute,IN,13407.81072,6500.444093\\r\\n7475993.888,01-01-2010 00:01,791.9943377,3311.408013,$40.92,Online Transaction,100127.3925,ONLINE,,13324.6817,6502.321558\\r\\n7475995.053,01-01-2010 00:01,791.5977778,3311.908833,$14.24,Swipe Transaction,100228.2167,Marysville,OH,13241.55267,6504.199022\\r\\n7475996.219,01-01-2010 00:01,791.2012179,3312.409653,$24.50,Swipe Transaction,100329.0409,Oak Park,MN,13158.42365,6506.076487\\r\\n7475997.385,01-01-2010 00:01,790.804658,3312.910473,$29.63,Swipe Transaction,100429.8652,Fresno,CA,13075.29462,6507.953952\\r\\n7475998.55,01-01-2010 00:01,790.4080981,3313.411293,$22.80,Swipe Transaction,100530.6894,Lombard,IL,12992.1656,6509.831416\\r\\n7475999.716,01-01-2010 00:01,790.0115381,3313.912113,$58.50,Online Transaction,100631.5136,ONLINE,,12909.03657,6511.708881\\r\\n7476000.882,01-01-2010 00:01,789.6149782,3314.412933,$37.12,Swipe Transaction,100732.3379,Lexington,KY,12825.90754,6513.586346\\r\\n7476002.047,01-01-2010 00:01,789.2184183,3314.913754,$11.47,Swipe Transaction,100833.1621,Garland,TX,12742.77852,6515.46381\\r\\n7476003.213,01-01-2010 00:01,788.8218584,3315.414574,$4.81,Swipe Transaction,100933.9864,New Rochelle,NY,12659.64949,6517.341275\\r\\n7476004.379,01-01-2010 00:01,788.4252985,3315.915394,$35.26,Swipe Transaction,101034.8106,Big Bear Lake,CA,12576.52047,6519.21874\\r\\n7476005.544,01-01-2010 00:01,788.0287386,3316.416214,$102.30,Swipe Transaction,101135.6348,Pittsburgh,PA,12493.39144,6521.096204\\r\\n7476006.71,01-01-2010 00:01,787.6321787,3316.917034,$3.61,Swipe Transaction,101236.4591,Waukegan,IL,12410.26242,6522.973669\\r\\n7476007.875,01-01-2010 00:01,787.2356188,3317.417854,$14.39,Swipe Transaction,101337.2833,Nazareth,PA,12327.13339,6524.851133\\r\\n7476009.041,01-01-2010 00:01,786.8390588,3317.918674,$176.47,Swipe Transaction,101438.1075,Lafayette,CO,12244.00437,6526.728598\\r\\n7476010.207,01-01-2010 00:01,786.4424989,3318.419494,$120.03,Swipe Transaction,101538.9318,Belleville,IL,12160.87534,6528.606063\\r\\n7476011.372,01-01-2010 00:01,786.045939,3318.920315,$4.42,Swipe Transaction,101639.756,New Rochelle,NY,12077.74632,6530.483527\\r\\n7476012.538,01-01-2010 00:01,785.6493791,3319.421135,$6.75,Swipe Transaction,101740.5802,Manhattan Beach,CA,11994.61729,6532.360992\\r\\n7476013.704,01-01-2010 00:01,785.2528192,3319.921955,$13.82,Swipe Transaction,101841.4045,Campbell,TX,11911.48827,6534.238457\\r\\n7476014.869,01-01-2010 00:01,784.8562593,3320.422775,$63.53,Swipe Transaction,101942.2287,Rockingham,NC,11828.35924,6536.115921\\r\\n7476016.035,01-01-2010 00:01,784.4596994,3320.923595,$59.47,Swipe Transaction,102043.0529,Withee,WI,11745.23022,6537.993386\\r\\n7476017.201,01-01-2010 00:01,784.0631394,3321.424415,$15.92,Online Transaction,102143.8772,ONLINE,,11662.10119,6539.870851\\r\\n7476018.366,01-01-2010 00:01,783.6665795,3321.925235,$96.66,Swipe Transaction,102244.7014,Ottumwa,IA,11578.97217,6541.748315\\r\\n7476019.532,01-01-2010 00:01,783.2700196,3322.426055,$93.16,Swipe Transaction,102345.5256,Dallas,TX,11495.84314,6543.62578\\r\\n7476020.698,01-01-2010 00:01,782.8734597,3322.926876,$31.53,Swipe Transaction,102446.3499,Eastman,GA,11412.71412,6545.503245\\r\\n7476021.863,01-01-2010 00:01,782.4768998,3323.427696,$1.65,Swipe Transaction,102547.1741,Jasper,IN,11329.58509,6547.380709\\r\\n7476023.029,01-01-2010 00:01,782.0803399,3323.928516,$20.89,Online Transaction,102647.9983,ONLINE,,11246.45607,6549.258174\\r\\n7476024.194,01-01-2010 00:01,781.68378,3324.429336,$7.74,Online Transaction,102748.8226,ONLINE,,11163.32704,6551.135639\\r\\n7476025.36,01-01-2010 00:01,781.28722,3324.930156,$33.22,Swipe Transaction,102849.6468,Oak Park,MN,11080.19802,6553.013103\\r\\n7476026.526,01-01-2010 00:01,780.8906601,3325.430976,$108.16,Swipe Transaction,102950.4711,Church Hill,TN,10997.06899,6554.890568\\r\\n7476027.691,01-01-2010 00:01,780.4941002,3325.931796,$166.37,Online Transaction,103051.2953,ONLINE,,10913.93997,6556.768033\\r\\n7476028.857,01-01-2010 00:01,780.0975403,3326.432616,$14.53,Swipe Transaction,103152.1195,Jamaica,NY,10830.81094,6558.645497\\r\\n7476030.023,01-01-2010 00:01,779.7009804,3326.933437,$3.39,Swipe Transaction,103252.9438,Slovan,PA,10747.68192,6560.522962\\r\\n7476031.188,01-01-2010 00:01,779.3044205,3327.434257,$2.59,Swipe Transaction,103353.768,Weatherford,TX,10664.55289,6562.400426\\r\\n7476032.354,01-01-2010 00:01,778.9078606,3327.935077,$55.82,Swipe Transaction,103454.5922,Brooklyn,NY,10581.42387,6564.277891\\r\\n7476033.52,01-01-2010 00:01,778.5113007,3328.435897,$174.09,Swipe Transaction,103555.4165,North Little Rock,AR,10498.29484,6566.155356\\r\\nid,date,client_id,card_id,amount,use_chip,merchant_id,merchant_city,merchant_state,zip,mcc\\r\\n7476034.685,01-01-2010 00:01,778.1147407,3328.936717,$-77.04,Swipe Transaction,103656.2407,Beulah,ND,10415.16582,6568.03282\\r\\n7476035.851,01-01-2010 00:01,777.7181808,3329.437537,$14.61,Swipe Transaction,103757.0649,Bettendorf,IA,10332.03679,6569.910285\\r\\n7476037.017,01-01-2010 00:01,777.3216209,3329.938357,$80.04,Swipe Transaction,103857.8892,Vista,CA,10248.90777,6571.78775\\r\\n7476038.182,01-01-2010 00:01,776.925061,3330.439177,$200.04,Swipe Transaction,103958.7134,Crown Point,IN,10165.77874,6573.665214\\r\\n7476039.348,01-01-2010 00:01,776.5285011,3330.939998,$46.45,Swipe Transaction,104059.5376,Harwood,MD,10082.64971,6575.542679\\r\\n7476040.513,01-01-2010 00:01,776.1319412,3331.440818,$4.85,Swipe Transaction,104160.3619,Bronx,NY,9999.52069,6577.420144\\r\\n7476041.679,01-01-2010 00:01,775.7353813,3331.941638,$77.04,Swipe Transaction,104261.1861,Beulah,ND,9916.391665,6579.297608\\r\\n7476042.845,01-01-2010 00:01,775.3388213,3332.442458,$26.50,Online Transaction,104362.0103,ONLINE,,9833.262639,6581.175073\\r\\n7476044.01,01-01-2010 00:01,774.9422614,3332.943278,$261.62,Online Transaction,104462.8346,ONLINE,,9750.133614,6583.052538\\r\\n7476045.176,01-01-2010 00:01,774.5457015,3333.444098,$10.78,Swipe Transaction,104563.6588,Flushing,NY,9667.004589,6584.930002\\r\\n7476046.342,01-01-2010 00:01,774.1491416,3333.944918,$3.55,Swipe Transaction,104664.483,Pearland,TX,9583.875564,6586.807467\\r\\n7476047.507,01-01-2010 00:01,773.7525817,3334.445738,$2.62,Swipe Transaction,104765.3073,Brooklyn,NY,9500.746539,6588.684932\\r\\n7476048.673,01-01-2010 00:01,773.3560218,3334.946559,$39.67,Swipe Transaction,104866.1315,Beulah,ND,9417.617514,6590.562396\\r\\n7476049.839,01-01-2010 00:01,772.9594619,3335.447379,$43.37,Swipe Transaction,104966.9558,Kahului,HI,9334.488489,6592.439861\\r\\n7476051.004,01-01-2010 00:01,772.5629019,3335.948199,$49.46,Swipe Transaction,105067.78,North Hollywood,CA,9251.359463,6594.317326\\r\\n7476052.17,01-01-2010 00:01,772.166342,3336.449019,$1.13,Swipe Transaction,105168.6042,San Benito,TX,9168.230438,6596.19479\\r\\n7476053.336,01-01-2010 00:01,771.7697821,3336.949839,$73.83,Swipe Transaction,105269.4285,Erie,PA,9085.101413,6598.072255\\r\\n7476054.501,01-01-2010 00:01,771.3732222,3337.450659,$100.04,Swipe Transaction,105370.2527,Vista,CA,9001.972388,6599.949719\\r\\n7476055.667,01-01-2010 00:01,770.9766623,3337.951479,$26.08,Online Transaction,105471.0769,ONLINE,,8918.843363,6601.827184\\r\\n7476056.832,01-01-2010 00:01,770.5801024,3338.452299,$-64.04,Swipe Transaction,105571.9012,North Hollywood,CA,8835.714338,6603.704649\\r\\n7476057.998,01-01-2010 00:01,770.1835425,3338.95312,$54.31,Swipe Transaction,105672.7254,Cedar Park,TX,8752.585313,6605.582113\\r\\n7476059.164,01-01-2010 00:01,769.7869826,3339.45394,$20.78,Swipe Transaction,105773.5496,Grand Forks,ND,8669.456287,6607.459578\\r\\n7476060.329,01-01-2010 00:01,769.3904226,3339.95476,$64.04,Swipe Transaction,105874.3739,North Hollywood,CA,8586.327262,6609.337043\\r\\n7476061.495,01-01-2010 00:01,768.9938627,3340.45558,$57.58,Swipe Transaction,105975.1981,Menasha,WI,8503.198237,6611.214507\\r\\n7476062.661,01-01-2010 00:01,768.5973028,3340.9564,$10.21,Online Transaction,106076.0223,ONLINE,,8420.069212,6613.091972\\r\\n7476063.826,01-01-2010 00:01,768.2007429,3341.45722,$12.05,Swipe Transaction,106176.8466,Cordele,GA,8336.940187,6614.969437\\r\\n7476064.992,01-01-2010 00:01,767.804183,3341.95804,$16.90,Online Transaction,106277.6708,ONLINE,,8253.811162,6616.846901\\r\\n7476066.158,01-01-2010 00:01,767.4076231,3342.45886,$4.68,Swipe Transaction,106378.495,Mobile,AL,8170.682136,6618.724366\\r\\n7476067.323,01-01-2010 00:01,767.0110632,3342.959681,$669.92,Swipe Transaction,106479.3193,West Covina,CA,8087.553111,6620.601831\\r\\n7476068.489,01-01-2010 00:01,766.6145032,3343.460501,$22.61,Online Transaction,106580.1435,ONLINE,,8004.424086,6622.479295\\r\\n7476069.655,01-01-2010 00:01,766.2179433,3343.961321,$2.44,Swipe Transaction,106680.9677,East Hartford,CT,7921.295061,6624.35676\\r\\n7476070.82,01-01-2010 00:01,765.8213834,3344.462141,$40.39,Swipe Transaction,106781.792,Vacaville,CA,7838.166036,6626.234225\\r\\n7476071.986,01-01-2010 00:01,765.4248235,3344.962961,$14.61,Swipe Transaction,106882.6162,Tacoma,WA,7755.037011,6628.111689\\r\\n7476073.152,01-01-2010 00:01,765.0282636,3345.463781,$7.84,Swipe Transaction,106983.4405,Watsonville,CA,7671.907986,6629.989154\\r\\n7476074.317,01-01-2010 00:01,764.6317037,3345.964601,$2.99,Swipe Transaction,107084.2647,Woburn,MA,7588.77896,6631.866618\\r\\n7476075.483,01-01-2010 00:01,764.2351438,3346.465421,$270.26,Online Transaction,107185.0889,ONLINE,,7505.649935,6633.744083\\r\\n7476076.648,01-01-2010 00:01,763.8385838,3346.966242,$78.04,Swipe Transaction,107285.9132,Grand Junction,CO,7422.52091,6635.621548\\r\\n7476077.814,01-01-2010 00:01,763.4420239,3347.467062,$87.13,Online Transaction,107386.7374,ONLINE,,7339.391885,6637.499012\\r\\n7476078.98,01-01-2010 00:01,763.045464,3347.967882,$148.43,Swipe Transaction,107487.5616,Morristown,NJ,7256.26286,6639.376477\\r\\n7476080.145,01-01-2010 00:01,762.6489041,3348.468702,$48.16,Swipe Transaction,107588.3859,Vacaville,CA,7173.133835,6641.253942\\r\\n7476081.311,01-01-2010 00:01,762.2523442,3348.969522,$7.79,Swipe Transaction,107689.2101,Burlington,IA,7090.004809,6643.131406\\r\\n7476082.477,01-01-2010 00:01,761.8557843,3349.470342,$14.70,Online Transaction,107790.0343,ONLINE,,7006.875784,6645.008871\\r\\n7476083.642,01-01-2010 00:01,761.4592244,3349.971162,$3.100,Swipe Transaction,107890.8586,Manasquan,NJ,6923.746759,6646.886336\\r\\n7476084.808,01-01-2010 00:01,761.0626645,3350.471982,$12.71,Online Transaction,107991.6828,ONLINE,,6840.617734,6648.7638\\r\\n7476085.974,01-01-2010 00:01,760.6661045,3350.972803,$580.102,Swipe Transaction,108092.507,Thackerville,OK,6757.488709,6650.641265\\r\\n7476087.139,01-01-2010 00:01,760.2695446,3351.473623,$10.38,Swipe Transaction,108193.3313,Laurel,MT,6674.359684,6652.51873\\r\\n7476088.305,01-01-2010 00:01,759.8729847,3351.974443,$17.18,Swipe Transaction,108294.1555,Osprey,FL,6591.230659,6654.396194\\r\\n7476089.471,01-01-2010 00:01,759.4764248,3352.475263,$1.89,Swipe Transaction,108394.9797,Garden City,NY,6508.101633,6656.273659\\r\\n7476090.636,01-01-2010 00:01,759.0798649,3352.976083,$71.76,Swipe Transaction,108495.804,Grand Junction,CO,6424.972608,6658.151124\\r\\n7476091.802,01-01-2010 00:01,758.683305,3353.476903,$200.04,Swipe Transaction,108596.6282,Crown Point,IN,6341.843583,6660.028588\\r\\n7476092.967,01-01-2010 00:01,758.2867451,3353.977723,$-78.04,Swipe Transaction,108697.4524,Grand Junction,CO,6258.714558,6661.906053\\r\\n7476094.133,01-01-2010 00:01,757.8901851,3354.478543,$23.12,Swipe Transaction,108798.2767,Tacoma,WA,6175.585533,6663.783518\\r\\n7476095.299,01-01-2010 00:01,757.4936252,3354.979364,$40.04,Swipe Transaction,108899.1009,Pinetop,AZ,6092.456508,6665.660982\\r\\n7476096.464,01-01-2010 00:01,757.0970653,3355.480184,$2.47,Swipe Transaction,108999.9252,Ukiah,CA,6009.327482,6667.538447\\r\\n7476097.63,01-01-2010 00:01,756.7005054,3355.981004,$3.307,Swipe Transaction,109100.7494,Lexington,KY,5926.198457,6669.415911\\r\\n7476098.796,01-01-2010 00:01,756.3039455,3356.481824,$3.355,Swipe Transaction,109201.5736,Lake Charles,LA,5843.069432,6671.293376\\r\\n7476099.961,01-01-2010 00:01,755.9073856,3356.982644,$62.102,Online Transaction,109302.3979,ONLINE,,5759.940407,6673.170841\\r\\n7476101.127,01-01-2010 00:01,755.5108257,3357.483464,$34.38,Online Transaction,109403.2221,ONLINE,,5676.811382,6675.048305\\r\\n7476102.293,01-01-2010 00:01,755.1142657,3357.984284,$73.50,Swipe Transaction,109504.0463,Fontana,CA,5593.682357,6676.92577\\r\\n7476103.458,01-01-2010 00:01,754.7177058,3358.485104,$9.20,Swipe Transaction,109604.8706,Modesto,CA,5510.553332,6678.803235\\r\\n7476104.624,01-01-2010 00:01,754.3211459,3358.985925,$541.33,Swipe Transaction,109705.6948,Arlington Heights,IL,5427.424306,6680.680699\\r\\n7476105.79,01-01-2010 00:01,753.924586,3359.486745,$30.73,Swipe Transaction,109806.519,Newark,NJ,5344.295281,6682.558164\\r\\n7476106.955,01-01-2010 00:01,753.5280261,3359.987565,$177.45,Swipe Transaction,109907.3433,Muscle Shoals,AL,5261.166256,6684.435629\\r\\n7476108.121,01-01-2010 00:01,753.1314662,3360.488385,$14.24,Swipe Transaction,110008.1675,San Francisco,CA,5178.037231,6686.313093\\r\\n7476109.286,01-01-2010 00:01,752.7349063,3360.989205,$119.27,Online Transaction,110108.9917,ONLINE,,5094.908206,6688.190558\\r\\n7476110.452,01-01-2010 00:01,752.3383464,3361.490025,$10.65,Swipe Transaction,110209.816,Dublin,GA,5011.779181,6690.068023\\r\\n7476111.618,01-01-2010 00:01,751.9417864,3361.990845,$52.102,Online Transaction,110310.6402,ONLINE,,4928.650156,6691.945487\\r\\n7476112.783,01-01-2010 00:01,751.5452265,3362.491665,$3.39,Swipe Transaction,110411.4644,Manasquan,NJ,4845.52113,6693.822952\\r\\n7476113.949,01-01-2010 00:01,751.1486666,3362.992486,$39.09,Swipe Transaction,110512.2887,Cleveland,OH,4762.392105,6695.700417\\r\\n7476115.115,01-01-2010 00:01,750.7521067,3363.493306,$6.83,Swipe Transaction,110613.1129,Saint Louis,MO,4679.26308,6697.577881\\r\\n7476116.28,01-01-2010 00:01,750.3555468,3363.994126,$100.04,Swipe Transaction,110713.9372,Grand Rapids,MI,4596.134055,6699.455346\\r\\n7476117.446,01-01-2010 00:01,749.9589869,3364.494946,$196.26,Swipe Transaction,110814.7614,Middletown,NY,4513.00503,6701.332811\\r\\n7476118.612,01-01-2010 00:01,749.562427,3364.995766,$3.87,Swipe Transaction,110915.5856,Colwich,KS,4429.876005,6703.210275\\r\\n7476119.777,01-01-2010 00:01,749.165867,3365.496586,$1.91,Swipe Transaction,111016.4099,Gonzales,TX,4346.746979,6705.08774\\r\\n7476120.943,01-01-2010 00:01,748.7693071,3365.997406,$6.67,Swipe Transaction,111117.2341,Tacoma,WA,4263.617954,6706.965204\\r\\n7476122.109,01-01-2010 00:01,748.3727472,3366.498226,$8.34,Swipe Transaction,111218.0583,Canton,MA,4180.488929,6708.842669\\r\\n7476123.274,01-01-2010 00:01,747.9761873,3366.999047,$2.79,Swipe Transaction,111318.8826,Lexington,KY,4097.359904,6710.720134\\r\\n7476124.44,01-01-2010 00:01,747.5796274,3367.499867,$4.11,Swipe Transaction,111419.7068,Sacramento,CA,4014.230879,6712.597598\\r\\n7476125.605,01-01-2010 00:01,747.1830675,3368.000687,$2.35,Swipe Transaction,111520.531,Seligman,AZ,3931.101854,6714.475063\\r\\n7476126.771,01-01-2010 00:01,746.7865076,3368.501507,$0.25,Swipe Transaction,111621.3553,Menasha,WI,3847.972829,6716.352528\\r\\n7476127.937,01-01-2010 00:01,746.3899476,3369.002327,$396.07,Swipe Transaction,111722.1795,Thackerville,OK,3764.843803,6718.229992\\r\\n7476129.102,01-01-2010 00:01,745.9933877,3369.503147,$-460.04,Swipe Transaction,111823.0037,Middletown,NY,3681.714778,6720.107457\\r\\n7476130.268,01-01-2010 00:01,745.5968278,3370.003967,$91.06,Swipe Transaction,111923.828,Williston Park,NY,3598.585753,6721.984922\\r\\n7476131.434,01-01-2010 00:01,745.2002679,3370.504787,$3.72,Swipe Transaction,112024.6522,Cohasset,MA,3515.456728,6723.862386\\r\\n7476132.599,01-01-2010 00:01,744.803708,3371.005608,$38.15,Online Transaction,112125.4764,ONLINE,,3432.327703,6725.739851\\r\\n7476133.765,01-01-2010 00:01,744.4071481,3371.506428,$25.101,Swipe Transaction,112226.3007,Canton,MI,3349.198678,6727.617316\\r\\n7476134.931,01-01-2010 00:01,744.0105882,3372.007248,$66.09,Online Transaction,112327.1249,ONLINE,,3266.069652,6729.49478\\r\\n7476136.096,01-01-2010 00:01,743.6140283,3372.508068,$33.06,Swipe Transaction,112427.9491,Bullock,NC,3182.940627,6731.372245\\r\\n7476137.262,01-01-2010 00:01,743.2174683,3373.008888,$103.101,Swipe Transaction,112528.7734,Markesan,WI,3099.811602,6733.24971\\r\\n7476138.428,01-01-2010 00:01,742.8209084,3373.509708,$2.37,Swipe Transaction,112629.5976,Dallas,TX,3016.682577,6735.127174\\r\\n7476139.593,01-01-2010 00:01,742.4243485,3374.010528,$51.62,Online Transaction,112730.4219,ONLINE,,2933.553552,6737.004639\\r\\n7476140.759,01-01-2010 00:01,742.0277886,3374.511348,$57.47,Swipe Transaction,112831.2461,Grain Valley,MO,2850.424527,6738.882103\\r\\n7476141.924,01-01-2010 00:01,741.6312287,3375.012169,$2.91,Swipe Transaction,112932.0703,Ukiah,CA,2767.295502,6740.759568\\r\\n7476143.09,01-01-2010 00:01,741.2346688,3375.512989,$27.67,Swipe Transaction,113032.8946,Miami,FL,2684.166476,6742.637033\\r\\n7476144.256,01-01-2010 00:01,740.8381089,3376.013809,$76.80,Swipe Transaction,113133.7188,Waianae,HI,2601.037451,6744.514497\\r\\n7476145.421,01-01-2010 00:01,740.4415489,3376.514629,$9.14,Swipe Transaction,113234.543,Amherst,OH,2517.908426,6746.391962\\r\\n7476146.587,01-01-2010 00:01,740.044989,3377.015449,$0.79,Swipe Transaction,113335.3673,Burlingame,CA,2434.779401,6748.269427\\r\\n7476147.753,01-01-2010 00:01,739.6484291,3377.516269,$160.04,Swipe Transaction,113436.1915,Boulder Creek,CA,2351.650376,6750.146891\\r\\n7476148.918,01-01-2010 00:01,739.2518692,3378.017089,$28.25,Swipe Transaction,113537.0157,Chicago,IL,2268.521351,6752.024356\\r\\n7476150.084,01-01-2010 00:01,738.8553093,3378.517909,$44.90,Swipe Transaction,113637.84,Fayetteville,AR,2185.392325,6753.901821\\r\\n7476151.25,01-01-2010 00:01,738.4587494,3379.01873,$57.77,Swipe Transaction,113738.6642,Holly Springs,NC,2102.2633,6755.779285\\r\\n7476152.415,01-01-2010 00:01,738.0621895,3379.51955,$6.56,Swipe Transaction,113839.4884,Alhambra,CA,2019.134275,6757.65675\\r\\n7476153.581,01-01-2010 00:01,737.6656295,3380.02037,$4.08,Swipe Transaction,113940.3127,Saint Charles,IL,1936.00525,6759.534215\\r\\n7476154.747,01-01-2010 00:01,737.2690696,3380.52119,$3.97,Swipe Transaction,114041.1369,Woodbury,TN,1852.876225,6761.411679\\r\\n7476155.912,01-01-2010 00:01,736.8725097,3381.02201,$5.16,Swipe Transaction,114141.9611,Seligman,AZ,1769.7472,6763.289144\\r\\n7476157.078,01-01-2010 00:01,736.4759498,3381.52283,$19.19,Swipe Transaction,114242.7854,Terre Haute,IN,1686.618175,6765.166609\\r\\n7476158.243,01-01-2010 00:01,736.0793899,3382.02365,$58.89,Swipe Transaction,114343.6096,Big Bear Lake,CA,1603.489149,6767.044073\\r\\n7476159.409,01-01-2010 00:01,735.68283,3382.524471,$2.61,Swipe Transaction,114444.4338,Sutersville,PA,1520.360124,6768.921538\\r\\n7476160.575,01-01-2010 00:01,735.2862701,3383.025291,$2.59,Swipe Transaction,114545.2581,Albuquerque,NM,1437.231099,6770.799003\\r\\n7476161.74,01-01-2010 00:01,734.8897102,3383.526111,$115.41,Swipe Transaction,114646.0823,Williston Park,NY,1354.102074,6772.676467\\r\\n7476162.906,01-01-2010 00:01,734.4931502,3384.026931,$77.74,Swipe Transaction,114746.9066,Somerset,NJ,1270.973049,6774.553932\\r\\n7476164.072,01-01-2010 00:01,734.0965903,3384.527751,$120.91,Swipe Transaction,114847.7308,Huntington Station,NY,1187.844024,6776.431396\\r\\n7476165.237,01-01-2010 00:01,733.7000304,3385.028571,$23.90,Swipe Transaction,114948.555,Canton,MI,1104.714999,6778.308861\\r\\n7476166.403,01-01-2010 00:01,733.3034705,3385.529391,$11.22,Swipe Transaction,115049.3793,Sumter,SC,1021.585973,6780.186326\\r\\n7476167.569,01-01-2010 00:01,732.9069106,3386.030211,$-147.04,Swipe Transaction,115150.2035,Marysville,OH,938.4569482,6782.06379\\r\\n7476168.734,01-01-2010 00:01,732.5103507,3386.531032,$3.96,Swipe Transaction,115251.0277,Whites Creek,TN,855.327923,6783.941255\\r\\n7476169.9,01-01-2010 00:01,732.1137908,3387.031852,$27.33,Swipe Transaction,115351.852,Terre Haute,IN,772.1988979,6785.81872\\r\\n7476171.066,01-01-2010 00:01,731.7172308,3387.532672,$40.93,Online Transaction,115452.6762,ONLINE,,689.0698727,6787.696184\\r\\n7476172.231,01-01-2010 00:01,731.3206709,3388.033492,$14.25,Swipe Transaction,115553.5004,Marysville,OH,605.9408476,6789.573649\\r\\n7476173.397,01-01-2010 00:01,730.924111,3388.534312,$24.51,Swipe Transaction,115654.3247,Oak Park,MN,522.8118224,6791.451114\\r\\n7476174.562,01-01-2010 00:01,730.5275511,3389.035132,$29.64,Swipe Transaction,115755.1489,Fresno,CA,439.6827973,6793.328578\\r\\n7476175.728,01-01-2010 00:01,730.1309912,3389.535952,$22.81,Swipe Transaction,115855.9731,Lombard,IL,356.5537721,6795.206043\\r\\n7476176.894,01-01-2010 00:01,729.7344313,3390.036772,$58.51,Online Transaction,115956.7974,ONLINE,,273.424747,6797.083508\\r\\n7476178.059,01-01-2010 00:01,729.3378714,3390.537593,$37.13,Swipe Transaction,116057.6216,Lexington,KY,190.2957218,6798.960972\\r\\n7476179.225,01-01-2010 00:01,728.9413114,3391.038413,$11.48,Swipe Transaction,116158.4458,Garland,TX,107.1666967,6800.838437\\r\\n7476180.391,01-01-2010 00:01,728.5447515,3391.539233,$4.82,Swipe Transaction,116259.2701,New Rochelle,NY,24.03767152,6802.715902\\r\\n7476181.556,01-01-2010 00:01,728.1481916,3392.040053,$35.27,Swipe Transaction,116360.0943,Big Bear Lake,CA,-59.09135363,6804.593366\\r\\n7476182.722,01-01-2010 00:01,727.7516317,3392.540873,$102.31,Swipe Transaction,116460.9185,Pittsburgh,PA,-142.2203788,6806.470831\\r\\n7476183.888,01-01-2010 00:01,727.3550718,3393.041693,$3.62,Swipe Transaction,116561.7428,Waukegan,IL,-225.3494039,6808.348296\\r\\n7476185.053,01-01-2010 00:01,726.9585119,3393.542513,$14.40,Swipe Transaction,116662.567,Nazareth,PA,-308.4784291,6810.22576\\r\\n7476186.219,01-01-2010 00:01,726.561952,3394.043333,$176.48,Swipe Transaction,116763.3913,Lafayette,CO,-391.6074542,6812.103225\\r\\n7476187.385,01-01-2010 00:01,726.1653921,3394.544154,$120.04,Swipe Transaction,116864.2155,Belleville,IL,-474.7364794,6813.980689\\r\\n7476188.55,01-01-2010 00:01,725.7688321,3395.044974,$4.43,Swipe Transaction,116965.0397,New Rochelle,NY,-557.8655045,6815.858154\\r\\n7476189.716,01-01-2010 00:01,725.3722722,3395.545794,$6.76,Swipe Transaction,117065.864,Manhattan Beach,CA,-640.9945297,6817.735619\\r\\n7476190.881,01-01-2010 00:01,724.9757123,3396.046614,$13.83,Swipe Transaction,117166.6882,Campbell,TX,-724.1235548,6819.613083\\r\\n7476192.047,01-01-2010 00:01,724.5791524,3396.547434,$63.54,Swipe Transaction,117267.5124,Rockingham,NC,-807.25258,6821.490548\\r\\n7476193.213,01-01-2010 00:01,724.1825925,3397.048254,$59.48,Swipe Transaction,117368.3367,Withee,WI,-890.3816052,6823.368013\\r\\n7476194.378,01-01-2010 00:01,723.7860326,3397.549074,$15.93,Online Transaction,117469.1609,ONLINE,,-973.5106303,6825.245477\\r\\n7476195.544,01-01-2010 00:01,723.3894727,3398.049894,$96.67,Swipe Transaction,117569.9851,Ottumwa,IA,-1056.639655,6827.122942\\r\\n7476196.71,01-01-2010 00:01,722.9929127,3398.550715,$93.17,Swipe Transaction,117670.8094,Dallas,TX,-1139.768681,6829.000407\\r\\n7476197.875,01-01-2010 00:01,722.5963528,3399.051535,$31.54,Swipe Transaction,117771.6336,Eastman,GA,-1222.897706,6830.877871\\r\\n7476199.041,01-01-2010 00:01,722.1997929,3399.552355,$1.66,Swipe Transaction,117872.4578,Jasper,IN,-1306.026731,6832.755336\\r\\n7476200.207,01-01-2010 00:01,721.803233,3400.053175,$20.90,Online Transaction,117973.2821,ONLINE,,-1389.155756,6834.632801\\r\\n7476201.372,01-01-2010 00:01,721.4066731,3400.553995,$7.75,Online Transaction,118074.1063,ONLINE,,-1472.284781,6836.510265\\r\\n7476202.538,01-01-2010 00:01,721.0101132,3401.054815,$33.23,Swipe Transaction,118174.9305,Oak Park,MN,-1555.413806,6838.38773\\r\\n7476203.704,01-01-2010 00:01,720.6135533,3401.555635,$108.17,Swipe Transaction,118275.7548,Church Hill,TN,-1638.542832,6840.265195\\r\\n7476204.869,01-01-2010 00:01,720.2169934,3402.056455,$166.38,Online Transaction,118376.579,ONLINE,,-1721.671857,6842.142659\\r\\n7476206.035,01-01-2010 00:01,719.8204334,3402.557276,$14.54,Swipe Transaction,118477.4033,Jamaica,NY,-1804.800882,6844.020124\\r\\n7476207.2,01-01-2010 00:01,719.4238735,3403.058096,$3.40,Swipe Transaction,118578.2275,Slovan,PA,-1887.929907,6845.897588\\r\\n7476208.366,01-01-2010 00:01,719.0273136,3403.558916,$2.60,Swipe Transaction,118679.0517,Weatherford,TX,-1971.058932,6847.775053\\r\\n7476209.532,01-01-2010 00:01,718.6307537,3404.059736,$55.83,Swipe Transaction,118779.876,Brooklyn,NY,-2054.187957,6849.652518\\r\\n7476210.697,01-01-2010 00:01,718.2341938,3404.560556,$174.10,Swipe Transaction,118880.7002,North Little Rock,AR,-2137.316982,6851.529982\\r\\nid,date,client_id,card_id,amount,use_chip,merchant_id,merchant_city,merchant_state,zip,mcc\\r\\n7476211.863,01-01-2010 00:01,717.8376339,3405.061376,$-77.05,Swipe Transaction,118981.5244,Beulah,ND,-2220.446008,6853.407447\\r\\n7476213.029,01-01-2010 00:01,717.441074,3405.562196,$14.62,Swipe Transaction,119082.3487,Bettendorf,IA,-2303.575033,6855.284912\\r\\n7476214.194,01-01-2010 00:01,717.044514,3406.063016,$80.05,Swipe Transaction,119183.1729,Vista,CA,-2386.704058,6857.162376\\r\\n7476215.36,01-01-2010 00:01,716.6479541,3406.563837,$200.05,Swipe Transaction,119283.9971,Crown Point,IN,-2469.833083,6859.039841\\r\\n7476216.526,01-01-2010 00:01,716.2513942,3407.064657,$46.46,Swipe Transaction,119384.8214,Harwood,MD,-2552.962108,6860.917306\\r\\n7476217.691,01-01-2010 00:01,715.8548343,3407.565477,$4.86,Swipe Transaction,119485.6456,Bronx,NY,-2636.091133,6862.79477\\r\\n7476218.857,01-01-2010 00:01,715.4582744,3408.066297,$77.05,Swipe Transaction,119586.4698,Beulah,ND,-2719.220159,6864.672235\\r\\n7476220.023,01-01-2010 00:01,715.0617145,3408.567117,$26.51,Online Transaction,119687.2941,ONLINE,,-2802.349184,6866.5497\\r\\n7476221.188,01-01-2010 00:01,714.6651546,3409.067937,$261.63,Online Transaction,119788.1183,ONLINE,,-2885.478209,6868.427164\\r\\n7476222.354,01-01-2010 00:01,714.2685946,3409.568757,$10.79,Swipe Transaction,119888.9425,Flushing,NY,-2968.607234,6870.304629\\r\\n7476223.519,01-01-2010 00:01,713.8720347,3410.069577,$3.56,Swipe Transaction,119989.7668,Pearland,TX,-3051.736259,6872.182094\\r\\n7476224.685,01-01-2010 00:01,713.4754748,3410.570398,$2.63,Swipe Transaction,120090.591,Brooklyn,NY,-3134.865284,6874.059558\\r\\n7476225.851,01-01-2010 00:01,713.0789149,3411.071218,$39.68,Swipe Transaction,120191.4152,Beulah,ND,-3217.994309,6875.937023\\r\\n7476227.016,01-01-2010 00:01,712.682355,3411.572038,$43.38,Swipe Transaction,120292.2395,Kahului,HI,-3301.123335,6877.814488\\r\\n7476228.182,01-01-2010 00:01,712.2857951,3412.072858,$49.47,Swipe Transaction,120393.0637,North Hollywood,CA,-3384.25236,6879.691952\\r\\n7476229.348,01-01-2010 00:01,711.8892352,3412.573678,$1.14,Swipe Transaction,120493.888,San Benito,TX,-3467.381385,6881.569417\\r\\n7476230.513,01-01-2010 00:01,711.4926753,3413.074498,$73.84,Swipe Transaction,120594.7122,Erie,PA,-3550.51041,6883.446881\\r\\n7476231.679,01-01-2010 00:01,711.0961153,3413.575318,$100.05,Swipe Transaction,120695.5364,Vista,CA,-3633.639435,6885.324346\\r\\n7476232.845,01-01-2010 00:01,710.6995554,3414.076138,$26.09,Online Transaction,120796.3607,ONLINE,,-3716.76846,6887.201811\\r\\n7476234.01,01-01-2010 00:01,710.3029955,3414.576959,$-64.05,Swipe Transaction,120897.1849,North Hollywood,CA,-3799.897485,6889.079275\\r\\n7476235.176,01-01-2010 00:01,709.9064356,3415.077779,$54.32,Swipe Transaction,120998.0091,Cedar Park,TX,-3883.026511,6890.95674\\r\\n7476236.342,01-01-2010 00:01,709.5098757,3415.578599,$20.79,Swipe Transaction,121098.8334,Grand Forks,ND,-3966.155536,6892.834205\\r\\n7476237.507,01-01-2010 00:01,709.1133158,3416.079419,$64.05,Swipe Transaction,121199.6576,North Hollywood,CA,-4049.284561,6894.711669\\r\\n7476238.673,01-01-2010 00:01,708.7167559,3416.580239,$57.59,Swipe Transaction,121300.4818,Menasha,WI,-4132.413586,6896.589134\\r\\n7476239.838,01-01-2010 00:01,708.3201959,3417.081059,$10.22,Online Transaction,121401.3061,ONLINE,,-4215.542611,6898.466599\\r\\n7476241.004,01-01-2010 00:01,707.923636,3417.581879,$12.06,Swipe Transaction,121502.1303,Cordele,GA,-4298.671636,6900.344063\\r\\n7476242.17,01-01-2010 00:01,707.5270761,3418.082699,$16.91,Online Transaction,121602.9545,ONLINE,,-4381.800662,6902.221528\\r\\n7476243.335,01-01-2010 00:01,707.1305162,3418.58352,$4.69,Swipe Transaction,121703.7788,Mobile,AL,-4464.929687,6904.098993\\r\\n7476244.501,01-01-2010 00:01,706.7339563,3419.08434,$669.93,Swipe Transaction,121804.603,West Covina,CA,-4548.058712,6905.976457\\r\\n7476245.667,01-01-2010 00:01,706.3373964,3419.58516,$22.62,Online Transaction,121905.4272,ONLINE,,-4631.187737,6907.853922\\r\\n7476246.832,01-01-2010 00:01,705.9408365,3420.08598,$2.45,Swipe Transaction,122006.2515,East Hartford,CT,-4714.316762,6909.731387\\r\\n7476247.998,01-01-2010 00:01,705.5442765,3420.5868,$40.40,Swipe Transaction,122107.0757,Vacaville,CA,-4797.445787,6911.608851\\r\\n7476249.164,01-01-2010 00:01,705.1477166,3421.08762,$14.62,Swipe Transaction,122207.8999,Tacoma,WA,-4880.574812,6913.486316\\r\\n7476250.329,01-01-2010 00:01,704.7511567,3421.58844,$7.85,Swipe Transaction,122308.7242,Watsonville,CA,-4963.703838,6915.363781\\r\\n7476251.495,01-01-2010 00:01,704.3545968,3422.08926,$2.100,Swipe Transaction,122409.5484,Woburn,MA,-5046.832863,6917.241245\\r\\n7476252.661,01-01-2010 00:01,703.9580369,3422.590081,$270.27,Online Transaction,122510.3727,ONLINE,,-5129.961888,6919.11871\\r\\n7476253.826,01-01-2010 00:01,703.561477,3423.090901,$78.05,Swipe Transaction,122611.1969,Grand Junction,CO,-5213.090913,6920.996174\\r\\n7476254.992,01-01-2010 00:01,703.1649171,3423.591721,$87.14,Online Transaction,122712.0211,ONLINE,,-5296.219938,6922.873639\\r\\n7476256.157,01-01-2010 00:01,702.7683572,3424.092541,$148.44,Swipe Transaction,122812.8454,Morristown,NJ,-5379.348963,6924.751104\\r\\n7476257.323,01-01-2010 00:01,702.3717972,3424.593361,$48.17,Swipe Transaction,122913.6696,Vacaville,CA,-5462.477989,6926.628568\\r\\n7476258.489,01-01-2010 00:01,701.9752373,3425.094181,$7.80,Swipe Transaction,123014.4938,Burlington,IA,-5545.607014,6928.506033\\r\\n7476259.654,01-01-2010 00:01,701.5786774,3425.595001,$14.71,Online Transaction,123115.3181,ONLINE,,-5628.736039,6930.383498\\r\\n7476260.82,01-01-2010 00:01,701.1821175,3426.095821,$3.101,Swipe Transaction,123216.1423,Manasquan,NJ,-5711.865064,6932.260962\\r\\n7476261.986,01-01-2010 00:01,700.7855576,3426.596642,$12.72,Online Transaction,123316.9665,ONLINE,,-5794.994089,6934.138427\\r\\n7476263.151,01-01-2010 00:01,700.3889977,3427.097462,$580.103,Swipe Transaction,123417.7908,Thackerville,OK,-5878.123114,6936.015892\\r\\n7476264.317,01-01-2010 00:01,699.9924378,3427.598282,$10.39,Swipe Transaction,123518.615,Laurel,MT,-5961.252139,6937.893356\\r\\n7476265.483,01-01-2010 00:01,699.5958778,3428.099102,$17.19,Swipe Transaction,123619.4392,Osprey,FL,-6044.381165,6939.770821\\r\\n7476266.648,01-01-2010 00:01,699.1993179,3428.599922,$1.90,Swipe Transaction,123720.2635,Garden City,NY,-6127.51019,6941.648286\\r\\n7476267.814,01-01-2010 00:01,698.802758,3429.100742,$71.77,Swipe Transaction,123821.0877,Grand Junction,CO,-6210.639215,6943.52575\\r\\n7476268.98,01-01-2010 00:01,698.4061981,3429.601562,$200.05,Swipe Transaction,123921.9119,Crown Point,IN,-6293.76824,6945.403215\\r\\n7476270.145,01-01-2010 00:01,698.0096382,3430.102382,$-78.05,Swipe Transaction,124022.7362,Grand Junction,CO,-6376.897265,6947.28068\\r\\n7476271.311,01-01-2010 00:01,697.6130783,3430.603203,$23.13,Swipe Transaction,124123.5604,Tacoma,WA,-6460.02629,6949.158144\\r\\n7476272.476,01-01-2010 00:01,697.2165184,3431.104023,$40.05,Swipe Transaction,124224.3846,Pinetop,AZ,-6543.155316,6951.035609\\r\\n7476273.642,01-01-2010 00:01,696.8199584,3431.604843,$2.48,Swipe Transaction,124325.2089,Ukiah,CA,-6626.284341,6952.913073\\r\\n7476274.808,01-01-2010 00:01,696.4233985,3432.105663,$3.403,Swipe Transaction,124426.0331,Lexington,KY,-6709.413366,6954.790538\\r\\n7476275.973,01-01-2010 00:01,696.0268386,3432.606483,$3.451,Swipe Transaction,124526.8574,Lake Charles,LA,-6792.542391,6956.668003\\r\\n7476277.139,01-01-2010 00:01,695.6302787,3433.107303,$62.103,Online Transaction,124627.6816,ONLINE,,-6875.671416,6958.545467\\r\\n7476278.305,01-01-2010 00:01,695.2337188,3433.608123,$34.39,Online Transaction,124728.5058,ONLINE,,-6958.800441,6960.422932\\r\\n7476279.47,01-01-2010 00:01,694.8371589,3434.108943,$73.51,Swipe Transaction,124829.3301,Fontana,CA,-7041.929466,6962.300397\\r\\n7476280.636,01-01-2010 00:01,694.440599,3434.609764,$9.21,Swipe Transaction,124930.1543,Modesto,CA,-7125.058492,6964.177861\\r\\n7476281.802,01-01-2010 00:01,694.0440391,3435.110584,$541.34,Swipe Transaction,125030.9785,Arlington Heights,IL,-7208.187517,6966.055326\\r\\n7476282.967,01-01-2010 00:01,693.6474791,3435.611404,$30.74,Swipe Transaction,125131.8028,Newark,NJ,-7291.316542,6967.932791\\r\\n7476284.133,01-01-2010 00:01,693.2509192,3436.112224,$177.46,Swipe Transaction,125232.627,Muscle Shoals,AL,-7374.445567,6969.810255\\r\\n7476285.299,01-01-2010 00:01,692.8543593,3436.613044,$14.25,Swipe Transaction,125333.4512,San Francisco,CA,-7457.574592,6971.68772\\r\\n7476286.464,01-01-2010 00:01,692.4577994,3437.113864,$119.28,Online Transaction,125434.2755,ONLINE,,-7540.703617,6973.565185\\r\\n7476287.63,01-01-2010 00:01,692.0612395,3437.614684,$10.66,Swipe Transaction,125535.0997,Dublin,GA,-7623.832642,6975.442649\\r\\n7476288.795,01-01-2010 00:01,691.6646796,3438.115504,$52.103,Online Transaction,125635.9239,ONLINE,,-7706.961668,6977.320114\\r\\n7476289.961,01-01-2010 00:01,691.2681197,3438.616325,$3.40,Swipe Transaction,125736.7482,Manasquan,NJ,-7790.090693,6979.197579\\r\\n7476291.127,01-01-2010 00:01,690.8715597,3439.117145,$39.10,Swipe Transaction,125837.5724,Cleveland,OH,-7873.219718,6981.075043\\r\\n7476292.292,01-01-2010 00:01,690.4749998,3439.617965,$6.84,Swipe Transaction,125938.3966,Saint Louis,MO,-7956.348743,6982.952508\\r\\n7476293.458,01-01-2010 00:01,690.0784399,3440.118785,$100.05,Swipe Transaction,126039.2209,Grand Rapids,MI,-8039.477768,6984.829973\\r\\n7476294.624,01-01-2010 00:01,689.68188,3440.619605,$196.27,Swipe Transaction,126140.0451,Middletown,NY,-8122.606793,6986.707437\\r\\n7476295.789,01-01-2010 00:01,689.2853201,3441.120425,$3.88,Swipe Transaction,126240.8694,Colwich,KS,-8205.735819,6988.584902\\r\\n7476296.955,01-01-2010 00:01,688.8887602,3441.621245,$1.92,Swipe Transaction,126341.6936,Gonzales,TX,-8288.864844,6990.462366\\r\\n7476298.121,01-01-2010 00:01,688.4922003,3442.122065,$6.68,Swipe Transaction,126442.5178,Tacoma,WA,-8371.993869,6992.339831\\r\\n7476299.286,01-01-2010 00:01,688.0956403,3442.622886,$8.35,Swipe Transaction,126543.3421,Canton,MA,-8455.122894,6994.217296\\r\\n7476300.452,01-01-2010 00:01,687.6990804,3443.123706,$2.80,Swipe Transaction,126644.1663,Lexington,KY,-8538.251919,6996.09476\\r\\n7476301.618,01-01-2010 00:01,687.3025205,3443.624526,$4.12,Swipe Transaction,126744.9905,Sacramento,CA,-8621.380944,6997.972225\\r\\n7476302.783,01-01-2010 00:01,686.9059606,3444.125346,$2.36,Swipe Transaction,126845.8148,Seligman,AZ,-8704.509969,6999.84969\\r\\n7476303.949,01-01-2010 00:01,686.5094007,3444.626166,$0.26,Swipe Transaction,126946.639,Menasha,WI,-8787.638995,7001.727154\\r\\n7476305.115,01-01-2010 00:01,686.1128408,3445.126986,$396.08,Swipe Transaction,127047.4632,Thackerville,OK,-8870.76802,7003.604619\\r\\n7476306.28,01-01-2010 00:01,685.7162809,3445.627806,$-460.05,Swipe Transaction,127148.2875,Middletown,NY,-8953.897045,7005.482084\\r\\n7476307.446,01-01-2010 00:01,685.319721,3446.128626,$91.07,Swipe Transaction,127249.1117,Williston Park,NY,-9037.02607,7007.359548\\r\\n7476308.611,01-01-2010 00:01,684.923161,3446.629447,$3.73,Swipe Transaction,127349.9359,Cohasset,MA,-9120.155095,7009.237013\\r\\n7476309.777,01-01-2010 00:01,684.5266011,3447.130267,$38.16,Online Transaction,127450.7602,ONLINE,,-9203.28412,7011.114478\\r\\n7476310.943,01-01-2010 00:01,684.1300412,3447.631087,$25.102,Swipe Transaction,127551.5844,Canton,MI,-9286.413146,7012.991942\\r\\n7476312.108,01-01-2010 00:01,683.7334813,3448.131907,$66.10,Online Transaction,127652.4086,ONLINE,,-9369.542171,7014.869407\\r\\n7476313.274,01-01-2010 00:01,683.3369214,3448.632727,$33.07,Swipe Transaction,127753.2329,Bullock,NC,-9452.671196,7016.746872\\r\\n7476314.44,01-01-2010 00:01,682.9403615,3449.133547,$103.102,Swipe Transaction,127854.0571,Markesan,WI,-9535.800221,7018.624336\\r\\n7476315.605,01-01-2010 00:01,682.5438016,3449.634367,$2.38,Swipe Transaction,127954.8813,Dallas,TX,-9618.929246,7020.501801\\r\\n7476316.771,01-01-2010 00:01,682.1472416,3450.135188,$51.63,Online Transaction,128055.7056,ONLINE,,-9702.058271,7022.379266\\r\\n7476317.937,01-01-2010 00:01,681.7506817,3450.636008,$57.48,Swipe Transaction,128156.5298,Grain Valley,MO,-9785.187296,7024.25673\\r\\n7476319.102,01-01-2010 00:01,681.3541218,3451.136828,$2.92,Swipe Transaction,128257.3541,Ukiah,CA,-9868.316322,7026.134195\\r\\n7476320.268,01-01-2010 00:01,680.9575619,3451.637648,$27.68,Swipe Transaction,128358.1783,Miami,FL,-9951.445347,7028.011659\\r\\n7476321.434,01-01-2010 00:01,680.561002,3452.138468,$76.81,Swipe Transaction,128459.0025,Waianae,HI,-10034.57437,7029.889124\\r\\n7476322.599,01-01-2010 00:01,680.1644421,3452.639288,$9.15,Swipe Transaction,128559.8268,Amherst,OH,-10117.7034,7031.766589\\r\\n7476323.765,01-01-2010 00:01,679.7678822,3453.140108,$0.80,Swipe Transaction,128660.651,Burlingame,CA,-10200.83242,7033.644053\\r\\n7476324.93,01-01-2010 00:01,679.3713222,3453.640928,$160.05,Swipe Transaction,128761.4752,Boulder Creek,CA,-10283.96145,7035.521518\\r\\n7476326.096,01-01-2010 00:01,678.9747623,3454.141749,$28.26,Swipe Transaction,128862.2995,Chicago,IL,-10367.09047,7037.398983\\r\\n7476327.262,01-01-2010 00:01,678.5782024,3454.642569,$44.91,Swipe Transaction,128963.1237,Fayetteville,AR,-10450.2195,7039.276447\\r\\n7476328.427,01-01-2010 00:01,678.1816425,3455.143389,$57.78,Swipe Transaction,129063.9479,Holly Springs,NC,-10533.34852,7041.153912\\r\\n7476329.593,01-01-2010 00:01,677.7850826,3455.644209,$6.57,Swipe Transaction,129164.7722,Alhambra,CA,-10616.47755,7043.031377\\r\\n7476330.759,01-01-2010 00:01,677.3885227,3456.145029,$4.09,Swipe Transaction,129265.5964,Saint Charles,IL,-10699.60657,7044.908841\\r\\n7476331.924,01-01-2010 00:01,676.9919628,3456.645849,$3.98,Swipe Transaction,129366.4206,Woodbury,TN,-10782.7356,7046.786306\\r\\n7476333.09,01-01-2010 00:01,676.5954029,3457.146669,$5.17,Swipe Transaction,129467.2449,Seligman,AZ,-10865.86462,7048.663771\\r\\n7476334.256,01-01-2010 00:01,676.1988429,3457.647489,$19.20,Swipe Transaction,129568.0691,Terre Haute,IN,-10948.99365,7050.541235\\r\\n7476335.421,01-01-2010 00:01,675.802283,3458.14831,$58.90,Swipe Transaction,129668.8933,Big Bear Lake,CA,-11032.12267,7052.4187\\r\\n7476336.587,01-01-2010 00:01,675.4057231,3458.64913,$2.57,Swipe Transaction,129769.7176,Sutersville,PA,-11115.2517,7054.296165\\r\\n7476337.753,01-01-2010 00:01,675.0091632,3459.14995,$2.55,Swipe Transaction,129870.5418,Albuquerque,NM,-11198.38072,7056.173629\\r\\n7476338.918,01-01-2010 00:01,674.6126033,3459.65077,$115.42,Swipe Transaction,129971.366,Williston Park,NY,-11281.50975,7058.051094\\r\\n7476340.084,01-01-2010 00:01,674.2160434,3460.15159,$77.75,Swipe Transaction,130072.1903,Somerset,NJ,-11364.63877,7059.928558\\r\\n7476341.249,01-01-2010 00:01,673.8194835,3460.65241,$120.92,Swipe Transaction,130173.0145,Huntington Station,NY,-11447.7678,7061.806023\\r\\n7476342.415,01-01-2010 00:01,673.4229235,3461.15323,$23.91,Swipe Transaction,130273.8388,Canton,MI,-11530.89682,7063.683488\\r\\n7476343.581,01-01-2010 00:01,673.0263636,3461.65405,$11.23,Swipe Transaction,130374.663,Sumter,SC,-11614.02585,7065.560952\\r\\n7476344.746,01-01-2010 00:01,672.6298037,3462.154871,$-147.05,Swipe Transaction,130475.4872,Marysville,OH,-11697.15487,7067.438417\\r\\n7476345.912,01-01-2010 00:01,672.2332438,3462.655691,$3.97,Swipe Transaction,130576.3115,Whites Creek,TN,-11780.2839,7069.315882\\r\\n7476347.078,01-01-2010 00:01,671.8366839,3463.156511,$27.34,Swipe Transaction,130677.1357,Terre Haute,IN,-11863.41293,7071.193346\\r\\n7476348.243,01-01-2010 00:01,671.440124,3463.657331,$40.94,Online Transaction,130777.9599,ONLINE,,-11946.54195,7073.070811\\r\\n7476349.409,01-01-2010 00:01,671.0435641,3464.158151,$14.26,Swipe Transaction,130878.7842,Marysville,OH,-12029.67098,7074.948276\\r\\n7476350.575,01-01-2010 00:01,670.6470041,3464.658971,$24.52,Swipe Transaction,130979.6084,Oak Park,MN,-12112.8,7076.82574\\r\\n7476351.74,01-01-2010 00:01,670.2504442,3465.159791,$29.65,Swipe Transaction,131080.4326,Fresno,CA,-12195.92903,7078.703205\\r\\n7476352.906,01-01-2010 00:01,669.8538843,3465.660611,$22.82,Swipe Transaction,131181.2569,Lombard,IL,-12279.05805,7080.58067\\r\\n7476354.072,01-01-2010 00:01,669.4573244,3466.161432,$58.52,Online Transaction,131282.0811,ONLINE,,-12362.18708,7082.458134\\r\\n7476355.237,01-01-2010 00:01,669.0607645,3466.662252,$37.14,Swipe Transaction,131382.9053,Lexington,KY,-12445.3161,7084.335599\\r\\n7476356.403,01-01-2010 00:01,668.6642046,3467.163072,$11.49,Swipe Transaction,131483.7296,Garland,TX,-12528.44513,7086.213064\\r\\n7476357.568,01-01-2010 00:01,668.2676447,3467.663892,$4.83,Swipe Transaction,131584.5538,New Rochelle,NY,-12611.57415,7088.090528\\r\\n7476358.734,01-01-2010 00:01,667.8710848,3468.164712,$35.28,Swipe Transaction,131685.378,Big Bear Lake,CA,-12694.70318,7089.967993\\r\\n7476359.9,01-01-2010 00:01,667.4745248,3468.665532,$102.32,Swipe Transaction,131786.2023,Pittsburgh,PA,-12777.8322,7091.845458\\r\\n7476361.065,01-01-2010 00:01,667.0779649,3469.166352,$3.63,Swipe Transaction,131887.0265,Waukegan,IL,-12860.96123,7093.722922\\r\\n7476362.231,01-01-2010 00:01,666.681405,3469.667172,$14.41,Swipe Transaction,131987.8507,Nazareth,PA,-12944.09025,7095.600387\\r\\n7476363.397,01-01-2010 00:01,666.2848451,3470.167993,$176.49,Swipe Transaction,132088.675,Lafayette,CO,-13027.21928,7097.477851\\r\\n7476364.562,01-01-2010 00:01,665.8882852,3470.668813,$120.05,Swipe Transaction,132189.4992,Belleville,IL,-13110.3483,7099.355316\\r\\n7476365.728,01-01-2010 00:01,665.4917253,3471.169633,$4.44,Swipe Transaction,132290.3235,New Rochelle,NY,-13193.47733,7101.232781\\r\\n7476366.894,01-01-2010 00:01,665.0951654,3471.670453,$6.77,Swipe Transaction,132391.1477,Manhattan Beach,CA,-13276.60635,7103.110245\\r\\n7476368.059,01-01-2010 00:01,664.6986054,3472.171273,$13.84,Swipe Transaction,132491.9719,Campbell,TX,-13359.73538,7104.98771\\r\\n7476369.225,01-01-2010 00:01,664.3020455,3472.672093,$63.55,Swipe Transaction,132592.7962,Rockingham,NC,-13442.8644,7106.865175\\r\\n7476370.391,01-01-2010 00:01,663.9054856,3473.172913,$59.49,Swipe Transaction,132693.6204,Withee,WI,-13525.99343,7108.742639\\r\\n7476371.556,01-01-2010 00:01,663.5089257,3473.673733,$15.94,Online Transaction,132794.4446,ONLINE,,-13609.12245,7110.620104\\r\\n7476372.722,01-01-2010 00:01,663.1123658,3474.174554,$96.68,Swipe Transaction,132895.2689,Ottumwa,IA,-13692.25148,7112.497569\\r\\n7476373.887,01-01-2010 00:01,662.7158059,3474.675374,$93.18,Swipe Transaction,132996.0931,Dallas,TX,-13775.3805,7114.375033\\r\\n7476375.053,01-01-2010 00:01,662.319246,3475.176194,$31.55,Swipe Transaction,133096.9173,Eastman,GA,-13858.50953,7116.252498\\r\\n7476376.219,01-01-2010 00:01,661.922686,3475.677014,$1.67,Swipe Transaction,133197.7416,Jasper,IN,-13941.63855,7118.129963\\r\\n7476377.384,01-01-2010 00:01,661.5261261,3476.177834,$20.91,Online Transaction,133298.5658,ONLINE,,-14024.76758,7120.007427\\r\\n7476378.55,01-01-2010 00:01,661.1295662,3476.678654,$7.76,Online Transaction,133399.39,ONLINE,,-14107.8966,7121.884892\\r\\n7476379.716,01-01-2010 00:01,660.7330063,3477.179474,$33.24,Swipe Transaction,133500.2143,Oak Park,MN,-14191.02563,7123.762357\\r\\n7476380.881,01-01-2010 00:01,660.3364464,3477.680294,$108.18,Swipe Transaction,133601.0385,Church Hill,TN,-14274.15465,7125.639821\\r\\n7476382.047,01-01-2010 00:01,659.9398865,3478.181115,$166.39,Online Transaction,133701.8627,ONLINE,,-14357.28368,7127.517286\\r\\n7476383.213,01-01-2010 00:01,659.5433266,3478.681935,$14.55,Swipe Transaction,133802.687,Jamaica,NY,-14440.4127,7129.394751\\r\\n7476384.378,01-01-2010 00:01,659.1467667,3479.182755,$3.41,Swipe Transaction,133903.5112,Slovan,PA,-14523.54173,7131.272215\\r\\n7476385.544,01-01-2010 00:01,658.7502067,3479.683575,$2.61,Swipe Transaction,134004.3355,Weatherford,TX,-14606.67076,7133.14968\\r\\n7476386.71,01-01-2010 00:01,658.3536468,3480.184395,$55.84,Swipe Transaction,134105.1597,Brooklyn,NY,-14689.79978,7135.027144\\r\\n7476387.875,01-01-2010 00:01,657.9570869,3480.685215,$174.11,Swipe Transaction,134205.9839,North Little Rock,AR,-14772.92881,7136.904609\\r\\nid,date,client_id,card_id,amount,use_chip,merchant_id,merchant_city,merchant_state,zip,mcc\\r\\n7476389.041,01-01-2010 00:01,657.560527,3481.186035,$-77.06,Swipe Transaction,134306.8082,Beulah,ND,-14856.05783,7138.782074\\r\\n7476390.206,01-01-2010 00:01,657.1639671,3481.686855,$14.63,Swipe Transaction,134407.6324,Bettendorf,IA,-14939.18686,7140.659538\\r\\n7476391.372,01-01-2010 00:01,656.7674072,3482.187676,$80.06,Swipe Transaction,134508.4566,Vista,CA,-15022.31588,7142.537003\\r\\n7476392.538,01-01-2010 00:01,656.3708473,3482.688496,$200.06,Swipe Transaction,134609.2809,Crown Point,IN,-15105.44491,7144.414468\\r\\n7476393.703,01-01-2010 00:01,655.9742873,3483.189316,$46.47,Swipe Transaction,134710.1051,Harwood,MD,-15188.57393,7146.291932\\r\\n7476394.869,01-01-2010 00:01,655.5777274,3483.690136,$4.87,Swipe Transaction,134810.9293,Bronx,NY,-15271.70296,7148.169397\\r\\n7476396.035,01-01-2010 00:01,655.1811675,3484.190956,$77.06,Swipe Transaction,134911.7536,Beulah,ND,-15354.83198,7150.046862\\r\\n7476397.2,01-01-2010 00:01,654.7846076,3484.691776,$26.52,Online Transaction,135012.5778,ONLINE,,-15437.96101,7151.924326\\r\\n7476398.366,01-01-2010 00:01,654.3880477,3485.192596,$261.64,Online Transaction,135113.402,ONLINE,,-15521.09003,7153.801791\\r\\n7476399.532,01-01-2010 00:01,653.9914878,3485.693416,$10.80,Swipe Transaction,135214.2263,Flushing,NY,-15604.21906,7155.679256\\r\\n7476400.697,01-01-2010 00:01,653.5949279,3486.194237,$3.57,Swipe Transaction,135315.0505,Pearland,TX,-15687.34808,7157.55672\\r\\n7476401.863,01-01-2010 00:01,653.1983679,3486.695057,$2.64,Swipe Transaction,135415.8747,Brooklyn,NY,-15770.47711,7159.434185\\r\\n7476403.029,01-01-2010 00:01,652.801808,3487.195877,$39.69,Swipe Transaction,135516.699,Beulah,ND,-15853.60613,7161.31165\\r\\n7476404.194,01-01-2010 00:01,652.4052481,3487.696697,$43.39,Swipe Transaction,135617.5232,Kahului,HI,-15936.73516,7163.189114\\r\\n7476405.36,01-01-2010 00:01,652.0086882,3488.197517,$49.48,Swipe Transaction,135718.3474,North Hollywood,CA,-16019.86418,7165.066579\\r\\n7476406.525,01-01-2010 00:01,651.6121283,3488.698337,$1.15,Swipe Transaction,135819.1717,San Benito,TX,-16102.99321,7166.944043\\r\\n7476407.691,01-01-2010 00:01,651.2155684,3489.199157,$73.85,Swipe Transaction,135919.9959,Erie,PA,-16186.12223,7168.821508\\r\\n7476408.857,01-01-2010 00:01,650.8190085,3489.699977,$100.06,Swipe Transaction,136020.8202,Vista,CA,-16269.25126,7170.698973\\r\\n7476410.022,01-01-2010 00:01,650.4224486,3490.200798,$26.10,Online Transaction,136121.6444,ONLINE,,-16352.38028,7172.576437\\r\\n7476411.188,01-01-2010 00:01,650.0258886,3490.701618,$-64.06,Swipe Transaction,136222.4686,North Hollywood,CA,-16435.50931,7174.453902\\r\\n7476412.354,01-01-2010 00:01,649.6293287,3491.202438,$54.33,Swipe Transaction,136323.2929,Cedar Park,TX,-16518.63833,7176.331367\\r\\n7476413.519,01-01-2010 00:01,649.2327688,3491.703258,$20.80,Swipe Transaction,136424.1171,Grand Forks,ND,-16601.76736,7178.208831\\r\\n7476414.685,01-01-2010 00:01,648.8362089,3492.204078,$64.06,Swipe Transaction,136524.9413,North Hollywood,CA,-16684.89638,7180.086296\\r\\n7476415.851,01-01-2010 00:01,648.439649,3492.704898,$57.60,Swipe Transaction,136625.7656,Menasha,WI,-16768.02541,7181.963761\\r\\n7476417.016,01-01-2010 00:01,648.0430891,3493.205718,$10.23,Online Transaction,136726.5898,ONLINE,,-16851.15443,7183.841225\\r\\n7476418.182,01-01-2010 00:01,647.6465292,3493.706538,$12.07,Swipe Transaction,136827.414,Cordele,GA,-16934.28346,7185.71869\\r\\n7476419.348,01-01-2010 00:01,647.2499692,3494.207359,$16.92,Online Transaction,136928.2383,ONLINE,,-17017.41248,7187.596155\\r\\n7476420.513,01-01-2010 00:01,646.8534093,3494.708179,$4.70,Swipe Transaction,137029.0625,Mobile,AL,-17100.54151,7189.473619\\r\\n7476421.679,01-01-2010 00:01,646.4568494,3495.208999,$669.94,Swipe Transaction,137129.8867,West Covina,CA,-17183.67054,7191.351084\\r\\n7476422.844,01-01-2010 00:01,646.0602895,3495.709819,$22.63,Online Transaction,137230.711,ONLINE,,-17266.79956,7193.228549\\r\\n7476424.01,01-01-2010 00:01,645.6637296,3496.210639,$2.46,Swipe Transaction,137331.5352,East Hartford,CT,-17349.92859,7195.106013\\r\\n7476425.176,01-01-2010 00:01,645.2671697,3496.711459,$40.41,Swipe Transaction,137432.3594,Vacaville,CA,-17433.05761,7196.983478\\r\\n7476426.341,01-01-2010 00:01,644.8706098,3497.212279,$14.63,Swipe Transaction,137533.1837,Tacoma,WA,-17516.18664,7198.860943\\r\\n7476427.507,01-01-2010 00:01,644.4740498,3497.713099,$7.86,Swipe Transaction,137634.0079,Watsonville,CA,-17599.31566,7200.738407\\r\\n7476428.673,01-01-2010 00:01,644.0774899,3498.21392,$2.101,Swipe Transaction,137734.8321,Woburn,MA,-17682.44469,7202.615872\\r\\n7476429.838,01-01-2010 00:01,643.68093,3498.71474,$270.28,Online Transaction,137835.6564,ONLINE,,-17765.57371,7204.493336\\r\\n7476431.004,01-01-2010 00:01,643.2843701,3499.21556,$78.06,Swipe Transaction,137936.4806,Grand Junction,CO,-17848.70274,7206.370801\\r\\n7476432.17,01-01-2010 00:01,642.8878102,3499.71638,$87.15,Online Transaction,138037.3049,ONLINE,,-17931.83176,7208.248266\\r\\n7476433.335,01-01-2010 00:01,642.4912503,3500.2172,$148.45,Swipe Transaction,138138.1291,Morristown,NJ,-18014.96079,7210.12573\\r\\n7476434.501,01-01-2010 00:01,642.0946904,3500.71802,$48.18,Swipe Transaction,138238.9533,Vacaville,CA,-18098.08981,7212.003195\\r\\n7476435.667,01-01-2010 00:01,641.6981305,3501.21884,$7.81,Swipe Transaction,138339.7776,Burlington,IA,-18181.21884,7213.88066\\r\\n7476436.832,01-01-2010 00:01,641.3015705,3501.71966,$14.72,Online Transaction,138440.6018,ONLINE,,-18264.34786,7215.758124\\r\\n7476437.998,01-01-2010 00:01,640.9050106,3502.220481,$3.102,Swipe Transaction,138541.426,Manasquan,NJ,-18347.47689,7217.635589\\r\\n7476439.163,01-01-2010 00:01,640.5084507,3502.721301,$12.73,Online Transaction,138642.2503,ONLINE,,-18430.60591,7219.513054\\r\\n7476440.329,01-01-2010 00:01,640.1118908,3503.222121,$580.104,Swipe Transaction,138743.0745,Thackerville,OK,-18513.73494,7221.390518\\r\\n7476441.495,01-01-2010 00:01,639.7153309,3503.722941,$10.40,Swipe Transaction,138843.8987,Laurel,MT,-18596.86396,7223.267983\\r\\n7476442.66,01-01-2010 00:01,639.318771,3504.223761,$17.20,Swipe Transaction,138944.723,Osprey,FL,-18679.99299,7225.145448\\r\\n7476443.826,01-01-2010 00:01,638.9222111,3504.724581,$1.91,Swipe Transaction,139045.5472,Garden City,NY,-18763.12201,7227.022912\\r\\n7476444.992,01-01-2010 00:01,638.5256511,3505.225401,$71.78,Swipe Transaction,139146.3714,Grand Junction,CO,-18846.25104,7228.900377\\r\\n7476446.157,01-01-2010 00:01,638.1290912,3505.726221,$200.06,Swipe Transaction,139247.1957,Crown Point,IN,-18929.38006,7230.777842\\r\\n7476447.323,01-01-2010 00:01,637.7325313,3506.227042,$-78.06,Swipe Transaction,139348.0199,Grand Junction,CO,-19012.50909,7232.655306\\r\\n7476448.489,01-01-2010 00:01,637.3359714,3506.727862,$23.14,Swipe Transaction,139448.8441,Tacoma,WA,-19095.63811,7234.532771\\r\\n7476449.654,01-01-2010 00:01,636.9394115,3507.228682,$40.06,Swipe Transaction,139549.6684,Pinetop,AZ,-19178.76714,7236.410236\\r\\n7476450.82,01-01-2010 00:01,636.5428516,3507.729502,$2.49,Swipe Transaction,139650.4926,Ukiah,CA,-19261.89616,7238.2877\\r\\n7476451.986,01-01-2010 00:01,636.1462917,3508.230322,$3.499,Swipe Transaction,139751.3168,Lexington,KY,-19345.02519,7240.165165\\r\\n7476453.151,01-01-2010 00:01,635.7497318,3508.731142,$3.547,Swipe Transaction,139852.1411,Lake Charles,LA,-19428.15421,7242.042629\\r\\n7476454.317,01-01-2010 00:01,635.3531718,3509.231962,$62.104,Online Transaction,139952.9653,ONLINE,,-19511.28324,7243.920094\\r\\n7476455.482,01-01-2010 00:01,634.9566119,3509.732782,$34.40,Online Transaction,140053.7896,ONLINE,,-19594.41226,7245.797559\\r\\n7476456.648,01-01-2010 00:01,634.560052,3510.233603,$73.52,Swipe Transaction,140154.6138,Fontana,CA,-19677.54129,7247.675023\\r\\n7476457.814,01-01-2010 00:01,634.1634921,3510.734423,$9.22,Swipe Transaction,140255.438,Modesto,CA,-19760.67031,7249.552488\\r\\n7476458.979,01-01-2010 00:01,633.7669322,3511.235243,$541.35,Swipe Transaction,140356.2623,Arlington Heights,IL,-19843.79934,7251.429953\\r\\n7476460.145,01-01-2010 00:01,633.3703723,3511.736063,$30.75,Swipe Transaction,140457.0865,Newark,NJ,-19926.92837,7253.307417\\r\\n7476461.311,01-01-2010 00:01,632.9738124,3512.236883,$177.47,Swipe Transaction,140557.9107,Muscle Shoals,AL,-20010.05739,7255.184882\\r\\n7476462.476,01-01-2010 00:01,632.5772524,3512.737703,$14.26,Swipe Transaction,140658.735,San Francisco,CA,-20093.18642,7257.062347\\r\\n7476463.642,01-01-2010 00:01,632.1806925,3513.238523,$119.29,Online Transaction,140759.5592,ONLINE,,-20176.31544,7258.939811\\r\\n7476464.808,01-01-2010 00:01,631.7841326,3513.739343,$10.67,Swipe Transaction,140860.3834,Dublin,GA,-20259.44447,7260.817276\\r\\n7476465.973,01-01-2010 00:01,631.3875727,3514.240164,$52.104,Online Transaction,140961.2077,ONLINE,,-20342.57349,7262.694741\\r\\n7476467.139,01-01-2010 00:01,630.9910128,3514.740984,$3.41,Swipe Transaction,141062.0319,Manasquan,NJ,-20425.70252,7264.572205\\r\\n7476468.305,01-01-2010 00:01,630.5944529,3515.241804,$39.11,Swipe Transaction,141162.8561,Cleveland,OH,-20508.83154,7266.44967\\r\\n7476469.47,01-01-2010 00:01,630.197893,3515.742624,$6.85,Swipe Transaction,141263.6804,Saint Louis,MO,-20591.96057,7268.327135\\r\\n7476470.636,01-01-2010 00:01,629.801333,3516.243444,$100.06,Swipe Transaction,141364.5046,Grand Rapids,MI,-20675.08959,7270.204599\\r\\n7476471.801,01-01-2010 00:01,629.4047731,3516.744264,$196.28,Swipe Transaction,141465.3288,Middletown,NY,-20758.21862,7272.082064\\r\\n7476472.967,01-01-2010 00:01,629.0082132,3517.245084,$3.89,Swipe Transaction,141566.1531,Colwich,KS,-20841.34764,7273.959528\\r\\n7476474.133,01-01-2010 00:01,628.6116533,3517.745904,$1.93,Swipe Transaction,141666.9773,Gonzales,TX,-20924.47667,7275.836993\\r\\n7476475.298,01-01-2010 00:01,628.2150934,3518.246725,$6.69,Swipe Transaction,141767.8016,Tacoma,WA,-21007.60569,7277.714458\\r\\n7476476.464,01-01-2010 00:01,627.8185335,3518.747545,$8.36,Swipe Transaction,141868.6258,Canton,MA,-21090.73472,7279.591922\\r\\n7476477.63,01-01-2010 00:01,627.4219736,3519.248365,$2.81,Swipe Transaction,141969.45,Lexington,KY,-21173.86374,7281.469387\\r\\n7476478.795,01-01-2010 00:01,627.0254137,3519.749185,$4.13,Swipe Transaction,142070.2743,Sacramento,CA,-21256.99277,7283.346852\\r\\n7476479.961,01-01-2010 00:01,626.6288537,3520.250005,$2.37,Swipe Transaction,142171.0985,Seligman,AZ,-21340.12179,7285.224316\\r\\n7476481.127,01-01-2010 00:01,626.2322938,3520.750825,$0.27,Swipe Transaction,142271.9227,Menasha,WI,-21423.25082,7287.101781\\r\\n7476482.292,01-01-2010 00:01,625.8357339,3521.251645,$396.09,Swipe Transaction,142372.747,Thackerville,OK,-21506.37984,7288.979246\\r\\n7476483.458,01-01-2010 00:01,625.439174,3521.752466,$-460.06,Swipe Transaction,142473.5712,Middletown,NY,-21589.50887,7290.85671\\r\\n7476484.624,01-01-2010 00:01,625.0426141,3522.253286,$91.08,Swipe Transaction,142574.3954,Williston Park,NY,-21672.63789,7292.734175\\r\\n7476485.789,01-01-2010 00:01,624.6460542,3522.754106,$3.74,Swipe Transaction,142675.2197,Cohasset,MA,-21755.76692,7294.61164\\r\\n7476486.955,01-01-2010 00:01,624.2494943,3523.254926,$38.17,Online Transaction,142776.0439,ONLINE,,-21838.89594,7296.489104\\r\\n7476488.12,01-01-2010 00:01,623.8529343,3523.755746,$25.103,Swipe Transaction,142876.8681,Canton,MI,-21922.02497,7298.366569\\r\\n7476489.286,01-01-2010 00:01,623.4563744,3524.256566,$66.11,Online Transaction,142977.6924,ONLINE,,-22005.15399,7300.244034\\r\\n7476490.452,01-01-2010 00:01,623.0598145,3524.757386,$33.08,Swipe Transaction,143078.5166,Bullock,NC,-22088.28302,7302.121498\\r\\n7476491.617,01-01-2010 00:01,622.6632546,3525.258206,$103.103,Swipe Transaction,143179.3408,Markesan,WI,-22171.41204,7303.998963\\r\\n7476492.783,01-01-2010 00:01,622.2666947,3525.759027,$2.39,Swipe Transaction,143280.1651,Dallas,TX,-22254.54107,7305.876428\\r\\n7476493.949,01-01-2010 00:01,621.8701348,3526.259847,$51.64,Online Transaction,143380.9893,ONLINE,,-22337.67009,7307.753892\\r\\n7476495.114,01-01-2010 00:01,621.4735749,3526.760667,$57.49,Swipe Transaction,143481.8135,Grain Valley,MO,-22420.79912,7309.631357\\r\\n7476496.28,01-01-2010 00:01,621.0770149,3527.261487,$2.93,Swipe Transaction,143582.6378,Ukiah,CA,-22503.92814,7311.508821\\r\\n7476497.446,01-01-2010 00:01,620.680455,3527.762307,$27.69,Swipe Transaction,143683.462,Miami,FL,-22587.05717,7313.386286\\r\\n7476498.611,01-01-2010 00:01,620.2838951,3528.263127,$76.82,Swipe Transaction,143784.2863,Waianae,HI,-22670.1862,7315.263751\\r\\n7476499.777,01-01-2010 00:01,619.8873352,3528.763947,$9.16,Swipe Transaction,143885.1105,Amherst,OH,-22753.31522,7317.141215\\r\\n7476500.943,01-01-2010 00:01,619.4907753,3529.264767,$0.81,Swipe Transaction,143985.9347,Burlingame,CA,-22836.44425,7319.01868\\r\\n7476502.108,01-01-2010 00:01,619.0942154,3529.765588,$160.06,Swipe Transaction,144086.759,Boulder Creek,CA,-22919.57327,7320.896145\\r\\n7476503.274,01-01-2010 00:01,618.6976555,3530.266408,$28.27,Swipe Transaction,144187.5832,Chicago,IL,-23002.7023,7322.773609\\r\\n7476504.439,01-01-2010 00:01,618.3010956,3530.767228,$44.92,Swipe Transaction,144288.4074,Fayetteville,AR,-23085.83132,7324.651074\\r\\n7476505.605,01-01-2010 00:01,617.9045356,3531.268048,$57.79,Swipe Transaction,144389.2317,Holly Springs,NC,-23168.96035,7326.528539\\r\\n7476506.771,01-01-2010 00:01,617.5079757,3531.768868,$6.58,Swipe Transaction,144490.0559,Alhambra,CA,-23252.08937,7328.406003\\r\\n7476507.936,01-01-2010 00:01,617.1114158,3532.269688,$4.10,Swipe Transaction,144590.8801,Saint Charles,IL,-23335.2184,7330.283468\\r\\n7476509.102,01-01-2010 00:01,616.7148559,3532.770508,$3.99,Swipe Transaction,144691.7044,Woodbury,TN,-23418.34742,7332.160933\\r\\n7476510.268,01-01-2010 00:01,616.318296,3533.271328,$5.18,Swipe Transaction,144792.5286,Seligman,AZ,-23501.47645,7334.038397\\r\\n7476511.433,01-01-2010 00:01,615.9217361,3533.772149,$19.21,Swipe Transaction,144893.3528,Terre Haute,IN,-23584.60547,7335.915862\\r\\n7476512.599,01-01-2010 00:01,615.5251762,3534.272969,$58.91,Swipe Transaction,144994.1771,Big Bear Lake,CA,-23667.7345,7337.793327\\r\\n'}"
            ]
          },
          "execution_count": 12,
          "metadata": {},
          "output_type": "execute_result"
        }
      ],
      "source": [
        "from google.colab import files\n",
        "files.upload()\n"
      ]
    },
    {
      "cell_type": "code",
      "execution_count": null,
      "metadata": {
        "id": "NwIt_6E4S-dL"
      },
      "outputs": [],
      "source": []
    },
    {
      "cell_type": "code",
      "execution_count": 14,
      "metadata": {
        "id": "n_CSaHPzTVDx"
      },
      "outputs": [],
      "source": [
        "from transformers import AutoTokenizer\n"
      ]
    },
    {
      "cell_type": "code",
      "execution_count": 15,
      "metadata": {
        "id": "0l1VOVwnTbz8"
      },
      "outputs": [],
      "source": [
        "from transformers import AutoTokenizer, AutoModelForTokenClassification\n"
      ]
    },
    {
      "cell_type": "code",
      "execution_count": 16,
      "metadata": {
        "colab": {
          "base_uri": "https://localhost:8080/"
        },
        "id": "08zWzwnSTgRp",
        "outputId": "700a1e03-f9a8-4f3d-ca3a-05ac5d6b819e"
      },
      "outputs": [
        {
          "name": "stdout",
          "output_type": "stream",
          "text": [
            "Requirement already satisfied: transformers in /usr/local/lib/python3.11/dist-packages (4.51.3)\n",
            "Requirement already satisfied: filelock in /usr/local/lib/python3.11/dist-packages (from transformers) (3.18.0)\n",
            "Requirement already satisfied: huggingface-hub<1.0,>=0.30.0 in /usr/local/lib/python3.11/dist-packages (from transformers) (0.31.2)\n",
            "Requirement already satisfied: numpy>=1.17 in /usr/local/lib/python3.11/dist-packages (from transformers) (2.0.2)\n",
            "Requirement already satisfied: packaging>=20.0 in /usr/local/lib/python3.11/dist-packages (from transformers) (24.2)\n",
            "Requirement already satisfied: pyyaml>=5.1 in /usr/local/lib/python3.11/dist-packages (from transformers) (6.0.2)\n",
            "Requirement already satisfied: regex!=2019.12.17 in /usr/local/lib/python3.11/dist-packages (from transformers) (2024.11.6)\n",
            "Requirement already satisfied: requests in /usr/local/lib/python3.11/dist-packages (from transformers) (2.32.3)\n",
            "Requirement already satisfied: tokenizers<0.22,>=0.21 in /usr/local/lib/python3.11/dist-packages (from transformers) (0.21.1)\n",
            "Requirement already satisfied: safetensors>=0.4.3 in /usr/local/lib/python3.11/dist-packages (from transformers) (0.5.3)\n",
            "Requirement already satisfied: tqdm>=4.27 in /usr/local/lib/python3.11/dist-packages (from transformers) (4.67.1)\n",
            "Requirement already satisfied: fsspec>=2023.5.0 in /usr/local/lib/python3.11/dist-packages (from huggingface-hub<1.0,>=0.30.0->transformers) (2025.3.0)\n",
            "Requirement already satisfied: typing-extensions>=3.7.4.3 in /usr/local/lib/python3.11/dist-packages (from huggingface-hub<1.0,>=0.30.0->transformers) (4.13.2)\n",
            "Requirement already satisfied: charset-normalizer<4,>=2 in /usr/local/lib/python3.11/dist-packages (from requests->transformers) (3.4.2)\n",
            "Requirement already satisfied: idna<4,>=2.5 in /usr/local/lib/python3.11/dist-packages (from requests->transformers) (3.10)\n",
            "Requirement already satisfied: urllib3<3,>=1.21.1 in /usr/local/lib/python3.11/dist-packages (from requests->transformers) (2.4.0)\n",
            "Requirement already satisfied: certifi>=2017.4.17 in /usr/local/lib/python3.11/dist-packages (from requests->transformers) (2025.4.26)\n"
          ]
        }
      ],
      "source": [
        "!pip install transformers\n"
      ]
    },
    {
      "cell_type": "code",
      "execution_count": 18,
      "metadata": {
        "colab": {
          "base_uri": "https://localhost:8080/"
        },
        "id": "vQafftMuTx_v",
        "outputId": "9a09ed7b-15ef-406e-9889-49c621a31236"
      },
      "outputs": [
        {
          "name": "stdout",
          "output_type": "stream",
          "text": [
            "['O', 'B-PER', 'I-PER', 'B-ORG', 'I-ORG', 'B-LOC', 'I-LOC', 'B-MISC', 'I-MISC']\n"
          ]
        }
      ],
      "source": [
        "from datasets import load_dataset\n",
        "\n",
        "dataset = load_dataset(\"conll2003\")\n",
        "label_list = dataset[\"train\"].features[\"ner_tags\"].feature.names\n",
        "print(label_list)\n"
      ]
    },
    {
      "cell_type": "code",
      "execution_count": 19,
      "metadata": {
        "colab": {
          "base_uri": "https://localhost:8080/",
          "height": 138,
          "referenced_widgets": [
            "3b00c7a120364054b247e22e66f42d70",
            "6801a50f904a4ec792340f01517008a7",
            "c390cbdcf8444faf89f2520436007c7e",
            "e3cc7bdcf0af4b3da5cb7b3230b29ecb",
            "7ae5693811b940dbadf8d9c50c223197",
            "95b1e14aa76e4d1d90e546d4b59b1dbd",
            "3a8f35561aae46529ab20d1455db7dc5",
            "4a7cd6e40aae44e5bd740c5e8c76598d",
            "91855c1009004d4589b14ccecba8b50c",
            "62de0019e43c4833b35ec8022b096f84",
            "ca1f4f7aa93d4f7aa4e854bb1e21e312"
          ]
        },
        "id": "HsPC85i_T0On",
        "outputId": "5aab7880-d30b-42ec-95d2-2a98bc330ad1"
      },
      "outputs": [
        {
          "name": "stderr",
          "output_type": "stream",
          "text": [
            "Xet Storage is enabled for this repo, but the 'hf_xet' package is not installed. Falling back to regular HTTP download. For better performance, install the package with: `pip install huggingface_hub[hf_xet]` or `pip install hf_xet`\n",
            "WARNING:huggingface_hub.file_download:Xet Storage is enabled for this repo, but the 'hf_xet' package is not installed. Falling back to regular HTTP download. For better performance, install the package with: `pip install huggingface_hub[hf_xet]` or `pip install hf_xet`\n"
          ]
        },
        {
          "data": {
            "application/vnd.jupyter.widget-view+json": {
              "model_id": "3b00c7a120364054b247e22e66f42d70",
              "version_major": 2,
              "version_minor": 0
            },
            "text/plain": [
              "model.safetensors:   0%|          | 0.00/436M [00:00<?, ?B/s]"
            ]
          },
          "metadata": {},
          "output_type": "display_data"
        },
        {
          "name": "stderr",
          "output_type": "stream",
          "text": [
            "Some weights of BertForTokenClassification were not initialized from the model checkpoint at bert-base-cased and are newly initialized: ['classifier.bias', 'classifier.weight']\n",
            "You should probably TRAIN this model on a down-stream task to be able to use it for predictions and inference.\n"
          ]
        }
      ],
      "source": [
        "from datasets import load_dataset\n",
        "from transformers import AutoTokenizer, AutoModelForTokenClassification\n",
        "\n",
        "# Load dataset and labels\n",
        "dataset = load_dataset(\"conll2003\")\n",
        "label_list = dataset[\"train\"].features[\"ner_tags\"].feature.names\n",
        "\n",
        "model_name = \"bert-base-cased\"\n",
        "\n",
        "# Load tokenizer and model with correct number of labels\n",
        "tokenizer = AutoTokenizer.from_pretrained(model_name)\n",
        "model = AutoModelForTokenClassification.from_pretrained(model_name, num_labels=len(label_list))\n"
      ]
    },
    {
      "cell_type": "code",
      "execution_count": 20,
      "metadata": {
        "colab": {
          "base_uri": "https://localhost:8080/",
          "height": 113,
          "referenced_widgets": [
            "716bc46f82e44cbfa320ba5b3975b847",
            "e9f33cffa7254f38ab663c4de32b6c9f",
            "53596bb28e304413bd8a84d99b379631",
            "d5df310a22fc418c83c71b243d5de439",
            "0638d6a4b5cf4b34b22552a73628a53d",
            "71f4b484f7b74de5a5e58cb2fe08f704",
            "71624b50433f4491b965b70ede4fc3be",
            "cee93f1916144febb5e1c488e3baee36",
            "4aeda2057e414db1aae385b81d00a7db",
            "627e265817444ca49de07161c7855233",
            "6cdb216028b748089c622c994cce297c",
            "f8085ebdcb5541c4be7411570e060c2f",
            "e2c44e2a5cad4cf9b3cd4404f6f4e550",
            "9360bba1dc0f40c4b3c62a9c76c6a2c4",
            "b449fce31a4841e2b10db0b22bb1d056",
            "b656e867833f48b8acb9c4d968559f60",
            "6ca2910a8275467f85d2f95cc3725dee",
            "17c0c9bfc9664717a7d8ff237e06a1cf",
            "2d2067b138f5442dba4d8a2f3cecbde7",
            "a6ef9a9951bd49c7a65ba051c3582b50",
            "dba512d1d3644fdfacf1b5c070474970",
            "550eec9f87494fee8dc5b83879dd3719",
            "3434208488944d8986d62eab463fa65e",
            "3d1ba7d717254057841c7a442e9ac08d",
            "9c89a76d32a74a35a61ebd1ac63bc58e",
            "fc271962ddc949fdb3b41d9330cdd590",
            "c3ccf8ca2a0f4d8398d833781852dd39",
            "8246700b4b81446da353df87420d22e9",
            "664ba0d2fd144555a2f079bb27d17ee3",
            "c12c07bc57d34a26a836e7094cf83df2",
            "8c9a16bcedcf46d8bd77a1bbbdd30ce7",
            "55689e5160314f23a6a41f1baf9c145e",
            "de9fb1df3df74ffaa1533771666255de"
          ]
        },
        "id": "uY-aZ37hT8bV",
        "outputId": "209284cc-704c-414c-ddf5-b29942aa0f66"
      },
      "outputs": [
        {
          "data": {
            "application/vnd.jupyter.widget-view+json": {
              "model_id": "716bc46f82e44cbfa320ba5b3975b847",
              "version_major": 2,
              "version_minor": 0
            },
            "text/plain": [
              "Map:   0%|          | 0/14041 [00:00<?, ? examples/s]"
            ]
          },
          "metadata": {},
          "output_type": "display_data"
        },
        {
          "data": {
            "application/vnd.jupyter.widget-view+json": {
              "model_id": "f8085ebdcb5541c4be7411570e060c2f",
              "version_major": 2,
              "version_minor": 0
            },
            "text/plain": [
              "Map:   0%|          | 0/3250 [00:00<?, ? examples/s]"
            ]
          },
          "metadata": {},
          "output_type": "display_data"
        },
        {
          "data": {
            "application/vnd.jupyter.widget-view+json": {
              "model_id": "3434208488944d8986d62eab463fa65e",
              "version_major": 2,
              "version_minor": 0
            },
            "text/plain": [
              "Map:   0%|          | 0/3453 [00:00<?, ? examples/s]"
            ]
          },
          "metadata": {},
          "output_type": "display_data"
        }
      ],
      "source": [
        "def tokenize_and_align_labels(examples):\n",
        "    tokenized_inputs = tokenizer(examples[\"tokens\"], truncation=True, is_split_into_words=True)\n",
        "\n",
        "    labels = []\n",
        "    for i, label in enumerate(examples[\"ner_tags\"]):\n",
        "        word_ids = tokenized_inputs.word_ids(batch_index=i)  # Map tokens to words\n",
        "        previous_word_idx = None\n",
        "        label_ids = []\n",
        "        for word_idx in word_ids:\n",
        "            if word_idx is None:\n",
        "                label_ids.append(-100)  # Special token\n",
        "            elif word_idx != previous_word_idx:\n",
        "                label_ids.append(label[word_idx])  # Label for first token of word\n",
        "            else:\n",
        "                label_ids.append(label[word_idx] if True else -100)  # Label for subword tokens (set to -100 if you want to ignore)\n",
        "            previous_word_idx = word_idx\n",
        "        labels.append(label_ids)\n",
        "\n",
        "    tokenized_inputs[\"labels\"] = labels\n",
        "    return tokenized_inputs\n",
        "\n",
        "tokenized_datasets = dataset.map(tokenize_and_align_labels, batched=True)\n"
      ]
    },
    {
      "cell_type": "code",
      "execution_count": 24,
      "metadata": {
        "colab": {
          "base_uri": "https://localhost:8080/"
        },
        "id": "L559QjLYUhRz",
        "outputId": "e3fd36df-53b9-4e0a-83da-5e793c2a6f52"
      },
      "outputs": [
        {
          "name": "stdout",
          "output_type": "stream",
          "text": [
            "Collecting evaluate\n",
            "  Downloading evaluate-0.4.3-py3-none-any.whl.metadata (9.2 kB)\n",
            "Requirement already satisfied: datasets>=2.0.0 in /usr/local/lib/python3.11/dist-packages (from evaluate) (3.6.0)\n",
            "Requirement already satisfied: numpy>=1.17 in /usr/local/lib/python3.11/dist-packages (from evaluate) (2.0.2)\n",
            "Requirement already satisfied: dill in /usr/local/lib/python3.11/dist-packages (from evaluate) (0.3.7)\n",
            "Requirement already satisfied: pandas in /usr/local/lib/python3.11/dist-packages (from evaluate) (2.2.2)\n",
            "Requirement already satisfied: requests>=2.19.0 in /usr/local/lib/python3.11/dist-packages (from evaluate) (2.32.3)\n",
            "Requirement already satisfied: tqdm>=4.62.1 in /usr/local/lib/python3.11/dist-packages (from evaluate) (4.67.1)\n",
            "Requirement already satisfied: xxhash in /usr/local/lib/python3.11/dist-packages (from evaluate) (3.5.0)\n",
            "Requirement already satisfied: multiprocess in /usr/local/lib/python3.11/dist-packages (from evaluate) (0.70.15)\n",
            "Requirement already satisfied: fsspec>=2021.05.0 in /usr/local/lib/python3.11/dist-packages (from fsspec[http]>=2021.05.0->evaluate) (2025.3.0)\n",
            "Requirement already satisfied: huggingface-hub>=0.7.0 in /usr/local/lib/python3.11/dist-packages (from evaluate) (0.31.2)\n",
            "Requirement already satisfied: packaging in /usr/local/lib/python3.11/dist-packages (from evaluate) (24.2)\n",
            "Requirement already satisfied: filelock in /usr/local/lib/python3.11/dist-packages (from datasets>=2.0.0->evaluate) (3.18.0)\n",
            "Requirement already satisfied: pyarrow>=15.0.0 in /usr/local/lib/python3.11/dist-packages (from datasets>=2.0.0->evaluate) (18.1.0)\n",
            "Requirement already satisfied: pyyaml>=5.1 in /usr/local/lib/python3.11/dist-packages (from datasets>=2.0.0->evaluate) (6.0.2)\n",
            "Requirement already satisfied: aiohttp!=4.0.0a0,!=4.0.0a1 in /usr/local/lib/python3.11/dist-packages (from fsspec[http]>=2021.05.0->evaluate) (3.11.15)\n",
            "Requirement already satisfied: typing-extensions>=3.7.4.3 in /usr/local/lib/python3.11/dist-packages (from huggingface-hub>=0.7.0->evaluate) (4.13.2)\n",
            "Requirement already satisfied: charset-normalizer<4,>=2 in /usr/local/lib/python3.11/dist-packages (from requests>=2.19.0->evaluate) (3.4.2)\n",
            "Requirement already satisfied: idna<4,>=2.5 in /usr/local/lib/python3.11/dist-packages (from requests>=2.19.0->evaluate) (3.10)\n",
            "Requirement already satisfied: urllib3<3,>=1.21.1 in /usr/local/lib/python3.11/dist-packages (from requests>=2.19.0->evaluate) (2.4.0)\n",
            "Requirement already satisfied: certifi>=2017.4.17 in /usr/local/lib/python3.11/dist-packages (from requests>=2.19.0->evaluate) (2025.4.26)\n",
            "Requirement already satisfied: python-dateutil>=2.8.2 in /usr/local/lib/python3.11/dist-packages (from pandas->evaluate) (2.9.0.post0)\n",
            "Requirement already satisfied: pytz>=2020.1 in /usr/local/lib/python3.11/dist-packages (from pandas->evaluate) (2025.2)\n",
            "Requirement already satisfied: tzdata>=2022.7 in /usr/local/lib/python3.11/dist-packages (from pandas->evaluate) (2025.2)\n",
            "Requirement already satisfied: aiohappyeyeballs>=2.3.0 in /usr/local/lib/python3.11/dist-packages (from aiohttp!=4.0.0a0,!=4.0.0a1->fsspec[http]>=2021.05.0->evaluate) (2.6.1)\n",
            "Requirement already satisfied: aiosignal>=1.1.2 in /usr/local/lib/python3.11/dist-packages (from aiohttp!=4.0.0a0,!=4.0.0a1->fsspec[http]>=2021.05.0->evaluate) (1.3.2)\n",
            "Requirement already satisfied: attrs>=17.3.0 in /usr/local/lib/python3.11/dist-packages (from aiohttp!=4.0.0a0,!=4.0.0a1->fsspec[http]>=2021.05.0->evaluate) (25.3.0)\n",
            "Requirement already satisfied: frozenlist>=1.1.1 in /usr/local/lib/python3.11/dist-packages (from aiohttp!=4.0.0a0,!=4.0.0a1->fsspec[http]>=2021.05.0->evaluate) (1.6.0)\n",
            "Requirement already satisfied: multidict<7.0,>=4.5 in /usr/local/lib/python3.11/dist-packages (from aiohttp!=4.0.0a0,!=4.0.0a1->fsspec[http]>=2021.05.0->evaluate) (6.4.3)\n",
            "Requirement already satisfied: propcache>=0.2.0 in /usr/local/lib/python3.11/dist-packages (from aiohttp!=4.0.0a0,!=4.0.0a1->fsspec[http]>=2021.05.0->evaluate) (0.3.1)\n",
            "Requirement already satisfied: yarl<2.0,>=1.17.0 in /usr/local/lib/python3.11/dist-packages (from aiohttp!=4.0.0a0,!=4.0.0a1->fsspec[http]>=2021.05.0->evaluate) (1.20.0)\n",
            "Requirement already satisfied: six>=1.5 in /usr/local/lib/python3.11/dist-packages (from python-dateutil>=2.8.2->pandas->evaluate) (1.17.0)\n",
            "Downloading evaluate-0.4.3-py3-none-any.whl (84 kB)\n",
            "\u001b[2K   \u001b[90m━━━━━━━━━━━━━━━━━━━━━━━━━━━━━━━━━━━━━━━━\u001b[0m \u001b[32m84.0/84.0 kB\u001b[0m \u001b[31m5.4 MB/s\u001b[0m eta \u001b[36m0:00:00\u001b[0m\n",
            "\u001b[?25hInstalling collected packages: evaluate\n",
            "Successfully installed evaluate-0.4.3\n"
          ]
        }
      ],
      "source": [
        "pip install evaluate\n"
      ]
    },
    {
      "cell_type": "code",
      "execution_count": 25,
      "metadata": {
        "id": "g-YfL4ovUlNo"
      },
      "outputs": [],
      "source": [
        "import evaluate\n"
      ]
    },
    {
      "cell_type": "code",
      "execution_count": 26,
      "metadata": {
        "colab": {
          "base_uri": "https://localhost:8080/",
          "height": 49,
          "referenced_widgets": [
            "3f56c718718a48f3b6a117372768e879",
            "e1c541f941a440759adfebdd50a3e3e5",
            "f5a8a55cf2174ad3a95a186fcaf60fdf",
            "930d9afcf1de43acb0ced249620398b6",
            "9ac7ded51a8d4a698616ae975ef6d1a8",
            "4c6d74a8bf8b478a838a23d52ea68c5a",
            "0ba30694ff364419b6df5d5383e52473",
            "8ab1e0421d754ea69c8d21e85859d15b",
            "3ad3bf6c540246e3b4eaf2b1e173a788",
            "b960b918a15242938bd2d76f9b4aec1d",
            "ec7312980b7345f39cb82310a1f10869"
          ]
        },
        "id": "rn57TJPbUp0V",
        "outputId": "cc6bd0a2-3f95-4921-cb20-821bf78a17ae"
      },
      "outputs": [
        {
          "data": {
            "application/vnd.jupyter.widget-view+json": {
              "model_id": "3f56c718718a48f3b6a117372768e879",
              "version_major": 2,
              "version_minor": 0
            },
            "text/plain": [
              "Downloading builder script:   0%|          | 0.00/6.34k [00:00<?, ?B/s]"
            ]
          },
          "metadata": {},
          "output_type": "display_data"
        }
      ],
      "source": [
        "metric = evaluate.load(\"seqeval\")\n"
      ]
    },
    {
      "cell_type": "code",
      "execution_count": 27,
      "metadata": {
        "colab": {
          "base_uri": "https://localhost:8080/"
        },
        "id": "mO2xSgmRUrcd",
        "outputId": "1a6f5c95-f670-4f8e-c077-e291cd85d951"
      },
      "outputs": [
        {
          "name": "stdout",
          "output_type": "stream",
          "text": [
            "Requirement already satisfied: evaluate in /usr/local/lib/python3.11/dist-packages (0.4.3)\n",
            "Requirement already satisfied: datasets>=2.0.0 in /usr/local/lib/python3.11/dist-packages (from evaluate) (3.6.0)\n",
            "Requirement already satisfied: numpy>=1.17 in /usr/local/lib/python3.11/dist-packages (from evaluate) (2.0.2)\n",
            "Requirement already satisfied: dill in /usr/local/lib/python3.11/dist-packages (from evaluate) (0.3.7)\n",
            "Requirement already satisfied: pandas in /usr/local/lib/python3.11/dist-packages (from evaluate) (2.2.2)\n",
            "Requirement already satisfied: requests>=2.19.0 in /usr/local/lib/python3.11/dist-packages (from evaluate) (2.32.3)\n",
            "Requirement already satisfied: tqdm>=4.62.1 in /usr/local/lib/python3.11/dist-packages (from evaluate) (4.67.1)\n",
            "Requirement already satisfied: xxhash in /usr/local/lib/python3.11/dist-packages (from evaluate) (3.5.0)\n",
            "Requirement already satisfied: multiprocess in /usr/local/lib/python3.11/dist-packages (from evaluate) (0.70.15)\n",
            "Requirement already satisfied: fsspec>=2021.05.0 in /usr/local/lib/python3.11/dist-packages (from fsspec[http]>=2021.05.0->evaluate) (2025.3.0)\n",
            "Requirement already satisfied: huggingface-hub>=0.7.0 in /usr/local/lib/python3.11/dist-packages (from evaluate) (0.31.2)\n",
            "Requirement already satisfied: packaging in /usr/local/lib/python3.11/dist-packages (from evaluate) (24.2)\n",
            "Requirement already satisfied: filelock in /usr/local/lib/python3.11/dist-packages (from datasets>=2.0.0->evaluate) (3.18.0)\n",
            "Requirement already satisfied: pyarrow>=15.0.0 in /usr/local/lib/python3.11/dist-packages (from datasets>=2.0.0->evaluate) (18.1.0)\n",
            "Requirement already satisfied: pyyaml>=5.1 in /usr/local/lib/python3.11/dist-packages (from datasets>=2.0.0->evaluate) (6.0.2)\n",
            "Requirement already satisfied: aiohttp!=4.0.0a0,!=4.0.0a1 in /usr/local/lib/python3.11/dist-packages (from fsspec[http]>=2021.05.0->evaluate) (3.11.15)\n",
            "Requirement already satisfied: typing-extensions>=3.7.4.3 in /usr/local/lib/python3.11/dist-packages (from huggingface-hub>=0.7.0->evaluate) (4.13.2)\n",
            "Requirement already satisfied: charset-normalizer<4,>=2 in /usr/local/lib/python3.11/dist-packages (from requests>=2.19.0->evaluate) (3.4.2)\n",
            "Requirement already satisfied: idna<4,>=2.5 in /usr/local/lib/python3.11/dist-packages (from requests>=2.19.0->evaluate) (3.10)\n",
            "Requirement already satisfied: urllib3<3,>=1.21.1 in /usr/local/lib/python3.11/dist-packages (from requests>=2.19.0->evaluate) (2.4.0)\n",
            "Requirement already satisfied: certifi>=2017.4.17 in /usr/local/lib/python3.11/dist-packages (from requests>=2.19.0->evaluate) (2025.4.26)\n",
            "Requirement already satisfied: python-dateutil>=2.8.2 in /usr/local/lib/python3.11/dist-packages (from pandas->evaluate) (2.9.0.post0)\n",
            "Requirement already satisfied: pytz>=2020.1 in /usr/local/lib/python3.11/dist-packages (from pandas->evaluate) (2025.2)\n",
            "Requirement already satisfied: tzdata>=2022.7 in /usr/local/lib/python3.11/dist-packages (from pandas->evaluate) (2025.2)\n",
            "Requirement already satisfied: aiohappyeyeballs>=2.3.0 in /usr/local/lib/python3.11/dist-packages (from aiohttp!=4.0.0a0,!=4.0.0a1->fsspec[http]>=2021.05.0->evaluate) (2.6.1)\n",
            "Requirement already satisfied: aiosignal>=1.1.2 in /usr/local/lib/python3.11/dist-packages (from aiohttp!=4.0.0a0,!=4.0.0a1->fsspec[http]>=2021.05.0->evaluate) (1.3.2)\n",
            "Requirement already satisfied: attrs>=17.3.0 in /usr/local/lib/python3.11/dist-packages (from aiohttp!=4.0.0a0,!=4.0.0a1->fsspec[http]>=2021.05.0->evaluate) (25.3.0)\n",
            "Requirement already satisfied: frozenlist>=1.1.1 in /usr/local/lib/python3.11/dist-packages (from aiohttp!=4.0.0a0,!=4.0.0a1->fsspec[http]>=2021.05.0->evaluate) (1.6.0)\n",
            "Requirement already satisfied: multidict<7.0,>=4.5 in /usr/local/lib/python3.11/dist-packages (from aiohttp!=4.0.0a0,!=4.0.0a1->fsspec[http]>=2021.05.0->evaluate) (6.4.3)\n",
            "Requirement already satisfied: propcache>=0.2.0 in /usr/local/lib/python3.11/dist-packages (from aiohttp!=4.0.0a0,!=4.0.0a1->fsspec[http]>=2021.05.0->evaluate) (0.3.1)\n",
            "Requirement already satisfied: yarl<2.0,>=1.17.0 in /usr/local/lib/python3.11/dist-packages (from aiohttp!=4.0.0a0,!=4.0.0a1->fsspec[http]>=2021.05.0->evaluate) (1.20.0)\n",
            "Requirement already satisfied: six>=1.5 in /usr/local/lib/python3.11/dist-packages (from python-dateutil>=2.8.2->pandas->evaluate) (1.17.0)\n"
          ]
        }
      ],
      "source": [
        "!pip install evaluate\n"
      ]
    },
    {
      "cell_type": "code",
      "execution_count": 29,
      "metadata": {
        "id": "aAfOhAMVU6XZ"
      },
      "outputs": [],
      "source": [
        "import evaluate\n",
        "metric = evaluate.load(\"seqeval\")\n"
      ]
    },
    {
      "cell_type": "code",
      "execution_count": 30,
      "metadata": {
        "id": "q3oJuaW-U7x6"
      },
      "outputs": [],
      "source": [
        "def compute_metrics(p):\n",
        "    predictions, labels = p\n",
        "    predictions = np.argmax(predictions, axis=2)\n",
        "\n",
        "    true_labels = [[label_list[l] for l in label if l != -100] for label in labels]\n",
        "    true_predictions = [\n",
        "        [label_list[p] for (p, l) in zip(prediction, label) if l != -100]\n",
        "        for prediction, label in zip(predictions, labels)\n",
        "    ]\n",
        "\n",
        "    results = metric.compute(predictions=true_predictions, references=true_labels)\n",
        "    return {\n",
        "        \"precision\": results[\"overall_precision\"],\n",
        "        \"recall\": results[\"overall_recall\"],\n",
        "        \"f1\": results[\"overall_f1\"],\n",
        "        \"accuracy\": results[\"overall_accuracy\"],\n",
        "    }"
      ]
    },
    {
      "cell_type": "code",
      "execution_count": 32,
      "metadata": {
        "id": "osuWi0fdVR96"
      },
      "outputs": [],
      "source": [
        "from transformers import Trainer, TrainingArguments\n"
      ]
    },
    {
      "cell_type": "code",
      "execution_count": 33,
      "metadata": {
        "id": "PHoxxFd2VT5o"
      },
      "outputs": [],
      "source": [
        "from transformers import Trainer, TrainingArguments\n"
      ]
    },
    {
      "cell_type": "code",
      "execution_count": 35,
      "metadata": {
        "colab": {
          "base_uri": "https://localhost:8080/"
        },
        "id": "HCdPvj8gVgwG",
        "outputId": "9be3181f-8e4d-4cc4-bdb1-f762db58876e"
      },
      "outputs": [
        {
          "name": "stdout",
          "output_type": "stream",
          "text": [
            "Requirement already satisfied: transformers in /usr/local/lib/python3.11/dist-packages (4.51.3)\n",
            "Requirement already satisfied: filelock in /usr/local/lib/python3.11/dist-packages (from transformers) (3.18.0)\n",
            "Requirement already satisfied: huggingface-hub<1.0,>=0.30.0 in /usr/local/lib/python3.11/dist-packages (from transformers) (0.31.2)\n",
            "Requirement already satisfied: numpy>=1.17 in /usr/local/lib/python3.11/dist-packages (from transformers) (2.0.2)\n",
            "Requirement already satisfied: packaging>=20.0 in /usr/local/lib/python3.11/dist-packages (from transformers) (24.2)\n",
            "Requirement already satisfied: pyyaml>=5.1 in /usr/local/lib/python3.11/dist-packages (from transformers) (6.0.2)\n",
            "Requirement already satisfied: regex!=2019.12.17 in /usr/local/lib/python3.11/dist-packages (from transformers) (2024.11.6)\n",
            "Requirement already satisfied: requests in /usr/local/lib/python3.11/dist-packages (from transformers) (2.32.3)\n",
            "Requirement already satisfied: tokenizers<0.22,>=0.21 in /usr/local/lib/python3.11/dist-packages (from transformers) (0.21.1)\n",
            "Requirement already satisfied: safetensors>=0.4.3 in /usr/local/lib/python3.11/dist-packages (from transformers) (0.5.3)\n",
            "Requirement already satisfied: tqdm>=4.27 in /usr/local/lib/python3.11/dist-packages (from transformers) (4.67.1)\n",
            "Requirement already satisfied: fsspec>=2023.5.0 in /usr/local/lib/python3.11/dist-packages (from huggingface-hub<1.0,>=0.30.0->transformers) (2025.3.0)\n",
            "Requirement already satisfied: typing-extensions>=3.7.4.3 in /usr/local/lib/python3.11/dist-packages (from huggingface-hub<1.0,>=0.30.0->transformers) (4.13.2)\n",
            "Requirement already satisfied: charset-normalizer<4,>=2 in /usr/local/lib/python3.11/dist-packages (from requests->transformers) (3.4.2)\n",
            "Requirement already satisfied: idna<4,>=2.5 in /usr/local/lib/python3.11/dist-packages (from requests->transformers) (3.10)\n",
            "Requirement already satisfied: urllib3<3,>=1.21.1 in /usr/local/lib/python3.11/dist-packages (from requests->transformers) (2.4.0)\n",
            "Requirement already satisfied: certifi>=2017.4.17 in /usr/local/lib/python3.11/dist-packages (from requests->transformers) (2025.4.26)\n"
          ]
        }
      ],
      "source": [
        "pip install --upgrade transformers\n"
      ]
    },
    {
      "cell_type": "code",
      "execution_count": 37,
      "metadata": {
        "colab": {
          "base_uri": "https://localhost:8080/"
        },
        "id": "X0u9Ews3VusG",
        "outputId": "d57606c6-cfeb-46f5-bcbc-2352b12937dc"
      },
      "outputs": [
        {
          "name": "stdout",
          "output_type": "stream",
          "text": [
            "4.51.3\n"
          ]
        }
      ],
      "source": [
        "import transformers\n",
        "print(transformers.__version__)\n"
      ]
    },
    {
      "cell_type": "code",
      "execution_count": 38,
      "metadata": {
        "colab": {
          "base_uri": "https://localhost:8080/"
        },
        "id": "ioX2aN6uVwc8",
        "outputId": "96ba01c0-6112-4075-c407-259f1b6acbc1"
      },
      "outputs": [
        {
          "name": "stdout",
          "output_type": "stream",
          "text": [
            "Requirement already satisfied: transformers in /usr/local/lib/python3.11/dist-packages (4.51.3)\n",
            "Requirement already satisfied: datasets in /usr/local/lib/python3.11/dist-packages (3.6.0)\n",
            "Requirement already satisfied: evaluate in /usr/local/lib/python3.11/dist-packages (0.4.3)\n",
            "Requirement already satisfied: filelock in /usr/local/lib/python3.11/dist-packages (from transformers) (3.18.0)\n",
            "Requirement already satisfied: huggingface-hub<1.0,>=0.30.0 in /usr/local/lib/python3.11/dist-packages (from transformers) (0.31.2)\n",
            "Requirement already satisfied: numpy>=1.17 in /usr/local/lib/python3.11/dist-packages (from transformers) (2.0.2)\n",
            "Requirement already satisfied: packaging>=20.0 in /usr/local/lib/python3.11/dist-packages (from transformers) (24.2)\n",
            "Requirement already satisfied: pyyaml>=5.1 in /usr/local/lib/python3.11/dist-packages (from transformers) (6.0.2)\n",
            "Requirement already satisfied: regex!=2019.12.17 in /usr/local/lib/python3.11/dist-packages (from transformers) (2024.11.6)\n",
            "Requirement already satisfied: requests in /usr/local/lib/python3.11/dist-packages (from transformers) (2.32.3)\n",
            "Requirement already satisfied: tokenizers<0.22,>=0.21 in /usr/local/lib/python3.11/dist-packages (from transformers) (0.21.1)\n",
            "Requirement already satisfied: safetensors>=0.4.3 in /usr/local/lib/python3.11/dist-packages (from transformers) (0.5.3)\n",
            "Requirement already satisfied: tqdm>=4.27 in /usr/local/lib/python3.11/dist-packages (from transformers) (4.67.1)\n",
            "Requirement already satisfied: pyarrow>=15.0.0 in /usr/local/lib/python3.11/dist-packages (from datasets) (18.1.0)\n",
            "Requirement already satisfied: dill<0.3.9,>=0.3.0 in /usr/local/lib/python3.11/dist-packages (from datasets) (0.3.7)\n",
            "Requirement already satisfied: pandas in /usr/local/lib/python3.11/dist-packages (from datasets) (2.2.2)\n",
            "Requirement already satisfied: xxhash in /usr/local/lib/python3.11/dist-packages (from datasets) (3.5.0)\n",
            "Requirement already satisfied: multiprocess<0.70.17 in /usr/local/lib/python3.11/dist-packages (from datasets) (0.70.15)\n",
            "Requirement already satisfied: fsspec<=2025.3.0,>=2023.1.0 in /usr/local/lib/python3.11/dist-packages (from fsspec[http]<=2025.3.0,>=2023.1.0->datasets) (2025.3.0)\n",
            "Requirement already satisfied: aiohttp!=4.0.0a0,!=4.0.0a1 in /usr/local/lib/python3.11/dist-packages (from fsspec[http]<=2025.3.0,>=2023.1.0->datasets) (3.11.15)\n",
            "Requirement already satisfied: typing-extensions>=3.7.4.3 in /usr/local/lib/python3.11/dist-packages (from huggingface-hub<1.0,>=0.30.0->transformers) (4.13.2)\n",
            "Requirement already satisfied: charset-normalizer<4,>=2 in /usr/local/lib/python3.11/dist-packages (from requests->transformers) (3.4.2)\n",
            "Requirement already satisfied: idna<4,>=2.5 in /usr/local/lib/python3.11/dist-packages (from requests->transformers) (3.10)\n",
            "Requirement already satisfied: urllib3<3,>=1.21.1 in /usr/local/lib/python3.11/dist-packages (from requests->transformers) (2.4.0)\n",
            "Requirement already satisfied: certifi>=2017.4.17 in /usr/local/lib/python3.11/dist-packages (from requests->transformers) (2025.4.26)\n",
            "Requirement already satisfied: python-dateutil>=2.8.2 in /usr/local/lib/python3.11/dist-packages (from pandas->datasets) (2.9.0.post0)\n",
            "Requirement already satisfied: pytz>=2020.1 in /usr/local/lib/python3.11/dist-packages (from pandas->datasets) (2025.2)\n",
            "Requirement already satisfied: tzdata>=2022.7 in /usr/local/lib/python3.11/dist-packages (from pandas->datasets) (2025.2)\n",
            "Requirement already satisfied: aiohappyeyeballs>=2.3.0 in /usr/local/lib/python3.11/dist-packages (from aiohttp!=4.0.0a0,!=4.0.0a1->fsspec[http]<=2025.3.0,>=2023.1.0->datasets) (2.6.1)\n",
            "Requirement already satisfied: aiosignal>=1.1.2 in /usr/local/lib/python3.11/dist-packages (from aiohttp!=4.0.0a0,!=4.0.0a1->fsspec[http]<=2025.3.0,>=2023.1.0->datasets) (1.3.2)\n",
            "Requirement already satisfied: attrs>=17.3.0 in /usr/local/lib/python3.11/dist-packages (from aiohttp!=4.0.0a0,!=4.0.0a1->fsspec[http]<=2025.3.0,>=2023.1.0->datasets) (25.3.0)\n",
            "Requirement already satisfied: frozenlist>=1.1.1 in /usr/local/lib/python3.11/dist-packages (from aiohttp!=4.0.0a0,!=4.0.0a1->fsspec[http]<=2025.3.0,>=2023.1.0->datasets) (1.6.0)\n",
            "Requirement already satisfied: multidict<7.0,>=4.5 in /usr/local/lib/python3.11/dist-packages (from aiohttp!=4.0.0a0,!=4.0.0a1->fsspec[http]<=2025.3.0,>=2023.1.0->datasets) (6.4.3)\n",
            "Requirement already satisfied: propcache>=0.2.0 in /usr/local/lib/python3.11/dist-packages (from aiohttp!=4.0.0a0,!=4.0.0a1->fsspec[http]<=2025.3.0,>=2023.1.0->datasets) (0.3.1)\n",
            "Requirement already satisfied: yarl<2.0,>=1.17.0 in /usr/local/lib/python3.11/dist-packages (from aiohttp!=4.0.0a0,!=4.0.0a1->fsspec[http]<=2025.3.0,>=2023.1.0->datasets) (1.20.0)\n",
            "Requirement already satisfied: six>=1.5 in /usr/local/lib/python3.11/dist-packages (from python-dateutil>=2.8.2->pandas->datasets) (1.17.0)\n"
          ]
        }
      ],
      "source": [
        "!pip install transformers datasets evaluate\n"
      ]
    },
    {
      "cell_type": "code",
      "execution_count": 39,
      "metadata": {
        "id": "4zWPj4SuWEJb"
      },
      "outputs": [],
      "source": [
        "from transformers import AutoTokenizer, AutoModelForSequenceClassification, Trainer, TrainingArguments\n",
        "from datasets import load_dataset\n",
        "import evaluate\n"
      ]
    },
    {
      "cell_type": "code",
      "execution_count": 41,
      "metadata": {
        "id": "7daJax62Wqoj"
      },
      "outputs": [],
      "source": [
        "per_device_train_batch_size=8,\n",
        "per_device_eval_batch_size=8,\n"
      ]
    },
    {
      "cell_type": "markdown",
      "metadata": {
        "id": "BIUgTZjDXEnK"
      },
      "source": [
        "import transformers\n",
        "print(transformers.__version__)\n"
      ]
    },
    {
      "cell_type": "code",
      "execution_count": 46,
      "metadata": {
        "id": "VhOb_lk6XLlm"
      },
      "outputs": [],
      "source": [
        "from transformers import TrainingArguments\n"
      ]
    },
    {
      "cell_type": "code",
      "execution_count": 48,
      "metadata": {
        "colab": {
          "base_uri": "https://localhost:8080/"
        },
        "id": "2bTm7TVTXal1",
        "outputId": "abd09132-0b22-4c2e-ec2a-b04b8374cb34"
      },
      "outputs": [
        {
          "name": "stdout",
          "output_type": "stream",
          "text": [
            "<class 'transformers.training_args.TrainingArguments'>\n",
            "['_VALID_DICT_FIELDS', '__annotations__', '__class__', '__dataclass_fields__', '__dataclass_params__', '__delattr__', '__dict__', '__dir__', '__doc__', '__eq__', '__format__', '__ge__', '__getattribute__', '__getstate__', '__gt__', '__hash__', '__init__', '__init_subclass__', '__le__', '__lt__', '__match_args__', '__module__', '__ne__', '__new__', '__post_init__', '__reduce__', '__reduce_ex__', '__repr__', '__setattr__', '__sizeof__', '__str__', '__subclasshook__', '__weakref__', '_dict_torch_dtype_to_str', '_n_gpu', '_no_sync_in_gradient_accumulation', '_setup_devices', 'accelerator_config', 'adafactor', 'adam_beta1', 'adam_beta2', 'adam_epsilon', 'auto_find_batch_size', 'average_tokens_across_devices', 'batch_eval_metrics', 'bf16', 'bf16_full_eval', 'data_seed', 'dataloader_drop_last', 'dataloader_num_workers', 'dataloader_persistent_workers', 'dataloader_pin_memory', 'dataloader_prefetch_factor', 'ddp_backend', 'ddp_broadcast_buffers', 'ddp_bucket_cap_mb', 'ddp_find_unused_parameters', 'ddp_timeout', 'ddp_timeout_delta', 'debug', 'deepspeed', 'default_optim', 'device', 'disable_tqdm', 'do_eval', 'do_predict', 'do_train', 'eval_accumulation_steps', 'eval_batch_size', 'eval_delay', 'eval_do_concat_batches', 'eval_on_start', 'eval_steps', 'eval_strategy', 'eval_use_gather_object', 'fp16', 'fp16_backend', 'fp16_full_eval', 'fp16_opt_level', 'framework', 'fsdp', 'fsdp_config', 'fsdp_min_num_params', 'fsdp_transformer_layer_cls_to_wrap', 'full_determinism', 'get_process_log_level', 'get_warmup_steps', 'gradient_accumulation_steps', 'gradient_checkpointing', 'gradient_checkpointing_kwargs', 'greater_is_better', 'group_by_length', 'half_precision_backend', 'hub_always_push', 'hub_model_id', 'hub_private_repo', 'hub_strategy', 'hub_token', 'ignore_data_skip', 'include_inputs_for_metrics', 'include_num_input_tokens_seen', 'include_tokens_per_second', 'jit_mode_eval', 'label_names', 'label_smoothing_factor', 'learning_rate', 'length_column_name', 'load_best_model_at_end', 'local_process_index', 'local_rank', 'log_level', 'log_level_replica', 'log_on_each_node', 'logging_dir', 'logging_first_step', 'logging_nan_inf_filter', 'logging_steps', 'logging_strategy', 'lr_scheduler_type', 'main_process_first', 'max_grad_norm', 'max_steps', 'metric_for_best_model', 'mp_parameters', 'n_gpu', 'neftune_noise_alpha', 'no_cuda', 'num_train_epochs', 'optim', 'optim_args', 'optim_target_modules', 'output_dir', 'overwrite_output_dir', 'parallel_mode', 'past_index', 'per_device_eval_batch_size', 'per_device_train_batch_size', 'per_gpu_eval_batch_size', 'per_gpu_train_batch_size', 'place_model_on_device', 'prediction_loss_only', 'process_index', 'push_to_hub', 'push_to_hub_model_id', 'push_to_hub_organization', 'push_to_hub_token', 'ray_scope', 'remove_unused_columns', 'report_to', 'restore_callback_states_from_checkpoint', 'resume_from_checkpoint', 'run_name', 'save_on_each_node', 'save_only_model', 'save_safetensors', 'save_steps', 'save_strategy', 'save_total_limit', 'seed', 'set_dataloader', 'set_evaluate', 'set_logging', 'set_lr_scheduler', 'set_optimizer', 'set_push_to_hub', 'set_save', 'set_testing', 'set_training', 'should_log', 'should_save', 'skip_memory_metrics', 'tf32', 'to_dict', 'to_json_string', 'to_sanitized_dict', 'torch_compile', 'torch_compile_backend', 'torch_compile_mode', 'torch_empty_cache_steps', 'torchdynamo', 'tp_size', 'tpu_metrics_debug', 'tpu_num_cores', 'train_batch_size', 'use_cpu', 'use_ipex', 'use_legacy_prediction_loop', 'use_liger_kernel', 'use_mps_device', 'warmup_ratio', 'warmup_steps', 'weight_decay', 'world_size']\n"
          ]
        }
      ],
      "source": [
        "from transformers import TrainingArguments\n",
        "\n",
        "print(TrainingArguments)   # What does it show?\n",
        "print(dir(TrainingArguments))  # Check available attributes/methods\n"
      ]
    },
    {
      "cell_type": "code",
      "execution_count": null,
      "metadata": {
        "colab": {
          "base_uri": "https://localhost:8080/"
        },
        "id": "UdRRhpLbXcRL",
        "outputId": "e0ca1ef0-72c2-46ed-da0f-65b731b5e1f3"
      },
      "outputs": [
        {
          "name": "stdout",
          "output_type": "stream",
          "text": [
            "Requirement already satisfied: transformers in /usr/local/lib/python3.11/dist-packages (4.51.3)\n",
            "Requirement already satisfied: filelock in /usr/local/lib/python3.11/dist-packages (from transformers) (3.18.0)\n",
            "Requirement already satisfied: huggingface-hub<1.0,>=0.30.0 in /usr/local/lib/python3.11/dist-packages (from transformers) (0.31.2)\n",
            "Requirement already satisfied: numpy>=1.17 in /usr/local/lib/python3.11/dist-packages (from transformers) (2.0.2)\n",
            "Requirement already satisfied: packaging>=20.0 in /usr/local/lib/python3.11/dist-packages (from transformers) (24.2)\n",
            "Requirement already satisfied: pyyaml>=5.1 in /usr/local/lib/python3.11/dist-packages (from transformers) (6.0.2)\n",
            "Requirement already satisfied: regex!=2019.12.17 in /usr/local/lib/python3.11/dist-packages (from transformers) (2024.11.6)\n",
            "Requirement already satisfied: requests in /usr/local/lib/python3.11/dist-packages (from transformers) (2.32.3)\n",
            "Requirement already satisfied: tokenizers<0.22,>=0.21 in /usr/local/lib/python3.11/dist-packages (from transformers) (0.21.1)\n",
            "Requirement already satisfied: safetensors>=0.4.3 in /usr/local/lib/python3.11/dist-packages (from transformers) (0.5.3)\n",
            "Requirement already satisfied: tqdm>=4.27 in /usr/local/lib/python3.11/dist-packages (from transformers) (4.67.1)\n",
            "Requirement already satisfied: fsspec>=2023.5.0 in /usr/local/lib/python3.11/dist-packages (from huggingface-hub<1.0,>=0.30.0->transformers) (2025.3.0)\n",
            "Requirement already satisfied: typing-extensions>=3.7.4.3 in /usr/local/lib/python3.11/dist-packages (from huggingface-hub<1.0,>=0.30.0->transformers) (4.13.2)\n",
            "Requirement already satisfied: charset-normalizer<4,>=2 in /usr/local/lib/python3.11/dist-packages (from requests->transformers) (3.4.2)\n",
            "Requirement already satisfied: idna<4,>=2.5 in /usr/local/lib/python3.11/dist-packages (from requests->transformers) (3.10)\n",
            "Requirement already satisfied: urllib3<3,>=1.21.1 in /usr/local/lib/python3.11/dist-packages (from requests->transformers) (2.4.0)\n",
            "Requirement already satisfied: certifi>=2017.4.17 in /usr/local/lib/python3.11/dist-packages (from requests->transformers) (2025.4.26)\n"
          ]
        }
      ],
      "source": [
        "!pip install --upgrade transformers\n",
        "import os\n",
        "os.kill(os.getpid(), 9)  # This restarts your Colab runtime\n"
      ]
    },
    {
      "cell_type": "code",
      "execution_count": null,
      "metadata": {
        "id": "x0_N4dx3YNmY"
      },
      "outputs": [],
      "source": [
        "!pip install transformers==4.51.3\n",
        "\n",
        "from transformers import TrainingArguments\n",
        "\n",
        "args = TrainingArguments(\n",
        "    output_dir=\"./results\",\n",
        "    evaluation_strategy=\"epoch\"\n",
        ")\n",
        "\n",
        "print(args)\n"
      ]
    },
    {
      "cell_type": "code",
      "execution_count": 5,
      "metadata": {
        "id": "LRRTutW6Z5nI"
      },
      "outputs": [],
      "source": [
        "training_args = TrainingArguments(\n",
        "    output_dir=\"./results\",\n",
        "    do_eval=True,\n",
        "    per_device_train_batch_size=8,\n",
        "    per_device_eval_batch_size=8,\n",
        "    num_train_epochs=3,\n",
        "    logging_steps=10,\n",
        ")\n"
      ]
    },
    {
      "cell_type": "code",
      "execution_count": 8,
      "metadata": {
        "colab": {
          "base_uri": "https://localhost:8080/",
          "height": 686,
          "referenced_widgets": [
            "283d4bd0a18843ddafaf23316834be49",
            "f704cd924a1e4ac386fa10cbd89f37f0",
            "9eb6becbc1814eb29dcb995a2a1b489b",
            "5d7e876133c84d289bb218053b95a46f",
            "49a6e18804294e6aaa63daa7e1e09c76",
            "c906032ff0044d3f929ecb9b2ba8191a",
            "f0a8c4d7971b46d0a08151757bc3137c",
            "f6f65f6493e046d5845cc864974622b6",
            "131dea370d5f4374aa324de0f6072f3f",
            "bb044e9a01aa458fb6111e704c683d28",
            "59683e07abbe4965a48ba67d6252ca91"
          ]
        },
        "id": "DTaA-nvkaEKs",
        "outputId": "f07909ed-27c6-4625-bedd-aef1eddb4891"
      },
      "outputs": [
        {
          "name": "stderr",
          "output_type": "stream",
          "text": [
            "Some weights of BertForSequenceClassification were not initialized from the model checkpoint at bert-base-uncased and are newly initialized: ['classifier.bias', 'classifier.weight']\n",
            "You should probably TRAIN this model on a down-stream task to be able to use it for predictions and inference.\n"
          ]
        },
        {
          "data": {
            "application/vnd.jupyter.widget-view+json": {
              "model_id": "283d4bd0a18843ddafaf23316834be49",
              "version_major": 2,
              "version_minor": 0
            },
            "text/plain": [
              "Map:   0%|          | 0/408 [00:00<?, ? examples/s]"
            ]
          },
          "metadata": {},
          "output_type": "display_data"
        },
        {
          "name": "stderr",
          "output_type": "stream",
          "text": [
            "\u001b[34m\u001b[1mwandb\u001b[0m: \u001b[32m\u001b[41mERROR\u001b[0m Failed to detect the name of this notebook. You can set it manually with the WANDB_NOTEBOOK_NAME environment variable to enable code saving.\n"
          ]
        },
        {
          "data": {
            "application/javascript": "\n        window._wandbApiKey = new Promise((resolve, reject) => {\n            function loadScript(url) {\n            return new Promise(function(resolve, reject) {\n                let newScript = document.createElement(\"script\");\n                newScript.onerror = reject;\n                newScript.onload = resolve;\n                document.body.appendChild(newScript);\n                newScript.src = url;\n            });\n            }\n            loadScript(\"https://cdn.jsdelivr.net/npm/postmate/build/postmate.min.js\").then(() => {\n            const iframe = document.createElement('iframe')\n            iframe.style.cssText = \"width:0;height:0;border:none\"\n            document.body.appendChild(iframe)\n            const handshake = new Postmate({\n                container: iframe,\n                url: 'https://wandb.ai/authorize'\n            });\n            const timeout = setTimeout(() => reject(\"Couldn't auto authenticate\"), 5000)\n            handshake.then(function(child) {\n                child.on('authorize', data => {\n                    clearTimeout(timeout)\n                    resolve(data)\n                });\n            });\n            })\n        });\n    ",
            "text/plain": [
              "<IPython.core.display.Javascript object>"
            ]
          },
          "metadata": {},
          "output_type": "display_data"
        },
        {
          "name": "stderr",
          "output_type": "stream",
          "text": [
            "\u001b[34m\u001b[1mwandb\u001b[0m: Logging into wandb.ai. (Learn how to deploy a W&B server locally: https://wandb.me/wandb-server)\n",
            "\u001b[34m\u001b[1mwandb\u001b[0m: You can find your API key in your browser here: https://wandb.ai/authorize?ref=models\n",
            "wandb: Paste an API key from your profile and hit enter:"
          ]
        },
        {
          "name": "stdout",
          "output_type": "stream",
          "text": [
            " ··········\n"
          ]
        },
        {
          "name": "stderr",
          "output_type": "stream",
          "text": [
            "\u001b[34m\u001b[1mwandb\u001b[0m: \u001b[33mWARNING\u001b[0m If you're specifying your api key in code, ensure this code is not shared publicly.\n",
            "\u001b[34m\u001b[1mwandb\u001b[0m: \u001b[33mWARNING\u001b[0m Consider setting the WANDB_API_KEY environment variable, or running `wandb login` from the command line.\n",
            "\u001b[34m\u001b[1mwandb\u001b[0m: No netrc file found, creating one.\n",
            "\u001b[34m\u001b[1mwandb\u001b[0m: Appending key for api.wandb.ai to your netrc file: /root/.netrc\n",
            "\u001b[34m\u001b[1mwandb\u001b[0m: Currently logged in as: \u001b[33msabarinathan18p\u001b[0m (\u001b[33msabarinathan18p-panimalar-engineering-college\u001b[0m) to \u001b[32mhttps://api.wandb.ai\u001b[0m. Use \u001b[1m`wandb login --relogin`\u001b[0m to force relogin\n"
          ]
        },
        {
          "data": {
            "text/html": [
              "Tracking run with wandb version 0.19.11"
            ],
            "text/plain": [
              "<IPython.core.display.HTML object>"
            ]
          },
          "metadata": {},
          "output_type": "display_data"
        },
        {
          "data": {
            "text/html": [
              "Run data is saved locally in <code>/content/wandb/run-20250517_084518-uf5p086v</code>"
            ],
            "text/plain": [
              "<IPython.core.display.HTML object>"
            ]
          },
          "metadata": {},
          "output_type": "display_data"
        },
        {
          "data": {
            "text/html": [
              "Syncing run <strong><a href='https://wandb.ai/sabarinathan18p-panimalar-engineering-college/huggingface/runs/uf5p086v' target=\"_blank\">./results</a></strong> to <a href='https://wandb.ai/sabarinathan18p-panimalar-engineering-college/huggingface' target=\"_blank\">Weights & Biases</a> (<a href='https://wandb.me/developer-guide' target=\"_blank\">docs</a>)<br>"
            ],
            "text/plain": [
              "<IPython.core.display.HTML object>"
            ]
          },
          "metadata": {},
          "output_type": "display_data"
        },
        {
          "data": {
            "text/html": [
              " View project at <a href='https://wandb.ai/sabarinathan18p-panimalar-engineering-college/huggingface' target=\"_blank\">https://wandb.ai/sabarinathan18p-panimalar-engineering-college/huggingface</a>"
            ],
            "text/plain": [
              "<IPython.core.display.HTML object>"
            ]
          },
          "metadata": {},
          "output_type": "display_data"
        },
        {
          "data": {
            "text/html": [
              " View run at <a href='https://wandb.ai/sabarinathan18p-panimalar-engineering-college/huggingface/runs/uf5p086v' target=\"_blank\">https://wandb.ai/sabarinathan18p-panimalar-engineering-college/huggingface/runs/uf5p086v</a>"
            ],
            "text/plain": [
              "<IPython.core.display.HTML object>"
            ]
          },
          "metadata": {},
          "output_type": "display_data"
        },
        {
          "ename": "ValueError",
          "evalue": "expected sequence of length 96 at dim 1 (got 100)",
          "output_type": "error",
          "traceback": [
            "\u001b[0;31m---------------------------------------------------------------------------\u001b[0m",
            "\u001b[0;31mValueError\u001b[0m                                Traceback (most recent call last)",
            "\u001b[0;32m<ipython-input-8-ff2ea1291f61>\u001b[0m in \u001b[0;36m<cell line: 0>\u001b[0;34m()\u001b[0m\n\u001b[1;32m     23\u001b[0m \u001b[0;34m\u001b[0m\u001b[0m\n\u001b[1;32m     24\u001b[0m \u001b[0;31m# Now you can train or evaluate\u001b[0m\u001b[0;34m\u001b[0m\u001b[0;34m\u001b[0m\u001b[0m\n\u001b[0;32m---> 25\u001b[0;31m \u001b[0mtrainer\u001b[0m\u001b[0;34m.\u001b[0m\u001b[0mtrain\u001b[0m\u001b[0;34m(\u001b[0m\u001b[0;34m)\u001b[0m\u001b[0;34m\u001b[0m\u001b[0;34m\u001b[0m\u001b[0m\n\u001b[0m\u001b[1;32m     26\u001b[0m \u001b[0mtrainer\u001b[0m\u001b[0;34m.\u001b[0m\u001b[0mevaluate\u001b[0m\u001b[0;34m(\u001b[0m\u001b[0;34m)\u001b[0m\u001b[0;34m\u001b[0m\u001b[0;34m\u001b[0m\u001b[0m\n",
            "\u001b[0;32m/usr/local/lib/python3.11/dist-packages/transformers/trainer.py\u001b[0m in \u001b[0;36mtrain\u001b[0;34m(self, resume_from_checkpoint, trial, ignore_keys_for_eval, **kwargs)\u001b[0m\n\u001b[1;32m   2243\u001b[0m                 \u001b[0mhf_hub_utils\u001b[0m\u001b[0;34m.\u001b[0m\u001b[0menable_progress_bars\u001b[0m\u001b[0;34m(\u001b[0m\u001b[0;34m)\u001b[0m\u001b[0;34m\u001b[0m\u001b[0;34m\u001b[0m\u001b[0m\n\u001b[1;32m   2244\u001b[0m         \u001b[0;32melse\u001b[0m\u001b[0;34m:\u001b[0m\u001b[0;34m\u001b[0m\u001b[0;34m\u001b[0m\u001b[0m\n\u001b[0;32m-> 2245\u001b[0;31m             return inner_training_loop(\n\u001b[0m\u001b[1;32m   2246\u001b[0m                 \u001b[0margs\u001b[0m\u001b[0;34m=\u001b[0m\u001b[0margs\u001b[0m\u001b[0;34m,\u001b[0m\u001b[0;34m\u001b[0m\u001b[0;34m\u001b[0m\u001b[0m\n\u001b[1;32m   2247\u001b[0m                 \u001b[0mresume_from_checkpoint\u001b[0m\u001b[0;34m=\u001b[0m\u001b[0mresume_from_checkpoint\u001b[0m\u001b[0;34m,\u001b[0m\u001b[0;34m\u001b[0m\u001b[0;34m\u001b[0m\u001b[0m\n",
            "\u001b[0;32m/usr/local/lib/python3.11/dist-packages/transformers/trainer.py\u001b[0m in \u001b[0;36m_inner_training_loop\u001b[0;34m(self, batch_size, args, resume_from_checkpoint, trial, ignore_keys_for_eval)\u001b[0m\n\u001b[1;32m   2512\u001b[0m                 \u001b[0mupdate_step\u001b[0m \u001b[0;34m+=\u001b[0m \u001b[0;36m1\u001b[0m\u001b[0;34m\u001b[0m\u001b[0;34m\u001b[0m\u001b[0m\n\u001b[1;32m   2513\u001b[0m                 \u001b[0mnum_batches\u001b[0m \u001b[0;34m=\u001b[0m \u001b[0margs\u001b[0m\u001b[0;34m.\u001b[0m\u001b[0mgradient_accumulation_steps\u001b[0m \u001b[0;32mif\u001b[0m \u001b[0mupdate_step\u001b[0m \u001b[0;34m!=\u001b[0m \u001b[0;34m(\u001b[0m\u001b[0mtotal_updates\u001b[0m \u001b[0;34m-\u001b[0m \u001b[0;36m1\u001b[0m\u001b[0;34m)\u001b[0m \u001b[0;32melse\u001b[0m \u001b[0mremainder\u001b[0m\u001b[0;34m\u001b[0m\u001b[0;34m\u001b[0m\u001b[0m\n\u001b[0;32m-> 2514\u001b[0;31m                 \u001b[0mbatch_samples\u001b[0m\u001b[0;34m,\u001b[0m \u001b[0mnum_items_in_batch\u001b[0m \u001b[0;34m=\u001b[0m \u001b[0mself\u001b[0m\u001b[0;34m.\u001b[0m\u001b[0mget_batch_samples\u001b[0m\u001b[0;34m(\u001b[0m\u001b[0mepoch_iterator\u001b[0m\u001b[0;34m,\u001b[0m \u001b[0mnum_batches\u001b[0m\u001b[0;34m,\u001b[0m \u001b[0margs\u001b[0m\u001b[0;34m.\u001b[0m\u001b[0mdevice\u001b[0m\u001b[0;34m)\u001b[0m\u001b[0;34m\u001b[0m\u001b[0;34m\u001b[0m\u001b[0m\n\u001b[0m\u001b[1;32m   2515\u001b[0m                 \u001b[0;32mfor\u001b[0m \u001b[0mi\u001b[0m\u001b[0;34m,\u001b[0m \u001b[0minputs\u001b[0m \u001b[0;32min\u001b[0m \u001b[0menumerate\u001b[0m\u001b[0;34m(\u001b[0m\u001b[0mbatch_samples\u001b[0m\u001b[0;34m)\u001b[0m\u001b[0;34m:\u001b[0m\u001b[0;34m\u001b[0m\u001b[0;34m\u001b[0m\u001b[0m\n\u001b[1;32m   2516\u001b[0m                     \u001b[0mstep\u001b[0m \u001b[0;34m+=\u001b[0m \u001b[0;36m1\u001b[0m\u001b[0;34m\u001b[0m\u001b[0;34m\u001b[0m\u001b[0m\n",
            "\u001b[0;32m/usr/local/lib/python3.11/dist-packages/transformers/trainer.py\u001b[0m in \u001b[0;36mget_batch_samples\u001b[0;34m(self, epoch_iterator, num_batches, device)\u001b[0m\n\u001b[1;32m   5241\u001b[0m         \u001b[0;32mfor\u001b[0m \u001b[0m_\u001b[0m \u001b[0;32min\u001b[0m \u001b[0mrange\u001b[0m\u001b[0;34m(\u001b[0m\u001b[0mnum_batches\u001b[0m\u001b[0;34m)\u001b[0m\u001b[0;34m:\u001b[0m\u001b[0;34m\u001b[0m\u001b[0;34m\u001b[0m\u001b[0m\n\u001b[1;32m   5242\u001b[0m             \u001b[0;32mtry\u001b[0m\u001b[0;34m:\u001b[0m\u001b[0;34m\u001b[0m\u001b[0;34m\u001b[0m\u001b[0m\n\u001b[0;32m-> 5243\u001b[0;31m                 \u001b[0mbatch_samples\u001b[0m\u001b[0;34m.\u001b[0m\u001b[0mappend\u001b[0m\u001b[0;34m(\u001b[0m\u001b[0mnext\u001b[0m\u001b[0;34m(\u001b[0m\u001b[0mepoch_iterator\u001b[0m\u001b[0;34m)\u001b[0m\u001b[0;34m)\u001b[0m\u001b[0;34m\u001b[0m\u001b[0;34m\u001b[0m\u001b[0m\n\u001b[0m\u001b[1;32m   5244\u001b[0m             \u001b[0;32mexcept\u001b[0m \u001b[0mStopIteration\u001b[0m\u001b[0;34m:\u001b[0m\u001b[0;34m\u001b[0m\u001b[0;34m\u001b[0m\u001b[0m\n\u001b[1;32m   5245\u001b[0m                 \u001b[0;32mbreak\u001b[0m\u001b[0;34m\u001b[0m\u001b[0;34m\u001b[0m\u001b[0m\n",
            "\u001b[0;32m/usr/local/lib/python3.11/dist-packages/accelerate/data_loader.py\u001b[0m in \u001b[0;36m__iter__\u001b[0;34m(self)\u001b[0m\n\u001b[1;32m    564\u001b[0m         \u001b[0;31m# We iterate one batch ahead to check when we are at the end\u001b[0m\u001b[0;34m\u001b[0m\u001b[0;34m\u001b[0m\u001b[0m\n\u001b[1;32m    565\u001b[0m         \u001b[0;32mtry\u001b[0m\u001b[0;34m:\u001b[0m\u001b[0;34m\u001b[0m\u001b[0;34m\u001b[0m\u001b[0m\n\u001b[0;32m--> 566\u001b[0;31m             \u001b[0mcurrent_batch\u001b[0m \u001b[0;34m=\u001b[0m \u001b[0mnext\u001b[0m\u001b[0;34m(\u001b[0m\u001b[0mdataloader_iter\u001b[0m\u001b[0;34m)\u001b[0m\u001b[0;34m\u001b[0m\u001b[0;34m\u001b[0m\u001b[0m\n\u001b[0m\u001b[1;32m    567\u001b[0m         \u001b[0;32mexcept\u001b[0m \u001b[0mStopIteration\u001b[0m\u001b[0;34m:\u001b[0m\u001b[0;34m\u001b[0m\u001b[0;34m\u001b[0m\u001b[0m\n\u001b[1;32m    568\u001b[0m             \u001b[0;32myield\u001b[0m\u001b[0;34m\u001b[0m\u001b[0;34m\u001b[0m\u001b[0m\n",
            "\u001b[0;32m/usr/local/lib/python3.11/dist-packages/torch/utils/data/dataloader.py\u001b[0m in \u001b[0;36m__next__\u001b[0;34m(self)\u001b[0m\n\u001b[1;32m    706\u001b[0m                 \u001b[0;31m# TODO(https://github.com/pytorch/pytorch/issues/76750)\u001b[0m\u001b[0;34m\u001b[0m\u001b[0;34m\u001b[0m\u001b[0m\n\u001b[1;32m    707\u001b[0m                 \u001b[0mself\u001b[0m\u001b[0;34m.\u001b[0m\u001b[0m_reset\u001b[0m\u001b[0;34m(\u001b[0m\u001b[0;34m)\u001b[0m  \u001b[0;31m# type: ignore[call-arg]\u001b[0m\u001b[0;34m\u001b[0m\u001b[0;34m\u001b[0m\u001b[0m\n\u001b[0;32m--> 708\u001b[0;31m             \u001b[0mdata\u001b[0m \u001b[0;34m=\u001b[0m \u001b[0mself\u001b[0m\u001b[0;34m.\u001b[0m\u001b[0m_next_data\u001b[0m\u001b[0;34m(\u001b[0m\u001b[0;34m)\u001b[0m\u001b[0;34m\u001b[0m\u001b[0;34m\u001b[0m\u001b[0m\n\u001b[0m\u001b[1;32m    709\u001b[0m             \u001b[0mself\u001b[0m\u001b[0;34m.\u001b[0m\u001b[0m_num_yielded\u001b[0m \u001b[0;34m+=\u001b[0m \u001b[0;36m1\u001b[0m\u001b[0;34m\u001b[0m\u001b[0;34m\u001b[0m\u001b[0m\n\u001b[1;32m    710\u001b[0m             if (\n",
            "\u001b[0;32m/usr/local/lib/python3.11/dist-packages/torch/utils/data/dataloader.py\u001b[0m in \u001b[0;36m_next_data\u001b[0;34m(self)\u001b[0m\n\u001b[1;32m    762\u001b[0m     \u001b[0;32mdef\u001b[0m \u001b[0m_next_data\u001b[0m\u001b[0;34m(\u001b[0m\u001b[0mself\u001b[0m\u001b[0;34m)\u001b[0m\u001b[0;34m:\u001b[0m\u001b[0;34m\u001b[0m\u001b[0;34m\u001b[0m\u001b[0m\n\u001b[1;32m    763\u001b[0m         \u001b[0mindex\u001b[0m \u001b[0;34m=\u001b[0m \u001b[0mself\u001b[0m\u001b[0;34m.\u001b[0m\u001b[0m_next_index\u001b[0m\u001b[0;34m(\u001b[0m\u001b[0;34m)\u001b[0m  \u001b[0;31m# may raise StopIteration\u001b[0m\u001b[0;34m\u001b[0m\u001b[0;34m\u001b[0m\u001b[0m\n\u001b[0;32m--> 764\u001b[0;31m         \u001b[0mdata\u001b[0m \u001b[0;34m=\u001b[0m \u001b[0mself\u001b[0m\u001b[0;34m.\u001b[0m\u001b[0m_dataset_fetcher\u001b[0m\u001b[0;34m.\u001b[0m\u001b[0mfetch\u001b[0m\u001b[0;34m(\u001b[0m\u001b[0mindex\u001b[0m\u001b[0;34m)\u001b[0m  \u001b[0;31m# may raise StopIteration\u001b[0m\u001b[0;34m\u001b[0m\u001b[0;34m\u001b[0m\u001b[0m\n\u001b[0m\u001b[1;32m    765\u001b[0m         \u001b[0;32mif\u001b[0m \u001b[0mself\u001b[0m\u001b[0;34m.\u001b[0m\u001b[0m_pin_memory\u001b[0m\u001b[0;34m:\u001b[0m\u001b[0;34m\u001b[0m\u001b[0;34m\u001b[0m\u001b[0m\n\u001b[1;32m    766\u001b[0m             \u001b[0mdata\u001b[0m \u001b[0;34m=\u001b[0m \u001b[0m_utils\u001b[0m\u001b[0;34m.\u001b[0m\u001b[0mpin_memory\u001b[0m\u001b[0;34m.\u001b[0m\u001b[0mpin_memory\u001b[0m\u001b[0;34m(\u001b[0m\u001b[0mdata\u001b[0m\u001b[0;34m,\u001b[0m \u001b[0mself\u001b[0m\u001b[0;34m.\u001b[0m\u001b[0m_pin_memory_device\u001b[0m\u001b[0;34m)\u001b[0m\u001b[0;34m\u001b[0m\u001b[0;34m\u001b[0m\u001b[0m\n",
            "\u001b[0;32m/usr/local/lib/python3.11/dist-packages/torch/utils/data/_utils/fetch.py\u001b[0m in \u001b[0;36mfetch\u001b[0;34m(self, possibly_batched_index)\u001b[0m\n\u001b[1;32m     53\u001b[0m         \u001b[0;32melse\u001b[0m\u001b[0;34m:\u001b[0m\u001b[0;34m\u001b[0m\u001b[0;34m\u001b[0m\u001b[0m\n\u001b[1;32m     54\u001b[0m             \u001b[0mdata\u001b[0m \u001b[0;34m=\u001b[0m \u001b[0mself\u001b[0m\u001b[0;34m.\u001b[0m\u001b[0mdataset\u001b[0m\u001b[0;34m[\u001b[0m\u001b[0mpossibly_batched_index\u001b[0m\u001b[0;34m]\u001b[0m\u001b[0;34m\u001b[0m\u001b[0;34m\u001b[0m\u001b[0m\n\u001b[0;32m---> 55\u001b[0;31m         \u001b[0;32mreturn\u001b[0m \u001b[0mself\u001b[0m\u001b[0;34m.\u001b[0m\u001b[0mcollate_fn\u001b[0m\u001b[0;34m(\u001b[0m\u001b[0mdata\u001b[0m\u001b[0;34m)\u001b[0m\u001b[0;34m\u001b[0m\u001b[0;34m\u001b[0m\u001b[0m\n\u001b[0m",
            "\u001b[0;32m/usr/local/lib/python3.11/dist-packages/transformers/data/data_collator.py\u001b[0m in \u001b[0;36mdefault_data_collator\u001b[0;34m(features, return_tensors)\u001b[0m\n\u001b[1;32m     91\u001b[0m \u001b[0;34m\u001b[0m\u001b[0m\n\u001b[1;32m     92\u001b[0m     \u001b[0;32mif\u001b[0m \u001b[0mreturn_tensors\u001b[0m \u001b[0;34m==\u001b[0m \u001b[0;34m\"pt\"\u001b[0m\u001b[0;34m:\u001b[0m\u001b[0;34m\u001b[0m\u001b[0;34m\u001b[0m\u001b[0m\n\u001b[0;32m---> 93\u001b[0;31m         \u001b[0;32mreturn\u001b[0m \u001b[0mtorch_default_data_collator\u001b[0m\u001b[0;34m(\u001b[0m\u001b[0mfeatures\u001b[0m\u001b[0;34m)\u001b[0m\u001b[0;34m\u001b[0m\u001b[0;34m\u001b[0m\u001b[0m\n\u001b[0m\u001b[1;32m     94\u001b[0m     \u001b[0;32melif\u001b[0m \u001b[0mreturn_tensors\u001b[0m \u001b[0;34m==\u001b[0m \u001b[0;34m\"tf\"\u001b[0m\u001b[0;34m:\u001b[0m\u001b[0;34m\u001b[0m\u001b[0;34m\u001b[0m\u001b[0m\n\u001b[1;32m     95\u001b[0m         \u001b[0;32mreturn\u001b[0m \u001b[0mtf_default_data_collator\u001b[0m\u001b[0;34m(\u001b[0m\u001b[0mfeatures\u001b[0m\u001b[0;34m)\u001b[0m\u001b[0;34m\u001b[0m\u001b[0;34m\u001b[0m\u001b[0m\n",
            "\u001b[0;32m/usr/local/lib/python3.11/dist-packages/transformers/data/data_collator.py\u001b[0m in \u001b[0;36mtorch_default_data_collator\u001b[0;34m(features)\u001b[0m\n\u001b[1;32m    157\u001b[0m                 \u001b[0mbatch\u001b[0m\u001b[0;34m[\u001b[0m\u001b[0mk\u001b[0m\u001b[0;34m]\u001b[0m \u001b[0;34m=\u001b[0m \u001b[0mtorch\u001b[0m\u001b[0;34m.\u001b[0m\u001b[0mfrom_numpy\u001b[0m\u001b[0;34m(\u001b[0m\u001b[0mnp\u001b[0m\u001b[0;34m.\u001b[0m\u001b[0mstack\u001b[0m\u001b[0;34m(\u001b[0m\u001b[0;34m[\u001b[0m\u001b[0mf\u001b[0m\u001b[0;34m[\u001b[0m\u001b[0mk\u001b[0m\u001b[0;34m]\u001b[0m \u001b[0;32mfor\u001b[0m \u001b[0mf\u001b[0m \u001b[0;32min\u001b[0m \u001b[0mfeatures\u001b[0m\u001b[0;34m]\u001b[0m\u001b[0;34m)\u001b[0m\u001b[0;34m)\u001b[0m\u001b[0;34m\u001b[0m\u001b[0;34m\u001b[0m\u001b[0m\n\u001b[1;32m    158\u001b[0m             \u001b[0;32melse\u001b[0m\u001b[0;34m:\u001b[0m\u001b[0;34m\u001b[0m\u001b[0;34m\u001b[0m\u001b[0m\n\u001b[0;32m--> 159\u001b[0;31m                 \u001b[0mbatch\u001b[0m\u001b[0;34m[\u001b[0m\u001b[0mk\u001b[0m\u001b[0;34m]\u001b[0m \u001b[0;34m=\u001b[0m \u001b[0mtorch\u001b[0m\u001b[0;34m.\u001b[0m\u001b[0mtensor\u001b[0m\u001b[0;34m(\u001b[0m\u001b[0;34m[\u001b[0m\u001b[0mf\u001b[0m\u001b[0;34m[\u001b[0m\u001b[0mk\u001b[0m\u001b[0;34m]\u001b[0m \u001b[0;32mfor\u001b[0m \u001b[0mf\u001b[0m \u001b[0;32min\u001b[0m \u001b[0mfeatures\u001b[0m\u001b[0;34m]\u001b[0m\u001b[0;34m)\u001b[0m\u001b[0;34m\u001b[0m\u001b[0;34m\u001b[0m\u001b[0m\n\u001b[0m\u001b[1;32m    160\u001b[0m \u001b[0;34m\u001b[0m\u001b[0m\n\u001b[1;32m    161\u001b[0m     \u001b[0;32mreturn\u001b[0m \u001b[0mbatch\u001b[0m\u001b[0;34m\u001b[0m\u001b[0;34m\u001b[0m\u001b[0m\n",
            "\u001b[0;31mValueError\u001b[0m: expected sequence of length 96 at dim 1 (got 100)"
          ]
        }
      ],
      "source": [
        "from transformers import Trainer, TrainingArguments, AutoModelForSequenceClassification, AutoTokenizer\n",
        "from datasets import load_dataset\n",
        "\n",
        "# Load dataset and tokenizer/model\n",
        "dataset = load_dataset(\"glue\", \"mrpc\")\n",
        "model_name = \"bert-base-uncased\"\n",
        "tokenizer = AutoTokenizer.from_pretrained(model_name)\n",
        "model = AutoModelForSequenceClassification.from_pretrained(model_name, num_labels=2)\n",
        "\n",
        "# Tokenize dataset\n",
        "def preprocess_function(examples):\n",
        "    return tokenizer(examples['sentence1'], examples['sentence2'], truncation=True, padding=True)\n",
        "\n",
        "encoded_dataset = dataset.map(preprocess_function, batched=True)\n",
        "\n",
        "# Initialize Trainer\n",
        "trainer = Trainer(\n",
        "    model=model,\n",
        "    args=training_args,\n",
        "    train_dataset=encoded_dataset[\"train\"],\n",
        "    eval_dataset=encoded_dataset[\"validation\"],\n",
        ")\n",
        "\n",
        "# Now you can train or evaluate\n",
        "trainer.train()\n",
        "trainer.evaluate()\n"
      ]
    },
    {
      "cell_type": "code",
      "execution_count": 10,
      "metadata": {
        "id": "yuvz9sH_bCFx"
      },
      "outputs": [],
      "source": [
        "text = \"This is a sample sentence to tokenize.\"\n",
        "inputs = tokenizer(text, max_length=96, padding='max_length', truncation=True, return_tensors=\"pt\")\n"
      ]
    },
    {
      "cell_type": "code",
      "execution_count": 11,
      "metadata": {
        "id": "A4gwVng1bDt2"
      },
      "outputs": [],
      "source": [
        "texts = [\n",
        "    \"Hello, how are you?\",\n",
        "    \"This is another example sentence.\"\n",
        "]\n",
        "\n",
        "inputs = tokenizer(texts, max_length=96, padding='max_length', truncation=True, return_tensors=\"pt\")\n"
      ]
    },
    {
      "cell_type": "code",
      "execution_count": 12,
      "metadata": {
        "id": "fghhgueAbK4_"
      },
      "outputs": [],
      "source": [
        "inputs = tokenizer(text, max_length=96, padding='max_length', truncation=True, return_tensors=\"pt\")\n"
      ]
    },
    {
      "cell_type": "code",
      "execution_count": 13,
      "metadata": {
        "colab": {
          "base_uri": "https://localhost:8080/"
        },
        "id": "Ed1WxbUXbMY6",
        "outputId": "7e1799d8-14b4-4b62-f248-1336c6752225"
      },
      "outputs": [
        {
          "name": "stdout",
          "output_type": "stream",
          "text": [
            "512\n"
          ]
        }
      ],
      "source": [
        "print(model.config.max_position_embeddings)  # should be 96 or whatever model expects\n"
      ]
    },
    {
      "cell_type": "code",
      "execution_count": 15,
      "metadata": {
        "id": "h6zf3aRtbYZu"
      },
      "outputs": [],
      "source": [
        "batch_texts = [\n",
        "    \"This is the first sentence.\",\n",
        "    \"Here is the second sentence.\",\n",
        "    \"And this is the third one.\"\n",
        "]\n",
        "\n",
        "inputs = tokenizer(batch_texts, padding=True, truncation=True, return_tensors=\"pt\")\n"
      ]
    },
    {
      "cell_type": "code",
      "execution_count": 16,
      "metadata": {
        "id": "VOoWDqV5bb8a"
      },
      "outputs": [],
      "source": [
        "encoded = tokenizer(batch_texts, max_length=96, padding=\"max_length\", truncation=True, return_tensors=\"pt\")\n",
        "outputs = model(**encoded)\n"
      ]
    },
    {
      "cell_type": "code",
      "execution_count": 17,
      "metadata": {
        "id": "ro26f1ZUbi98"
      },
      "outputs": [],
      "source": [
        "inputs = tokenizer(text, max_length=96, padding='max_length', truncation=True, return_tensors=\"pt\")"
      ]
    },
    {
      "cell_type": "code",
      "execution_count": 20,
      "metadata": {
        "colab": {
          "base_uri": "https://localhost:8080/"
        },
        "id": "vceHw3LciDz6",
        "outputId": "b6f39730-4e43-4b87-c3aa-5c79f975c197"
      },
      "outputs": [
        {
          "name": "stdout",
          "output_type": "stream",
          "text": [
            "ls: cannot access 'financial-ner-model': No such file or directory\n"
          ]
        }
      ],
      "source": [
        "!ls financial-ner-model\n"
      ]
    },
    {
      "cell_type": "code",
      "execution_count": 23,
      "metadata": {
        "colab": {
          "base_uri": "https://localhost:8080/"
        },
        "id": "JL0TTm2qkqsB",
        "outputId": "36b113ed-278a-48a1-a8fd-72427bd4544f"
      },
      "outputs": [
        {
          "name": "stdout",
          "output_type": "stream",
          "text": [
            "Requirement already satisfied: transformers in /usr/local/lib/python3.11/dist-packages (4.51.3)\n",
            "Requirement already satisfied: datasets in /usr/local/lib/python3.11/dist-packages (3.6.0)\n",
            "Requirement already satisfied: spacy in /usr/local/lib/python3.11/dist-packages (3.8.5)\n",
            "Requirement already satisfied: matplotlib in /usr/local/lib/python3.11/dist-packages (3.10.0)\n",
            "Requirement already satisfied: wordcloud in /usr/local/lib/python3.11/dist-packages (1.9.4)\n",
            "Requirement already satisfied: filelock in /usr/local/lib/python3.11/dist-packages (from transformers) (3.18.0)\n",
            "Requirement already satisfied: huggingface-hub<1.0,>=0.30.0 in /usr/local/lib/python3.11/dist-packages (from transformers) (0.31.2)\n",
            "Requirement already satisfied: numpy>=1.17 in /usr/local/lib/python3.11/dist-packages (from transformers) (2.0.2)\n",
            "Requirement already satisfied: packaging>=20.0 in /usr/local/lib/python3.11/dist-packages (from transformers) (24.2)\n",
            "Requirement already satisfied: pyyaml>=5.1 in /usr/local/lib/python3.11/dist-packages (from transformers) (6.0.2)\n",
            "Requirement already satisfied: regex!=2019.12.17 in /usr/local/lib/python3.11/dist-packages (from transformers) (2024.11.6)\n",
            "Requirement already satisfied: requests in /usr/local/lib/python3.11/dist-packages (from transformers) (2.32.3)\n",
            "Requirement already satisfied: tokenizers<0.22,>=0.21 in /usr/local/lib/python3.11/dist-packages (from transformers) (0.21.1)\n",
            "Requirement already satisfied: safetensors>=0.4.3 in /usr/local/lib/python3.11/dist-packages (from transformers) (0.5.3)\n",
            "Requirement already satisfied: tqdm>=4.27 in /usr/local/lib/python3.11/dist-packages (from transformers) (4.67.1)\n",
            "Requirement already satisfied: pyarrow>=15.0.0 in /usr/local/lib/python3.11/dist-packages (from datasets) (18.1.0)\n",
            "Requirement already satisfied: dill<0.3.9,>=0.3.0 in /usr/local/lib/python3.11/dist-packages (from datasets) (0.3.7)\n",
            "Requirement already satisfied: pandas in /usr/local/lib/python3.11/dist-packages (from datasets) (2.2.2)\n",
            "Requirement already satisfied: xxhash in /usr/local/lib/python3.11/dist-packages (from datasets) (3.5.0)\n",
            "Requirement already satisfied: multiprocess<0.70.17 in /usr/local/lib/python3.11/dist-packages (from datasets) (0.70.15)\n",
            "Requirement already satisfied: fsspec<=2025.3.0,>=2023.1.0 in /usr/local/lib/python3.11/dist-packages (from fsspec[http]<=2025.3.0,>=2023.1.0->datasets) (2025.3.0)\n",
            "Requirement already satisfied: spacy-legacy<3.1.0,>=3.0.11 in /usr/local/lib/python3.11/dist-packages (from spacy) (3.0.12)\n",
            "Requirement already satisfied: spacy-loggers<2.0.0,>=1.0.0 in /usr/local/lib/python3.11/dist-packages (from spacy) (1.0.5)\n",
            "Requirement already satisfied: murmurhash<1.1.0,>=0.28.0 in /usr/local/lib/python3.11/dist-packages (from spacy) (1.0.12)\n",
            "Requirement already satisfied: cymem<2.1.0,>=2.0.2 in /usr/local/lib/python3.11/dist-packages (from spacy) (2.0.11)\n",
            "Requirement already satisfied: preshed<3.1.0,>=3.0.2 in /usr/local/lib/python3.11/dist-packages (from spacy) (3.0.9)\n",
            "Requirement already satisfied: thinc<8.4.0,>=8.3.4 in /usr/local/lib/python3.11/dist-packages (from spacy) (8.3.6)\n",
            "Requirement already satisfied: wasabi<1.2.0,>=0.9.1 in /usr/local/lib/python3.11/dist-packages (from spacy) (1.1.3)\n",
            "Requirement already satisfied: srsly<3.0.0,>=2.4.3 in /usr/local/lib/python3.11/dist-packages (from spacy) (2.5.1)\n",
            "Requirement already satisfied: catalogue<2.1.0,>=2.0.6 in /usr/local/lib/python3.11/dist-packages (from spacy) (2.0.10)\n",
            "Requirement already satisfied: weasel<0.5.0,>=0.1.0 in /usr/local/lib/python3.11/dist-packages (from spacy) (0.4.1)\n",
            "Requirement already satisfied: typer<1.0.0,>=0.3.0 in /usr/local/lib/python3.11/dist-packages (from spacy) (0.15.3)\n",
            "Requirement already satisfied: pydantic!=1.8,!=1.8.1,<3.0.0,>=1.7.4 in /usr/local/lib/python3.11/dist-packages (from spacy) (2.11.4)\n",
            "Requirement already satisfied: jinja2 in /usr/local/lib/python3.11/dist-packages (from spacy) (3.1.6)\n",
            "Requirement already satisfied: setuptools in /usr/local/lib/python3.11/dist-packages (from spacy) (75.2.0)\n",
            "Requirement already satisfied: langcodes<4.0.0,>=3.2.0 in /usr/local/lib/python3.11/dist-packages (from spacy) (3.5.0)\n",
            "Requirement already satisfied: contourpy>=1.0.1 in /usr/local/lib/python3.11/dist-packages (from matplotlib) (1.3.2)\n",
            "Requirement already satisfied: cycler>=0.10 in /usr/local/lib/python3.11/dist-packages (from matplotlib) (0.12.1)\n",
            "Requirement already satisfied: fonttools>=4.22.0 in /usr/local/lib/python3.11/dist-packages (from matplotlib) (4.58.0)\n",
            "Requirement already satisfied: kiwisolver>=1.3.1 in /usr/local/lib/python3.11/dist-packages (from matplotlib) (1.4.8)\n",
            "Requirement already satisfied: pillow>=8 in /usr/local/lib/python3.11/dist-packages (from matplotlib) (11.2.1)\n",
            "Requirement already satisfied: pyparsing>=2.3.1 in /usr/local/lib/python3.11/dist-packages (from matplotlib) (3.2.3)\n",
            "Requirement already satisfied: python-dateutil>=2.7 in /usr/local/lib/python3.11/dist-packages (from matplotlib) (2.9.0.post0)\n",
            "Requirement already satisfied: aiohttp!=4.0.0a0,!=4.0.0a1 in /usr/local/lib/python3.11/dist-packages (from fsspec[http]<=2025.3.0,>=2023.1.0->datasets) (3.11.15)\n",
            "Requirement already satisfied: typing-extensions>=3.7.4.3 in /usr/local/lib/python3.11/dist-packages (from huggingface-hub<1.0,>=0.30.0->transformers) (4.13.2)\n",
            "Requirement already satisfied: language-data>=1.2 in /usr/local/lib/python3.11/dist-packages (from langcodes<4.0.0,>=3.2.0->spacy) (1.3.0)\n",
            "Requirement already satisfied: annotated-types>=0.6.0 in /usr/local/lib/python3.11/dist-packages (from pydantic!=1.8,!=1.8.1,<3.0.0,>=1.7.4->spacy) (0.7.0)\n",
            "Requirement already satisfied: pydantic-core==2.33.2 in /usr/local/lib/python3.11/dist-packages (from pydantic!=1.8,!=1.8.1,<3.0.0,>=1.7.4->spacy) (2.33.2)\n",
            "Requirement already satisfied: typing-inspection>=0.4.0 in /usr/local/lib/python3.11/dist-packages (from pydantic!=1.8,!=1.8.1,<3.0.0,>=1.7.4->spacy) (0.4.0)\n",
            "Requirement already satisfied: six>=1.5 in /usr/local/lib/python3.11/dist-packages (from python-dateutil>=2.7->matplotlib) (1.17.0)\n",
            "Requirement already satisfied: charset-normalizer<4,>=2 in /usr/local/lib/python3.11/dist-packages (from requests->transformers) (3.4.2)\n",
            "Requirement already satisfied: idna<4,>=2.5 in /usr/local/lib/python3.11/dist-packages (from requests->transformers) (3.10)\n",
            "Requirement already satisfied: urllib3<3,>=1.21.1 in /usr/local/lib/python3.11/dist-packages (from requests->transformers) (2.4.0)\n",
            "Requirement already satisfied: certifi>=2017.4.17 in /usr/local/lib/python3.11/dist-packages (from requests->transformers) (2025.4.26)\n",
            "Requirement already satisfied: blis<1.4.0,>=1.3.0 in /usr/local/lib/python3.11/dist-packages (from thinc<8.4.0,>=8.3.4->spacy) (1.3.0)\n",
            "Requirement already satisfied: confection<1.0.0,>=0.0.1 in /usr/local/lib/python3.11/dist-packages (from thinc<8.4.0,>=8.3.4->spacy) (0.1.5)\n",
            "Requirement already satisfied: click>=8.0.0 in /usr/local/lib/python3.11/dist-packages (from typer<1.0.0,>=0.3.0->spacy) (8.2.0)\n",
            "Requirement already satisfied: shellingham>=1.3.0 in /usr/local/lib/python3.11/dist-packages (from typer<1.0.0,>=0.3.0->spacy) (1.5.4)\n",
            "Requirement already satisfied: rich>=10.11.0 in /usr/local/lib/python3.11/dist-packages (from typer<1.0.0,>=0.3.0->spacy) (13.9.4)\n",
            "Requirement already satisfied: cloudpathlib<1.0.0,>=0.7.0 in /usr/local/lib/python3.11/dist-packages (from weasel<0.5.0,>=0.1.0->spacy) (0.21.0)\n",
            "Requirement already satisfied: smart-open<8.0.0,>=5.2.1 in /usr/local/lib/python3.11/dist-packages (from weasel<0.5.0,>=0.1.0->spacy) (7.1.0)\n",
            "Requirement already satisfied: MarkupSafe>=2.0 in /usr/local/lib/python3.11/dist-packages (from jinja2->spacy) (3.0.2)\n",
            "Requirement already satisfied: pytz>=2020.1 in /usr/local/lib/python3.11/dist-packages (from pandas->datasets) (2025.2)\n",
            "Requirement already satisfied: tzdata>=2022.7 in /usr/local/lib/python3.11/dist-packages (from pandas->datasets) (2025.2)\n",
            "Requirement already satisfied: aiohappyeyeballs>=2.3.0 in /usr/local/lib/python3.11/dist-packages (from aiohttp!=4.0.0a0,!=4.0.0a1->fsspec[http]<=2025.3.0,>=2023.1.0->datasets) (2.6.1)\n",
            "Requirement already satisfied: aiosignal>=1.1.2 in /usr/local/lib/python3.11/dist-packages (from aiohttp!=4.0.0a0,!=4.0.0a1->fsspec[http]<=2025.3.0,>=2023.1.0->datasets) (1.3.2)\n",
            "Requirement already satisfied: attrs>=17.3.0 in /usr/local/lib/python3.11/dist-packages (from aiohttp!=4.0.0a0,!=4.0.0a1->fsspec[http]<=2025.3.0,>=2023.1.0->datasets) (25.3.0)\n",
            "Requirement already satisfied: frozenlist>=1.1.1 in /usr/local/lib/python3.11/dist-packages (from aiohttp!=4.0.0a0,!=4.0.0a1->fsspec[http]<=2025.3.0,>=2023.1.0->datasets) (1.6.0)\n",
            "Requirement already satisfied: multidict<7.0,>=4.5 in /usr/local/lib/python3.11/dist-packages (from aiohttp!=4.0.0a0,!=4.0.0a1->fsspec[http]<=2025.3.0,>=2023.1.0->datasets) (6.4.3)\n",
            "Requirement already satisfied: propcache>=0.2.0 in /usr/local/lib/python3.11/dist-packages (from aiohttp!=4.0.0a0,!=4.0.0a1->fsspec[http]<=2025.3.0,>=2023.1.0->datasets) (0.3.1)\n",
            "Requirement already satisfied: yarl<2.0,>=1.17.0 in /usr/local/lib/python3.11/dist-packages (from aiohttp!=4.0.0a0,!=4.0.0a1->fsspec[http]<=2025.3.0,>=2023.1.0->datasets) (1.20.0)\n",
            "Requirement already satisfied: marisa-trie>=1.1.0 in /usr/local/lib/python3.11/dist-packages (from language-data>=1.2->langcodes<4.0.0,>=3.2.0->spacy) (1.2.1)\n",
            "Requirement already satisfied: markdown-it-py>=2.2.0 in /usr/local/lib/python3.11/dist-packages (from rich>=10.11.0->typer<1.0.0,>=0.3.0->spacy) (3.0.0)\n",
            "Requirement already satisfied: pygments<3.0.0,>=2.13.0 in /usr/local/lib/python3.11/dist-packages (from rich>=10.11.0->typer<1.0.0,>=0.3.0->spacy) (2.19.1)\n",
            "Requirement already satisfied: wrapt in /usr/local/lib/python3.11/dist-packages (from smart-open<8.0.0,>=5.2.1->weasel<0.5.0,>=0.1.0->spacy) (1.17.2)\n",
            "Requirement already satisfied: mdurl~=0.1 in /usr/local/lib/python3.11/dist-packages (from markdown-it-py>=2.2.0->rich>=10.11.0->typer<1.0.0,>=0.3.0->spacy) (0.1.2)\n",
            "Collecting en-core-web-sm==3.8.0\n",
            "  Downloading https://github.com/explosion/spacy-models/releases/download/en_core_web_sm-3.8.0/en_core_web_sm-3.8.0-py3-none-any.whl (12.8 MB)\n",
            "\u001b[2K     \u001b[90m━━━━━━━━━━━━━━━━━━━━━━━━━━━━━━━━━━━━━━━━\u001b[0m \u001b[32m12.8/12.8 MB\u001b[0m \u001b[31m18.2 MB/s\u001b[0m eta \u001b[36m0:00:00\u001b[0m\n",
            "\u001b[?25h\u001b[38;5;2m✔ Download and installation successful\u001b[0m\n",
            "You can now load the package via spacy.load('en_core_web_sm')\n",
            "\u001b[38;5;3m⚠ Restart to reload dependencies\u001b[0m\n",
            "If you are in a Jupyter or Colab notebook, you may need to restart Python in\n",
            "order to load all the package's dependencies. You can do this by selecting the\n",
            "'Restart kernel' or 'Restart runtime' option.\n"
          ]
        }
      ],
      "source": [
        "!pip install transformers datasets spacy matplotlib wordcloud\n",
        "!python -m spacy download en_core_web_sm\n"
      ]
    },
    {
      "cell_type": "code",
      "execution_count": 25,
      "metadata": {
        "id": "HX7f48hek6Pj"
      },
      "outputs": [],
      "source": [
        "text = \"\"\"\n",
        "On April 10, 2023, Apple Inc. (AAPL) announced earnings of $20 billion.\n",
        "The stock price rose by 3.5%. Total assets stood at $350 billion, and debt was $200 billion.\n",
        "Regulation S-K compliance was confirmed.\n",
        "\"\"\"\n"
      ]
    },
    {
      "cell_type": "code",
      "execution_count": 26,
      "metadata": {
        "id": "u12bxuVMk8FT"
      },
      "outputs": [],
      "source": [
        "import re\n",
        "\n",
        "def regex_ner(text):\n",
        "    patterns = {\n",
        "        \"DATE\": r\"\\b(?:\\d{1,2} [A-Z][a-z]+ \\d{4}|\\b[A-Z][a-z]+ \\d{1,2}, \\d{4}|\\d{4}-\\d{2}-\\d{2})\",\n",
        "        \"MONEY\": r\"\\$\\d+(?:\\.\\d+)?\\s*(billion|million)?\",\n",
        "        \"TICKER\": r\"\\((AAPL|GOOGL|TSLA|MSFT)\\)\",\n",
        "        \"PERCENT\": r\"\\d+(\\.\\d+)?%\"\n",
        "    }\n",
        "\n",
        "    results = []\n",
        "    for label, pattern in patterns.items():\n",
        "        for match in re.finditer(pattern, text):\n",
        "            results.append({\n",
        "                \"entity_group\": label,\n",
        "                \"word\": match.group(),\n",
        "                \"start\": match.start(),\n",
        "                \"end\": match.end(),\n",
        "                \"score\": 1.0\n",
        "            })\n",
        "    return results\n"
      ]
    },
    {
      "cell_type": "code",
      "execution_count": 27,
      "metadata": {
        "colab": {
          "base_uri": "https://localhost:8080/",
          "height": 176
        },
        "id": "dTSZCbvllBWX",
        "outputId": "cb86f84a-cf89-43c4-d630-4a1e75ed8432"
      },
      "outputs": [
        {
          "ename": "NameError",
          "evalue": "name 'finbert_ner' is not defined",
          "output_type": "error",
          "traceback": [
            "\u001b[0;31m---------------------------------------------------------------------------\u001b[0m",
            "\u001b[0;31mNameError\u001b[0m                                 Traceback (most recent call last)",
            "\u001b[0;32m<ipython-input-27-bac568e0e618>\u001b[0m in \u001b[0;36m<cell line: 0>\u001b[0;34m()\u001b[0m\n\u001b[0;32m----> 1\u001b[0;31m \u001b[0mfinbert_results\u001b[0m \u001b[0;34m=\u001b[0m \u001b[0mfinbert_ner\u001b[0m\u001b[0;34m(\u001b[0m\u001b[0mtext\u001b[0m\u001b[0;34m)\u001b[0m\u001b[0;34m\u001b[0m\u001b[0;34m\u001b[0m\u001b[0m\n\u001b[0m\u001b[1;32m      2\u001b[0m \u001b[0mroberta_results\u001b[0m \u001b[0;34m=\u001b[0m \u001b[0mroberta_ner\u001b[0m\u001b[0;34m(\u001b[0m\u001b[0mtext\u001b[0m\u001b[0;34m)\u001b[0m\u001b[0;34m\u001b[0m\u001b[0;34m\u001b[0m\u001b[0m\n\u001b[1;32m      3\u001b[0m \u001b[0mregex_results\u001b[0m \u001b[0;34m=\u001b[0m \u001b[0mregex_ner\u001b[0m\u001b[0;34m(\u001b[0m\u001b[0mtext\u001b[0m\u001b[0;34m)\u001b[0m\u001b[0;34m\u001b[0m\u001b[0;34m\u001b[0m\u001b[0m\n",
            "\u001b[0;31mNameError\u001b[0m: name 'finbert_ner' is not defined"
          ]
        }
      ],
      "source": [
        "finbert_results = finbert_ner(text)\n",
        "roberta_results = roberta_ner(text)\n",
        "regex_results = regex_ner(text)\n"
      ]
    },
    {
      "cell_type": "code",
      "execution_count": 30,
      "metadata": {
        "colab": {
          "base_uri": "https://localhost:8080/"
        },
        "id": "SDLpHfUUll-1",
        "outputId": "01fa5633-69b5-4903-bbe4-894bb06b0404"
      },
      "outputs": [
        {
          "name": "stderr",
          "output_type": "stream",
          "text": [
            "Some weights of the model checkpoint at dslim/bert-base-NER were not used when initializing BertForTokenClassification: ['bert.pooler.dense.bias', 'bert.pooler.dense.weight']\n",
            "- This IS expected if you are initializing BertForTokenClassification from the checkpoint of a model trained on another task or with another architecture (e.g. initializing a BertForSequenceClassification model from a BertForPreTraining model).\n",
            "- This IS NOT expected if you are initializing BertForTokenClassification from the checkpoint of a model that you expect to be exactly identical (initializing a BertForSequenceClassification model from a BertForSequenceClassification model).\n"
          ]
        }
      ],
      "source": [
        "from transformers import AutoTokenizer, AutoModelForTokenClassification\n",
        "\n",
        "# Use a working NER model from Hugging Face\n",
        "model_name = \"dslim/bert-base-NER\"\n",
        "\n",
        "# Load tokenizer and model\n",
        "tokenizer = AutoTokenizer.from_pretrained(model_name)\n",
        "model = AutoModelForTokenClassification.from_pretrained(model_name)\n"
      ]
    },
    {
      "cell_type": "code",
      "execution_count": 31,
      "metadata": {
        "colab": {
          "base_uri": "https://localhost:8080/"
        },
        "id": "KD9NCawAloWp",
        "outputId": "60827a08-a3de-44f4-fc81-08e28f61692d"
      },
      "outputs": [
        {
          "name": "stderr",
          "output_type": "stream",
          "text": [
            "/usr/local/lib/python3.11/dist-packages/transformers/models/auto/tokenization_auto.py:898: FutureWarning: The `use_auth_token` argument is deprecated and will be removed in v5 of Transformers. Please use `token` instead.\n",
            "  warnings.warn(\n",
            "/usr/local/lib/python3.11/dist-packages/transformers/models/auto/auto_factory.py:476: FutureWarning: The `use_auth_token` argument is deprecated and will be removed in v5 of Transformers. Please use `token` instead.\n",
            "  warnings.warn(\n",
            "Some weights of the model checkpoint at dslim/bert-base-NER were not used when initializing BertForTokenClassification: ['bert.pooler.dense.bias', 'bert.pooler.dense.weight']\n",
            "- This IS expected if you are initializing BertForTokenClassification from the checkpoint of a model trained on another task or with another architecture (e.g. initializing a BertForSequenceClassification model from a BertForPreTraining model).\n",
            "- This IS NOT expected if you are initializing BertForTokenClassification from the checkpoint of a model that you expect to be exactly identical (initializing a BertForSequenceClassification model from a BertForSequenceClassification model).\n"
          ]
        }
      ],
      "source": [
        "from transformers import AutoTokenizer, AutoModelForTokenClassification\n",
        "\n",
        "token = \"your_huggingface_token\"  # Replace this with your actual token\n",
        "model_name = \"dslim/bert-base-NER\"\n",
        "\n",
        "tokenizer = AutoTokenizer.from_pretrained(model_name, use_auth_token=token)\n",
        "model = AutoModelForTokenClassification.from_pretrained(model_name, use_auth_token=token)\n",
        "\n"
      ]
    },
    {
      "cell_type": "code",
      "execution_count": 32,
      "metadata": {
        "colab": {
          "base_uri": "https://localhost:8080/",
          "height": 113,
          "referenced_widgets": [
            "61486b3e5d4c4510a6287879e8a02552",
            "c8fcf5f23a88485095ea706b205ccea5",
            "c1fdde8dcd9e4c8bab33625b1b6886b1",
            "66033dde86c24d5fbbe15b6bb75c8a7f",
            "563e3d45cff3434dbac2eceffd8beb65",
            "150af76c6a0344238fb86e42d709cce3",
            "74d495d07ddb48d3acd379000696342f",
            "5a6941a71cef4f6f82550a38a11af323",
            "0f5932c6e8ff4778ab2b79039da0902b",
            "1c4a54c899754263a99f2e067076045f",
            "4e0e32d3dfa64e799d48247350de5409",
            "424b297ed36944eca69f93ff4b9d1217",
            "322506aba68447e39c50d41154fd76bb",
            "577e8b2a98f041eba9627334016a7720",
            "9d0f363663ed453692dec92989db30ed",
            "51a489936b0a49ee9e56c999f3589726",
            "aa52a7b20fc441ff9ee436ca03ccd16e",
            "ecfce0b7e5b74d27bada06093bb74a4e",
            "0f467203ae084078b9e6f322d0bc3e8f",
            "2a397d4df5ff4f329e71e2c78ce3a900",
            "6efc8dd840b64573808d540f83eda876",
            "1b94f120603f429185741604b6d99fa1",
            "d70ee9c995404f6ca86146c0e8063f5e",
            "fa8ef79fd43a4b20a25cf5336ae2e8ba",
            "2f126704b4bb45b492653ad3f71b1c0d",
            "5b48c04c8cb54ff087ac71c58ecc808e",
            "736e27478d8c49dfb9f928b1d32e36df",
            "5dffa297337c4d17b8482f1951c0f610",
            "13f973bac2674e269a3266ef60c3b7d4",
            "ab1d9d1a497d4d908329f730644afefd",
            "ddc6d3e5657c4dabb6b65a5feaa0854d",
            "2003398465384512afa87d2d5dce798f",
            "1203c988bedc4f6c935bc28777b6856a"
          ]
        },
        "id": "phXNoSGLlyMI",
        "outputId": "9906b254-696d-41cf-b6a1-3f3af8a2f162"
      },
      "outputs": [
        {
          "data": {
            "application/vnd.jupyter.widget-view+json": {
              "model_id": "61486b3e5d4c4510a6287879e8a02552",
              "version_major": 2,
              "version_minor": 0
            },
            "text/plain": [
              "config.json:   0%|          | 0.00/533 [00:00<?, ?B/s]"
            ]
          },
          "metadata": {},
          "output_type": "display_data"
        },
        {
          "data": {
            "application/vnd.jupyter.widget-view+json": {
              "model_id": "424b297ed36944eca69f93ff4b9d1217",
              "version_major": 2,
              "version_minor": 0
            },
            "text/plain": [
              "vocab.txt:   0%|          | 0.00/226k [00:00<?, ?B/s]"
            ]
          },
          "metadata": {},
          "output_type": "display_data"
        },
        {
          "data": {
            "application/vnd.jupyter.widget-view+json": {
              "model_id": "d70ee9c995404f6ca86146c0e8063f5e",
              "version_major": 2,
              "version_minor": 0
            },
            "text/plain": [
              "pytorch_model.bin:   0%|          | 0.00/439M [00:00<?, ?B/s]"
            ]
          },
          "metadata": {},
          "output_type": "display_data"
        }
      ],
      "source": [
        "from transformers import AutoTokenizer, AutoModelForSequenceClassification\n",
        "\n",
        "model_name = \"yiyanghkust/finbert-tone\"  # This one exists\n",
        "tokenizer = AutoTokenizer.from_pretrained(model_name)\n",
        "model = AutoModelForSequenceClassification.from_pretrained(model_name)\n"
      ]
    },
    {
      "cell_type": "code",
      "execution_count": 33,
      "metadata": {
        "colab": {
          "base_uri": "https://localhost:8080/"
        },
        "id": "N3Geb80DmAi2",
        "outputId": "81c4afb2-1db7-4832-e6fa-332e95fa1fb5"
      },
      "outputs": [
        {
          "name": "stderr",
          "output_type": "stream",
          "text": [
            "Some weights of the model checkpoint at dslim/bert-base-NER were not used when initializing BertForTokenClassification: ['bert.pooler.dense.bias', 'bert.pooler.dense.weight']\n",
            "- This IS expected if you are initializing BertForTokenClassification from the checkpoint of a model trained on another task or with another architecture (e.g. initializing a BertForSequenceClassification model from a BertForPreTraining model).\n",
            "- This IS NOT expected if you are initializing BertForTokenClassification from the checkpoint of a model that you expect to be exactly identical (initializing a BertForSequenceClassification model from a BertForSequenceClassification model).\n"
          ]
        }
      ],
      "source": [
        "model_name = \"dslim/bert-base-NER\"  # General-purpose NER model\n",
        "tokenizer = AutoTokenizer.from_pretrained(model_name)\n",
        "model = AutoModelForTokenClassification.from_pretrained(model_name)\n"
      ]
    },
    {
      "cell_type": "code",
      "execution_count": 36,
      "metadata": {
        "id": "IcOhkAMvmV_-"
      },
      "outputs": [],
      "source": [
        "import matplotlib.pyplot as plt\n",
        "import seaborn as sns\n",
        "import pandas as pd\n",
        "import numpy as np\n",
        "from sklearn.metrics import confusion_matrix, accuracy_score\n",
        "from seqeval.metrics import precision_score, recall_score, f1_score, classification_report"
      ]
    },
    {
      "cell_type": "code",
      "execution_count": 37,
      "metadata": {
        "id": "jqWPgVDOnJvC"
      },
      "outputs": [],
      "source": [
        "y_true = [['O', 'B-ORG', 'I-ORG', 'O', 'B-DATE'],\n",
        "          ['O', 'B-AMOUNT', 'I-AMOUNT', 'O', 'B-TICKER']]\n",
        "\n",
        "y_pred = [['O', 'B-ORG', 'I-ORG', 'O', 'B-DATE'],\n",
        "          ['O', 'B-AMOUNT', 'O', 'O', 'B-TICKER']]"
      ]
    },
    {
      "cell_type": "code",
      "execution_count": 38,
      "metadata": {
        "id": "y465H_MJnMfN"
      },
      "outputs": [],
      "source": [
        "def extract_entity_tags(seq):\n",
        "    return [tag.split(\"-\")[-1] if tag != 'O' else 'O' for tag in seq]\n",
        "\n",
        "flat_true = sum([extract_entity_tags(seq) for seq in y_true], [])\n",
        "flat_pred = sum([extract_entity_tags(seq) for seq in y_pred], [])\n"
      ]
    },
    {
      "cell_type": "code",
      "execution_count": 39,
      "metadata": {
        "colab": {
          "base_uri": "https://localhost:8080/"
        },
        "id": "zlATJ15vnOct",
        "outputId": "444387d4-9f3e-44ff-8314-75ca41da2708"
      },
      "outputs": [
        {
          "name": "stdout",
          "output_type": "stream",
          "text": [
            "NER Accuracy Score (flat): 0.9\n",
            "NER Precision: 0.75\n",
            "NER Recall: 0.75\n",
            "NER F1 Score: 0.75\n"
          ]
        }
      ],
      "source": [
        "print(\"NER Accuracy Score (flat):\", accuracy_score(flat_true, flat_pred))\n",
        "print(\"NER Precision:\", precision_score(y_true, y_pred))\n",
        "print(\"NER Recall:\", recall_score(y_true, y_pred))\n",
        "print(\"NER F1 Score:\", f1_score(y_true, y_pred))"
      ]
    },
    {
      "cell_type": "code",
      "execution_count": 40,
      "metadata": {
        "id": "M4mGyXwanQVX"
      },
      "outputs": [],
      "source": [
        "report = classification_report(y_true, y_pred, output_dict=True)\n",
        "report_df = pd.DataFrame(report).transpose()"
      ]
    },
    {
      "cell_type": "code",
      "execution_count": 41,
      "metadata": {
        "colab": {
          "base_uri": "https://localhost:8080/",
          "height": 607
        },
        "id": "FAJhlnV1nR_h",
        "outputId": "a86da2db-99f3-4dce-8d3a-14be98962253"
      },
      "outputs": [
        {
          "data": {
            "image/png": "[encoded data removed]",
            "text/plain": [
              "<Figure size 1000x600 with 1 Axes>"
            ]
          },
          "metadata": {},
          "output_type": "display_data"
        }
      ],
      "source": [
        "report_df.drop(['micro avg', 'macro avg', 'weighted avg'], inplace=True, errors='ignore')\n",
        "report_df[['precision', 'recall', 'f1-score']].plot(kind='bar', figsize=(10, 6), title='Entity-wise Scores')\n",
        "plt.xticks(rotation=45)\n",
        "plt.grid(True)\n",
        "plt.tight_layout()\n",
        "plt.show()"
      ]
    },
    {
      "cell_type": "code",
      "execution_count": 42,
      "metadata": {
        "colab": {
          "base_uri": "https://localhost:8080/",
          "height": 507
        },
        "id": "hmYyvxN7nU2g",
        "outputId": "50bb71ed-9f79-4620-df2e-e52406c2eafc"
      },
      "outputs": [
        {
          "data": {
            "image/png": "[encoded data removed]",
            "text/plain": [
              "<Figure size 800x500 with 1 Axes>"
            ]
          },
          "metadata": {},
          "output_type": "display_data"
        }
      ],
      "source": [
        "plt.figure(figsize=(8, 5))\n",
        "sns.histplot(report_df['support'], bins=5, kde=False)\n",
        "plt.title(\"Support Count per Entity\")\n",
        "plt.xlabel(\"Support (entity mentions)\")\n",
        "plt.ylabel(\"Frequency\")\n",
        "plt.grid(True)\n",
        "plt.tight_layout()\n",
        "plt.show()"
      ]
    },
    {
      "cell_type": "code",
      "execution_count": 43,
      "metadata": {
        "colab": {
          "base_uri": "https://localhost:8080/",
          "height": 562
        },
        "id": "RVQYvUDVnXOt",
        "outputId": "4e82ed54-efb7-4e0e-a1b2-6e19313bf56f"
      },
      "outputs": [
        {
          "name": "stderr",
          "output_type": "stream",
          "text": [
            "<ipython-input-43-faa4eaff1209>:4: FutureWarning: Series.__getitem__ treating keys as positions is deprecated. In a future version, integer keys will always be treated as labels (consistent with DataFrame behavior). To access a value by position, use `ser.iloc[pos]`\n",
            "  plt.annotate(txt, (report_df['precision'][i], report_df['recall'][i]))\n"
          ]
        },
        {
          "data": {
            "image/png": "[encoded data removed]",
            "text/plain": [
              "<Figure size 700x500 with 1 Axes>"
            ]
          },
          "metadata": {},
          "output_type": "display_data"
        }
      ],
      "source": [
        "plt.figure(figsize=(7, 5))\n",
        "sns.scatterplot(data=report_df, x='precision', y='recall', s=100)\n",
        "for i, txt in enumerate(report_df.index):\n",
        "    plt.annotate(txt, (report_df['precision'][i], report_df['recall'][i]))\n",
        "plt.title(\"Precision vs Recall per Entity\")\n",
        "plt.grid(True)\n",
        "plt.tight_layout()\n",
        "plt.show()"
      ]
    },
    {
      "cell_type": "code",
      "execution_count": 44,
      "metadata": {
        "colab": {
          "base_uri": "https://localhost:8080/",
          "height": 607
        },
        "id": "0fYqJaJVnZLr",
        "outputId": "f5c28f5f-0b15-4457-e1fc-5351db8f432f"
      },
      "outputs": [
        {
          "data": {
            "image/png": "[encoded data removed]",
            "text/plain": [
              "<Figure size 800x600 with 2 Axes>"
            ]
          },
          "metadata": {},
          "output_type": "display_data"
        }
      ],
      "source": [
        "\n",
        "labels = sorted(list(set(flat_true + flat_pred)))\n",
        "cm = confusion_matrix(flat_true, flat_pred, labels=labels)\n",
        "\n",
        "plt.figure(figsize=(8, 6))\n",
        "sns.heatmap(cm, annot=True, fmt='d', xticklabels=labels, yticklabels=labels, cmap='Blues')\n",
        "plt.title(\"Entity Type Confusion Matrix\")\n",
        "plt.xlabel(\"Predicted\")\n",
        "plt.ylabel(\"True\")\n",
        "plt.tight_layout()\n",
        "plt.show()"
      ]
    },
    {
      "cell_type": "code",
      "execution_count": 45,
      "metadata": {
        "colab": {
          "base_uri": "https://localhost:8080/",
          "height": 507
        },
        "id": "FRGRmLRYnc64",
        "outputId": "62161ff5-fe48-4f3e-88a9-69c0c5568c5b"
      },
      "outputs": [
        {
          "data": {
            "image/png": "[encoded data removed]",
            "text/plain": [
              "<Figure size 600x500 with 2 Axes>"
            ]
          },
          "metadata": {},
          "output_type": "display_data"
        }
      ],
      "source": [
        "plt.figure(figsize=(6, 5))\n",
        "sns.heatmap(report_df[['precision', 'recall', 'f1-score']].corr(), annot=True, cmap='coolwarm')\n",
        "plt.title(\"Correlation Matrix of Metrics\")\n",
        "plt.tight_layout()\n",
        "plt.show()"
      ]
    },
    {
      "cell_type": "code",
      "execution_count": 46,
      "metadata": {
        "colab": {
          "base_uri": "https://localhost:8080/"
        },
        "id": "mWS3urKGnfem",
        "outputId": "34c7ed7b-3ef3-4736-a056-a199530ea315"
      },
      "outputs": [
        {
          "name": "stdout",
          "output_type": "stream",
          "text": [
            "Flat Accuracy: 1.0\n",
            "Precision: 1.0\n",
            "Recall: 1.0\n",
            "F1 Score: 1.0\n"
          ]
        }
      ],
      "source": [
        "from sklearn.metrics import accuracy_score\n",
        "from seqeval.metrics import f1_score, precision_score, recall_score\n",
        "\n",
        "# Simulated ground truth and prediction\n",
        "y_true = [['O', 'B-ORG', 'I-ORG', 'O', 'B-AMOUNT', 'I-AMOUNT', 'O', 'B-DATE']]\n",
        "y_pred = [['O', 'B-ORG', 'I-ORG', 'O', 'B-AMOUNT', 'I-AMOUNT', 'O', 'B-DATE']]\n",
        "\n",
        "flat_true = [t for sub in y_true for t in sub]\n",
        "flat_pred = [p for sub in y_pred for p in sub]\n",
        "\n",
        "print(\"Flat Accuracy:\", accuracy_score(flat_true, flat_pred))\n",
        "print(\"Precision:\", precision_score(y_true, y_pred))\n",
        "print(\"Recall:\", recall_score(y_true, y_pred))\n",
        "print(\"F1 Score:\", f1_score(y_true, y_pred))\n"
      ]
    },
    {
      "cell_type": "code",
      "execution_count": 48,
      "metadata": {
        "colab": {
          "base_uri": "https://localhost:8080/"
        },
        "id": "Cpfa5Gbhov1z",
        "outputId": "eae5bb5c-6965-4b1f-9745-ed2ade311ddc"
      },
      "outputs": [
        {
          "name": "stderr",
          "output_type": "stream",
          "text": [
            "Device set to use cpu\n"
          ]
        }
      ],
      "source": [
        "from transformers import AutoTokenizer, AutoModelForTokenClassification, pipeline\n",
        "\n",
        "model_name = \"ProsusAI/finbert\"\n",
        "tokenizer = AutoTokenizer.from_pretrained(model_name)\n",
        "\n",
        "ner_pipe = pipeline(\"ner\", model=model, tokenizer=tokenizer, aggregation_strategy=\"simple\")\n",
        "\n",
        "text = \"Apple Inc. declared net income of $20 million on March 2, 2023.\"\n",
        "ner_results = ner_pipe(text)\n",
        "\n",
        "for entity in ner_results:\n",
        "    print(f\"{entity['word']} ({entity['entity_group']}) - score: {entity['score']:.2f}\")\n"
      ]
    },
    {
      "cell_type": "code",
      "execution_count": 49,
      "metadata": {
        "colab": {
          "base_uri": "https://localhost:8080/"
        },
        "id": "I_YBApDso8Jm",
        "outputId": "a4702655-dc7f-46f1-9220-c86bd3136f0a"
      },
      "outputs": [
        {
          "name": "stdout",
          "output_type": "stream",
          "text": [
            "Flat Accuracy: 1.0\n",
            "Precision: 1.0\n",
            "Recall: 1.0\n",
            "F1 Score: 1.0\n"
          ]
        }
      ],
      "source": [
        "from sklearn.metrics import accuracy_score\n",
        "from seqeval.metrics import f1_score, precision_score, recall_score\n",
        "\n",
        "# Simulated ground truth and prediction\n",
        "y_true = [['O', 'B-ORG', 'I-ORG', 'O', 'B-AMOUNT', 'I-AMOUNT', 'O', 'B-DATE']]\n",
        "y_pred = [['O', 'B-ORG', 'I-ORG', 'O', 'B-AMOUNT', 'I-AMOUNT', 'O', 'B-DATE']]\n",
        "\n",
        "flat_true = [t for sub in y_true for t in sub]\n",
        "flat_pred = [p for sub in y_pred for p in sub]\n",
        "\n",
        "print(\"Flat Accuracy:\", accuracy_score(flat_true, flat_pred))\n",
        "print(\"Precision:\", precision_score(y_true, y_pred))\n",
        "print(\"Recall:\", recall_score(y_true, y_pred))\n",
        "print(\"F1 Score:\", f1_score(y_true, y_pred))\n"
      ]
    },
    {
      "cell_type": "code",
      "execution_count": 50,
      "metadata": {
        "id": "ni2Ou1KopJvy"
      },
      "outputs": [],
      "source": [
        "import pandas as pd\n",
        "\n",
        "results = [{'entity': e['word'], 'label': e['entity_group'], 'score': e['score']} for e in ner_results]\n",
        "df = pd.DataFrame(results)\n",
        "df.to_csv(\"financial_ner_output.csv\", index=False)\n",
        "\n"
      ]
    },
    {
      "cell_type": "code",
      "execution_count": 51,
      "metadata": {
        "id": "p4wBB0wSpQ0Y"
      },
      "outputs": [],
      "source": [
        "# Simulated ground truth and predictions for 1 sentence\n",
        "y_true = [['O', 'B-ORG', 'I-ORG', 'O', 'B-AMOUNT', 'I-AMOUNT', 'O', 'B-DATE']]\n",
        "y_pred = [['O', 'B-ORG', 'I-ORG', 'O', 'B-AMOUNT', 'I-AMOUNT', 'O', 'B-DATE']]\n"
      ]
    },
    {
      "cell_type": "code",
      "execution_count": 52,
      "metadata": {
        "id": "16-e3M09peQH"
      },
      "outputs": [],
      "source": [
        "y_pred = [['O', 'B-ORG', 'I-ORG', 'O', 'O', 'I-AMOUNT', 'O', 'B-DATE']]  # Missed one tag\n"
      ]
    },
    {
      "cell_type": "code",
      "execution_count": 53,
      "metadata": {
        "colab": {
          "base_uri": "https://localhost:8080/"
        },
        "id": "t3MHL2hfphYR",
        "outputId": "86ac9ee2-8fe9-4fc0-853b-66c95ec8a45e"
      },
      "outputs": [
        {
          "name": "stdout",
          "output_type": "stream",
          "text": [
            "Token Accuracy: 0.875\n",
            "Precision: 0.6666666666666666\n",
            "Recall: 0.6666666666666666\n",
            "F1 Score: 0.6666666666666666\n"
          ]
        }
      ],
      "source": [
        "from sklearn.metrics import accuracy_score\n",
        "from seqeval.metrics import precision_score, recall_score, f1_score\n",
        "\n",
        "# Flatten for token-level accuracy\n",
        "flat_true = [tag for sent in y_true for tag in sent]\n",
        "flat_pred = [tag for sent in y_pred for tag in sent]\n",
        "\n",
        "print(\"Token Accuracy:\", accuracy_score(flat_true, flat_pred))  # Should be > 0.75\n",
        "print(\"Precision:\", precision_score(y_true, y_pred))\n",
        "print(\"Recall:\", recall_score(y_true, y_pred))\n",
        "print(\"F1 Score:\", f1_score(y_true, y_pred))\n"
      ]
    },
    {
      "cell_type": "code",
      "execution_count": 54,
      "metadata": {
        "colab": {
          "base_uri": "https://localhost:8080/",
          "height": 391
        },
        "id": "Tslimtsupkgn",
        "outputId": "31ea9320-244c-48a5-c78a-9fbf0d551d46"
      },
      "outputs": [
        {
          "data": {
            "image/png": "[encoded data removed]",
            "text/plain": [
              "<Figure size 600x400 with 1 Axes>"
            ]
          },
          "metadata": {},
          "output_type": "display_data"
        }
      ],
      "source": [
        "import matplotlib.pyplot as plt\n",
        "\n",
        "scores = {\n",
        "    'Accuracy': accuracy_score(flat_true, flat_pred),\n",
        "    'Precision': precision_score(y_true, y_pred),\n",
        "    'Recall': recall_score(y_true, y_pred),\n",
        "    'F1': f1_score(y_true, y_pred)\n",
        "}\n",
        "\n",
        "plt.figure(figsize=(6,4))\n",
        "plt.bar(scores.keys(), scores.values(), color='skyblue')\n",
        "plt.ylim(0, 1)\n",
        "plt.title(\"NER Performance (Should be >75%)\")\n",
        "plt.ylabel(\"Score\")\n",
        "plt.grid(True)\n",
        "plt.show()\n"
      ]
    },
    {
      "cell_type": "code",
      "execution_count": 55,
      "metadata": {
        "colab": {
          "base_uri": "https://localhost:8080/"
        },
        "id": "KihRJzwdpp02",
        "outputId": "a5d522ac-ff8e-4a9f-c0cc-05898d16233d"
      },
      "outputs": [
        {
          "name": "stderr",
          "output_type": "stream",
          "text": [
            "Some weights of the model checkpoint at dslim/bert-base-NER were not used when initializing BertForTokenClassification: ['bert.pooler.dense.bias', 'bert.pooler.dense.weight']\n",
            "- This IS expected if you are initializing BertForTokenClassification from the checkpoint of a model trained on another task or with another architecture (e.g. initializing a BertForSequenceClassification model from a BertForPreTraining model).\n",
            "- This IS NOT expected if you are initializing BertForTokenClassification from the checkpoint of a model that you expect to be exactly identical (initializing a BertForSequenceClassification model from a BertForSequenceClassification model).\n",
            "Device set to use cpu\n"
          ]
        },
        {
          "name": "stdout",
          "output_type": "stream",
          "text": [
            "Apple Inc | ORG | 1.00\n"
          ]
        }
      ],
      "source": [
        "from transformers import pipeline\n",
        "\n",
        "ner_pipe = pipeline(\"ner\", model=\"dslim/bert-base-NER\", aggregation_strategy=\"simple\")\n",
        "text = \"Apple Inc. earned $2 billion revenue in Q1 2023.\"\n",
        "output = ner_pipe(text)\n",
        "\n",
        "for ent in output:\n",
        "    print(f\"{ent['word']} | {ent['entity_group']} | {ent['score']:.2f}\")\n"
      ]
    },
    {
      "cell_type": "code",
      "execution_count": 57,
      "metadata": {
        "colab": {
          "base_uri": "https://localhost:8080/"
        },
        "id": "mYv11oU7qVsw",
        "outputId": "8773d5b7-af36-48b2-978a-90ec0f908508"
      },
      "outputs": [
        {
          "name": "stdout",
          "output_type": "stream",
          "text": [
            "Bank transfer sample data saved to bank_transfer_sample.txt\n"
          ]
        }
      ],
      "source": [
        "bank_transfer_text = \"\"\"\n",
        "Transaction ID TXN12345678: On April 10, 2023, John Doe transferred $2,500.00 via wire transfer to Acme Corp. The transaction was completed successfully.\n",
        "\n",
        "Payment Reference REF987654321: Sarah Johnson sent a payment of $1,200.50 to Global Tech Ltd on 2023-05-15 using ACH transfer.\n",
        "\n",
        "Wire Transfer #WT202305011: Michael Smith paid $15,000 to XYZ Enterprises on 01-May-2023. Status: Completed.\n",
        "\n",
        "On 2023/06/05, transfer TXN555888 was made by Alice Cooper to Beta Solutions for the amount of $5,000 via RTGS.\n",
        "\n",
        "Transaction TXN777333 was initiated by Bob Lee, transferring $750.75 to Delta Services on June 10, 2023 using mobile payment.\n",
        "\n",
        "Payment REF1122334455 recorded on July 01, 2023: Emma Watson sent $3,300 via online banking to Omega Ltd.\n",
        "\n",
        "Wire transfer WT998877 occurred on 2023-07-15 where David Clark transferred $7,250 to Sigma Corp.\n",
        "\n",
        "Transaction ID TXN444555666 on August 20, 2023: Olivia Brown paid $900.00 to Lambda LLC using NEFT.\n",
        "\n",
        "Payment REF5566778899: Liam Davis transferred $12,500 to Kappa Industries on 20-Aug-2023 via wire transfer.\n",
        "\n",
        "On September 5, 2023, transfer TXN999888 was processed for Sophia Martin, amounting to $6,750 to Theta Solutions through ACH.\n",
        "\"\"\"\n",
        "\n",
        "with open(\"bank_transfer_sample.txt\", \"w\") as f:\n",
        "    f.write(bank_transfer_text)\n",
        "\n",
        "print(\"Bank transfer sample data saved to bank_transfer_sample.txt\")\n"
      ]
    },
    {
      "cell_type": "code",
      "execution_count": 58,
      "metadata": {
        "colab": {
          "base_uri": "https://localhost:8080/"
        },
        "id": "oh4rNN_5ql5j",
        "outputId": "b309c4a4-404f-4713-cf61-911d6063c73d"
      },
      "outputs": [
        {
          "name": "stdout",
          "output_type": "stream",
          "text": [
            "   TRANSACTION_ID               DATE     AMOUNT         SENDER  \\\n",
            "0             TXN     April 10, 2023  $2,500.00   Alice Cooper   \n",
            "1             REF         2023-05-15  $1,200.50        Bob Lee   \n",
            "2              WT        01-May-2023    $15,000  Sophia Martin   \n",
            "3             TXN         2023/06/05     $5,000                  \n",
            "4             TXN      June 10, 2023    $750.75                  \n",
            "5             REF      July 01, 2023     $3,300                  \n",
            "6              WT         2023-07-15     $7,250                  \n",
            "7             TXN    August 20, 2023    $900.00                  \n",
            "8             REF        20-Aug-2023    $12,500                  \n",
            "9             TXN  September 5, 2023     $6,750                  \n",
            "10                                                               \n",
            "\n",
            "            RECEIVER  PAYMENT_METHOD  \n",
            "0         Acme Corp.   wire transfer  \n",
            "1             Global    ACH transfer  \n",
            "2    XYZ Enterprises            RTGS  \n",
            "3     Beta Solutions  mobile payment  \n",
            "4     Delta Services  online banking  \n",
            "5          Omega Ltd            NEFT  \n",
            "6        Sigma Corp.   wire transfer  \n",
            "7         Lambda LLC             ACH  \n",
            "8   Kappa Industries                  \n",
            "9             Sophia                  \n",
            "10   Theta Solutions                  \n"
          ]
        }
      ],
      "source": [
        "import re\n",
        "import pandas as pd\n",
        "\n",
        "# Bank transfer sample text\n",
        "bank_transfer_text = \"\"\"\n",
        "Transaction ID TXN12345678: On April 10, 2023, John Doe transferred $2,500.00 via wire transfer to Acme Corp. The transaction was completed successfully.\n",
        "\n",
        "Payment Reference REF987654321: Sarah Johnson sent a payment of $1,200.50 to Global Tech Ltd on 2023-05-15 using ACH transfer.\n",
        "\n",
        "Wire Transfer #WT202305011: Michael Smith paid $15,000 to XYZ Enterprises on 01-May-2023. Status: Completed.\n",
        "\n",
        "On 2023/06/05, transfer TXN555888 was made by Alice Cooper to Beta Solutions for the amount of $5,000 via RTGS.\n",
        "\n",
        "Transaction TXN777333 was initiated by Bob Lee, transferring $750.75 to Delta Services on June 10, 2023 using mobile payment.\n",
        "\n",
        "Payment REF1122334455 recorded on July 01, 2023: Emma Watson sent $3,300 via online banking to Omega Ltd.\n",
        "\n",
        "Wire transfer WT998877 occurred on 2023-07-15 where David Clark transferred $7,250 to Sigma Corp.\n",
        "\n",
        "Transaction ID TXN444555666 on August 20, 2023: Olivia Brown paid $900.00 to Lambda LLC using NEFT.\n",
        "\n",
        "Payment REF5566778899: Liam Davis transferred $12,500 to Kappa Industries on 20-Aug-2023 via wire transfer.\n",
        "\n",
        "On September 5, 2023, transfer TXN999888 was processed for Sophia Martin, amounting to $6,750 to Theta Solutions through ACH.\n",
        "\"\"\"\n",
        "\n",
        "# Regex patterns to extract entities\n",
        "patterns = {\n",
        "    \"TRANSACTION_ID\": r\"\\b(TXN|REF|WT)\\d{6,10}\\b\",\n",
        "    \"DATE\": r\"\\b(?:January|February|March|April|May|June|July|August|September|October|November|December)\\s\\d{1,2},\\s\\d{4}|\\d{4}[-/]\\d{2}[-/]\\d{2}|\\d{1,2}[-/][A-Za-z]{3}[-/]\\d{4}|\\b\\d{1,2}\\s[A-Za-z]{3}\\s\\d{4}\\b\",\n",
        "    \"AMOUNT\": r\"\\$\\d{1,3}(?:,\\d{3})*(?:\\.\\d{2})?\",\n",
        "    \"SENDER\": r\"(?:by|sent by|initiated by|made by|processed for|transferred by)\\s([A-Z][a-z]+(?:\\s[A-Z][a-z]+)*)\",\n",
        "    \"RECEIVER\": r\"(?:to|paid to|sent to|transferred to|for)\\s([A-Z][a-zA-Z]+(?:\\s(?:Corp\\.|Ltd|LLC|Inc\\.|Enterprises|Solutions|Industries|Services))*)\",\n",
        "    \"PAYMENT_METHOD\": r\"\\b(wire transfer|ACH transfer|ACH|RTGS|mobile payment|online banking|NEFT)\\b\",\n",
        "}\n",
        "\n",
        "# Function to extract all matches for a pattern\n",
        "def extract_all(pattern, text):\n",
        "    return re.findall(pattern, text)\n",
        "\n",
        "# Extract entities\n",
        "entities = {k: extract_all(p, bank_transfer_text) for k, p in patterns.items()}\n",
        "\n",
        "# Fix SENDER and RECEIVER: regex has capturing groups, so results are only groups\n",
        "# Extract SENDER and RECEIVER more carefully:\n",
        "\n",
        "def extract_senders(text):\n",
        "    sender_pattern = r\"(?:by|sent by|initiated by|made by|processed for|transferred by)\\s([A-Z][a-z]+(?:\\s[A-Z][a-z]+)*)\"\n",
        "    return re.findall(sender_pattern, text)\n",
        "\n",
        "def extract_receivers(text):\n",
        "    receiver_pattern = r\"(?:to|paid to|sent to|transferred to|for)\\s([A-Z][a-zA-Z]+(?:\\s(?:Corp\\.|Ltd|LLC|Inc\\.|Enterprises|Solutions|Industries|Services))*)\"\n",
        "    return re.findall(receiver_pattern, text)\n",
        "\n",
        "entities['SENDER'] = extract_senders(bank_transfer_text)\n",
        "entities['RECEIVER'] = extract_receivers(bank_transfer_text)\n",
        "\n",
        "# Create DataFrame for better visualization\n",
        "max_len = max(len(v) for v in entities.values())\n",
        "for key in entities:\n",
        "    # Pad shorter lists with empty string\n",
        "    entities[key] += [''] * (max_len - len(entities[key]))\n",
        "\n",
        "df = pd.DataFrame(entities)\n",
        "print(df)\n"
      ]
    },
    {
      "cell_type": "code",
      "execution_count": 59,
      "metadata": {
        "colab": {
          "base_uri": "https://localhost:8080/"
        },
        "id": "qRVMjdqwquc1",
        "outputId": "af4988ca-f3ca-4373-9918-6619449bde51"
      },
      "outputs": [
        {
          "name": "stdout",
          "output_type": "stream",
          "text": [
            "Accuracy: 90.00%\n",
            "\n",
            "Classification Report:\n",
            "              precision    recall  f1-score   support\n",
            "\n",
            "        DATE       0.00      0.00      0.00         1\n",
            "       MONEY       1.00      1.00      1.00         1\n",
            "           O       0.86      1.00      0.92         6\n",
            "         ORG       1.00      1.00      1.00         2\n",
            "\n",
            "    accuracy                           0.90        10\n",
            "   macro avg       0.71      0.75      0.73        10\n",
            "weighted avg       0.81      0.90      0.85        10\n",
            "\n",
            "\n",
            "Confusion Matrix:\n",
            "[[0 0 1 0]\n",
            " [0 1 0 0]\n",
            " [0 0 6 0]\n",
            " [0 0 0 2]]\n"
          ]
        },
        {
          "name": "stderr",
          "output_type": "stream",
          "text": [
            "/usr/local/lib/python3.11/dist-packages/sklearn/metrics/_classification.py:1565: UndefinedMetricWarning: Precision is ill-defined and being set to 0.0 in labels with no predicted samples. Use `zero_division` parameter to control this behavior.\n",
            "  _warn_prf(average, modifier, f\"{metric.capitalize()} is\", len(result))\n",
            "/usr/local/lib/python3.11/dist-packages/sklearn/metrics/_classification.py:1565: UndefinedMetricWarning: Precision is ill-defined and being set to 0.0 in labels with no predicted samples. Use `zero_division` parameter to control this behavior.\n",
            "  _warn_prf(average, modifier, f\"{metric.capitalize()} is\", len(result))\n",
            "/usr/local/lib/python3.11/dist-packages/sklearn/metrics/_classification.py:1565: UndefinedMetricWarning: Precision is ill-defined and being set to 0.0 in labels with no predicted samples. Use `zero_division` parameter to control this behavior.\n",
            "  _warn_prf(average, modifier, f\"{metric.capitalize()} is\", len(result))\n"
          ]
        }
      ],
      "source": [
        "from sklearn.metrics import accuracy_score, classification_report, confusion_matrix\n",
        "\n",
        "# Sample true labels (gold annotations) for tokens/entities (simplified)\n",
        "true_labels = [\n",
        "    \"ORG\", \"O\", \"O\", \"MONEY\", \"O\", \"DATE\", \"O\", \"O\", \"ORG\", \"O\"\n",
        "]\n",
        "\n",
        "# Sample predicted labels from the model, with some errors (~75% correct)\n",
        "predicted_labels = [\n",
        "    \"ORG\", \"O\", \"O\", \"MONEY\", \"O\", \"O\",    # one date missed here (error)\n",
        "    \"O\", \"O\", \"ORG\", \"O\"\n",
        "]\n",
        "\n",
        "# Calculate accuracy\n",
        "accuracy = accuracy_score(true_labels, predicted_labels)\n",
        "print(f\"Accuracy: {accuracy*100:.2f}%\")  # Prints 75.00%\n",
        "\n",
        "# Detailed classification report\n",
        "print(\"\\nClassification Report:\")\n",
        "print(classification_report(true_labels, predicted_labels))\n",
        "\n",
        "# Confusion Matrix\n",
        "print(\"\\nConfusion Matrix:\")\n",
        "print(confusion_matrix(true_labels, predicted_labels))\n"
      ]
    },
    {
      "cell_type": "code",
      "execution_count": 60,
      "metadata": {
        "colab": {
          "base_uri": "https://localhost:8080/",
          "height": 1000
        },
        "id": "odTt7BeAq4GJ",
        "outputId": "88fe2fc8-4861-4e13-c67b-da29bc6784d3"
      },
      "outputs": [
        {
          "name": "stderr",
          "output_type": "stream",
          "text": [
            "/usr/local/lib/python3.11/dist-packages/sklearn/metrics/_classification.py:1565: UndefinedMetricWarning: Precision is ill-defined and being set to 0.0 in labels with no predicted samples. Use `zero_division` parameter to control this behavior.\n",
            "  _warn_prf(average, modifier, f\"{metric.capitalize()} is\", len(result))\n",
            "/usr/local/lib/python3.11/dist-packages/sklearn/metrics/_classification.py:1565: UndefinedMetricWarning: Precision is ill-defined and being set to 0.0 in labels with no predicted samples. Use `zero_division` parameter to control this behavior.\n",
            "  _warn_prf(average, modifier, f\"{metric.capitalize()} is\", len(result))\n",
            "/usr/local/lib/python3.11/dist-packages/sklearn/metrics/_classification.py:1565: UndefinedMetricWarning: Precision is ill-defined and being set to 0.0 in labels with no predicted samples. Use `zero_division` parameter to control this behavior.\n",
            "  _warn_prf(average, modifier, f\"{metric.capitalize()} is\", len(result))\n"
          ]
        },
        {
          "data": {
            "image/png": "[encoded data removed]",
            "text/plain": [
              "<Figure size 600x400 with 1 Axes>"
            ]
          },
          "metadata": {},
          "output_type": "display_data"
        },
        {
          "data": {
            "image/png": "[encoded data removed]",
            "text/plain": [
              "<Figure size 800x600 with 2 Axes>"
            ]
          },
          "metadata": {},
          "output_type": "display_data"
        },
        {
          "data": {
            "image/png": "[encoded data removed]",
            "text/plain": [
              "<Figure size 1000x500 with 1 Axes>"
            ]
          },
          "metadata": {},
          "output_type": "display_data"
        }
      ],
      "source": [
        "import matplotlib.pyplot as plt\n",
        "import seaborn as sns\n",
        "from sklearn.metrics import confusion_matrix, classification_report, accuracy_score\n",
        "import numpy as np\n",
        "\n",
        "# True and predicted labels (example)\n",
        "true_labels = [\"ORG\", \"O\", \"O\", \"MONEY\", \"O\", \"DATE\", \"O\", \"O\", \"ORG\", \"O\"]\n",
        "predicted_labels = [\"ORG\", \"O\", \"O\", \"MONEY\", \"O\", \"O\", \"O\", \"O\", \"ORG\", \"O\"]\n",
        "\n",
        "# Accuracy\n",
        "accuracy = accuracy_score(true_labels, predicted_labels)\n",
        "\n",
        "# Classification report as dict\n",
        "report_dict = classification_report(true_labels, predicted_labels, output_dict=True)\n",
        "\n",
        "# Confusion Matrix\n",
        "labels = sorted(list(set(true_labels + predicted_labels)))  # Unique labels sorted\n",
        "cm = confusion_matrix(true_labels, predicted_labels, labels=labels)\n",
        "\n",
        "# Plot Accuracy Bar\n",
        "plt.figure(figsize=(6,4))\n",
        "plt.bar(['NER Model'], [accuracy], color='skyblue')\n",
        "plt.ylim(0,1)\n",
        "plt.ylabel('Accuracy')\n",
        "plt.title('NER Model Accuracy')\n",
        "plt.text(0, accuracy + 0.02, f\"{accuracy*100:.2f}%\", ha='center', fontsize=12)\n",
        "plt.show()\n",
        "\n",
        "# Plot Confusion Matrix Heatmap\n",
        "plt.figure(figsize=(8,6))\n",
        "sns.heatmap(cm, annot=True, fmt=\"d\", cmap=\"Blues\", xticklabels=labels, yticklabels=labels)\n",
        "plt.xlabel('Predicted Label')\n",
        "plt.ylabel('True Label')\n",
        "plt.title('Confusion Matrix')\n",
        "plt.show()\n",
        "\n",
        "# Plot Precision, Recall, F1-score for each class\n",
        "metrics = ['precision', 'recall', 'f1-score']\n",
        "x = np.arange(len(labels))\n",
        "width = 0.2\n",
        "\n",
        "precisions = [report_dict[label]['precision'] for label in labels]\n",
        "recalls = [report_dict[label]['recall'] for label in labels]\n",
        "f1s = [report_dict[label]['f1-score'] for label in labels]\n",
        "\n",
        "plt.figure(figsize=(10,5))\n",
        "plt.bar(x - width, precisions, width, label='Precision', color='green')\n",
        "plt.bar(x, recalls, width, label='Recall', color='orange')\n",
        "plt.bar(x + width, f1s, width, label='F1-score', color='purple')\n",
        "\n",
        "plt.xticks(x, labels)\n",
        "plt.ylim(0,1)\n",
        "plt.title('Classification Report Metrics by Entity Class')\n",
        "plt.ylabel('Score')\n",
        "plt.legend()\n",
        "plt.show()\n"
      ]
    },
    {
      "cell_type": "code",
      "execution_count": 61,
      "metadata": {
        "colab": {
          "base_uri": "https://localhost:8080/"
        },
        "id": "VaPZb_jbsJy-",
        "outputId": "7fc54479-a67d-4422-fff9-003b04751e6e"
      },
      "outputs": [
        {
          "name": "stdout",
          "output_type": "stream",
          "text": [
            "Files saved: classification_report.csv, confusion_matrix.csv, accuracy.csv\n"
          ]
        },
        {
          "name": "stderr",
          "output_type": "stream",
          "text": [
            "/usr/local/lib/python3.11/dist-packages/sklearn/metrics/_classification.py:1565: UndefinedMetricWarning: Precision is ill-defined and being set to 0.0 in labels with no predicted samples. Use `zero_division` parameter to control this behavior.\n",
            "  _warn_prf(average, modifier, f\"{metric.capitalize()} is\", len(result))\n",
            "/usr/local/lib/python3.11/dist-packages/sklearn/metrics/_classification.py:1565: UndefinedMetricWarning: Precision is ill-defined and being set to 0.0 in labels with no predicted samples. Use `zero_division` parameter to control this behavior.\n",
            "  _warn_prf(average, modifier, f\"{metric.capitalize()} is\", len(result))\n",
            "/usr/local/lib/python3.11/dist-packages/sklearn/metrics/_classification.py:1565: UndefinedMetricWarning: Precision is ill-defined and being set to 0.0 in labels with no predicted samples. Use `zero_division` parameter to control this behavior.\n",
            "  _warn_prf(average, modifier, f\"{metric.capitalize()} is\", len(result))\n"
          ]
        }
      ],
      "source": [
        "import pandas as pd\n",
        "from sklearn.metrics import confusion_matrix, classification_report, accuracy_score\n",
        "\n",
        "# True and predicted labels (example)\n",
        "true_labels = [\"ORG\", \"O\", \"O\", \"MONEY\", \"O\", \"DATE\", \"O\", \"O\", \"ORG\", \"O\"]\n",
        "predicted_labels = [\"ORG\", \"O\", \"O\", \"MONEY\", \"O\", \"O\", \"O\", \"O\", \"ORG\", \"O\"]\n",
        "\n",
        "# Calculate metrics\n",
        "accuracy = accuracy_score(true_labels, predicted_labels)\n",
        "labels = sorted(list(set(true_labels + predicted_labels)))  # Unique labels sorted\n",
        "cm = confusion_matrix(true_labels, predicted_labels, labels=labels)\n",
        "report_dict = classification_report(true_labels, predicted_labels, output_dict=True)\n",
        "\n",
        "# Save classification report as DataFrame and CSV\n",
        "report_df = pd.DataFrame(report_dict).transpose()\n",
        "report_df.to_csv(\"classification_report.csv\", index=True)\n",
        "\n",
        "# Save confusion matrix as DataFrame and CSV\n",
        "cm_df = pd.DataFrame(cm, index=labels, columns=labels)\n",
        "cm_df.to_csv(\"confusion_matrix.csv\", index=True)\n",
        "\n",
        "# Save accuracy in a CSV\n",
        "accuracy_df = pd.DataFrame([{\"Metric\": \"Accuracy\", \"Value\": accuracy}])\n",
        "accuracy_df.to_csv(\"accuracy.csv\", index=False)\n",
        "\n",
        "print(\"Files saved: classification_report.csv, confusion_matrix.csv, accuracy.csv\")\n"
      ]
    },
    {
      "cell_type": "code",
      "execution_count": 63,
      "metadata": {
        "colab": {
          "base_uri": "https://localhost:8080/"
        },
        "id": "SyjhC3Ebvi1Y",
        "outputId": "add27a8b-6afd-47be-cd0f-0fdfddb05ae1"
      },
      "outputs": [
        {
          "name": "stdout",
          "output_type": "stream",
          "text": [
            "Simulated Accuracy: 70.00%\n",
            "              precision    recall  f1-score   support\n",
            "\n",
            "        DATE       1.00      1.00      1.00         3\n",
            "       MONEY       0.25      0.33      0.29         3\n",
            "           O       1.00      0.70      0.82        10\n",
            "         ORG       0.50      0.75      0.60         4\n",
            "\n",
            "    accuracy                           0.70        20\n",
            "   macro avg       0.69      0.70      0.68        20\n",
            "weighted avg       0.79      0.70      0.72        20\n",
            "\n"
          ]
        }
      ],
      "source": [
        "from sklearn.metrics import accuracy_score, classification_report\n",
        "import random\n",
        "\n",
        "# Define true labels (example entities)\n",
        "true_labels = [\n",
        "    \"ORG\", \"O\", \"O\", \"MONEY\", \"O\", \"DATE\", \"O\", \"O\", \"ORG\", \"O\",\n",
        "    \"MONEY\", \"O\", \"DATE\", \"ORG\", \"O\", \"O\", \"DATE\", \"MONEY\", \"ORG\", \"O\"\n",
        "]\n",
        "\n",
        "# Make predictions with some controlled errors (~80% accuracy)\n",
        "predicted_labels = []\n",
        "error_rate = 0.2  # 20% error -> about 80% accuracy\n",
        "\n",
        "for label in true_labels:\n",
        "    if random.random() < error_rate:\n",
        "        # Randomly assign wrong label (different from true label)\n",
        "        wrong_labels = [\"ORG\", \"O\", \"MONEY\", \"DATE\"]\n",
        "        wrong_labels.remove(label)\n",
        "        predicted_labels.append(random.choice(wrong_labels))\n",
        "    else:\n",
        "        predicted_labels.append(label)\n",
        "\n",
        "# Calculate accuracy\n",
        "accuracy = accuracy_score(true_labels, predicted_labels)\n",
        "print(f\"Simulated Accuracy: {accuracy*100:.2f}%\")\n",
        "\n",
        "# Optional: print classification report\n",
        "print(classification_report(true_labels, predicted_labels))\n"
      ]
    },
    {
      "cell_type": "code",
      "execution_count": 64,
      "metadata": {
        "colab": {
          "base_uri": "https://localhost:8080/",
          "height": 1000
        },
        "id": "2_IKwfyzvjpe",
        "outputId": "c8786ab1-0fd8-4749-bf83-e2dca0e6b4b0"
      },
      "outputs": [
        {
          "name": "stdout",
          "output_type": "stream",
          "text": [
            "Simulated Accuracy: 80.00%\n"
          ]
        },
        {
          "data": {
            "image/png": "[encoded data removed]",
            "text/plain": [
              "<Figure size 600x400 with 1 Axes>"
            ]
          },
          "metadata": {},
          "output_type": "display_data"
        },
        {
          "data": {
            "image/png": "[encoded data removed]",
            "text/plain": [
              "<Figure size 800x600 with 2 Axes>"
            ]
          },
          "metadata": {},
          "output_type": "display_data"
        },
        {
          "data": {
            "image/png": "[encoded data removed]",
            "text/plain": [
              "<Figure size 1000x500 with 1 Axes>"
            ]
          },
          "metadata": {},
          "output_type": "display_data"
        }
      ],
      "source": [
        "import random\n",
        "from sklearn.metrics import accuracy_score, classification_report, confusion_matrix\n",
        "import matplotlib.pyplot as plt\n",
        "import seaborn as sns\n",
        "import numpy as np\n",
        "\n",
        "# True labels (example entities)\n",
        "true_labels = [\n",
        "    \"ORG\", \"O\", \"O\", \"MONEY\", \"O\", \"DATE\", \"O\", \"O\", \"ORG\", \"O\",\n",
        "    \"MONEY\", \"O\", \"DATE\", \"ORG\", \"O\", \"O\", \"DATE\", \"MONEY\", \"ORG\", \"O\"\n",
        "]\n",
        "\n",
        "# Simulate predicted labels with ~20% error rate (~80% accuracy)\n",
        "error_rate = 0.2\n",
        "labels_set = list(set(true_labels))\n",
        "\n",
        "predicted_labels = []\n",
        "for label in true_labels:\n",
        "    if random.random() < error_rate:\n",
        "        wrong_choices = labels_set.copy()\n",
        "        wrong_choices.remove(label)\n",
        "        predicted_labels.append(random.choice(wrong_choices))\n",
        "    else:\n",
        "        predicted_labels.append(label)\n",
        "\n",
        "# Calculate metrics\n",
        "accuracy = accuracy_score(true_labels, predicted_labels)\n",
        "print(f\"Simulated Accuracy: {accuracy*100:.2f}%\")\n",
        "\n",
        "report_dict = classification_report(true_labels, predicted_labels, output_dict=True)\n",
        "labels = sorted(labels_set)\n",
        "cm = confusion_matrix(true_labels, predicted_labels, labels=labels)\n",
        "\n",
        "# Plot accuracy bar\n",
        "plt.figure(figsize=(6,4))\n",
        "plt.bar(['NER Model'], [accuracy], color='skyblue')\n",
        "plt.ylim(0,1)\n",
        "plt.ylabel('Accuracy')\n",
        "plt.title('NER Model Accuracy')\n",
        "plt.text(0, accuracy + 0.02, f\"{accuracy*100:.2f}%\", ha='center', fontsize=12)\n",
        "plt.show()\n",
        "\n",
        "# Plot confusion matrix heatmap\n",
        "plt.figure(figsize=(8,6))\n",
        "sns.heatmap(cm, annot=True, fmt=\"d\", cmap=\"Blues\", xticklabels=labels, yticklabels=labels)\n",
        "plt.xlabel('Predicted Label')\n",
        "plt.ylabel('True Label')\n",
        "plt.title('Confusion Matrix')\n",
        "plt.show()\n",
        "\n",
        "# Plot precision, recall, f1-score grouped bar chart\n",
        "metrics = ['precision', 'recall', 'f1-score']\n",
        "x = np.arange(len(labels))\n",
        "width = 0.25\n",
        "\n",
        "precisions = [report_dict[label]['precision'] for label in labels]\n",
        "recalls = [report_dict[label]['recall'] for label in labels]\n",
        "f1s = [report_dict[label]['f1-score'] for label in labels]\n",
        "\n",
        "plt.figure(figsize=(10,5))\n",
        "plt.bar(x - width, precisions, width, label='Precision', color='green')\n",
        "plt.bar(x, recalls, width, label='Recall', color='orange')\n",
        "plt.bar(x + width, f1s, width, label='F1-score', color='purple')\n",
        "\n",
        "plt.xticks(x, labels)\n",
        "plt.ylim(0,1)\n",
        "plt.title('Classification Report Metrics by Entity Class')\n",
        "plt.ylabel('Score')\n",
        "plt.legend()\n",
        "plt.show()\n",
        "\n"
      ]
    },
    {
      "cell_type": "code",
      "execution_count": 65,
      "metadata": {
        "colab": {
          "base_uri": "https://localhost:8080/"
        },
        "id": "jyNfaNxZvxp0",
        "outputId": "1fdf136b-7cce-4f54-9558-4dbe550956e4"
      },
      "outputs": [
        {
          "name": "stdout",
          "output_type": "stream",
          "text": [
            "Simulated Accuracy: 85.00%\n",
            "CSV files saved: classification_report.csv, confusion_matrix.csv, accuracy.csv\n"
          ]
        }
      ],
      "source": [
        "import random\n",
        "from sklearn.metrics import accuracy_score, classification_report, confusion_matrix\n",
        "import pandas as pd\n",
        "\n",
        "# True labels (example entities)\n",
        "true_labels = [\n",
        "    \"ORG\", \"O\", \"O\", \"MONEY\", \"O\", \"DATE\", \"O\", \"O\", \"ORG\", \"O\",\n",
        "    \"MONEY\", \"O\", \"DATE\", \"ORG\", \"O\", \"O\", \"DATE\", \"MONEY\", \"ORG\", \"O\"\n",
        "]\n",
        "\n",
        "# Simulate predicted labels with ~20% error rate (~80% accuracy)\n",
        "error_rate = 0.2\n",
        "labels_set = list(set(true_labels))\n",
        "\n",
        "predicted_labels = []\n",
        "for label in true_labels:\n",
        "    if random.random() < error_rate:\n",
        "        wrong_choices = labels_set.copy()\n",
        "        wrong_choices.remove(label)\n",
        "        predicted_labels.append(random.choice(wrong_choices))\n",
        "    else:\n",
        "        predicted_labels.append(label)\n",
        "\n",
        "# Calculate metrics\n",
        "accuracy = accuracy_score(true_labels, predicted_labels)\n",
        "print(f\"Simulated Accuracy: {accuracy*100:.2f}%\")\n",
        "\n",
        "# Classification report as dict\n",
        "report_dict = classification_report(true_labels, predicted_labels, output_dict=True)\n",
        "\n",
        "# Convert classification report to DataFrame and save as CSV\n",
        "report_df = pd.DataFrame(report_dict).transpose()\n",
        "report_df.to_csv(\"classification_report.csv\", index=True)\n",
        "\n",
        "# Confusion matrix as DataFrame and save CSV\n",
        "labels = sorted(labels_set)\n",
        "cm = confusion_matrix(true_labels, predicted_labels, labels=labels)\n",
        "cm_df = pd.DataFrame(cm, index=labels, columns=labels)\n",
        "cm_df.to_csv(\"confusion_matrix.csv\", index=True)\n",
        "\n",
        "# Accuracy saved as CSV\n",
        "accuracy_df = pd.DataFrame([{\"Metric\": \"Accuracy\", \"Value\": accuracy}])\n",
        "accuracy_df.to_csv(\"accuracy.csv\", index=False)\n",
        "\n",
        "print(\"CSV files saved: classification_report.csv, confusion_matrix.csv, accuracy.csv\")\n"
      ]
    },
    {
      "cell_type": "code",
      "execution_count": null,
      "metadata": {
        "id": "lSNuUEl-wZOU"
      },
      "outputs": [],
      "source": []
    }
  ],
  "metadata": {
    "colab": {
      "name": "Welcome To Colab",
      "provenance": []
    },
    "kernelspec": {
      "display_name": "Python 3",
      "name": "python3"
    },
    "widgets": {
      "application/vnd.jupyter.widget-state+json": {
        "0005e956a36e40a69ab946a396136e8f": {
          "model_module": "@jupyter-widgets/controls",
          "model_module_version": "1.5.0",
          "model_name": "ProgressStyleModel",
          "state": {
            "_model_module": "@jupyter-widgets/controls",
            "_model_module_version": "1.5.0",
            "_model_name": "ProgressStyleModel",
            "_view_count": null,
            "_view_module": "@jupyter-widgets/base",
            "_view_module_version": "1.2.0",
            "_view_name": "StyleView",
            "bar_color": null,
            "description_width": ""
          }
        },
        "00437598e3e24f29b4809e465bdeca2f": {
          "model_module": "@jupyter-widgets/base",
          "model_module_version": "1.2.0",
          "model_name": "LayoutModel",
          "state": {
            "_model_module": "@jupyter-widgets/base",
            "_model_module_version": "1.2.0",
            "_model_name": "LayoutModel",
            "_view_count": null,
            "_view_module": "@jupyter-widgets/base",
            "_view_module_version": "1.2.0",
            "_view_name": "LayoutView",
            "align_content": null,
            "align_items": null,
            "align_self": null,
            "border": null,
            "bottom": null,
            "display": null,
            "flex": null,
            "flex_flow": null,
            "grid_area": null,
            "grid_auto_columns": null,
            "grid_auto_flow": null,
            "grid_auto_rows": null,
            "grid_column": null,
            "grid_gap": null,
            "grid_row": null,
            "grid_template_areas": null,
            "grid_template_columns": null,
            "grid_template_rows": null,
            "height": null,
            "justify_content": null,
            "justify_items": null,
            "left": null,
            "margin": null,
            "max_height": null,
            "max_width": null,
            "min_height": null,
            "min_width": null,
            "object_fit": null,
            "object_position": null,
            "order": null,
            "overflow": null,
            "overflow_x": null,
            "overflow_y": null,
            "padding": null,
            "right": null,
            "top": null,
            "visibility": null,
            "width": null
          }
        },
        "01f19f337e574134804bc5f331b48614": {
          "model_module": "@jupyter-widgets/base",
          "model_module_version": "1.2.0",
          "model_name": "LayoutModel",
          "state": {
            "_model_module": "@jupyter-widgets/base",
            "_model_module_version": "1.2.0",
            "_model_name": "LayoutModel",
            "_view_count": null,
            "_view_module": "@jupyter-widgets/base",
            "_view_module_version": "1.2.0",
            "_view_name": "LayoutView",
            "align_content": null,
            "align_items": null,
            "align_self": null,
            "border": null,
            "bottom": null,
            "display": null,
            "flex": null,
            "flex_flow": null,
            "grid_area": null,
            "grid_auto_columns": null,
            "grid_auto_flow": null,
            "grid_auto_rows": null,
            "grid_column": null,
            "grid_gap": null,
            "grid_row": null,
            "grid_template_areas": null,
            "grid_template_columns": null,
            "grid_template_rows": null,
            "height": null,
            "justify_content": null,
            "justify_items": null,
            "left": null,
            "margin": null,
            "max_height": null,
            "max_width": null,
            "min_height": null,
            "min_width": null,
            "object_fit": null,
            "object_position": null,
            "order": null,
            "overflow": null,
            "overflow_x": null,
            "overflow_y": null,
            "padding": null,
            "right": null,
            "top": null,
            "visibility": null,
            "width": null
          }
        },
        "023567ceeaca42d68d22ca35291d4af1": {
          "model_module": "@jupyter-widgets/base",
          "model_module_version": "1.2.0",
          "model_name": "LayoutModel",
          "state": {
            "_model_module": "@jupyter-widgets/base",
            "_model_module_version": "1.2.0",
            "_model_name": "LayoutModel",
            "_view_count": null,
            "_view_module": "@jupyter-widgets/base",
            "_view_module_version": "1.2.0",
            "_view_name": "LayoutView",
            "align_content": null,
            "align_items": null,
            "align_self": null,
            "border": null,
            "bottom": null,
            "display": null,
            "flex": null,
            "flex_flow": null,
            "grid_area": null,
            "grid_auto_columns": null,
            "grid_auto_flow": null,
            "grid_auto_rows": null,
            "grid_column": null,
            "grid_gap": null,
            "grid_row": null,
            "grid_template_areas": null,
            "grid_template_columns": null,
            "grid_template_rows": null,
            "height": null,
            "justify_content": null,
            "justify_items": null,
            "left": null,
            "margin": null,
            "max_height": null,
            "max_width": null,
            "min_height": null,
            "min_width": null,
            "object_fit": null,
            "object_position": null,
            "order": null,
            "overflow": null,
            "overflow_x": null,
            "overflow_y": null,
            "padding": null,
            "right": null,
            "top": null,
            "visibility": null,
            "width": null
          }
        },
        "0258ea7497e04e2ebf59522c9ffcdb0b": {
          "model_module": "@jupyter-widgets/controls",
          "model_module_version": "1.5.0",
          "model_name": "FloatProgressModel",
          "state": {
            "_dom_classes": [],
            "_model_module": "@jupyter-widgets/controls",
            "_model_module_version": "1.5.0",
            "_model_name": "FloatProgressModel",
            "_view_count": null,
            "_view_module": "@jupyter-widgets/controls",
            "_view_module_version": "1.5.0",
            "_view_name": "ProgressView",
            "bar_style": "success",
            "description": "",
            "description_tooltip": null,
            "layout": "IPY_MODEL_01f19f337e574134804bc5f331b48614",
            "max": 3250,
            "min": 0,
            "orientation": "horizontal",
            "style": "IPY_MODEL_99c0b1b9d74d4528b4776fa266975444",
            "value": 3250
          }
        },
        "03083220364147f6ab544cb4399b675a": {
          "model_module": "@jupyter-widgets/controls",
          "model_module_version": "1.5.0",
          "model_name": "HTMLModel",
          "state": {
            "_dom_classes": [],
            "_model_module": "@jupyter-widgets/controls",
            "_model_module_version": "1.5.0",
            "_model_name": "HTMLModel",
            "_view_count": null,
            "_view_module": "@jupyter-widgets/controls",
            "_view_module_version": "1.5.0",
            "_view_name": "HTMLView",
            "description": "",
            "description_tooltip": null,
            "layout": "IPY_MODEL_3ad0640a81ed49ec9a95af3925ded337",
            "placeholder": "​",
            "style": "IPY_MODEL_221561ee700e461bbc7f6dfd33077bdc",
            "value": "vocab.txt: 100%"
          }
        },
        "0399f0e5f6874a1da1ada1b9344b7071": {
          "model_module": "@jupyter-widgets/controls",
          "model_module_version": "1.5.0",
          "model_name": "HTMLModel",
          "state": {
            "_dom_classes": [],
            "_model_module": "@jupyter-widgets/controls",
            "_model_module_version": "1.5.0",
            "_model_name": "HTMLModel",
            "_view_count": null,
            "_view_module": "@jupyter-widgets/controls",
            "_view_module_version": "1.5.0",
            "_view_name": "HTMLView",
            "description": "",
            "description_tooltip": null,
            "layout": "IPY_MODEL_b527ace41e6d4f50920a3234bd0e8088",
            "placeholder": "​",
            "style": "IPY_MODEL_bc28d0636dfe4c66988932a10e5983a6",
            "value": "conll2003.py: 100%"
          }
        },
        "05050d60379c41c6865b0cf0a7a0053f": {
          "model_module": "@jupyter-widgets/base",
          "model_module_version": "1.2.0",
          "model_name": "LayoutModel",
          "state": {
            "_model_module": "@jupyter-widgets/base",
            "_model_module_version": "1.2.0",
            "_model_name": "LayoutModel",
            "_view_count": null,
            "_view_module": "@jupyter-widgets/base",
            "_view_module_version": "1.2.0",
            "_view_name": "LayoutView",
            "align_content": null,
            "align_items": null,
            "align_self": null,
            "border": null,
            "bottom": null,
            "display": null,
            "flex": null,
            "flex_flow": null,
            "grid_area": null,
            "grid_auto_columns": null,
            "grid_auto_flow": null,
            "grid_auto_rows": null,
            "grid_column": null,
            "grid_gap": null,
            "grid_row": null,
            "grid_template_areas": null,
            "grid_template_columns": null,
            "grid_template_rows": null,
            "height": null,
            "justify_content": null,
            "justify_items": null,
            "left": null,
            "margin": null,
            "max_height": null,
            "max_width": null,
            "min_height": null,
            "min_width": null,
            "object_fit": null,
            "object_position": null,
            "order": null,
            "overflow": null,
            "overflow_x": null,
            "overflow_y": null,
            "padding": null,
            "right": null,
            "top": null,
            "visibility": null,
            "width": null
          }
        },
        "0638d6a4b5cf4b34b22552a73628a53d": {
          "model_module": "@jupyter-widgets/base",
          "model_module_version": "1.2.0",
          "model_name": "LayoutModel",
          "state": {
            "_model_module": "@jupyter-widgets/base",
            "_model_module_version": "1.2.0",
            "_model_name": "LayoutModel",
            "_view_count": null,
            "_view_module": "@jupyter-widgets/base",
            "_view_module_version": "1.2.0",
            "_view_name": "LayoutView",
            "align_content": null,
            "align_items": null,
            "align_self": null,
            "border": null,
            "bottom": null,
            "display": null,
            "flex": null,
            "flex_flow": null,
            "grid_area": null,
            "grid_auto_columns": null,
            "grid_auto_flow": null,
            "grid_auto_rows": null,
            "grid_column": null,
            "grid_gap": null,
            "grid_row": null,
            "grid_template_areas": null,
            "grid_template_columns": null,
            "grid_template_rows": null,
            "height": null,
            "justify_content": null,
            "justify_items": null,
            "left": null,
            "margin": null,
            "max_height": null,
            "max_width": null,
            "min_height": null,
            "min_width": null,
            "object_fit": null,
            "object_position": null,
            "order": null,
            "overflow": null,
            "overflow_x": null,
            "overflow_y": null,
            "padding": null,
            "right": null,
            "top": null,
            "visibility": null,
            "width": null
          }
        },
        "0658f6f1e21d4f9f80c119aca2347ec2": {
          "model_module": "@jupyter-widgets/base",
          "model_module_version": "1.2.0",
          "model_name": "LayoutModel",
          "state": {
            "_model_module": "@jupyter-widgets/base",
            "_model_module_version": "1.2.0",
            "_model_name": "LayoutModel",
            "_view_count": null,
            "_view_module": "@jupyter-widgets/base",
            "_view_module_version": "1.2.0",
            "_view_name": "LayoutView",
            "align_content": null,
            "align_items": null,
            "align_self": null,
            "border": null,
            "bottom": null,
            "display": null,
            "flex": null,
            "flex_flow": null,
            "grid_area": null,
            "grid_auto_columns": null,
            "grid_auto_flow": null,
            "grid_auto_rows": null,
            "grid_column": null,
            "grid_gap": null,
            "grid_row": null,
            "grid_template_areas": null,
            "grid_template_columns": null,
            "grid_template_rows": null,
            "height": null,
            "justify_content": null,
            "justify_items": null,
            "left": null,
            "margin": null,
            "max_height": null,
            "max_width": null,
            "min_height": null,
            "min_width": null,
            "object_fit": null,
            "object_position": null,
            "order": null,
            "overflow": null,
            "overflow_x": null,
            "overflow_y": null,
            "padding": null,
            "right": null,
            "top": null,
            "visibility": null,
            "width": null
          }
        },
        "070b47b4b97e4d27b49de49d8a740f06": {
          "model_module": "@jupyter-widgets/controls",
          "model_module_version": "1.5.0",
          "model_name": "HTMLModel",
          "state": {
            "_dom_classes": [],
            "_model_module": "@jupyter-widgets/controls",
            "_model_module_version": "1.5.0",
            "_model_name": "HTMLModel",
            "_view_count": null,
            "_view_module": "@jupyter-widgets/controls",
            "_view_module_version": "1.5.0",
            "_view_name": "HTMLView",
            "description": "",
            "description_tooltip": null,
            "layout": "IPY_MODEL_0ba4ef33606b4a0a8c90158ac13c6b76",
            "placeholder": "​",
            "style": "IPY_MODEL_574836fe95df4956a1f34c5deb48dafd",
            "value": " 1025/0 [00:00&lt;00:00, 10797.27 examples/s]"
          }
        },
        "09bcb08e98cf4276970b5fe1735f1cbd": {
          "model_module": "@jupyter-widgets/controls",
          "model_module_version": "1.5.0",
          "model_name": "FloatProgressModel",
          "state": {
            "_dom_classes": [],
            "_model_module": "@jupyter-widgets/controls",
            "_model_module_version": "1.5.0",
            "_model_name": "FloatProgressModel",
            "_view_count": null,
            "_view_module": "@jupyter-widgets/controls",
            "_view_module_version": "1.5.0",
            "_view_name": "ProgressView",
            "bar_style": "success",
            "description": "",
            "description_tooltip": null,
            "layout": "IPY_MODEL_05050d60379c41c6865b0cf0a7a0053f",
            "max": 3453,
            "min": 0,
            "orientation": "horizontal",
            "style": "IPY_MODEL_a76af1a9715c4173a25dcaef7e158e87",
            "value": 3453
          }
        },
        "0ba30694ff364419b6df5d5383e52473": {
          "model_module": "@jupyter-widgets/controls",
          "model_module_version": "1.5.0",
          "model_name": "DescriptionStyleModel",
          "state": {
            "_model_module": "@jupyter-widgets/controls",
            "_model_module_version": "1.5.0",
            "_model_name": "DescriptionStyleModel",
            "_view_count": null,
            "_view_module": "@jupyter-widgets/base",
            "_view_module_version": "1.2.0",
            "_view_name": "StyleView",
            "description_width": ""
          }
        },
        "0ba4ef33606b4a0a8c90158ac13c6b76": {
          "model_module": "@jupyter-widgets/base",
          "model_module_version": "1.2.0",
          "model_name": "LayoutModel",
          "state": {
            "_model_module": "@jupyter-widgets/base",
            "_model_module_version": "1.2.0",
            "_model_name": "LayoutModel",
            "_view_count": null,
            "_view_module": "@jupyter-widgets/base",
            "_view_module_version": "1.2.0",
            "_view_name": "LayoutView",
            "align_content": null,
            "align_items": null,
            "align_self": null,
            "border": null,
            "bottom": null,
            "display": null,
            "flex": null,
            "flex_flow": null,
            "grid_area": null,
            "grid_auto_columns": null,
            "grid_auto_flow": null,
            "grid_auto_rows": null,
            "grid_column": null,
            "grid_gap": null,
            "grid_row": null,
            "grid_template_areas": null,
            "grid_template_columns": null,
            "grid_template_rows": null,
            "height": null,
            "justify_content": null,
            "justify_items": null,
            "left": null,
            "margin": null,
            "max_height": null,
            "max_width": null,
            "min_height": null,
            "min_width": null,
            "object_fit": null,
            "object_position": null,
            "order": null,
            "overflow": null,
            "overflow_x": null,
            "overflow_y": null,
            "padding": null,
            "right": null,
            "top": null,
            "visibility": null,
            "width": null
          }
        },
        "0bb26648c9264d7583935041b6fd48e8": {
          "model_module": "@jupyter-widgets/controls",
          "model_module_version": "1.5.0",
          "model_name": "HBoxModel",
          "state": {
            "_dom_classes": [],
            "_model_module": "@jupyter-widgets/controls",
            "_model_module_version": "1.5.0",
            "_model_name": "HBoxModel",
            "_view_count": null,
            "_view_module": "@jupyter-widgets/controls",
            "_view_module_version": "1.5.0",
            "_view_name": "HBoxView",
            "box_style": "",
            "children": [
              "IPY_MODEL_ee68dc943f07492b8cb23ea5f8786200",
              "IPY_MODEL_6e14dc840f1e4aa793cc0a33a7bd944c",
              "IPY_MODEL_6e727f467474498095105e8056abbf17"
            ],
            "layout": "IPY_MODEL_7166c4de31554938a69db9bb9858f9b4"
          }
        },
        "0de2eb77d5d54552a352f618936499d2": {
          "model_module": "@jupyter-widgets/controls",
          "model_module_version": "1.5.0",
          "model_name": "HTMLModel",
          "state": {
            "_dom_classes": [],
            "_model_module": "@jupyter-widgets/controls",
            "_model_module_version": "1.5.0",
            "_model_name": "HTMLModel",
            "_view_count": null,
            "_view_module": "@jupyter-widgets/controls",
            "_view_module_version": "1.5.0",
            "_view_name": "HTMLView",
            "description": "",
            "description_tooltip": null,
            "layout": "IPY_MODEL_8037c1fa994948f2b0bc1f262cf61937",
            "placeholder": "​",
            "style": "IPY_MODEL_d4ca7dc152d3493db8cad6b4dc124333",
            "value": "special_tokens_map.json: 100%"
          }
        },
        "0e2a960c69754b3f896cdf8adb0f4164": {
          "model_module": "@jupyter-widgets/controls",
          "model_module_version": "1.5.0",
          "model_name": "DescriptionStyleModel",
          "state": {
            "_model_module": "@jupyter-widgets/controls",
            "_model_module_version": "1.5.0",
            "_model_name": "DescriptionStyleModel",
            "_view_count": null,
            "_view_module": "@jupyter-widgets/base",
            "_view_module_version": "1.2.0",
            "_view_name": "StyleView",
            "description_width": ""
          }
        },
        "0f467203ae084078b9e6f322d0bc3e8f": {
          "model_module": "@jupyter-widgets/base",
          "model_module_version": "1.2.0",
          "model_name": "LayoutModel",
          "state": {
            "_model_module": "@jupyter-widgets/base",
            "_model_module_version": "1.2.0",
            "_model_name": "LayoutModel",
            "_view_count": null,
            "_view_module": "@jupyter-widgets/base",
            "_view_module_version": "1.2.0",
            "_view_name": "LayoutView",
            "align_content": null,
            "align_items": null,
            "align_self": null,
            "border": null,
            "bottom": null,
            "display": null,
            "flex": null,
            "flex_flow": null,
            "grid_area": null,
            "grid_auto_columns": null,
            "grid_auto_flow": null,
            "grid_auto_rows": null,
            "grid_column": null,
            "grid_gap": null,
            "grid_row": null,
            "grid_template_areas": null,
            "grid_template_columns": null,
            "grid_template_rows": null,
            "height": null,
            "justify_content": null,
            "justify_items": null,
            "left": null,
            "margin": null,
            "max_height": null,
            "max_width": null,
            "min_height": null,
            "min_width": null,
            "object_fit": null,
            "object_position": null,
            "order": null,
            "overflow": null,
            "overflow_x": null,
            "overflow_y": null,
            "padding": null,
            "right": null,
            "top": null,
            "visibility": null,
            "width": null
          }
        },
        "0f5932c6e8ff4778ab2b79039da0902b": {
          "model_module": "@jupyter-widgets/controls",
          "model_module_version": "1.5.0",
          "model_name": "ProgressStyleModel",
          "state": {
            "_model_module": "@jupyter-widgets/controls",
            "_model_module_version": "1.5.0",
            "_model_name": "ProgressStyleModel",
            "_view_count": null,
            "_view_module": "@jupyter-widgets/base",
            "_view_module_version": "1.2.0",
            "_view_name": "StyleView",
            "bar_color": null,
            "description_width": ""
          }
        },
        "11af2236294b46c5a90102bf67e9b6ef": {
          "model_module": "@jupyter-widgets/controls",
          "model_module_version": "1.5.0",
          "model_name": "HTMLModel",
          "state": {
            "_dom_classes": [],
            "_model_module": "@jupyter-widgets/controls",
            "_model_module_version": "1.5.0",
            "_model_name": "HTMLModel",
            "_view_count": null,
            "_view_module": "@jupyter-widgets/controls",
            "_view_module_version": "1.5.0",
            "_view_name": "HTMLView",
            "description": "",
            "description_tooltip": null,
            "layout": "IPY_MODEL_d36d088e40dc4af0b1f22cb3056b4590",
            "placeholder": "​",
            "style": "IPY_MODEL_c388a2ada6d042a1b2651b76432bf46a",
            "value": " 14041/14041 [00:04&lt;00:00, 2085.54 examples/s]"
          }
        },
        "1203c988bedc4f6c935bc28777b6856a": {
          "model_module": "@jupyter-widgets/controls",
          "model_module_version": "1.5.0",
          "model_name": "DescriptionStyleModel",
          "state": {
            "_model_module": "@jupyter-widgets/controls",
            "_model_module_version": "1.5.0",
            "_model_name": "DescriptionStyleModel",
            "_view_count": null,
            "_view_module": "@jupyter-widgets/base",
            "_view_module_version": "1.2.0",
            "_view_name": "StyleView",
            "description_width": ""
          }
        },
        "131dea370d5f4374aa324de0f6072f3f": {
          "model_module": "@jupyter-widgets/controls",
          "model_module_version": "1.5.0",
          "model_name": "ProgressStyleModel",
          "state": {
            "_model_module": "@jupyter-widgets/controls",
            "_model_module_version": "1.5.0",
            "_model_name": "ProgressStyleModel",
            "_view_count": null,
            "_view_module": "@jupyter-widgets/base",
            "_view_module_version": "1.2.0",
            "_view_name": "StyleView",
            "bar_color": null,
            "description_width": ""
          }
        },
        "1359690e1110433386e2946e8d41342b": {
          "model_module": "@jupyter-widgets/controls",
          "model_module_version": "1.5.0",
          "model_name": "HBoxModel",
          "state": {
            "_dom_classes": [],
            "_model_module": "@jupyter-widgets/controls",
            "_model_module_version": "1.5.0",
            "_model_name": "HBoxModel",
            "_view_count": null,
            "_view_module": "@jupyter-widgets/controls",
            "_view_module_version": "1.5.0",
            "_view_name": "HBoxView",
            "box_style": "",
            "children": [
              "IPY_MODEL_8b62976b0faf460ebdeddd8c9f73e78b",
              "IPY_MODEL_ee9ceefb752a4491ac853ec72f750f57",
              "IPY_MODEL_070b47b4b97e4d27b49de49d8a740f06"
            ],
            "layout": "IPY_MODEL_79995849eb9548a997f8d22aa5cdf695"
          }
        },
        "1370d3de916e411ead98eeeca38f2d9e": {
          "model_module": "@jupyter-widgets/base",
          "model_module_version": "1.2.0",
          "model_name": "LayoutModel",
          "state": {
            "_model_module": "@jupyter-widgets/base",
            "_model_module_version": "1.2.0",
            "_model_name": "LayoutModel",
            "_view_count": null,
            "_view_module": "@jupyter-widgets/base",
            "_view_module_version": "1.2.0",
            "_view_name": "LayoutView",
            "align_content": null,
            "align_items": null,
            "align_self": null,
            "border": null,
            "bottom": null,
            "display": null,
            "flex": null,
            "flex_flow": null,
            "grid_area": null,
            "grid_auto_columns": null,
            "grid_auto_flow": null,
            "grid_auto_rows": null,
            "grid_column": null,
            "grid_gap": null,
            "grid_row": null,
            "grid_template_areas": null,
            "grid_template_columns": null,
            "grid_template_rows": null,
            "height": null,
            "justify_content": null,
            "justify_items": null,
            "left": null,
            "margin": null,
            "max_height": null,
            "max_width": null,
            "min_height": null,
            "min_width": null,
            "object_fit": null,
            "object_position": null,
            "order": null,
            "overflow": null,
            "overflow_x": null,
            "overflow_y": null,
            "padding": null,
            "right": null,
            "top": null,
            "visibility": null,
            "width": null
          }
        },
        "13f973bac2674e269a3266ef60c3b7d4": {
          "model_module": "@jupyter-widgets/controls",
          "model_module_version": "1.5.0",
          "model_name": "DescriptionStyleModel",
          "state": {
            "_model_module": "@jupyter-widgets/controls",
            "_model_module_version": "1.5.0",
            "_model_name": "DescriptionStyleModel",
            "_view_count": null,
            "_view_module": "@jupyter-widgets/base",
            "_view_module_version": "1.2.0",
            "_view_name": "StyleView",
            "description_width": ""
          }
        },
        "14148d7fcd7a42ab8f9c9280cbc9a756": {
          "model_module": "@jupyter-widgets/base",
          "model_module_version": "1.2.0",
          "model_name": "LayoutModel",
          "state": {
            "_model_module": "@jupyter-widgets/base",
            "_model_module_version": "1.2.0",
            "_model_name": "LayoutModel",
            "_view_count": null,
            "_view_module": "@jupyter-widgets/base",
            "_view_module_version": "1.2.0",
            "_view_name": "LayoutView",
            "align_content": null,
            "align_items": null,
            "align_self": null,
            "border": null,
            "bottom": null,
            "display": null,
            "flex": null,
            "flex_flow": null,
            "grid_area": null,
            "grid_auto_columns": null,
            "grid_auto_flow": null,
            "grid_auto_rows": null,
            "grid_column": null,
            "grid_gap": null,
            "grid_row": null,
            "grid_template_areas": null,
            "grid_template_columns": null,
            "grid_template_rows": null,
            "height": null,
            "justify_content": null,
            "justify_items": null,
            "left": null,
            "margin": null,
            "max_height": null,
            "max_width": null,
            "min_height": null,
            "min_width": null,
            "object_fit": null,
            "object_position": null,
            "order": null,
            "overflow": null,
            "overflow_x": null,
            "overflow_y": null,
            "padding": null,
            "right": null,
            "top": null,
            "visibility": null,
            "width": null
          }
        },
        "150af76c6a0344238fb86e42d709cce3": {
          "model_module": "@jupyter-widgets/base",
          "model_module_version": "1.2.0",
          "model_name": "LayoutModel",
          "state": {
            "_model_module": "@jupyter-widgets/base",
            "_model_module_version": "1.2.0",
            "_model_name": "LayoutModel",
            "_view_count": null,
            "_view_module": "@jupyter-widgets/base",
            "_view_module_version": "1.2.0",
            "_view_name": "LayoutView",
            "align_content": null,
            "align_items": null,
            "align_self": null,
            "border": null,
            "bottom": null,
            "display": null,
            "flex": null,
            "flex_flow": null,
            "grid_area": null,
            "grid_auto_columns": null,
            "grid_auto_flow": null,
            "grid_auto_rows": null,
            "grid_column": null,
            "grid_gap": null,
            "grid_row": null,
            "grid_template_areas": null,
            "grid_template_columns": null,
            "grid_template_rows": null,
            "height": null,
            "justify_content": null,
            "justify_items": null,
            "left": null,
            "margin": null,
            "max_height": null,
            "max_width": null,
            "min_height": null,
            "min_width": null,
            "object_fit": null,
            "object_position": null,
            "order": null,
            "overflow": null,
            "overflow_x": null,
            "overflow_y": null,
            "padding": null,
            "right": null,
            "top": null,
            "visibility": null,
            "width": null
          }
        },
        "17c0c9bfc9664717a7d8ff237e06a1cf": {
          "model_module": "@jupyter-widgets/controls",
          "model_module_version": "1.5.0",
          "model_name": "DescriptionStyleModel",
          "state": {
            "_model_module": "@jupyter-widgets/controls",
            "_model_module_version": "1.5.0",
            "_model_name": "DescriptionStyleModel",
            "_view_count": null,
            "_view_module": "@jupyter-widgets/base",
            "_view_module_version": "1.2.0",
            "_view_name": "StyleView",
            "description_width": ""
          }
        },
        "1984c56b4ab044708a90bdc1ce36fef6": {
          "model_module": "@jupyter-widgets/base",
          "model_module_version": "1.2.0",
          "model_name": "LayoutModel",
          "state": {
            "_model_module": "@jupyter-widgets/base",
            "_model_module_version": "1.2.0",
            "_model_name": "LayoutModel",
            "_view_count": null,
            "_view_module": "@jupyter-widgets/base",
            "_view_module_version": "1.2.0",
            "_view_name": "LayoutView",
            "align_content": null,
            "align_items": null,
            "align_self": null,
            "border": null,
            "bottom": null,
            "display": null,
            "flex": null,
            "flex_flow": null,
            "grid_area": null,
            "grid_auto_columns": null,
            "grid_auto_flow": null,
            "grid_auto_rows": null,
            "grid_column": null,
            "grid_gap": null,
            "grid_row": null,
            "grid_template_areas": null,
            "grid_template_columns": null,
            "grid_template_rows": null,
            "height": null,
            "justify_content": null,
            "justify_items": null,
            "left": null,
            "margin": null,
            "max_height": null,
            "max_width": null,
            "min_height": null,
            "min_width": null,
            "object_fit": null,
            "object_position": null,
            "order": null,
            "overflow": null,
            "overflow_x": null,
            "overflow_y": null,
            "padding": null,
            "right": null,
            "top": null,
            "visibility": null,
            "width": null
          }
        },
        "1aa897e75899421594934cd1c29e3054": {
          "model_module": "@jupyter-widgets/base",
          "model_module_version": "1.2.0",
          "model_name": "LayoutModel",
          "state": {
            "_model_module": "@jupyter-widgets/base",
            "_model_module_version": "1.2.0",
            "_model_name": "LayoutModel",
            "_view_count": null,
            "_view_module": "@jupyter-widgets/base",
            "_view_module_version": "1.2.0",
            "_view_name": "LayoutView",
            "align_content": null,
            "align_items": null,
            "align_self": null,
            "border": null,
            "bottom": null,
            "display": null,
            "flex": null,
            "flex_flow": null,
            "grid_area": null,
            "grid_auto_columns": null,
            "grid_auto_flow": null,
            "grid_auto_rows": null,
            "grid_column": null,
            "grid_gap": null,
            "grid_row": null,
            "grid_template_areas": null,
            "grid_template_columns": null,
            "grid_template_rows": null,
            "height": null,
            "justify_content": null,
            "justify_items": null,
            "left": null,
            "margin": null,
            "max_height": null,
            "max_width": null,
            "min_height": null,
            "min_width": null,
            "object_fit": null,
            "object_position": null,
            "order": null,
            "overflow": null,
            "overflow_x": null,
            "overflow_y": null,
            "padding": null,
            "right": null,
            "top": null,
            "visibility": null,
            "width": null
          }
        },
        "1b94f120603f429185741604b6d99fa1": {
          "model_module": "@jupyter-widgets/controls",
          "model_module_version": "1.5.0",
          "model_name": "DescriptionStyleModel",
          "state": {
            "_model_module": "@jupyter-widgets/controls",
            "_model_module_version": "1.5.0",
            "_model_name": "DescriptionStyleModel",
            "_view_count": null,
            "_view_module": "@jupyter-widgets/base",
            "_view_module_version": "1.2.0",
            "_view_name": "StyleView",
            "description_width": ""
          }
        },
        "1bfdce7631814150920a5056a7b4ac96": {
          "model_module": "@jupyter-widgets/controls",
          "model_module_version": "1.5.0",
          "model_name": "FloatProgressModel",
          "state": {
            "_dom_classes": [],
            "_model_module": "@jupyter-widgets/controls",
            "_model_module_version": "1.5.0",
            "_model_name": "FloatProgressModel",
            "_view_count": null,
            "_view_module": "@jupyter-widgets/controls",
            "_view_module_version": "1.5.0",
            "_view_name": "ProgressView",
            "bar_style": "success",
            "description": "",
            "description_tooltip": null,
            "layout": "IPY_MODEL_f7ae297879fe4ca1a190075d80ab6409",
            "max": 112,
            "min": 0,
            "orientation": "horizontal",
            "style": "IPY_MODEL_d9d24099e4be404a9d9c9cad31d9ea29",
            "value": 112
          }
        },
        "1c4a54c899754263a99f2e067076045f": {
          "model_module": "@jupyter-widgets/base",
          "model_module_version": "1.2.0",
          "model_name": "LayoutModel",
          "state": {
            "_model_module": "@jupyter-widgets/base",
            "_model_module_version": "1.2.0",
            "_model_name": "LayoutModel",
            "_view_count": null,
            "_view_module": "@jupyter-widgets/base",
            "_view_module_version": "1.2.0",
            "_view_name": "LayoutView",
            "align_content": null,
            "align_items": null,
            "align_self": null,
            "border": null,
            "bottom": null,
            "display": null,
            "flex": null,
            "flex_flow": null,
            "grid_area": null,
            "grid_auto_columns": null,
            "grid_auto_flow": null,
            "grid_auto_rows": null,
            "grid_column": null,
            "grid_gap": null,
            "grid_row": null,
            "grid_template_areas": null,
            "grid_template_columns": null,
            "grid_template_rows": null,
            "height": null,
            "justify_content": null,
            "justify_items": null,
            "left": null,
            "margin": null,
            "max_height": null,
            "max_width": null,
            "min_height": null,
            "min_width": null,
            "object_fit": null,
            "object_position": null,
            "order": null,
            "overflow": null,
            "overflow_x": null,
            "overflow_y": null,
            "padding": null,
            "right": null,
            "top": null,
            "visibility": null,
            "width": null
          }
        },
        "1e44a8595fd34483adf875bf2df2ab02": {
          "model_module": "@jupyter-widgets/controls",
          "model_module_version": "1.5.0",
          "model_name": "DescriptionStyleModel",
          "state": {
            "_model_module": "@jupyter-widgets/controls",
            "_model_module_version": "1.5.0",
            "_model_name": "DescriptionStyleModel",
            "_view_count": null,
            "_view_module": "@jupyter-widgets/base",
            "_view_module_version": "1.2.0",
            "_view_name": "StyleView",
            "description_width": ""
          }
        },
        "1eb37443e48b411098c87fc88ffcaaf5": {
          "model_module": "@jupyter-widgets/base",
          "model_module_version": "1.2.0",
          "model_name": "LayoutModel",
          "state": {
            "_model_module": "@jupyter-widgets/base",
            "_model_module_version": "1.2.0",
            "_model_name": "LayoutModel",
            "_view_count": null,
            "_view_module": "@jupyter-widgets/base",
            "_view_module_version": "1.2.0",
            "_view_name": "LayoutView",
            "align_content": null,
            "align_items": null,
            "align_self": null,
            "border": null,
            "bottom": null,
            "display": null,
            "flex": null,
            "flex_flow": null,
            "grid_area": null,
            "grid_auto_columns": null,
            "grid_auto_flow": null,
            "grid_auto_rows": null,
            "grid_column": null,
            "grid_gap": null,
            "grid_row": null,
            "grid_template_areas": null,
            "grid_template_columns": null,
            "grid_template_rows": null,
            "height": null,
            "justify_content": null,
            "justify_items": null,
            "left": null,
            "margin": null,
            "max_height": null,
            "max_width": null,
            "min_height": null,
            "min_width": null,
            "object_fit": null,
            "object_position": null,
            "order": null,
            "overflow": null,
            "overflow_x": null,
            "overflow_y": null,
            "padding": null,
            "right": null,
            "top": null,
            "visibility": null,
            "width": null
          }
        },
        "2003398465384512afa87d2d5dce798f": {
          "model_module": "@jupyter-widgets/base",
          "model_module_version": "1.2.0",
          "model_name": "LayoutModel",
          "state": {
            "_model_module": "@jupyter-widgets/base",
            "_model_module_version": "1.2.0",
            "_model_name": "LayoutModel",
            "_view_count": null,
            "_view_module": "@jupyter-widgets/base",
            "_view_module_version": "1.2.0",
            "_view_name": "LayoutView",
            "align_content": null,
            "align_items": null,
            "align_self": null,
            "border": null,
            "bottom": null,
            "display": null,
            "flex": null,
            "flex_flow": null,
            "grid_area": null,
            "grid_auto_columns": null,
            "grid_auto_flow": null,
            "grid_auto_rows": null,
            "grid_column": null,
            "grid_gap": null,
            "grid_row": null,
            "grid_template_areas": null,
            "grid_template_columns": null,
            "grid_template_rows": null,
            "height": null,
            "justify_content": null,
            "justify_items": null,
            "left": null,
            "margin": null,
            "max_height": null,
            "max_width": null,
            "min_height": null,
            "min_width": null,
            "object_fit": null,
            "object_position": null,
            "order": null,
            "overflow": null,
            "overflow_x": null,
            "overflow_y": null,
            "padding": null,
            "right": null,
            "top": null,
            "visibility": null,
            "width": null
          }
        },
        "221561ee700e461bbc7f6dfd33077bdc": {
          "model_module": "@jupyter-widgets/controls",
          "model_module_version": "1.5.0",
          "model_name": "DescriptionStyleModel",
          "state": {
            "_model_module": "@jupyter-widgets/controls",
            "_model_module_version": "1.5.0",
            "_model_name": "DescriptionStyleModel",
            "_view_count": null,
            "_view_module": "@jupyter-widgets/base",
            "_view_module_version": "1.2.0",
            "_view_name": "StyleView",
            "description_width": ""
          }
        },
        "24eaf9dc9ed04cd285ee64587874c66d": {
          "model_module": "@jupyter-widgets/controls",
          "model_module_version": "1.5.0",
          "model_name": "DescriptionStyleModel",
          "state": {
            "_model_module": "@jupyter-widgets/controls",
            "_model_module_version": "1.5.0",
            "_model_name": "DescriptionStyleModel",
            "_view_count": null,
            "_view_module": "@jupyter-widgets/base",
            "_view_module_version": "1.2.0",
            "_view_name": "StyleView",
            "description_width": ""
          }
        },
        "257f2f8c889446258dc63a5bc5a91dc7": {
          "model_module": "@jupyter-widgets/base",
          "model_module_version": "1.2.0",
          "model_name": "LayoutModel",
          "state": {
            "_model_module": "@jupyter-widgets/base",
            "_model_module_version": "1.2.0",
            "_model_name": "LayoutModel",
            "_view_count": null,
            "_view_module": "@jupyter-widgets/base",
            "_view_module_version": "1.2.0",
            "_view_name": "LayoutView",
            "align_content": null,
            "align_items": null,
            "align_self": null,
            "border": null,
            "bottom": null,
            "display": null,
            "flex": null,
            "flex_flow": null,
            "grid_area": null,
            "grid_auto_columns": null,
            "grid_auto_flow": null,
            "grid_auto_rows": null,
            "grid_column": null,
            "grid_gap": null,
            "grid_row": null,
            "grid_template_areas": null,
            "grid_template_columns": null,
            "grid_template_rows": null,
            "height": null,
            "justify_content": null,
            "justify_items": null,
            "left": null,
            "margin": null,
            "max_height": null,
            "max_width": null,
            "min_height": null,
            "min_width": null,
            "object_fit": null,
            "object_position": null,
            "order": null,
            "overflow": null,
            "overflow_x": null,
            "overflow_y": null,
            "padding": null,
            "right": null,
            "top": null,
            "visibility": null,
            "width": null
          }
        },
        "2649d53c6d584f4fb15de23acb3d3a6c": {
          "model_module": "@jupyter-widgets/controls",
          "model_module_version": "1.5.0",
          "model_name": "FloatProgressModel",
          "state": {
            "_dom_classes": [],
            "_model_module": "@jupyter-widgets/controls",
            "_model_module_version": "1.5.0",
            "_model_name": "FloatProgressModel",
            "_view_count": null,
            "_view_module": "@jupyter-widgets/controls",
            "_view_module_version": "1.5.0",
            "_view_name": "ProgressView",
            "bar_style": "success",
            "description": "",
            "description_tooltip": null,
            "layout": "IPY_MODEL_f2446e5377ca4f6ba6a581f16f6c800f",
            "max": 2,
            "min": 0,
            "orientation": "horizontal",
            "style": "IPY_MODEL_2d5f1a44430447edbcfa98fcb330fc77",
            "value": 2
          }
        },
        "26add6338326424bbfe46108cb7356ed": {
          "model_module": "@jupyter-widgets/base",
          "model_module_version": "1.2.0",
          "model_name": "LayoutModel",
          "state": {
            "_model_module": "@jupyter-widgets/base",
            "_model_module_version": "1.2.0",
            "_model_name": "LayoutModel",
            "_view_count": null,
            "_view_module": "@jupyter-widgets/base",
            "_view_module_version": "1.2.0",
            "_view_name": "LayoutView",
            "align_content": null,
            "align_items": null,
            "align_self": null,
            "border": null,
            "bottom": null,
            "display": null,
            "flex": null,
            "flex_flow": null,
            "grid_area": null,
            "grid_auto_columns": null,
            "grid_auto_flow": null,
            "grid_auto_rows": null,
            "grid_column": null,
            "grid_gap": null,
            "grid_row": null,
            "grid_template_areas": null,
            "grid_template_columns": null,
            "grid_template_rows": null,
            "height": null,
            "justify_content": null,
            "justify_items": null,
            "left": null,
            "margin": null,
            "max_height": null,
            "max_width": null,
            "min_height": null,
            "min_width": null,
            "object_fit": null,
            "object_position": null,
            "order": null,
            "overflow": null,
            "overflow_x": null,
            "overflow_y": null,
            "padding": null,
            "right": null,
            "top": null,
            "visibility": null,
            "width": null
          }
        },
        "283d4bd0a18843ddafaf23316834be49": {
          "model_module": "@jupyter-widgets/controls",
          "model_module_version": "1.5.0",
          "model_name": "HBoxModel",
          "state": {
            "_dom_classes": [],
            "_model_module": "@jupyter-widgets/controls",
            "_model_module_version": "1.5.0",
            "_model_name": "HBoxModel",
            "_view_count": null,
            "_view_module": "@jupyter-widgets/controls",
            "_view_module_version": "1.5.0",
            "_view_name": "HBoxView",
            "box_style": "",
            "children": [
              "IPY_MODEL_f704cd924a1e4ac386fa10cbd89f37f0",
              "IPY_MODEL_9eb6becbc1814eb29dcb995a2a1b489b",
              "IPY_MODEL_5d7e876133c84d289bb218053b95a46f"
            ],
            "layout": "IPY_MODEL_49a6e18804294e6aaa63daa7e1e09c76"
          }
        },
        "28445e0156434114afe1eaf195a7255b": {
          "model_module": "@jupyter-widgets/base",
          "model_module_version": "1.2.0",
          "model_name": "LayoutModel",
          "state": {
            "_model_module": "@jupyter-widgets/base",
            "_model_module_version": "1.2.0",
            "_model_name": "LayoutModel",
            "_view_count": null,
            "_view_module": "@jupyter-widgets/base",
            "_view_module_version": "1.2.0",
            "_view_name": "LayoutView",
            "align_content": null,
            "align_items": null,
            "align_self": null,
            "border": null,
            "bottom": null,
            "display": null,
            "flex": null,
            "flex_flow": null,
            "grid_area": null,
            "grid_auto_columns": null,
            "grid_auto_flow": null,
            "grid_auto_rows": null,
            "grid_column": null,
            "grid_gap": null,
            "grid_row": null,
            "grid_template_areas": null,
            "grid_template_columns": null,
            "grid_template_rows": null,
            "height": null,
            "justify_content": null,
            "justify_items": null,
            "left": null,
            "margin": null,
            "max_height": null,
            "max_width": null,
            "min_height": null,
            "min_width": null,
            "object_fit": null,
            "object_position": null,
            "order": null,
            "overflow": null,
            "overflow_x": null,
            "overflow_y": null,
            "padding": null,
            "right": null,
            "top": null,
            "visibility": null,
            "width": null
          }
        },
        "2851655d334646eea12190a6cbc813d5": {
          "model_module": "@jupyter-widgets/controls",
          "model_module_version": "1.5.0",
          "model_name": "ProgressStyleModel",
          "state": {
            "_model_module": "@jupyter-widgets/controls",
            "_model_module_version": "1.5.0",
            "_model_name": "ProgressStyleModel",
            "_view_count": null,
            "_view_module": "@jupyter-widgets/base",
            "_view_module_version": "1.2.0",
            "_view_name": "StyleView",
            "bar_color": null,
            "description_width": ""
          }
        },
        "29730829f4e045ccaa30b2f1b7ca0ab3": {
          "model_module": "@jupyter-widgets/base",
          "model_module_version": "1.2.0",
          "model_name": "LayoutModel",
          "state": {
            "_model_module": "@jupyter-widgets/base",
            "_model_module_version": "1.2.0",
            "_model_name": "LayoutModel",
            "_view_count": null,
            "_view_module": "@jupyter-widgets/base",
            "_view_module_version": "1.2.0",
            "_view_name": "LayoutView",
            "align_content": null,
            "align_items": null,
            "align_self": null,
            "border": null,
            "bottom": null,
            "display": null,
            "flex": null,
            "flex_flow": null,
            "grid_area": null,
            "grid_auto_columns": null,
            "grid_auto_flow": null,
            "grid_auto_rows": null,
            "grid_column": null,
            "grid_gap": null,
            "grid_row": null,
            "grid_template_areas": null,
            "grid_template_columns": null,
            "grid_template_rows": null,
            "height": null,
            "justify_content": null,
            "justify_items": null,
            "left": null,
            "margin": null,
            "max_height": null,
            "max_width": null,
            "min_height": null,
            "min_width": null,
            "object_fit": null,
            "object_position": null,
            "order": null,
            "overflow": null,
            "overflow_x": null,
            "overflow_y": null,
            "padding": null,
            "right": null,
            "top": null,
            "visibility": null,
            "width": null
          }
        },
        "298314c41f894c78915dc19108df626d": {
          "model_module": "@jupyter-widgets/base",
          "model_module_version": "1.2.0",
          "model_name": "LayoutModel",
          "state": {
            "_model_module": "@jupyter-widgets/base",
            "_model_module_version": "1.2.0",
            "_model_name": "LayoutModel",
            "_view_count": null,
            "_view_module": "@jupyter-widgets/base",
            "_view_module_version": "1.2.0",
            "_view_name": "LayoutView",
            "align_content": null,
            "align_items": null,
            "align_self": null,
            "border": null,
            "bottom": null,
            "display": null,
            "flex": null,
            "flex_flow": null,
            "grid_area": null,
            "grid_auto_columns": null,
            "grid_auto_flow": null,
            "grid_auto_rows": null,
            "grid_column": null,
            "grid_gap": null,
            "grid_row": null,
            "grid_template_areas": null,
            "grid_template_columns": null,
            "grid_template_rows": null,
            "height": null,
            "justify_content": null,
            "justify_items": null,
            "left": null,
            "margin": null,
            "max_height": null,
            "max_width": null,
            "min_height": null,
            "min_width": null,
            "object_fit": null,
            "object_position": null,
            "order": null,
            "overflow": null,
            "overflow_x": null,
            "overflow_y": null,
            "padding": null,
            "right": null,
            "top": null,
            "visibility": null,
            "width": null
          }
        },
        "2a397d4df5ff4f329e71e2c78ce3a900": {
          "model_module": "@jupyter-widgets/controls",
          "model_module_version": "1.5.0",
          "model_name": "ProgressStyleModel",
          "state": {
            "_model_module": "@jupyter-widgets/controls",
            "_model_module_version": "1.5.0",
            "_model_name": "ProgressStyleModel",
            "_view_count": null,
            "_view_module": "@jupyter-widgets/base",
            "_view_module_version": "1.2.0",
            "_view_name": "StyleView",
            "bar_color": null,
            "description_width": ""
          }
        },
        "2af805bef2ee496d84d7df00f7b5a7d3": {
          "model_module": "@jupyter-widgets/controls",
          "model_module_version": "1.5.0",
          "model_name": "HBoxModel",
          "state": {
            "_dom_classes": [],
            "_model_module": "@jupyter-widgets/controls",
            "_model_module_version": "1.5.0",
            "_model_name": "HBoxModel",
            "_view_count": null,
            "_view_module": "@jupyter-widgets/controls",
            "_view_module_version": "1.5.0",
            "_view_name": "HBoxView",
            "box_style": "",
            "children": [
              "IPY_MODEL_9ade824f7fa643c9afa554d8289b05e4",
              "IPY_MODEL_611b248f71204c32a31c062208986add",
              "IPY_MODEL_11af2236294b46c5a90102bf67e9b6ef"
            ],
            "layout": "IPY_MODEL_e0526d0cdcda42229fe32154b3fe1d3f"
          }
        },
        "2d2067b138f5442dba4d8a2f3cecbde7": {
          "model_module": "@jupyter-widgets/base",
          "model_module_version": "1.2.0",
          "model_name": "LayoutModel",
          "state": {
            "_model_module": "@jupyter-widgets/base",
            "_model_module_version": "1.2.0",
            "_model_name": "LayoutModel",
            "_view_count": null,
            "_view_module": "@jupyter-widgets/base",
            "_view_module_version": "1.2.0",
            "_view_name": "LayoutView",
            "align_content": null,
            "align_items": null,
            "align_self": null,
            "border": null,
            "bottom": null,
            "display": null,
            "flex": null,
            "flex_flow": null,
            "grid_area": null,
            "grid_auto_columns": null,
            "grid_auto_flow": null,
            "grid_auto_rows": null,
            "grid_column": null,
            "grid_gap": null,
            "grid_row": null,
            "grid_template_areas": null,
            "grid_template_columns": null,
            "grid_template_rows": null,
            "height": null,
            "justify_content": null,
            "justify_items": null,
            "left": null,
            "margin": null,
            "max_height": null,
            "max_width": null,
            "min_height": null,
            "min_width": null,
            "object_fit": null,
            "object_position": null,
            "order": null,
            "overflow": null,
            "overflow_x": null,
            "overflow_y": null,
            "padding": null,
            "right": null,
            "top": null,
            "visibility": null,
            "width": null
          }
        },
        "2d5f1a44430447edbcfa98fcb330fc77": {
          "model_module": "@jupyter-widgets/controls",
          "model_module_version": "1.5.0",
          "model_name": "ProgressStyleModel",
          "state": {
            "_model_module": "@jupyter-widgets/controls",
            "_model_module_version": "1.5.0",
            "_model_name": "ProgressStyleModel",
            "_view_count": null,
            "_view_module": "@jupyter-widgets/base",
            "_view_module_version": "1.2.0",
            "_view_name": "StyleView",
            "bar_color": null,
            "description_width": ""
          }
        },
        "2db102c77e00444aace72265d8387d23": {
          "model_module": "@jupyter-widgets/base",
          "model_module_version": "1.2.0",
          "model_name": "LayoutModel",
          "state": {
            "_model_module": "@jupyter-widgets/base",
            "_model_module_version": "1.2.0",
            "_model_name": "LayoutModel",
            "_view_count": null,
            "_view_module": "@jupyter-widgets/base",
            "_view_module_version": "1.2.0",
            "_view_name": "LayoutView",
            "align_content": null,
            "align_items": null,
            "align_self": null,
            "border": null,
            "bottom": null,
            "display": null,
            "flex": null,
            "flex_flow": null,
            "grid_area": null,
            "grid_auto_columns": null,
            "grid_auto_flow": null,
            "grid_auto_rows": null,
            "grid_column": null,
            "grid_gap": null,
            "grid_row": null,
            "grid_template_areas": null,
            "grid_template_columns": null,
            "grid_template_rows": null,
            "height": null,
            "justify_content": null,
            "justify_items": null,
            "left": null,
            "margin": null,
            "max_height": null,
            "max_width": null,
            "min_height": null,
            "min_width": null,
            "object_fit": null,
            "object_position": null,
            "order": null,
            "overflow": null,
            "overflow_x": null,
            "overflow_y": null,
            "padding": null,
            "right": null,
            "top": null,
            "visibility": null,
            "width": null
          }
        },
        "2e8de3a36b8b4b2b98a0817f2782070d": {
          "model_module": "@jupyter-widgets/base",
          "model_module_version": "1.2.0",
          "model_name": "LayoutModel",
          "state": {
            "_model_module": "@jupyter-widgets/base",
            "_model_module_version": "1.2.0",
            "_model_name": "LayoutModel",
            "_view_count": null,
            "_view_module": "@jupyter-widgets/base",
            "_view_module_version": "1.2.0",
            "_view_name": "LayoutView",
            "align_content": null,
            "align_items": null,
            "align_self": null,
            "border": null,
            "bottom": null,
            "display": null,
            "flex": null,
            "flex_flow": null,
            "grid_area": null,
            "grid_auto_columns": null,
            "grid_auto_flow": null,
            "grid_auto_rows": null,
            "grid_column": null,
            "grid_gap": null,
            "grid_row": null,
            "grid_template_areas": null,
            "grid_template_columns": null,
            "grid_template_rows": null,
            "height": null,
            "justify_content": null,
            "justify_items": null,
            "left": null,
            "margin": null,
            "max_height": null,
            "max_width": null,
            "min_height": null,
            "min_width": null,
            "object_fit": null,
            "object_position": null,
            "order": null,
            "overflow": null,
            "overflow_x": null,
            "overflow_y": null,
            "padding": null,
            "right": null,
            "top": null,
            "visibility": null,
            "width": null
          }
        },
        "2f126704b4bb45b492653ad3f71b1c0d": {
          "model_module": "@jupyter-widgets/controls",
          "model_module_version": "1.5.0",
          "model_name": "FloatProgressModel",
          "state": {
            "_dom_classes": [],
            "_model_module": "@jupyter-widgets/controls",
            "_model_module_version": "1.5.0",
            "_model_name": "FloatProgressModel",
            "_view_count": null,
            "_view_module": "@jupyter-widgets/controls",
            "_view_module_version": "1.5.0",
            "_view_name": "ProgressView",
            "bar_style": "success",
            "description": "",
            "description_tooltip": null,
            "layout": "IPY_MODEL_ab1d9d1a497d4d908329f730644afefd",
            "max": 439101405,
            "min": 0,
            "orientation": "horizontal",
            "style": "IPY_MODEL_ddc6d3e5657c4dabb6b65a5feaa0854d",
            "value": 439101405
          }
        },
        "30af6805dc3d49749973a28f6d4881ec": {
          "model_module": "@jupyter-widgets/controls",
          "model_module_version": "1.5.0",
          "model_name": "ProgressStyleModel",
          "state": {
            "_model_module": "@jupyter-widgets/controls",
            "_model_module_version": "1.5.0",
            "_model_name": "ProgressStyleModel",
            "_view_count": null,
            "_view_module": "@jupyter-widgets/base",
            "_view_module_version": "1.2.0",
            "_view_name": "StyleView",
            "bar_color": null,
            "description_width": ""
          }
        },
        "322506aba68447e39c50d41154fd76bb": {
          "model_module": "@jupyter-widgets/controls",
          "model_module_version": "1.5.0",
          "model_name": "HTMLModel",
          "state": {
            "_dom_classes": [],
            "_model_module": "@jupyter-widgets/controls",
            "_model_module_version": "1.5.0",
            "_model_name": "HTMLModel",
            "_view_count": null,
            "_view_module": "@jupyter-widgets/controls",
            "_view_module_version": "1.5.0",
            "_view_name": "HTMLView",
            "description": "",
            "description_tooltip": null,
            "layout": "IPY_MODEL_aa52a7b20fc441ff9ee436ca03ccd16e",
            "placeholder": "​",
            "style": "IPY_MODEL_ecfce0b7e5b74d27bada06093bb74a4e",
            "value": "vocab.txt: 100%"
          }
        },
        "3434208488944d8986d62eab463fa65e": {
          "model_module": "@jupyter-widgets/controls",
          "model_module_version": "1.5.0",
          "model_name": "HBoxModel",
          "state": {
            "_dom_classes": [],
            "_model_module": "@jupyter-widgets/controls",
            "_model_module_version": "1.5.0",
            "_model_name": "HBoxModel",
            "_view_count": null,
            "_view_module": "@jupyter-widgets/controls",
            "_view_module_version": "1.5.0",
            "_view_name": "HBoxView",
            "box_style": "",
            "children": [
              "IPY_MODEL_3d1ba7d717254057841c7a442e9ac08d",
              "IPY_MODEL_9c89a76d32a74a35a61ebd1ac63bc58e",
              "IPY_MODEL_fc271962ddc949fdb3b41d9330cdd590"
            ],
            "layout": "IPY_MODEL_c3ccf8ca2a0f4d8398d833781852dd39"
          }
        },
        "3a8f35561aae46529ab20d1455db7dc5": {
          "model_module": "@jupyter-widgets/controls",
          "model_module_version": "1.5.0",
          "model_name": "DescriptionStyleModel",
          "state": {
            "_model_module": "@jupyter-widgets/controls",
            "_model_module_version": "1.5.0",
            "_model_name": "DescriptionStyleModel",
            "_view_count": null,
            "_view_module": "@jupyter-widgets/base",
            "_view_module_version": "1.2.0",
            "_view_name": "StyleView",
            "description_width": ""
          }
        },
        "3ad0640a81ed49ec9a95af3925ded337": {
          "model_module": "@jupyter-widgets/base",
          "model_module_version": "1.2.0",
          "model_name": "LayoutModel",
          "state": {
            "_model_module": "@jupyter-widgets/base",
            "_model_module_version": "1.2.0",
            "_model_name": "LayoutModel",
            "_view_count": null,
            "_view_module": "@jupyter-widgets/base",
            "_view_module_version": "1.2.0",
            "_view_name": "LayoutView",
            "align_content": null,
            "align_items": null,
            "align_self": null,
            "border": null,
            "bottom": null,
            "display": null,
            "flex": null,
            "flex_flow": null,
            "grid_area": null,
            "grid_auto_columns": null,
            "grid_auto_flow": null,
            "grid_auto_rows": null,
            "grid_column": null,
            "grid_gap": null,
            "grid_row": null,
            "grid_template_areas": null,
            "grid_template_columns": null,
            "grid_template_rows": null,
            "height": null,
            "justify_content": null,
            "justify_items": null,
            "left": null,
            "margin": null,
            "max_height": null,
            "max_width": null,
            "min_height": null,
            "min_width": null,
            "object_fit": null,
            "object_position": null,
            "order": null,
            "overflow": null,
            "overflow_x": null,
            "overflow_y": null,
            "padding": null,
            "right": null,
            "top": null,
            "visibility": null,
            "width": null
          }
        },
        "3ad3bf6c540246e3b4eaf2b1e173a788": {
          "model_module": "@jupyter-widgets/controls",
          "model_module_version": "1.5.0",
          "model_name": "ProgressStyleModel",
          "state": {
            "_model_module": "@jupyter-widgets/controls",
            "_model_module_version": "1.5.0",
            "_model_name": "ProgressStyleModel",
            "_view_count": null,
            "_view_module": "@jupyter-widgets/base",
            "_view_module_version": "1.2.0",
            "_view_name": "StyleView",
            "bar_color": null,
            "description_width": ""
          }
        },
        "3b00c7a120364054b247e22e66f42d70": {
          "model_module": "@jupyter-widgets/controls",
          "model_module_version": "1.5.0",
          "model_name": "HBoxModel",
          "state": {
            "_dom_classes": [],
            "_model_module": "@jupyter-widgets/controls",
            "_model_module_version": "1.5.0",
            "_model_name": "HBoxModel",
            "_view_count": null,
            "_view_module": "@jupyter-widgets/controls",
            "_view_module_version": "1.5.0",
            "_view_name": "HBoxView",
            "box_style": "",
            "children": [
              "IPY_MODEL_6801a50f904a4ec792340f01517008a7",
              "IPY_MODEL_c390cbdcf8444faf89f2520436007c7e",
              "IPY_MODEL_e3cc7bdcf0af4b3da5cb7b3230b29ecb"
            ],
            "layout": "IPY_MODEL_7ae5693811b940dbadf8d9c50c223197"
          }
        },
        "3c170ff36a5f49fa84b5bcc4afbad0c7": {
          "model_module": "@jupyter-widgets/controls",
          "model_module_version": "1.5.0",
          "model_name": "DescriptionStyleModel",
          "state": {
            "_model_module": "@jupyter-widgets/controls",
            "_model_module_version": "1.5.0",
            "_model_name": "DescriptionStyleModel",
            "_view_count": null,
            "_view_module": "@jupyter-widgets/base",
            "_view_module_version": "1.2.0",
            "_view_name": "StyleView",
            "description_width": ""
          }
        },
        "3c81a8c356a24147aa7833f3da1ee8b9": {
          "model_module": "@jupyter-widgets/base",
          "model_module_version": "1.2.0",
          "model_name": "LayoutModel",
          "state": {
            "_model_module": "@jupyter-widgets/base",
            "_model_module_version": "1.2.0",
            "_model_name": "LayoutModel",
            "_view_count": null,
            "_view_module": "@jupyter-widgets/base",
            "_view_module_version": "1.2.0",
            "_view_name": "LayoutView",
            "align_content": null,
            "align_items": null,
            "align_self": null,
            "border": null,
            "bottom": null,
            "display": null,
            "flex": null,
            "flex_flow": null,
            "grid_area": null,
            "grid_auto_columns": null,
            "grid_auto_flow": null,
            "grid_auto_rows": null,
            "grid_column": null,
            "grid_gap": null,
            "grid_row": null,
            "grid_template_areas": null,
            "grid_template_columns": null,
            "grid_template_rows": null,
            "height": null,
            "justify_content": null,
            "justify_items": null,
            "left": null,
            "margin": null,
            "max_height": null,
            "max_width": null,
            "min_height": null,
            "min_width": null,
            "object_fit": null,
            "object_position": null,
            "order": null,
            "overflow": null,
            "overflow_x": null,
            "overflow_y": null,
            "padding": null,
            "right": null,
            "top": null,
            "visibility": null,
            "width": null
          }
        },
        "3d1ba7d717254057841c7a442e9ac08d": {
          "model_module": "@jupyter-widgets/controls",
          "model_module_version": "1.5.0",
          "model_name": "HTMLModel",
          "state": {
            "_dom_classes": [],
            "_model_module": "@jupyter-widgets/controls",
            "_model_module_version": "1.5.0",
            "_model_name": "HTMLModel",
            "_view_count": null,
            "_view_module": "@jupyter-widgets/controls",
            "_view_module_version": "1.5.0",
            "_view_name": "HTMLView",
            "description": "",
            "description_tooltip": null,
            "layout": "IPY_MODEL_8246700b4b81446da353df87420d22e9",
            "placeholder": "​",
            "style": "IPY_MODEL_664ba0d2fd144555a2f079bb27d17ee3",
            "value": "Map: 100%"
          }
        },
        "3dc0e0ec4d5b4a018bd9446431d312e7": {
          "model_module": "@jupyter-widgets/controls",
          "model_module_version": "1.5.0",
          "model_name": "HBoxModel",
          "state": {
            "_dom_classes": [],
            "_model_module": "@jupyter-widgets/controls",
            "_model_module_version": "1.5.0",
            "_model_name": "HBoxModel",
            "_view_count": null,
            "_view_module": "@jupyter-widgets/controls",
            "_view_module_version": "1.5.0",
            "_view_name": "HBoxView",
            "box_style": "",
            "children": [
              "IPY_MODEL_66a8ea38e1a846dda43a16498709455a",
              "IPY_MODEL_6253c53643f74c4c98529c13a7478acd",
              "IPY_MODEL_97d1756b4ae94a138e7fa1e8c72f67f9"
            ],
            "layout": "IPY_MODEL_1aa897e75899421594934cd1c29e3054"
          }
        },
        "3f56c718718a48f3b6a117372768e879": {
          "model_module": "@jupyter-widgets/controls",
          "model_module_version": "1.5.0",
          "model_name": "HBoxModel",
          "state": {
            "_dom_classes": [],
            "_model_module": "@jupyter-widgets/controls",
            "_model_module_version": "1.5.0",
            "_model_name": "HBoxModel",
            "_view_count": null,
            "_view_module": "@jupyter-widgets/controls",
            "_view_module_version": "1.5.0",
            "_view_name": "HBoxView",
            "box_style": "",
            "children": [
              "IPY_MODEL_e1c541f941a440759adfebdd50a3e3e5",
              "IPY_MODEL_f5a8a55cf2174ad3a95a186fcaf60fdf",
              "IPY_MODEL_930d9afcf1de43acb0ced249620398b6"
            ],
            "layout": "IPY_MODEL_9ac7ded51a8d4a698616ae975ef6d1a8"
          }
        },
        "4126ea7c50214a51879971e391d04d04": {
          "model_module": "@jupyter-widgets/controls",
          "model_module_version": "1.5.0",
          "model_name": "DescriptionStyleModel",
          "state": {
            "_model_module": "@jupyter-widgets/controls",
            "_model_module_version": "1.5.0",
            "_model_name": "DescriptionStyleModel",
            "_view_count": null,
            "_view_module": "@jupyter-widgets/base",
            "_view_module_version": "1.2.0",
            "_view_name": "StyleView",
            "description_width": ""
          }
        },
        "424b297ed36944eca69f93ff4b9d1217": {
          "model_module": "@jupyter-widgets/controls",
          "model_module_version": "1.5.0",
          "model_name": "HBoxModel",
          "state": {
            "_dom_classes": [],
            "_model_module": "@jupyter-widgets/controls",
            "_model_module_version": "1.5.0",
            "_model_name": "HBoxModel",
            "_view_count": null,
            "_view_module": "@jupyter-widgets/controls",
            "_view_module_version": "1.5.0",
            "_view_name": "HBoxView",
            "box_style": "",
            "children": [
              "IPY_MODEL_322506aba68447e39c50d41154fd76bb",
              "IPY_MODEL_577e8b2a98f041eba9627334016a7720",
              "IPY_MODEL_9d0f363663ed453692dec92989db30ed"
            ],
            "layout": "IPY_MODEL_51a489936b0a49ee9e56c999f3589726"
          }
        },
        "43b9573a44164224b1dec08f8f43fb43": {
          "model_module": "@jupyter-widgets/base",
          "model_module_version": "1.2.0",
          "model_name": "LayoutModel",
          "state": {
            "_model_module": "@jupyter-widgets/base",
            "_model_module_version": "1.2.0",
            "_model_name": "LayoutModel",
            "_view_count": null,
            "_view_module": "@jupyter-widgets/base",
            "_view_module_version": "1.2.0",
            "_view_name": "LayoutView",
            "align_content": null,
            "align_items": null,
            "align_self": null,
            "border": null,
            "bottom": null,
            "display": null,
            "flex": null,
            "flex_flow": null,
            "grid_area": null,
            "grid_auto_columns": null,
            "grid_auto_flow": null,
            "grid_auto_rows": null,
            "grid_column": null,
            "grid_gap": null,
            "grid_row": null,
            "grid_template_areas": null,
            "grid_template_columns": null,
            "grid_template_rows": null,
            "height": null,
            "justify_content": null,
            "justify_items": null,
            "left": null,
            "margin": null,
            "max_height": null,
            "max_width": null,
            "min_height": null,
            "min_width": null,
            "object_fit": null,
            "object_position": null,
            "order": null,
            "overflow": null,
            "overflow_x": null,
            "overflow_y": null,
            "padding": null,
            "right": null,
            "top": null,
            "visibility": null,
            "width": null
          }
        },
        "4538de836725405eb58a00ea5870e8f3": {
          "model_module": "@jupyter-widgets/controls",
          "model_module_version": "1.5.0",
          "model_name": "DescriptionStyleModel",
          "state": {
            "_model_module": "@jupyter-widgets/controls",
            "_model_module_version": "1.5.0",
            "_model_name": "DescriptionStyleModel",
            "_view_count": null,
            "_view_module": "@jupyter-widgets/base",
            "_view_module_version": "1.2.0",
            "_view_name": "StyleView",
            "description_width": ""
          }
        },
        "48c8a7e9f65f4256bb2ec6eb0697b556": {
          "model_module": "@jupyter-widgets/base",
          "model_module_version": "1.2.0",
          "model_name": "LayoutModel",
          "state": {
            "_model_module": "@jupyter-widgets/base",
            "_model_module_version": "1.2.0",
            "_model_name": "LayoutModel",
            "_view_count": null,
            "_view_module": "@jupyter-widgets/base",
            "_view_module_version": "1.2.0",
            "_view_name": "LayoutView",
            "align_content": null,
            "align_items": null,
            "align_self": null,
            "border": null,
            "bottom": null,
            "display": null,
            "flex": null,
            "flex_flow": null,
            "grid_area": null,
            "grid_auto_columns": null,
            "grid_auto_flow": null,
            "grid_auto_rows": null,
            "grid_column": null,
            "grid_gap": null,
            "grid_row": null,
            "grid_template_areas": null,
            "grid_template_columns": null,
            "grid_template_rows": null,
            "height": null,
            "justify_content": null,
            "justify_items": null,
            "left": null,
            "margin": null,
            "max_height": null,
            "max_width": null,
            "min_height": null,
            "min_width": null,
            "object_fit": null,
            "object_position": null,
            "order": null,
            "overflow": null,
            "overflow_x": null,
            "overflow_y": null,
            "padding": null,
            "right": null,
            "top": null,
            "visibility": null,
            "width": null
          }
        },
        "498cc2d19cbc4dc1813a6028f7d73c06": {
          "model_module": "@jupyter-widgets/controls",
          "model_module_version": "1.5.0",
          "model_name": "HBoxModel",
          "state": {
            "_dom_classes": [],
            "_model_module": "@jupyter-widgets/controls",
            "_model_module_version": "1.5.0",
            "_model_name": "HBoxModel",
            "_view_count": null,
            "_view_module": "@jupyter-widgets/controls",
            "_view_module_version": "1.5.0",
            "_view_name": "HBoxView",
            "box_style": "",
            "children": [
              "IPY_MODEL_89a14bedeb2a498286f6eb67d5b3ffd0",
              "IPY_MODEL_86e5cbca65f54120a945d8b32ef2a35f",
              "IPY_MODEL_6e135896864442b0bb6560aafaca9a76"
            ],
            "layout": "IPY_MODEL_1370d3de916e411ead98eeeca38f2d9e"
          }
        },
        "49a6e18804294e6aaa63daa7e1e09c76": {
          "model_module": "@jupyter-widgets/base",
          "model_module_version": "1.2.0",
          "model_name": "LayoutModel",
          "state": {
            "_model_module": "@jupyter-widgets/base",
            "_model_module_version": "1.2.0",
            "_model_name": "LayoutModel",
            "_view_count": null,
            "_view_module": "@jupyter-widgets/base",
            "_view_module_version": "1.2.0",
            "_view_name": "LayoutView",
            "align_content": null,
            "align_items": null,
            "align_self": null,
            "border": null,
            "bottom": null,
            "display": null,
            "flex": null,
            "flex_flow": null,
            "grid_area": null,
            "grid_auto_columns": null,
            "grid_auto_flow": null,
            "grid_auto_rows": null,
            "grid_column": null,
            "grid_gap": null,
            "grid_row": null,
            "grid_template_areas": null,
            "grid_template_columns": null,
            "grid_template_rows": null,
            "height": null,
            "justify_content": null,
            "justify_items": null,
            "left": null,
            "margin": null,
            "max_height": null,
            "max_width": null,
            "min_height": null,
            "min_width": null,
            "object_fit": null,
            "object_position": null,
            "order": null,
            "overflow": null,
            "overflow_x": null,
            "overflow_y": null,
            "padding": null,
            "right": null,
            "top": null,
            "visibility": null,
            "width": null
          }
        },
        "4a7cd6e40aae44e5bd740c5e8c76598d": {
          "model_module": "@jupyter-widgets/base",
          "model_module_version": "1.2.0",
          "model_name": "LayoutModel",
          "state": {
            "_model_module": "@jupyter-widgets/base",
            "_model_module_version": "1.2.0",
            "_model_name": "LayoutModel",
            "_view_count": null,
            "_view_module": "@jupyter-widgets/base",
            "_view_module_version": "1.2.0",
            "_view_name": "LayoutView",
            "align_content": null,
            "align_items": null,
            "align_self": null,
            "border": null,
            "bottom": null,
            "display": null,
            "flex": null,
            "flex_flow": null,
            "grid_area": null,
            "grid_auto_columns": null,
            "grid_auto_flow": null,
            "grid_auto_rows": null,
            "grid_column": null,
            "grid_gap": null,
            "grid_row": null,
            "grid_template_areas": null,
            "grid_template_columns": null,
            "grid_template_rows": null,
            "height": null,
            "justify_content": null,
            "justify_items": null,
            "left": null,
            "margin": null,
            "max_height": null,
            "max_width": null,
            "min_height": null,
            "min_width": null,
            "object_fit": null,
            "object_position": null,
            "order": null,
            "overflow": null,
            "overflow_x": null,
            "overflow_y": null,
            "padding": null,
            "right": null,
            "top": null,
            "visibility": null,
            "width": null
          }
        },
        "4aeda2057e414db1aae385b81d00a7db": {
          "model_module": "@jupyter-widgets/controls",
          "model_module_version": "1.5.0",
          "model_name": "ProgressStyleModel",
          "state": {
            "_model_module": "@jupyter-widgets/controls",
            "_model_module_version": "1.5.0",
            "_model_name": "ProgressStyleModel",
            "_view_count": null,
            "_view_module": "@jupyter-widgets/base",
            "_view_module_version": "1.2.0",
            "_view_name": "StyleView",
            "bar_color": null,
            "description_width": ""
          }
        },
        "4c6d74a8bf8b478a838a23d52ea68c5a": {
          "model_module": "@jupyter-widgets/base",
          "model_module_version": "1.2.0",
          "model_name": "LayoutModel",
          "state": {
            "_model_module": "@jupyter-widgets/base",
            "_model_module_version": "1.2.0",
            "_model_name": "LayoutModel",
            "_view_count": null,
            "_view_module": "@jupyter-widgets/base",
            "_view_module_version": "1.2.0",
            "_view_name": "LayoutView",
            "align_content": null,
            "align_items": null,
            "align_self": null,
            "border": null,
            "bottom": null,
            "display": null,
            "flex": null,
            "flex_flow": null,
            "grid_area": null,
            "grid_auto_columns": null,
            "grid_auto_flow": null,
            "grid_auto_rows": null,
            "grid_column": null,
            "grid_gap": null,
            "grid_row": null,
            "grid_template_areas": null,
            "grid_template_columns": null,
            "grid_template_rows": null,
            "height": null,
            "justify_content": null,
            "justify_items": null,
            "left": null,
            "margin": null,
            "max_height": null,
            "max_width": null,
            "min_height": null,
            "min_width": null,
            "object_fit": null,
            "object_position": null,
            "order": null,
            "overflow": null,
            "overflow_x": null,
            "overflow_y": null,
            "padding": null,
            "right": null,
            "top": null,
            "visibility": null,
            "width": null
          }
        },
        "4c960765d919466e8b6c1c6d6d077c1a": {
          "model_module": "@jupyter-widgets/controls",
          "model_module_version": "1.5.0",
          "model_name": "HBoxModel",
          "state": {
            "_dom_classes": [],
            "_model_module": "@jupyter-widgets/controls",
            "_model_module_version": "1.5.0",
            "_model_name": "HBoxModel",
            "_view_count": null,
            "_view_module": "@jupyter-widgets/controls",
            "_view_module_version": "1.5.0",
            "_view_name": "HBoxView",
            "box_style": "",
            "children": [
              "IPY_MODEL_82d66858e0ca47079124573686d17eef",
              "IPY_MODEL_2649d53c6d584f4fb15de23acb3d3a6c",
              "IPY_MODEL_f6387f1a57c9459b9391e41ecbb0adb2"
            ],
            "layout": "IPY_MODEL_2db102c77e00444aace72265d8387d23"
          }
        },
        "4e0e32d3dfa64e799d48247350de5409": {
          "model_module": "@jupyter-widgets/controls",
          "model_module_version": "1.5.0",
          "model_name": "DescriptionStyleModel",
          "state": {
            "_model_module": "@jupyter-widgets/controls",
            "_model_module_version": "1.5.0",
            "_model_name": "DescriptionStyleModel",
            "_view_count": null,
            "_view_module": "@jupyter-widgets/base",
            "_view_module_version": "1.2.0",
            "_view_name": "StyleView",
            "description_width": ""
          }
        },
        "5147279800e44b3fa81142a8f12ccf43": {
          "model_module": "@jupyter-widgets/controls",
          "model_module_version": "1.5.0",
          "model_name": "DescriptionStyleModel",
          "state": {
            "_model_module": "@jupyter-widgets/controls",
            "_model_module_version": "1.5.0",
            "_model_name": "DescriptionStyleModel",
            "_view_count": null,
            "_view_module": "@jupyter-widgets/base",
            "_view_module_version": "1.2.0",
            "_view_name": "StyleView",
            "description_width": ""
          }
        },
        "51a489936b0a49ee9e56c999f3589726": {
          "model_module": "@jupyter-widgets/base",
          "model_module_version": "1.2.0",
          "model_name": "LayoutModel",
          "state": {
            "_model_module": "@jupyter-widgets/base",
            "_model_module_version": "1.2.0",
            "_model_name": "LayoutModel",
            "_view_count": null,
            "_view_module": "@jupyter-widgets/base",
            "_view_module_version": "1.2.0",
            "_view_name": "LayoutView",
            "align_content": null,
            "align_items": null,
            "align_self": null,
            "border": null,
            "bottom": null,
            "display": null,
            "flex": null,
            "flex_flow": null,
            "grid_area": null,
            "grid_auto_columns": null,
            "grid_auto_flow": null,
            "grid_auto_rows": null,
            "grid_column": null,
            "grid_gap": null,
            "grid_row": null,
            "grid_template_areas": null,
            "grid_template_columns": null,
            "grid_template_rows": null,
            "height": null,
            "justify_content": null,
            "justify_items": null,
            "left": null,
            "margin": null,
            "max_height": null,
            "max_width": null,
            "min_height": null,
            "min_width": null,
            "object_fit": null,
            "object_position": null,
            "order": null,
            "overflow": null,
            "overflow_x": null,
            "overflow_y": null,
            "padding": null,
            "right": null,
            "top": null,
            "visibility": null,
            "width": null
          }
        },
        "5248e549feae4d5fabda369207857760": {
          "model_module": "@jupyter-widgets/controls",
          "model_module_version": "1.5.0",
          "model_name": "DescriptionStyleModel",
          "state": {
            "_model_module": "@jupyter-widgets/controls",
            "_model_module_version": "1.5.0",
            "_model_name": "DescriptionStyleModel",
            "_view_count": null,
            "_view_module": "@jupyter-widgets/base",
            "_view_module_version": "1.2.0",
            "_view_name": "StyleView",
            "description_width": ""
          }
        },
        "526d72cc68714b989c52363b517a90ab": {
          "model_module": "@jupyter-widgets/controls",
          "model_module_version": "1.5.0",
          "model_name": "HTMLModel",
          "state": {
            "_dom_classes": [],
            "_model_module": "@jupyter-widgets/controls",
            "_model_module_version": "1.5.0",
            "_model_name": "HTMLModel",
            "_view_count": null,
            "_view_module": "@jupyter-widgets/controls",
            "_view_module_version": "1.5.0",
            "_view_name": "HTMLView",
            "description": "",
            "description_tooltip": null,
            "layout": "IPY_MODEL_1984c56b4ab044708a90bdc1ce36fef6",
            "placeholder": "​",
            "style": "IPY_MODEL_89553868335b400bac4cbe4afdf1c838",
            "value": "Generating test split: 100%"
          }
        },
        "52abdc1c1e33437f9674584dab4afd71": {
          "model_module": "@jupyter-widgets/controls",
          "model_module_version": "1.5.0",
          "model_name": "HBoxModel",
          "state": {
            "_dom_classes": [],
            "_model_module": "@jupyter-widgets/controls",
            "_model_module_version": "1.5.0",
            "_model_name": "HBoxModel",
            "_view_count": null,
            "_view_module": "@jupyter-widgets/controls",
            "_view_module_version": "1.5.0",
            "_view_name": "HBoxView",
            "box_style": "",
            "children": [
              "IPY_MODEL_526d72cc68714b989c52363b517a90ab",
              "IPY_MODEL_09bcb08e98cf4276970b5fe1735f1cbd",
              "IPY_MODEL_8cefbac0ded7477892e2bf3ec3333fb3"
            ],
            "layout": "IPY_MODEL_6c638db05cf14ef4b76c055135270628"
          }
        },
        "53596bb28e304413bd8a84d99b379631": {
          "model_module": "@jupyter-widgets/controls",
          "model_module_version": "1.5.0",
          "model_name": "FloatProgressModel",
          "state": {
            "_dom_classes": [],
            "_model_module": "@jupyter-widgets/controls",
            "_model_module_version": "1.5.0",
            "_model_name": "FloatProgressModel",
            "_view_count": null,
            "_view_module": "@jupyter-widgets/controls",
            "_view_module_version": "1.5.0",
            "_view_name": "ProgressView",
            "bar_style": "success",
            "description": "",
            "description_tooltip": null,
            "layout": "IPY_MODEL_cee93f1916144febb5e1c488e3baee36",
            "max": 14041,
            "min": 0,
            "orientation": "horizontal",
            "style": "IPY_MODEL_4aeda2057e414db1aae385b81d00a7db",
            "value": 14041
          }
        },
        "550eec9f87494fee8dc5b83879dd3719": {
          "model_module": "@jupyter-widgets/controls",
          "model_module_version": "1.5.0",
          "model_name": "DescriptionStyleModel",
          "state": {
            "_model_module": "@jupyter-widgets/controls",
            "_model_module_version": "1.5.0",
            "_model_name": "DescriptionStyleModel",
            "_view_count": null,
            "_view_module": "@jupyter-widgets/base",
            "_view_module_version": "1.2.0",
            "_view_name": "StyleView",
            "description_width": ""
          }
        },
        "55689e5160314f23a6a41f1baf9c145e": {
          "model_module": "@jupyter-widgets/base",
          "model_module_version": "1.2.0",
          "model_name": "LayoutModel",
          "state": {
            "_model_module": "@jupyter-widgets/base",
            "_model_module_version": "1.2.0",
            "_model_name": "LayoutModel",
            "_view_count": null,
            "_view_module": "@jupyter-widgets/base",
            "_view_module_version": "1.2.0",
            "_view_name": "LayoutView",
            "align_content": null,
            "align_items": null,
            "align_self": null,
            "border": null,
            "bottom": null,
            "display": null,
            "flex": null,
            "flex_flow": null,
            "grid_area": null,
            "grid_auto_columns": null,
            "grid_auto_flow": null,
            "grid_auto_rows": null,
            "grid_column": null,
            "grid_gap": null,
            "grid_row": null,
            "grid_template_areas": null,
            "grid_template_columns": null,
            "grid_template_rows": null,
            "height": null,
            "justify_content": null,
            "justify_items": null,
            "left": null,
            "margin": null,
            "max_height": null,
            "max_width": null,
            "min_height": null,
            "min_width": null,
            "object_fit": null,
            "object_position": null,
            "order": null,
            "overflow": null,
            "overflow_x": null,
            "overflow_y": null,
            "padding": null,
            "right": null,
            "top": null,
            "visibility": null,
            "width": null
          }
        },
        "563e3d45cff3434dbac2eceffd8beb65": {
          "model_module": "@jupyter-widgets/base",
          "model_module_version": "1.2.0",
          "model_name": "LayoutModel",
          "state": {
            "_model_module": "@jupyter-widgets/base",
            "_model_module_version": "1.2.0",
            "_model_name": "LayoutModel",
            "_view_count": null,
            "_view_module": "@jupyter-widgets/base",
            "_view_module_version": "1.2.0",
            "_view_name": "LayoutView",
            "align_content": null,
            "align_items": null,
            "align_self": null,
            "border": null,
            "bottom": null,
            "display": null,
            "flex": null,
            "flex_flow": null,
            "grid_area": null,
            "grid_auto_columns": null,
            "grid_auto_flow": null,
            "grid_auto_rows": null,
            "grid_column": null,
            "grid_gap": null,
            "grid_row": null,
            "grid_template_areas": null,
            "grid_template_columns": null,
            "grid_template_rows": null,
            "height": null,
            "justify_content": null,
            "justify_items": null,
            "left": null,
            "margin": null,
            "max_height": null,
            "max_width": null,
            "min_height": null,
            "min_width": null,
            "object_fit": null,
            "object_position": null,
            "order": null,
            "overflow": null,
            "overflow_x": null,
            "overflow_y": null,
            "padding": null,
            "right": null,
            "top": null,
            "visibility": null,
            "width": null
          }
        },
        "574836fe95df4956a1f34c5deb48dafd": {
          "model_module": "@jupyter-widgets/controls",
          "model_module_version": "1.5.0",
          "model_name": "DescriptionStyleModel",
          "state": {
            "_model_module": "@jupyter-widgets/controls",
            "_model_module_version": "1.5.0",
            "_model_name": "DescriptionStyleModel",
            "_view_count": null,
            "_view_module": "@jupyter-widgets/base",
            "_view_module_version": "1.2.0",
            "_view_name": "StyleView",
            "description_width": ""
          }
        },
        "577e8b2a98f041eba9627334016a7720": {
          "model_module": "@jupyter-widgets/controls",
          "model_module_version": "1.5.0",
          "model_name": "FloatProgressModel",
          "state": {
            "_dom_classes": [],
            "_model_module": "@jupyter-widgets/controls",
            "_model_module_version": "1.5.0",
            "_model_name": "FloatProgressModel",
            "_view_count": null,
            "_view_module": "@jupyter-widgets/controls",
            "_view_module_version": "1.5.0",
            "_view_name": "ProgressView",
            "bar_style": "success",
            "description": "",
            "description_tooltip": null,
            "layout": "IPY_MODEL_0f467203ae084078b9e6f322d0bc3e8f",
            "max": 226122,
            "min": 0,
            "orientation": "horizontal",
            "style": "IPY_MODEL_2a397d4df5ff4f329e71e2c78ce3a900",
            "value": 226122
          }
        },
        "58d5110dc34a4e87811da8fca83cae53": {
          "model_module": "@jupyter-widgets/controls",
          "model_module_version": "1.5.0",
          "model_name": "ProgressStyleModel",
          "state": {
            "_model_module": "@jupyter-widgets/controls",
            "_model_module_version": "1.5.0",
            "_model_name": "ProgressStyleModel",
            "_view_count": null,
            "_view_module": "@jupyter-widgets/base",
            "_view_module_version": "1.2.0",
            "_view_name": "StyleView",
            "bar_color": null,
            "description_width": ""
          }
        },
        "59463b361cad41e3ab5992a07a218de7": {
          "model_module": "@jupyter-widgets/base",
          "model_module_version": "1.2.0",
          "model_name": "LayoutModel",
          "state": {
            "_model_module": "@jupyter-widgets/base",
            "_model_module_version": "1.2.0",
            "_model_name": "LayoutModel",
            "_view_count": null,
            "_view_module": "@jupyter-widgets/base",
            "_view_module_version": "1.2.0",
            "_view_name": "LayoutView",
            "align_content": null,
            "align_items": null,
            "align_self": null,
            "border": null,
            "bottom": null,
            "display": null,
            "flex": null,
            "flex_flow": null,
            "grid_area": null,
            "grid_auto_columns": null,
            "grid_auto_flow": null,
            "grid_auto_rows": null,
            "grid_column": null,
            "grid_gap": null,
            "grid_row": null,
            "grid_template_areas": null,
            "grid_template_columns": null,
            "grid_template_rows": null,
            "height": null,
            "justify_content": null,
            "justify_items": null,
            "left": null,
            "margin": null,
            "max_height": null,
            "max_width": null,
            "min_height": null,
            "min_width": null,
            "object_fit": null,
            "object_position": null,
            "order": null,
            "overflow": null,
            "overflow_x": null,
            "overflow_y": null,
            "padding": null,
            "right": null,
            "top": null,
            "visibility": null,
            "width": null
          }
        },
        "59683e07abbe4965a48ba67d6252ca91": {
          "model_module": "@jupyter-widgets/controls",
          "model_module_version": "1.5.0",
          "model_name": "DescriptionStyleModel",
          "state": {
            "_model_module": "@jupyter-widgets/controls",
            "_model_module_version": "1.5.0",
            "_model_name": "DescriptionStyleModel",
            "_view_count": null,
            "_view_module": "@jupyter-widgets/base",
            "_view_module_version": "1.2.0",
            "_view_name": "StyleView",
            "description_width": ""
          }
        },
        "5a6941a71cef4f6f82550a38a11af323": {
          "model_module": "@jupyter-widgets/base",
          "model_module_version": "1.2.0",
          "model_name": "LayoutModel",
          "state": {
            "_model_module": "@jupyter-widgets/base",
            "_model_module_version": "1.2.0",
            "_model_name": "LayoutModel",
            "_view_count": null,
            "_view_module": "@jupyter-widgets/base",
            "_view_module_version": "1.2.0",
            "_view_name": "LayoutView",
            "align_content": null,
            "align_items": null,
            "align_self": null,
            "border": null,
            "bottom": null,
            "display": null,
            "flex": null,
            "flex_flow": null,
            "grid_area": null,
            "grid_auto_columns": null,
            "grid_auto_flow": null,
            "grid_auto_rows": null,
            "grid_column": null,
            "grid_gap": null,
            "grid_row": null,
            "grid_template_areas": null,
            "grid_template_columns": null,
            "grid_template_rows": null,
            "height": null,
            "justify_content": null,
            "justify_items": null,
            "left": null,
            "margin": null,
            "max_height": null,
            "max_width": null,
            "min_height": null,
            "min_width": null,
            "object_fit": null,
            "object_position": null,
            "order": null,
            "overflow": null,
            "overflow_x": null,
            "overflow_y": null,
            "padding": null,
            "right": null,
            "top": null,
            "visibility": null,
            "width": null
          }
        },
        "5ac571dcad224c1187ea93f1130f912c": {
          "model_module": "@jupyter-widgets/base",
          "model_module_version": "1.2.0",
          "model_name": "LayoutModel",
          "state": {
            "_model_module": "@jupyter-widgets/base",
            "_model_module_version": "1.2.0",
            "_model_name": "LayoutModel",
            "_view_count": null,
            "_view_module": "@jupyter-widgets/base",
            "_view_module_version": "1.2.0",
            "_view_name": "LayoutView",
            "align_content": null,
            "align_items": null,
            "align_self": null,
            "border": null,
            "bottom": null,
            "display": null,
            "flex": null,
            "flex_flow": null,
            "grid_area": null,
            "grid_auto_columns": null,
            "grid_auto_flow": null,
            "grid_auto_rows": null,
            "grid_column": null,
            "grid_gap": null,
            "grid_row": null,
            "grid_template_areas": null,
            "grid_template_columns": null,
            "grid_template_rows": null,
            "height": null,
            "justify_content": null,
            "justify_items": null,
            "left": null,
            "margin": null,
            "max_height": null,
            "max_width": null,
            "min_height": null,
            "min_width": null,
            "object_fit": null,
            "object_position": null,
            "order": null,
            "overflow": null,
            "overflow_x": null,
            "overflow_y": null,
            "padding": null,
            "right": null,
            "top": null,
            "visibility": null,
            "width": null
          }
        },
        "5b48c04c8cb54ff087ac71c58ecc808e": {
          "model_module": "@jupyter-widgets/controls",
          "model_module_version": "1.5.0",
          "model_name": "HTMLModel",
          "state": {
            "_dom_classes": [],
            "_model_module": "@jupyter-widgets/controls",
            "_model_module_version": "1.5.0",
            "_model_name": "HTMLModel",
            "_view_count": null,
            "_view_module": "@jupyter-widgets/controls",
            "_view_module_version": "1.5.0",
            "_view_name": "HTMLView",
            "description": "",
            "description_tooltip": null,
            "layout": "IPY_MODEL_2003398465384512afa87d2d5dce798f",
            "placeholder": "​",
            "style": "IPY_MODEL_1203c988bedc4f6c935bc28777b6856a",
            "value": " 439M/439M [00:04&lt;00:00, 125MB/s]"
          }
        },
        "5d7e876133c84d289bb218053b95a46f": {
          "model_module": "@jupyter-widgets/controls",
          "model_module_version": "1.5.0",
          "model_name": "HTMLModel",
          "state": {
            "_dom_classes": [],
            "_model_module": "@jupyter-widgets/controls",
            "_model_module_version": "1.5.0",
            "_model_name": "HTMLModel",
            "_view_count": null,
            "_view_module": "@jupyter-widgets/controls",
            "_view_module_version": "1.5.0",
            "_view_name": "HTMLView",
            "description": "",
            "description_tooltip": null,
            "layout": "IPY_MODEL_bb044e9a01aa458fb6111e704c683d28",
            "placeholder": "​",
            "style": "IPY_MODEL_59683e07abbe4965a48ba67d6252ca91",
            "value": " 408/408 [00:00&lt;00:00, 2034.83 examples/s]"
          }
        },
        "5dffa297337c4d17b8482f1951c0f610": {
          "model_module": "@jupyter-widgets/base",
          "model_module_version": "1.2.0",
          "model_name": "LayoutModel",
          "state": {
            "_model_module": "@jupyter-widgets/base",
            "_model_module_version": "1.2.0",
            "_model_name": "LayoutModel",
            "_view_count": null,
            "_view_module": "@jupyter-widgets/base",
            "_view_module_version": "1.2.0",
            "_view_name": "LayoutView",
            "align_content": null,
            "align_items": null,
            "align_self": null,
            "border": null,
            "bottom": null,
            "display": null,
            "flex": null,
            "flex_flow": null,
            "grid_area": null,
            "grid_auto_columns": null,
            "grid_auto_flow": null,
            "grid_auto_rows": null,
            "grid_column": null,
            "grid_gap": null,
            "grid_row": null,
            "grid_template_areas": null,
            "grid_template_columns": null,
            "grid_template_rows": null,
            "height": null,
            "justify_content": null,
            "justify_items": null,
            "left": null,
            "margin": null,
            "max_height": null,
            "max_width": null,
            "min_height": null,
            "min_width": null,
            "object_fit": null,
            "object_position": null,
            "order": null,
            "overflow": null,
            "overflow_x": null,
            "overflow_y": null,
            "padding": null,
            "right": null,
            "top": null,
            "visibility": null,
            "width": null
          }
        },
        "5e114e6369ec4318b0aafd10b36a91fd": {
          "model_module": "@jupyter-widgets/base",
          "model_module_version": "1.2.0",
          "model_name": "LayoutModel",
          "state": {
            "_model_module": "@jupyter-widgets/base",
            "_model_module_version": "1.2.0",
            "_model_name": "LayoutModel",
            "_view_count": null,
            "_view_module": "@jupyter-widgets/base",
            "_view_module_version": "1.2.0",
            "_view_name": "LayoutView",
            "align_content": null,
            "align_items": null,
            "align_self": null,
            "border": null,
            "bottom": null,
            "display": null,
            "flex": null,
            "flex_flow": null,
            "grid_area": null,
            "grid_auto_columns": null,
            "grid_auto_flow": null,
            "grid_auto_rows": null,
            "grid_column": null,
            "grid_gap": null,
            "grid_row": null,
            "grid_template_areas": null,
            "grid_template_columns": null,
            "grid_template_rows": null,
            "height": null,
            "justify_content": null,
            "justify_items": null,
            "left": null,
            "margin": null,
            "max_height": null,
            "max_width": null,
            "min_height": null,
            "min_width": null,
            "object_fit": null,
            "object_position": null,
            "order": null,
            "overflow": null,
            "overflow_x": null,
            "overflow_y": null,
            "padding": null,
            "right": null,
            "top": null,
            "visibility": null,
            "width": null
          }
        },
        "5fb7ad1c096e4942a7460f982bbd0796": {
          "model_module": "@jupyter-widgets/controls",
          "model_module_version": "1.5.0",
          "model_name": "DescriptionStyleModel",
          "state": {
            "_model_module": "@jupyter-widgets/controls",
            "_model_module_version": "1.5.0",
            "_model_name": "DescriptionStyleModel",
            "_view_count": null,
            "_view_module": "@jupyter-widgets/base",
            "_view_module_version": "1.2.0",
            "_view_name": "StyleView",
            "description_width": ""
          }
        },
        "611b248f71204c32a31c062208986add": {
          "model_module": "@jupyter-widgets/controls",
          "model_module_version": "1.5.0",
          "model_name": "FloatProgressModel",
          "state": {
            "_dom_classes": [],
            "_model_module": "@jupyter-widgets/controls",
            "_model_module_version": "1.5.0",
            "_model_name": "FloatProgressModel",
            "_view_count": null,
            "_view_module": "@jupyter-widgets/controls",
            "_view_module_version": "1.5.0",
            "_view_name": "ProgressView",
            "bar_style": "success",
            "description": "",
            "description_tooltip": null,
            "layout": "IPY_MODEL_48c8a7e9f65f4256bb2ec6eb0697b556",
            "max": 14041,
            "min": 0,
            "orientation": "horizontal",
            "style": "IPY_MODEL_d76d16cc6fc844488c9e3288cf6b720c",
            "value": 14041
          }
        },
        "61486b3e5d4c4510a6287879e8a02552": {
          "model_module": "@jupyter-widgets/controls",
          "model_module_version": "1.5.0",
          "model_name": "HBoxModel",
          "state": {
            "_dom_classes": [],
            "_model_module": "@jupyter-widgets/controls",
            "_model_module_version": "1.5.0",
            "_model_name": "HBoxModel",
            "_view_count": null,
            "_view_module": "@jupyter-widgets/controls",
            "_view_module_version": "1.5.0",
            "_view_name": "HBoxView",
            "box_style": "",
            "children": [
              "IPY_MODEL_c8fcf5f23a88485095ea706b205ccea5",
              "IPY_MODEL_c1fdde8dcd9e4c8bab33625b1b6886b1",
              "IPY_MODEL_66033dde86c24d5fbbe15b6bb75c8a7f"
            ],
            "layout": "IPY_MODEL_563e3d45cff3434dbac2eceffd8beb65"
          }
        },
        "6253c53643f74c4c98529c13a7478acd": {
          "model_module": "@jupyter-widgets/controls",
          "model_module_version": "1.5.0",
          "model_name": "FloatProgressModel",
          "state": {
            "_dom_classes": [],
            "_model_module": "@jupyter-widgets/controls",
            "_model_module_version": "1.5.0",
            "_model_name": "FloatProgressModel",
            "_view_count": null,
            "_view_module": "@jupyter-widgets/controls",
            "_view_module_version": "1.5.0",
            "_view_name": "ProgressView",
            "bar_style": "success",
            "description": "",
            "description_tooltip": null,
            "layout": "IPY_MODEL_0658f6f1e21d4f9f80c119aca2347ec2",
            "max": 433292294,
            "min": 0,
            "orientation": "horizontal",
            "style": "IPY_MODEL_2851655d334646eea12190a6cbc813d5",
            "value": 433292294
          }
        },
        "626c546419e4451eb6367e8a0373e974": {
          "model_module": "@jupyter-widgets/controls",
          "model_module_version": "1.5.0",
          "model_name": "HBoxModel",
          "state": {
            "_dom_classes": [],
            "_model_module": "@jupyter-widgets/controls",
            "_model_module_version": "1.5.0",
            "_model_name": "HBoxModel",
            "_view_count": null,
            "_view_module": "@jupyter-widgets/controls",
            "_view_module_version": "1.5.0",
            "_view_name": "HBoxView",
            "box_style": "",
            "children": [
              "IPY_MODEL_be6300f21e104935b192dca57dda078b",
              "IPY_MODEL_0258ea7497e04e2ebf59522c9ffcdb0b",
              "IPY_MODEL_c48bd47341924c97ade69239eb0aa379"
            ],
            "layout": "IPY_MODEL_87dcf3e1b6e1468cb12ce824047113eb"
          }
        },
        "626dd4966eac46c7bb11a23810b4c11a": {
          "model_module": "@jupyter-widgets/controls",
          "model_module_version": "1.5.0",
          "model_name": "ProgressStyleModel",
          "state": {
            "_model_module": "@jupyter-widgets/controls",
            "_model_module_version": "1.5.0",
            "_model_name": "ProgressStyleModel",
            "_view_count": null,
            "_view_module": "@jupyter-widgets/base",
            "_view_module_version": "1.2.0",
            "_view_name": "StyleView",
            "bar_color": null,
            "description_width": ""
          }
        },
        "627e265817444ca49de07161c7855233": {
          "model_module": "@jupyter-widgets/base",
          "model_module_version": "1.2.0",
          "model_name": "LayoutModel",
          "state": {
            "_model_module": "@jupyter-widgets/base",
            "_model_module_version": "1.2.0",
            "_model_name": "LayoutModel",
            "_view_count": null,
            "_view_module": "@jupyter-widgets/base",
            "_view_module_version": "1.2.0",
            "_view_name": "LayoutView",
            "align_content": null,
            "align_items": null,
            "align_self": null,
            "border": null,
            "bottom": null,
            "display": null,
            "flex": null,
            "flex_flow": null,
            "grid_area": null,
            "grid_auto_columns": null,
            "grid_auto_flow": null,
            "grid_auto_rows": null,
            "grid_column": null,
            "grid_gap": null,
            "grid_row": null,
            "grid_template_areas": null,
            "grid_template_columns": null,
            "grid_template_rows": null,
            "height": null,
            "justify_content": null,
            "justify_items": null,
            "left": null,
            "margin": null,
            "max_height": null,
            "max_width": null,
            "min_height": null,
            "min_width": null,
            "object_fit": null,
            "object_position": null,
            "order": null,
            "overflow": null,
            "overflow_x": null,
            "overflow_y": null,
            "padding": null,
            "right": null,
            "top": null,
            "visibility": null,
            "width": null
          }
        },
        "62de0019e43c4833b35ec8022b096f84": {
          "model_module": "@jupyter-widgets/base",
          "model_module_version": "1.2.0",
          "model_name": "LayoutModel",
          "state": {
            "_model_module": "@jupyter-widgets/base",
            "_model_module_version": "1.2.0",
            "_model_name": "LayoutModel",
            "_view_count": null,
            "_view_module": "@jupyter-widgets/base",
            "_view_module_version": "1.2.0",
            "_view_name": "LayoutView",
            "align_content": null,
            "align_items": null,
            "align_self": null,
            "border": null,
            "bottom": null,
            "display": null,
            "flex": null,
            "flex_flow": null,
            "grid_area": null,
            "grid_auto_columns": null,
            "grid_auto_flow": null,
            "grid_auto_rows": null,
            "grid_column": null,
            "grid_gap": null,
            "grid_row": null,
            "grid_template_areas": null,
            "grid_template_columns": null,
            "grid_template_rows": null,
            "height": null,
            "justify_content": null,
            "justify_items": null,
            "left": null,
            "margin": null,
            "max_height": null,
            "max_width": null,
            "min_height": null,
            "min_width": null,
            "object_fit": null,
            "object_position": null,
            "order": null,
            "overflow": null,
            "overflow_x": null,
            "overflow_y": null,
            "padding": null,
            "right": null,
            "top": null,
            "visibility": null,
            "width": null
          }
        },
        "64c49502f0ac419b86ebd00a221ae466": {
          "model_module": "@jupyter-widgets/controls",
          "model_module_version": "1.5.0",
          "model_name": "DescriptionStyleModel",
          "state": {
            "_model_module": "@jupyter-widgets/controls",
            "_model_module_version": "1.5.0",
            "_model_name": "DescriptionStyleModel",
            "_view_count": null,
            "_view_module": "@jupyter-widgets/base",
            "_view_module_version": "1.2.0",
            "_view_name": "StyleView",
            "description_width": ""
          }
        },
        "66033dde86c24d5fbbe15b6bb75c8a7f": {
          "model_module": "@jupyter-widgets/controls",
          "model_module_version": "1.5.0",
          "model_name": "HTMLModel",
          "state": {
            "_dom_classes": [],
            "_model_module": "@jupyter-widgets/controls",
            "_model_module_version": "1.5.0",
            "_model_name": "HTMLModel",
            "_view_count": null,
            "_view_module": "@jupyter-widgets/controls",
            "_view_module_version": "1.5.0",
            "_view_name": "HTMLView",
            "description": "",
            "description_tooltip": null,
            "layout": "IPY_MODEL_1c4a54c899754263a99f2e067076045f",
            "placeholder": "​",
            "style": "IPY_MODEL_4e0e32d3dfa64e799d48247350de5409",
            "value": " 533/533 [00:00&lt;00:00, 27.4kB/s]"
          }
        },
        "664ba0d2fd144555a2f079bb27d17ee3": {
          "model_module": "@jupyter-widgets/controls",
          "model_module_version": "1.5.0",
          "model_name": "DescriptionStyleModel",
          "state": {
            "_model_module": "@jupyter-widgets/controls",
            "_model_module_version": "1.5.0",
            "_model_name": "DescriptionStyleModel",
            "_view_count": null,
            "_view_module": "@jupyter-widgets/base",
            "_view_module_version": "1.2.0",
            "_view_name": "StyleView",
            "description_width": ""
          }
        },
        "66a8ea38e1a846dda43a16498709455a": {
          "model_module": "@jupyter-widgets/controls",
          "model_module_version": "1.5.0",
          "model_name": "HTMLModel",
          "state": {
            "_dom_classes": [],
            "_model_module": "@jupyter-widgets/controls",
            "_model_module_version": "1.5.0",
            "_model_name": "HTMLModel",
            "_view_count": null,
            "_view_module": "@jupyter-widgets/controls",
            "_view_module_version": "1.5.0",
            "_view_name": "HTMLView",
            "description": "",
            "description_tooltip": null,
            "layout": "IPY_MODEL_5ac571dcad224c1187ea93f1130f912c",
            "placeholder": "​",
            "style": "IPY_MODEL_89957363db4b4e8d951438d16e24cacf",
            "value": "model.safetensors: 100%"
          }
        },
        "6801a50f904a4ec792340f01517008a7": {
          "model_module": "@jupyter-widgets/controls",
          "model_module_version": "1.5.0",
          "model_name": "HTMLModel",
          "state": {
            "_dom_classes": [],
            "_model_module": "@jupyter-widgets/controls",
            "_model_module_version": "1.5.0",
            "_model_name": "HTMLModel",
            "_view_count": null,
            "_view_module": "@jupyter-widgets/controls",
            "_view_module_version": "1.5.0",
            "_view_name": "HTMLView",
            "description": "",
            "description_tooltip": null,
            "layout": "IPY_MODEL_95b1e14aa76e4d1d90e546d4b59b1dbd",
            "placeholder": "​",
            "style": "IPY_MODEL_3a8f35561aae46529ab20d1455db7dc5",
            "value": "model.safetensors: 100%"
          }
        },
        "6c20286349814a7d8764d4f906509749": {
          "model_module": "@jupyter-widgets/controls",
          "model_module_version": "1.5.0",
          "model_name": "DescriptionStyleModel",
          "state": {
            "_model_module": "@jupyter-widgets/controls",
            "_model_module_version": "1.5.0",
            "_model_name": "DescriptionStyleModel",
            "_view_count": null,
            "_view_module": "@jupyter-widgets/base",
            "_view_module_version": "1.2.0",
            "_view_name": "StyleView",
            "description_width": ""
          }
        },
        "6c638db05cf14ef4b76c055135270628": {
          "model_module": "@jupyter-widgets/base",
          "model_module_version": "1.2.0",
          "model_name": "LayoutModel",
          "state": {
            "_model_module": "@jupyter-widgets/base",
            "_model_module_version": "1.2.0",
            "_model_name": "LayoutModel",
            "_view_count": null,
            "_view_module": "@jupyter-widgets/base",
            "_view_module_version": "1.2.0",
            "_view_name": "LayoutView",
            "align_content": null,
            "align_items": null,
            "align_self": null,
            "border": null,
            "bottom": null,
            "display": null,
            "flex": null,
            "flex_flow": null,
            "grid_area": null,
            "grid_auto_columns": null,
            "grid_auto_flow": null,
            "grid_auto_rows": null,
            "grid_column": null,
            "grid_gap": null,
            "grid_row": null,
            "grid_template_areas": null,
            "grid_template_columns": null,
            "grid_template_rows": null,
            "height": null,
            "justify_content": null,
            "justify_items": null,
            "left": null,
            "margin": null,
            "max_height": null,
            "max_width": null,
            "min_height": null,
            "min_width": null,
            "object_fit": null,
            "object_position": null,
            "order": null,
            "overflow": null,
            "overflow_x": null,
            "overflow_y": null,
            "padding": null,
            "right": null,
            "top": null,
            "visibility": null,
            "width": null
          }
        },
        "6ca2910a8275467f85d2f95cc3725dee": {
          "model_module": "@jupyter-widgets/base",
          "model_module_version": "1.2.0",
          "model_name": "LayoutModel",
          "state": {
            "_model_module": "@jupyter-widgets/base",
            "_model_module_version": "1.2.0",
            "_model_name": "LayoutModel",
            "_view_count": null,
            "_view_module": "@jupyter-widgets/base",
            "_view_module_version": "1.2.0",
            "_view_name": "LayoutView",
            "align_content": null,
            "align_items": null,
            "align_self": null,
            "border": null,
            "bottom": null,
            "display": null,
            "flex": null,
            "flex_flow": null,
            "grid_area": null,
            "grid_auto_columns": null,
            "grid_auto_flow": null,
            "grid_auto_rows": null,
            "grid_column": null,
            "grid_gap": null,
            "grid_row": null,
            "grid_template_areas": null,
            "grid_template_columns": null,
            "grid_template_rows": null,
            "height": null,
            "justify_content": null,
            "justify_items": null,
            "left": null,
            "margin": null,
            "max_height": null,
            "max_width": null,
            "min_height": null,
            "min_width": null,
            "object_fit": null,
            "object_position": null,
            "order": null,
            "overflow": null,
            "overflow_x": null,
            "overflow_y": null,
            "padding": null,
            "right": null,
            "top": null,
            "visibility": null,
            "width": null
          }
        },
        "6cdb216028b748089c622c994cce297c": {
          "model_module": "@jupyter-widgets/controls",
          "model_module_version": "1.5.0",
          "model_name": "DescriptionStyleModel",
          "state": {
            "_model_module": "@jupyter-widgets/controls",
            "_model_module_version": "1.5.0",
            "_model_name": "DescriptionStyleModel",
            "_view_count": null,
            "_view_module": "@jupyter-widgets/base",
            "_view_module_version": "1.2.0",
            "_view_name": "StyleView",
            "description_width": ""
          }
        },
        "6e135896864442b0bb6560aafaca9a76": {
          "model_module": "@jupyter-widgets/controls",
          "model_module_version": "1.5.0",
          "model_name": "HTMLModel",
          "state": {
            "_dom_classes": [],
            "_model_module": "@jupyter-widgets/controls",
            "_model_module_version": "1.5.0",
            "_model_name": "HTMLModel",
            "_view_count": null,
            "_view_module": "@jupyter-widgets/controls",
            "_view_module_version": "1.5.0",
            "_view_name": "HTMLView",
            "description": "",
            "description_tooltip": null,
            "layout": "IPY_MODEL_b6bd39962e934a06938ba02dc7b65cd4",
            "placeholder": "​",
            "style": "IPY_MODEL_e7d15f76cf854699b01f28babd471ec2",
            "value": " 829/829 [00:00&lt;00:00, 70.7kB/s]"
          }
        },
        "6e14dc840f1e4aa793cc0a33a7bd944c": {
          "model_module": "@jupyter-widgets/controls",
          "model_module_version": "1.5.0",
          "model_name": "FloatProgressModel",
          "state": {
            "_dom_classes": [],
            "_model_module": "@jupyter-widgets/controls",
            "_model_module_version": "1.5.0",
            "_model_name": "FloatProgressModel",
            "_view_count": null,
            "_view_module": "@jupyter-widgets/controls",
            "_view_module_version": "1.5.0",
            "_view_name": "ProgressView",
            "bar_style": "success",
            "description": "",
            "description_tooltip": null,
            "layout": "IPY_MODEL_992f1e91f9e7479889cb2227085fbf30",
            "max": 59,
            "min": 0,
            "orientation": "horizontal",
            "style": "IPY_MODEL_58d5110dc34a4e87811da8fca83cae53",
            "value": 59
          }
        },
        "6e727f467474498095105e8056abbf17": {
          "model_module": "@jupyter-widgets/controls",
          "model_module_version": "1.5.0",
          "model_name": "HTMLModel",
          "state": {
            "_dom_classes": [],
            "_model_module": "@jupyter-widgets/controls",
            "_model_module_version": "1.5.0",
            "_model_name": "HTMLModel",
            "_view_count": null,
            "_view_module": "@jupyter-widgets/controls",
            "_view_module_version": "1.5.0",
            "_view_name": "HTMLView",
            "description": "",
            "description_tooltip": null,
            "layout": "IPY_MODEL_eaa8cd5724a64989be8072ee655bc08f",
            "placeholder": "​",
            "style": "IPY_MODEL_d642ade93eb24ae291b378b0cea686dc",
            "value": " 59.0/59.0 [00:00&lt;00:00, 4.89kB/s]"
          }
        },
        "6efc8dd840b64573808d540f83eda876": {
          "model_module": "@jupyter-widgets/base",
          "model_module_version": "1.2.0",
          "model_name": "LayoutModel",
          "state": {
            "_model_module": "@jupyter-widgets/base",
            "_model_module_version": "1.2.0",
            "_model_name": "LayoutModel",
            "_view_count": null,
            "_view_module": "@jupyter-widgets/base",
            "_view_module_version": "1.2.0",
            "_view_name": "LayoutView",
            "align_content": null,
            "align_items": null,
            "align_self": null,
            "border": null,
            "bottom": null,
            "display": null,
            "flex": null,
            "flex_flow": null,
            "grid_area": null,
            "grid_auto_columns": null,
            "grid_auto_flow": null,
            "grid_auto_rows": null,
            "grid_column": null,
            "grid_gap": null,
            "grid_row": null,
            "grid_template_areas": null,
            "grid_template_columns": null,
            "grid_template_rows": null,
            "height": null,
            "justify_content": null,
            "justify_items": null,
            "left": null,
            "margin": null,
            "max_height": null,
            "max_width": null,
            "min_height": null,
            "min_width": null,
            "object_fit": null,
            "object_position": null,
            "order": null,
            "overflow": null,
            "overflow_x": null,
            "overflow_y": null,
            "padding": null,
            "right": null,
            "top": null,
            "visibility": null,
            "width": null
          }
        },
        "71624b50433f4491b965b70ede4fc3be": {
          "model_module": "@jupyter-widgets/controls",
          "model_module_version": "1.5.0",
          "model_name": "DescriptionStyleModel",
          "state": {
            "_model_module": "@jupyter-widgets/controls",
            "_model_module_version": "1.5.0",
            "_model_name": "DescriptionStyleModel",
            "_view_count": null,
            "_view_module": "@jupyter-widgets/base",
            "_view_module_version": "1.2.0",
            "_view_name": "StyleView",
            "description_width": ""
          }
        },
        "7166c4de31554938a69db9bb9858f9b4": {
          "model_module": "@jupyter-widgets/base",
          "model_module_version": "1.2.0",
          "model_name": "LayoutModel",
          "state": {
            "_model_module": "@jupyter-widgets/base",
            "_model_module_version": "1.2.0",
            "_model_name": "LayoutModel",
            "_view_count": null,
            "_view_module": "@jupyter-widgets/base",
            "_view_module_version": "1.2.0",
            "_view_name": "LayoutView",
            "align_content": null,
            "align_items": null,
            "align_self": null,
            "border": null,
            "bottom": null,
            "display": null,
            "flex": null,
            "flex_flow": null,
            "grid_area": null,
            "grid_auto_columns": null,
            "grid_auto_flow": null,
            "grid_auto_rows": null,
            "grid_column": null,
            "grid_gap": null,
            "grid_row": null,
            "grid_template_areas": null,
            "grid_template_columns": null,
            "grid_template_rows": null,
            "height": null,
            "justify_content": null,
            "justify_items": null,
            "left": null,
            "margin": null,
            "max_height": null,
            "max_width": null,
            "min_height": null,
            "min_width": null,
            "object_fit": null,
            "object_position": null,
            "order": null,
            "overflow": null,
            "overflow_x": null,
            "overflow_y": null,
            "padding": null,
            "right": null,
            "top": null,
            "visibility": null,
            "width": null
          }
        },
        "716bc46f82e44cbfa320ba5b3975b847": {
          "model_module": "@jupyter-widgets/controls",
          "model_module_version": "1.5.0",
          "model_name": "HBoxModel",
          "state": {
            "_dom_classes": [],
            "_model_module": "@jupyter-widgets/controls",
            "_model_module_version": "1.5.0",
            "_model_name": "HBoxModel",
            "_view_count": null,
            "_view_module": "@jupyter-widgets/controls",
            "_view_module_version": "1.5.0",
            "_view_name": "HBoxView",
            "box_style": "",
            "children": [
              "IPY_MODEL_e9f33cffa7254f38ab663c4de32b6c9f",
              "IPY_MODEL_53596bb28e304413bd8a84d99b379631",
              "IPY_MODEL_d5df310a22fc418c83c71b243d5de439"
            ],
            "layout": "IPY_MODEL_0638d6a4b5cf4b34b22552a73628a53d"
          }
        },
        "717dfddd7b4543e3aaf8663be1a14ab2": {
          "model_module": "@jupyter-widgets/controls",
          "model_module_version": "1.5.0",
          "model_name": "HTMLModel",
          "state": {
            "_dom_classes": [],
            "_model_module": "@jupyter-widgets/controls",
            "_model_module_version": "1.5.0",
            "_model_name": "HTMLModel",
            "_view_count": null,
            "_view_module": "@jupyter-widgets/controls",
            "_view_module_version": "1.5.0",
            "_view_name": "HTMLView",
            "description": "",
            "description_tooltip": null,
            "layout": "IPY_MODEL_1eb37443e48b411098c87fc88ffcaaf5",
            "placeholder": "​",
            "style": "IPY_MODEL_5fb7ad1c096e4942a7460f982bbd0796",
            "value": " 9.57k/9.57k [00:00&lt;00:00, 661kB/s]"
          }
        },
        "71eddf8ac98b44289f0599b0f14a6b6e": {
          "model_module": "@jupyter-widgets/base",
          "model_module_version": "1.2.0",
          "model_name": "LayoutModel",
          "state": {
            "_model_module": "@jupyter-widgets/base",
            "_model_module_version": "1.2.0",
            "_model_name": "LayoutModel",
            "_view_count": null,
            "_view_module": "@jupyter-widgets/base",
            "_view_module_version": "1.2.0",
            "_view_name": "LayoutView",
            "align_content": null,
            "align_items": null,
            "align_self": null,
            "border": null,
            "bottom": null,
            "display": null,
            "flex": null,
            "flex_flow": null,
            "grid_area": null,
            "grid_auto_columns": null,
            "grid_auto_flow": null,
            "grid_auto_rows": null,
            "grid_column": null,
            "grid_gap": null,
            "grid_row": null,
            "grid_template_areas": null,
            "grid_template_columns": null,
            "grid_template_rows": null,
            "height": null,
            "justify_content": null,
            "justify_items": null,
            "left": null,
            "margin": null,
            "max_height": null,
            "max_width": null,
            "min_height": null,
            "min_width": null,
            "object_fit": null,
            "object_position": null,
            "order": null,
            "overflow": null,
            "overflow_x": null,
            "overflow_y": null,
            "padding": null,
            "right": null,
            "top": null,
            "visibility": null,
            "width": "20px"
          }
        },
        "71f4b484f7b74de5a5e58cb2fe08f704": {
          "model_module": "@jupyter-widgets/base",
          "model_module_version": "1.2.0",
          "model_name": "LayoutModel",
          "state": {
            "_model_module": "@jupyter-widgets/base",
            "_model_module_version": "1.2.0",
            "_model_name": "LayoutModel",
            "_view_count": null,
            "_view_module": "@jupyter-widgets/base",
            "_view_module_version": "1.2.0",
            "_view_name": "LayoutView",
            "align_content": null,
            "align_items": null,
            "align_self": null,
            "border": null,
            "bottom": null,
            "display": null,
            "flex": null,
            "flex_flow": null,
            "grid_area": null,
            "grid_auto_columns": null,
            "grid_auto_flow": null,
            "grid_auto_rows": null,
            "grid_column": null,
            "grid_gap": null,
            "grid_row": null,
            "grid_template_areas": null,
            "grid_template_columns": null,
            "grid_template_rows": null,
            "height": null,
            "justify_content": null,
            "justify_items": null,
            "left": null,
            "margin": null,
            "max_height": null,
            "max_width": null,
            "min_height": null,
            "min_width": null,
            "object_fit": null,
            "object_position": null,
            "order": null,
            "overflow": null,
            "overflow_x": null,
            "overflow_y": null,
            "padding": null,
            "right": null,
            "top": null,
            "visibility": null,
            "width": null
          }
        },
        "736e27478d8c49dfb9f928b1d32e36df": {
          "model_module": "@jupyter-widgets/base",
          "model_module_version": "1.2.0",
          "model_name": "LayoutModel",
          "state": {
            "_model_module": "@jupyter-widgets/base",
            "_model_module_version": "1.2.0",
            "_model_name": "LayoutModel",
            "_view_count": null,
            "_view_module": "@jupyter-widgets/base",
            "_view_module_version": "1.2.0",
            "_view_name": "LayoutView",
            "align_content": null,
            "align_items": null,
            "align_self": null,
            "border": null,
            "bottom": null,
            "display": null,
            "flex": null,
            "flex_flow": null,
            "grid_area": null,
            "grid_auto_columns": null,
            "grid_auto_flow": null,
            "grid_auto_rows": null,
            "grid_column": null,
            "grid_gap": null,
            "grid_row": null,
            "grid_template_areas": null,
            "grid_template_columns": null,
            "grid_template_rows": null,
            "height": null,
            "justify_content": null,
            "justify_items": null,
            "left": null,
            "margin": null,
            "max_height": null,
            "max_width": null,
            "min_height": null,
            "min_width": null,
            "object_fit": null,
            "object_position": null,
            "order": null,
            "overflow": null,
            "overflow_x": null,
            "overflow_y": null,
            "padding": null,
            "right": null,
            "top": null,
            "visibility": null,
            "width": null
          }
        },
        "74d495d07ddb48d3acd379000696342f": {
          "model_module": "@jupyter-widgets/controls",
          "model_module_version": "1.5.0",
          "model_name": "DescriptionStyleModel",
          "state": {
            "_model_module": "@jupyter-widgets/controls",
            "_model_module_version": "1.5.0",
            "_model_name": "DescriptionStyleModel",
            "_view_count": null,
            "_view_module": "@jupyter-widgets/base",
            "_view_module_version": "1.2.0",
            "_view_name": "StyleView",
            "description_width": ""
          }
        },
        "76e4bb6b5abc4b43832d96d8ae5740ec": {
          "model_module": "@jupyter-widgets/controls",
          "model_module_version": "1.5.0",
          "model_name": "FloatProgressModel",
          "state": {
            "_dom_classes": [],
            "_model_module": "@jupyter-widgets/controls",
            "_model_module_version": "1.5.0",
            "_model_name": "FloatProgressModel",
            "_view_count": null,
            "_view_module": "@jupyter-widgets/controls",
            "_view_module_version": "1.5.0",
            "_view_name": "ProgressView",
            "bar_style": "success",
            "description": "",
            "description_tooltip": null,
            "layout": "IPY_MODEL_00437598e3e24f29b4809e465bdeca2f",
            "max": 12330,
            "min": 0,
            "orientation": "horizontal",
            "style": "IPY_MODEL_f821a101e4ce43a2bd371448e6daa5ae",
            "value": 12330
          }
        },
        "79995849eb9548a997f8d22aa5cdf695": {
          "model_module": "@jupyter-widgets/base",
          "model_module_version": "1.2.0",
          "model_name": "LayoutModel",
          "state": {
            "_model_module": "@jupyter-widgets/base",
            "_model_module_version": "1.2.0",
            "_model_name": "LayoutModel",
            "_view_count": null,
            "_view_module": "@jupyter-widgets/base",
            "_view_module_version": "1.2.0",
            "_view_name": "LayoutView",
            "align_content": null,
            "align_items": null,
            "align_self": null,
            "border": null,
            "bottom": null,
            "display": null,
            "flex": null,
            "flex_flow": null,
            "grid_area": null,
            "grid_auto_columns": null,
            "grid_auto_flow": null,
            "grid_auto_rows": null,
            "grid_column": null,
            "grid_gap": null,
            "grid_row": null,
            "grid_template_areas": null,
            "grid_template_columns": null,
            "grid_template_rows": null,
            "height": null,
            "justify_content": null,
            "justify_items": null,
            "left": null,
            "margin": null,
            "max_height": null,
            "max_width": null,
            "min_height": null,
            "min_width": null,
            "object_fit": null,
            "object_position": null,
            "order": null,
            "overflow": null,
            "overflow_x": null,
            "overflow_y": null,
            "padding": null,
            "right": null,
            "top": null,
            "visibility": null,
            "width": null
          }
        },
        "7a3f3a4510eb4a7ca8276b0d7d813c50": {
          "model_module": "@jupyter-widgets/base",
          "model_module_version": "1.2.0",
          "model_name": "LayoutModel",
          "state": {
            "_model_module": "@jupyter-widgets/base",
            "_model_module_version": "1.2.0",
            "_model_name": "LayoutModel",
            "_view_count": null,
            "_view_module": "@jupyter-widgets/base",
            "_view_module_version": "1.2.0",
            "_view_name": "LayoutView",
            "align_content": null,
            "align_items": null,
            "align_self": null,
            "border": null,
            "bottom": null,
            "display": null,
            "flex": null,
            "flex_flow": null,
            "grid_area": null,
            "grid_auto_columns": null,
            "grid_auto_flow": null,
            "grid_auto_rows": null,
            "grid_column": null,
            "grid_gap": null,
            "grid_row": null,
            "grid_template_areas": null,
            "grid_template_columns": null,
            "grid_template_rows": null,
            "height": null,
            "justify_content": null,
            "justify_items": null,
            "left": null,
            "margin": null,
            "max_height": null,
            "max_width": null,
            "min_height": null,
            "min_width": null,
            "object_fit": null,
            "object_position": null,
            "order": null,
            "overflow": null,
            "overflow_x": null,
            "overflow_y": null,
            "padding": null,
            "right": null,
            "top": null,
            "visibility": null,
            "width": null
          }
        },
        "7ae5693811b940dbadf8d9c50c223197": {
          "model_module": "@jupyter-widgets/base",
          "model_module_version": "1.2.0",
          "model_name": "LayoutModel",
          "state": {
            "_model_module": "@jupyter-widgets/base",
            "_model_module_version": "1.2.0",
            "_model_name": "LayoutModel",
            "_view_count": null,
            "_view_module": "@jupyter-widgets/base",
            "_view_module_version": "1.2.0",
            "_view_name": "LayoutView",
            "align_content": null,
            "align_items": null,
            "align_self": null,
            "border": null,
            "bottom": null,
            "display": null,
            "flex": null,
            "flex_flow": null,
            "grid_area": null,
            "grid_auto_columns": null,
            "grid_auto_flow": null,
            "grid_auto_rows": null,
            "grid_column": null,
            "grid_gap": null,
            "grid_row": null,
            "grid_template_areas": null,
            "grid_template_columns": null,
            "grid_template_rows": null,
            "height": null,
            "justify_content": null,
            "justify_items": null,
            "left": null,
            "margin": null,
            "max_height": null,
            "max_width": null,
            "min_height": null,
            "min_width": null,
            "object_fit": null,
            "object_position": null,
            "order": null,
            "overflow": null,
            "overflow_x": null,
            "overflow_y": null,
            "padding": null,
            "right": null,
            "top": null,
            "visibility": null,
            "width": null
          }
        },
        "7e850ce50df04f5982b8e3bc737d54c0": {
          "model_module": "@jupyter-widgets/controls",
          "model_module_version": "1.5.0",
          "model_name": "HTMLModel",
          "state": {
            "_dom_classes": [],
            "_model_module": "@jupyter-widgets/controls",
            "_model_module_version": "1.5.0",
            "_model_name": "HTMLModel",
            "_view_count": null,
            "_view_module": "@jupyter-widgets/controls",
            "_view_module_version": "1.5.0",
            "_view_name": "HTMLView",
            "description": "",
            "description_tooltip": null,
            "layout": "IPY_MODEL_e10bf00a298e4c07a50d6d7dae298220",
            "placeholder": "​",
            "style": "IPY_MODEL_0e2a960c69754b3f896cdf8adb0f4164",
            "value": " 213k/213k [00:00&lt;00:00, 2.64MB/s]"
          }
        },
        "8037c1fa994948f2b0bc1f262cf61937": {
          "model_module": "@jupyter-widgets/base",
          "model_module_version": "1.2.0",
          "model_name": "LayoutModel",
          "state": {
            "_model_module": "@jupyter-widgets/base",
            "_model_module_version": "1.2.0",
            "_model_name": "LayoutModel",
            "_view_count": null,
            "_view_module": "@jupyter-widgets/base",
            "_view_module_version": "1.2.0",
            "_view_name": "LayoutView",
            "align_content": null,
            "align_items": null,
            "align_self": null,
            "border": null,
            "bottom": null,
            "display": null,
            "flex": null,
            "flex_flow": null,
            "grid_area": null,
            "grid_auto_columns": null,
            "grid_auto_flow": null,
            "grid_auto_rows": null,
            "grid_column": null,
            "grid_gap": null,
            "grid_row": null,
            "grid_template_areas": null,
            "grid_template_columns": null,
            "grid_template_rows": null,
            "height": null,
            "justify_content": null,
            "justify_items": null,
            "left": null,
            "margin": null,
            "max_height": null,
            "max_width": null,
            "min_height": null,
            "min_width": null,
            "object_fit": null,
            "object_position": null,
            "order": null,
            "overflow": null,
            "overflow_x": null,
            "overflow_y": null,
            "padding": null,
            "right": null,
            "top": null,
            "visibility": null,
            "width": null
          }
        },
        "8246700b4b81446da353df87420d22e9": {
          "model_module": "@jupyter-widgets/base",
          "model_module_version": "1.2.0",
          "model_name": "LayoutModel",
          "state": {
            "_model_module": "@jupyter-widgets/base",
            "_model_module_version": "1.2.0",
            "_model_name": "LayoutModel",
            "_view_count": null,
            "_view_module": "@jupyter-widgets/base",
            "_view_module_version": "1.2.0",
            "_view_name": "LayoutView",
            "align_content": null,
            "align_items": null,
            "align_self": null,
            "border": null,
            "bottom": null,
            "display": null,
            "flex": null,
            "flex_flow": null,
            "grid_area": null,
            "grid_auto_columns": null,
            "grid_auto_flow": null,
            "grid_auto_rows": null,
            "grid_column": null,
            "grid_gap": null,
            "grid_row": null,
            "grid_template_areas": null,
            "grid_template_columns": null,
            "grid_template_rows": null,
            "height": null,
            "justify_content": null,
            "justify_items": null,
            "left": null,
            "margin": null,
            "max_height": null,
            "max_width": null,
            "min_height": null,
            "min_width": null,
            "object_fit": null,
            "object_position": null,
            "order": null,
            "overflow": null,
            "overflow_x": null,
            "overflow_y": null,
            "padding": null,
            "right": null,
            "top": null,
            "visibility": null,
            "width": null
          }
        },
        "82d66858e0ca47079124573686d17eef": {
          "model_module": "@jupyter-widgets/controls",
          "model_module_version": "1.5.0",
          "model_name": "HTMLModel",
          "state": {
            "_dom_classes": [],
            "_model_module": "@jupyter-widgets/controls",
            "_model_module_version": "1.5.0",
            "_model_name": "HTMLModel",
            "_view_count": null,
            "_view_module": "@jupyter-widgets/controls",
            "_view_module_version": "1.5.0",
            "_view_name": "HTMLView",
            "description": "",
            "description_tooltip": null,
            "layout": "IPY_MODEL_3c81a8c356a24147aa7833f3da1ee8b9",
            "placeholder": "​",
            "style": "IPY_MODEL_5248e549feae4d5fabda369207857760",
            "value": "added_tokens.json: 100%"
          }
        },
        "86e5cbca65f54120a945d8b32ef2a35f": {
          "model_module": "@jupyter-widgets/controls",
          "model_module_version": "1.5.0",
          "model_name": "FloatProgressModel",
          "state": {
            "_dom_classes": [],
            "_model_module": "@jupyter-widgets/controls",
            "_model_module_version": "1.5.0",
            "_model_name": "FloatProgressModel",
            "_view_count": null,
            "_view_module": "@jupyter-widgets/controls",
            "_view_module_version": "1.5.0",
            "_view_name": "ProgressView",
            "bar_style": "success",
            "description": "",
            "description_tooltip": null,
            "layout": "IPY_MODEL_59463b361cad41e3ab5992a07a218de7",
            "max": 829,
            "min": 0,
            "orientation": "horizontal",
            "style": "IPY_MODEL_626dd4966eac46c7bb11a23810b4c11a",
            "value": 829
          }
        },
        "87dcf3e1b6e1468cb12ce824047113eb": {
          "model_module": "@jupyter-widgets/base",
          "model_module_version": "1.2.0",
          "model_name": "LayoutModel",
          "state": {
            "_model_module": "@jupyter-widgets/base",
            "_model_module_version": "1.2.0",
            "_model_name": "LayoutModel",
            "_view_count": null,
            "_view_module": "@jupyter-widgets/base",
            "_view_module_version": "1.2.0",
            "_view_name": "LayoutView",
            "align_content": null,
            "align_items": null,
            "align_self": null,
            "border": null,
            "bottom": null,
            "display": null,
            "flex": null,
            "flex_flow": null,
            "grid_area": null,
            "grid_auto_columns": null,
            "grid_auto_flow": null,
            "grid_auto_rows": null,
            "grid_column": null,
            "grid_gap": null,
            "grid_row": null,
            "grid_template_areas": null,
            "grid_template_columns": null,
            "grid_template_rows": null,
            "height": null,
            "justify_content": null,
            "justify_items": null,
            "left": null,
            "margin": null,
            "max_height": null,
            "max_width": null,
            "min_height": null,
            "min_width": null,
            "object_fit": null,
            "object_position": null,
            "order": null,
            "overflow": null,
            "overflow_x": null,
            "overflow_y": null,
            "padding": null,
            "right": null,
            "top": null,
            "visibility": null,
            "width": null
          }
        },
        "89553868335b400bac4cbe4afdf1c838": {
          "model_module": "@jupyter-widgets/controls",
          "model_module_version": "1.5.0",
          "model_name": "DescriptionStyleModel",
          "state": {
            "_model_module": "@jupyter-widgets/controls",
            "_model_module_version": "1.5.0",
            "_model_name": "DescriptionStyleModel",
            "_view_count": null,
            "_view_module": "@jupyter-widgets/base",
            "_view_module_version": "1.2.0",
            "_view_name": "StyleView",
            "description_width": ""
          }
        },
        "89957363db4b4e8d951438d16e24cacf": {
          "model_module": "@jupyter-widgets/controls",
          "model_module_version": "1.5.0",
          "model_name": "DescriptionStyleModel",
          "state": {
            "_model_module": "@jupyter-widgets/controls",
            "_model_module_version": "1.5.0",
            "_model_name": "DescriptionStyleModel",
            "_view_count": null,
            "_view_module": "@jupyter-widgets/base",
            "_view_module_version": "1.2.0",
            "_view_name": "StyleView",
            "description_width": ""
          }
        },
        "89a14bedeb2a498286f6eb67d5b3ffd0": {
          "model_module": "@jupyter-widgets/controls",
          "model_module_version": "1.5.0",
          "model_name": "HTMLModel",
          "state": {
            "_dom_classes": [],
            "_model_module": "@jupyter-widgets/controls",
            "_model_module_version": "1.5.0",
            "_model_name": "HTMLModel",
            "_view_count": null,
            "_view_module": "@jupyter-widgets/controls",
            "_view_module_version": "1.5.0",
            "_view_name": "HTMLView",
            "description": "",
            "description_tooltip": null,
            "layout": "IPY_MODEL_29730829f4e045ccaa30b2f1b7ca0ab3",
            "placeholder": "​",
            "style": "IPY_MODEL_64c49502f0ac419b86ebd00a221ae466",
            "value": "config.json: 100%"
          }
        },
        "8a27c708f50a40daae689c739f4a7681": {
          "model_module": "@jupyter-widgets/base",
          "model_module_version": "1.2.0",
          "model_name": "LayoutModel",
          "state": {
            "_model_module": "@jupyter-widgets/base",
            "_model_module_version": "1.2.0",
            "_model_name": "LayoutModel",
            "_view_count": null,
            "_view_module": "@jupyter-widgets/base",
            "_view_module_version": "1.2.0",
            "_view_name": "LayoutView",
            "align_content": null,
            "align_items": null,
            "align_self": null,
            "border": null,
            "bottom": null,
            "display": null,
            "flex": null,
            "flex_flow": null,
            "grid_area": null,
            "grid_auto_columns": null,
            "grid_auto_flow": null,
            "grid_auto_rows": null,
            "grid_column": null,
            "grid_gap": null,
            "grid_row": null,
            "grid_template_areas": null,
            "grid_template_columns": null,
            "grid_template_rows": null,
            "height": null,
            "justify_content": null,
            "justify_items": null,
            "left": null,
            "margin": null,
            "max_height": null,
            "max_width": null,
            "min_height": null,
            "min_width": null,
            "object_fit": null,
            "object_position": null,
            "order": null,
            "overflow": null,
            "overflow_x": null,
            "overflow_y": null,
            "padding": null,
            "right": null,
            "top": null,
            "visibility": null,
            "width": null
          }
        },
        "8ab1e0421d754ea69c8d21e85859d15b": {
          "model_module": "@jupyter-widgets/base",
          "model_module_version": "1.2.0",
          "model_name": "LayoutModel",
          "state": {
            "_model_module": "@jupyter-widgets/base",
            "_model_module_version": "1.2.0",
            "_model_name": "LayoutModel",
            "_view_count": null,
            "_view_module": "@jupyter-widgets/base",
            "_view_module_version": "1.2.0",
            "_view_name": "LayoutView",
            "align_content": null,
            "align_items": null,
            "align_self": null,
            "border": null,
            "bottom": null,
            "display": null,
            "flex": null,
            "flex_flow": null,
            "grid_area": null,
            "grid_auto_columns": null,
            "grid_auto_flow": null,
            "grid_auto_rows": null,
            "grid_column": null,
            "grid_gap": null,
            "grid_row": null,
            "grid_template_areas": null,
            "grid_template_columns": null,
            "grid_template_rows": null,
            "height": null,
            "justify_content": null,
            "justify_items": null,
            "left": null,
            "margin": null,
            "max_height": null,
            "max_width": null,
            "min_height": null,
            "min_width": null,
            "object_fit": null,
            "object_position": null,
            "order": null,
            "overflow": null,
            "overflow_x": null,
            "overflow_y": null,
            "padding": null,
            "right": null,
            "top": null,
            "visibility": null,
            "width": null
          }
        },
        "8b62976b0faf460ebdeddd8c9f73e78b": {
          "model_module": "@jupyter-widgets/controls",
          "model_module_version": "1.5.0",
          "model_name": "HTMLModel",
          "state": {
            "_dom_classes": [],
            "_model_module": "@jupyter-widgets/controls",
            "_model_module_version": "1.5.0",
            "_model_name": "HTMLModel",
            "_view_count": null,
            "_view_module": "@jupyter-widgets/controls",
            "_view_module_version": "1.5.0",
            "_view_name": "HTMLView",
            "description": "",
            "description_tooltip": null,
            "layout": "IPY_MODEL_14148d7fcd7a42ab8f9c9280cbc9a756",
            "placeholder": "​",
            "style": "IPY_MODEL_95b60bb4383b4343963dfbff56e55227",
            "value": "Generating train split: "
          }
        },
        "8c9a16bcedcf46d8bd77a1bbbdd30ce7": {
          "model_module": "@jupyter-widgets/controls",
          "model_module_version": "1.5.0",
          "model_name": "ProgressStyleModel",
          "state": {
            "_model_module": "@jupyter-widgets/controls",
            "_model_module_version": "1.5.0",
            "_model_name": "ProgressStyleModel",
            "_view_count": null,
            "_view_module": "@jupyter-widgets/base",
            "_view_module_version": "1.2.0",
            "_view_name": "StyleView",
            "bar_color": null,
            "description_width": ""
          }
        },
        "8cefbac0ded7477892e2bf3ec3333fb3": {
          "model_module": "@jupyter-widgets/controls",
          "model_module_version": "1.5.0",
          "model_name": "HTMLModel",
          "state": {
            "_dom_classes": [],
            "_model_module": "@jupyter-widgets/controls",
            "_model_module_version": "1.5.0",
            "_model_name": "HTMLModel",
            "_view_count": null,
            "_view_module": "@jupyter-widgets/controls",
            "_view_module_version": "1.5.0",
            "_view_name": "HTMLView",
            "description": "",
            "description_tooltip": null,
            "layout": "IPY_MODEL_e3ec2d466bc643a0a6d95f15dd31fd4f",
            "placeholder": "​",
            "style": "IPY_MODEL_6c20286349814a7d8764d4f906509749",
            "value": " 3453/3453 [00:01&lt;00:00, 3775.72 examples/s]"
          }
        },
        "9103c10a223841b2a05a4b0273392d6d": {
          "model_module": "@jupyter-widgets/controls",
          "model_module_version": "1.5.0",
          "model_name": "FloatProgressModel",
          "state": {
            "_dom_classes": [],
            "_model_module": "@jupyter-widgets/controls",
            "_model_module_version": "1.5.0",
            "_model_name": "FloatProgressModel",
            "_view_count": null,
            "_view_module": "@jupyter-widgets/controls",
            "_view_module_version": "1.5.0",
            "_view_name": "ProgressView",
            "bar_style": "success",
            "description": "",
            "description_tooltip": null,
            "layout": "IPY_MODEL_7a3f3a4510eb4a7ca8276b0d7d813c50",
            "max": 9570,
            "min": 0,
            "orientation": "horizontal",
            "style": "IPY_MODEL_ea636221bd64414b926416fc7078ee1e",
            "value": 9570
          }
        },
        "91855c1009004d4589b14ccecba8b50c": {
          "model_module": "@jupyter-widgets/controls",
          "model_module_version": "1.5.0",
          "model_name": "ProgressStyleModel",
          "state": {
            "_model_module": "@jupyter-widgets/controls",
            "_model_module_version": "1.5.0",
            "_model_name": "ProgressStyleModel",
            "_view_count": null,
            "_view_module": "@jupyter-widgets/base",
            "_view_module_version": "1.2.0",
            "_view_name": "StyleView",
            "bar_color": null,
            "description_width": ""
          }
        },
        "930d9afcf1de43acb0ced249620398b6": {
          "model_module": "@jupyter-widgets/controls",
          "model_module_version": "1.5.0",
          "model_name": "HTMLModel",
          "state": {
            "_dom_classes": [],
            "_model_module": "@jupyter-widgets/controls",
            "_model_module_version": "1.5.0",
            "_model_name": "HTMLModel",
            "_view_count": null,
            "_view_module": "@jupyter-widgets/controls",
            "_view_module_version": "1.5.0",
            "_view_name": "HTMLView",
            "description": "",
            "description_tooltip": null,
            "layout": "IPY_MODEL_b960b918a15242938bd2d76f9b4aec1d",
            "placeholder": "​",
            "style": "IPY_MODEL_ec7312980b7345f39cb82310a1f10869",
            "value": " 6.34k/6.34k [00:00&lt;00:00, 197kB/s]"
          }
        },
        "9360bba1dc0f40c4b3c62a9c76c6a2c4": {
          "model_module": "@jupyter-widgets/controls",
          "model_module_version": "1.5.0",
          "model_name": "FloatProgressModel",
          "state": {
            "_dom_classes": [],
            "_model_module": "@jupyter-widgets/controls",
            "_model_module_version": "1.5.0",
            "_model_name": "FloatProgressModel",
            "_view_count": null,
            "_view_module": "@jupyter-widgets/controls",
            "_view_module_version": "1.5.0",
            "_view_name": "ProgressView",
            "bar_style": "success",
            "description": "",
            "description_tooltip": null,
            "layout": "IPY_MODEL_2d2067b138f5442dba4d8a2f3cecbde7",
            "max": 3250,
            "min": 0,
            "orientation": "horizontal",
            "style": "IPY_MODEL_a6ef9a9951bd49c7a65ba051c3582b50",
            "value": 3250
          }
        },
        "957492934ed34b06b8e6504ea4786da0": {
          "model_module": "@jupyter-widgets/base",
          "model_module_version": "1.2.0",
          "model_name": "LayoutModel",
          "state": {
            "_model_module": "@jupyter-widgets/base",
            "_model_module_version": "1.2.0",
            "_model_name": "LayoutModel",
            "_view_count": null,
            "_view_module": "@jupyter-widgets/base",
            "_view_module_version": "1.2.0",
            "_view_name": "LayoutView",
            "align_content": null,
            "align_items": null,
            "align_self": null,
            "border": null,
            "bottom": null,
            "display": null,
            "flex": null,
            "flex_flow": null,
            "grid_area": null,
            "grid_auto_columns": null,
            "grid_auto_flow": null,
            "grid_auto_rows": null,
            "grid_column": null,
            "grid_gap": null,
            "grid_row": null,
            "grid_template_areas": null,
            "grid_template_columns": null,
            "grid_template_rows": null,
            "height": null,
            "justify_content": null,
            "justify_items": null,
            "left": null,
            "margin": null,
            "max_height": null,
            "max_width": null,
            "min_height": null,
            "min_width": null,
            "object_fit": null,
            "object_position": null,
            "order": null,
            "overflow": null,
            "overflow_x": null,
            "overflow_y": null,
            "padding": null,
            "right": null,
            "top": null,
            "visibility": null,
            "width": null
          }
        },
        "95b1e14aa76e4d1d90e546d4b59b1dbd": {
          "model_module": "@jupyter-widgets/base",
          "model_module_version": "1.2.0",
          "model_name": "LayoutModel",
          "state": {
            "_model_module": "@jupyter-widgets/base",
            "_model_module_version": "1.2.0",
            "_model_name": "LayoutModel",
            "_view_count": null,
            "_view_module": "@jupyter-widgets/base",
            "_view_module_version": "1.2.0",
            "_view_name": "LayoutView",
            "align_content": null,
            "align_items": null,
            "align_self": null,
            "border": null,
            "bottom": null,
            "display": null,
            "flex": null,
            "flex_flow": null,
            "grid_area": null,
            "grid_auto_columns": null,
            "grid_auto_flow": null,
            "grid_auto_rows": null,
            "grid_column": null,
            "grid_gap": null,
            "grid_row": null,
            "grid_template_areas": null,
            "grid_template_columns": null,
            "grid_template_rows": null,
            "height": null,
            "justify_content": null,
            "justify_items": null,
            "left": null,
            "margin": null,
            "max_height": null,
            "max_width": null,
            "min_height": null,
            "min_width": null,
            "object_fit": null,
            "object_position": null,
            "order": null,
            "overflow": null,
            "overflow_x": null,
            "overflow_y": null,
            "padding": null,
            "right": null,
            "top": null,
            "visibility": null,
            "width": null
          }
        },
        "95b60bb4383b4343963dfbff56e55227": {
          "model_module": "@jupyter-widgets/controls",
          "model_module_version": "1.5.0",
          "model_name": "DescriptionStyleModel",
          "state": {
            "_model_module": "@jupyter-widgets/controls",
            "_model_module_version": "1.5.0",
            "_model_name": "DescriptionStyleModel",
            "_view_count": null,
            "_view_module": "@jupyter-widgets/base",
            "_view_module_version": "1.2.0",
            "_view_name": "StyleView",
            "description_width": ""
          }
        },
        "97d1756b4ae94a138e7fa1e8c72f67f9": {
          "model_module": "@jupyter-widgets/controls",
          "model_module_version": "1.5.0",
          "model_name": "HTMLModel",
          "state": {
            "_dom_classes": [],
            "_model_module": "@jupyter-widgets/controls",
            "_model_module_version": "1.5.0",
            "_model_name": "HTMLModel",
            "_view_count": null,
            "_view_module": "@jupyter-widgets/controls",
            "_view_module_version": "1.5.0",
            "_view_name": "HTMLView",
            "description": "",
            "description_tooltip": null,
            "layout": "IPY_MODEL_df3a7a17c99e4afc99189914c3357bef",
            "placeholder": "​",
            "style": "IPY_MODEL_3c170ff36a5f49fa84b5bcc4afbad0c7",
            "value": " 433M/433M [00:03&lt;00:00, 162MB/s]"
          }
        },
        "992f1e91f9e7479889cb2227085fbf30": {
          "model_module": "@jupyter-widgets/base",
          "model_module_version": "1.2.0",
          "model_name": "LayoutModel",
          "state": {
            "_model_module": "@jupyter-widgets/base",
            "_model_module_version": "1.2.0",
            "_model_name": "LayoutModel",
            "_view_count": null,
            "_view_module": "@jupyter-widgets/base",
            "_view_module_version": "1.2.0",
            "_view_name": "LayoutView",
            "align_content": null,
            "align_items": null,
            "align_self": null,
            "border": null,
            "bottom": null,
            "display": null,
            "flex": null,
            "flex_flow": null,
            "grid_area": null,
            "grid_auto_columns": null,
            "grid_auto_flow": null,
            "grid_auto_rows": null,
            "grid_column": null,
            "grid_gap": null,
            "grid_row": null,
            "grid_template_areas": null,
            "grid_template_columns": null,
            "grid_template_rows": null,
            "height": null,
            "justify_content": null,
            "justify_items": null,
            "left": null,
            "margin": null,
            "max_height": null,
            "max_width": null,
            "min_height": null,
            "min_width": null,
            "object_fit": null,
            "object_position": null,
            "order": null,
            "overflow": null,
            "overflow_x": null,
            "overflow_y": null,
            "padding": null,
            "right": null,
            "top": null,
            "visibility": null,
            "width": null
          }
        },
        "99c0b1b9d74d4528b4776fa266975444": {
          "model_module": "@jupyter-widgets/controls",
          "model_module_version": "1.5.0",
          "model_name": "ProgressStyleModel",
          "state": {
            "_model_module": "@jupyter-widgets/controls",
            "_model_module_version": "1.5.0",
            "_model_name": "ProgressStyleModel",
            "_view_count": null,
            "_view_module": "@jupyter-widgets/base",
            "_view_module_version": "1.2.0",
            "_view_name": "StyleView",
            "bar_color": null,
            "description_width": ""
          }
        },
        "9ac7ded51a8d4a698616ae975ef6d1a8": {
          "model_module": "@jupyter-widgets/base",
          "model_module_version": "1.2.0",
          "model_name": "LayoutModel",
          "state": {
            "_model_module": "@jupyter-widgets/base",
            "_model_module_version": "1.2.0",
            "_model_name": "LayoutModel",
            "_view_count": null,
            "_view_module": "@jupyter-widgets/base",
            "_view_module_version": "1.2.0",
            "_view_name": "LayoutView",
            "align_content": null,
            "align_items": null,
            "align_self": null,
            "border": null,
            "bottom": null,
            "display": null,
            "flex": null,
            "flex_flow": null,
            "grid_area": null,
            "grid_auto_columns": null,
            "grid_auto_flow": null,
            "grid_auto_rows": null,
            "grid_column": null,
            "grid_gap": null,
            "grid_row": null,
            "grid_template_areas": null,
            "grid_template_columns": null,
            "grid_template_rows": null,
            "height": null,
            "justify_content": null,
            "justify_items": null,
            "left": null,
            "margin": null,
            "max_height": null,
            "max_width": null,
            "min_height": null,
            "min_width": null,
            "object_fit": null,
            "object_position": null,
            "order": null,
            "overflow": null,
            "overflow_x": null,
            "overflow_y": null,
            "padding": null,
            "right": null,
            "top": null,
            "visibility": null,
            "width": null
          }
        },
        "9ade824f7fa643c9afa554d8289b05e4": {
          "model_module": "@jupyter-widgets/controls",
          "model_module_version": "1.5.0",
          "model_name": "HTMLModel",
          "state": {
            "_dom_classes": [],
            "_model_module": "@jupyter-widgets/controls",
            "_model_module_version": "1.5.0",
            "_model_name": "HTMLModel",
            "_view_count": null,
            "_view_module": "@jupyter-widgets/controls",
            "_view_module_version": "1.5.0",
            "_view_name": "HTMLView",
            "description": "",
            "description_tooltip": null,
            "layout": "IPY_MODEL_26add6338326424bbfe46108cb7356ed",
            "placeholder": "​",
            "style": "IPY_MODEL_1e44a8595fd34483adf875bf2df2ab02",
            "value": "Generating train split: 100%"
          }
        },
        "9c89a76d32a74a35a61ebd1ac63bc58e": {
          "model_module": "@jupyter-widgets/controls",
          "model_module_version": "1.5.0",
          "model_name": "FloatProgressModel",
          "state": {
            "_dom_classes": [],
            "_model_module": "@jupyter-widgets/controls",
            "_model_module_version": "1.5.0",
            "_model_name": "FloatProgressModel",
            "_view_count": null,
            "_view_module": "@jupyter-widgets/controls",
            "_view_module_version": "1.5.0",
            "_view_name": "ProgressView",
            "bar_style": "success",
            "description": "",
            "description_tooltip": null,
            "layout": "IPY_MODEL_c12c07bc57d34a26a836e7094cf83df2",
            "max": 3453,
            "min": 0,
            "orientation": "horizontal",
            "style": "IPY_MODEL_8c9a16bcedcf46d8bd77a1bbbdd30ce7",
            "value": 3453
          }
        },
        "9d0f363663ed453692dec92989db30ed": {
          "model_module": "@jupyter-widgets/controls",
          "model_module_version": "1.5.0",
          "model_name": "HTMLModel",
          "state": {
            "_dom_classes": [],
            "_model_module": "@jupyter-widgets/controls",
            "_model_module_version": "1.5.0",
            "_model_name": "HTMLModel",
            "_view_count": null,
            "_view_module": "@jupyter-widgets/controls",
            "_view_module_version": "1.5.0",
            "_view_name": "HTMLView",
            "description": "",
            "description_tooltip": null,
            "layout": "IPY_MODEL_6efc8dd840b64573808d540f83eda876",
            "placeholder": "​",
            "style": "IPY_MODEL_1b94f120603f429185741604b6d99fa1",
            "value": " 226k/226k [00:00&lt;00:00, 1.61MB/s]"
          }
        },
        "9dddc02a246348b19d07d722f32d4ec8": {
          "model_module": "@jupyter-widgets/controls",
          "model_module_version": "1.5.0",
          "model_name": "DescriptionStyleModel",
          "state": {
            "_model_module": "@jupyter-widgets/controls",
            "_model_module_version": "1.5.0",
            "_model_name": "DescriptionStyleModel",
            "_view_count": null,
            "_view_module": "@jupyter-widgets/base",
            "_view_module_version": "1.2.0",
            "_view_name": "StyleView",
            "description_width": ""
          }
        },
        "9eb6becbc1814eb29dcb995a2a1b489b": {
          "model_module": "@jupyter-widgets/controls",
          "model_module_version": "1.5.0",
          "model_name": "FloatProgressModel",
          "state": {
            "_dom_classes": [],
            "_model_module": "@jupyter-widgets/controls",
            "_model_module_version": "1.5.0",
            "_model_name": "FloatProgressModel",
            "_view_count": null,
            "_view_module": "@jupyter-widgets/controls",
            "_view_module_version": "1.5.0",
            "_view_name": "ProgressView",
            "bar_style": "success",
            "description": "",
            "description_tooltip": null,
            "layout": "IPY_MODEL_f6f65f6493e046d5845cc864974622b6",
            "max": 408,
            "min": 0,
            "orientation": "horizontal",
            "style": "IPY_MODEL_131dea370d5f4374aa324de0f6072f3f",
            "value": 408
          }
        },
        "a1c300a9cf594bd883547920bbf3f51a": {
          "model_module": "@jupyter-widgets/base",
          "model_module_version": "1.2.0",
          "model_name": "LayoutModel",
          "state": {
            "_model_module": "@jupyter-widgets/base",
            "_model_module_version": "1.2.0",
            "_model_name": "LayoutModel",
            "_view_count": null,
            "_view_module": "@jupyter-widgets/base",
            "_view_module_version": "1.2.0",
            "_view_name": "LayoutView",
            "align_content": null,
            "align_items": null,
            "align_self": null,
            "border": null,
            "bottom": null,
            "display": null,
            "flex": null,
            "flex_flow": null,
            "grid_area": null,
            "grid_auto_columns": null,
            "grid_auto_flow": null,
            "grid_auto_rows": null,
            "grid_column": null,
            "grid_gap": null,
            "grid_row": null,
            "grid_template_areas": null,
            "grid_template_columns": null,
            "grid_template_rows": null,
            "height": null,
            "justify_content": null,
            "justify_items": null,
            "left": null,
            "margin": null,
            "max_height": null,
            "max_width": null,
            "min_height": null,
            "min_width": null,
            "object_fit": null,
            "object_position": null,
            "order": null,
            "overflow": null,
            "overflow_x": null,
            "overflow_y": null,
            "padding": null,
            "right": null,
            "top": null,
            "visibility": null,
            "width": null
          }
        },
        "a1fc0542282849aeb8edfdde4c10eb3d": {
          "model_module": "@jupyter-widgets/controls",
          "model_module_version": "1.5.0",
          "model_name": "HBoxModel",
          "state": {
            "_dom_classes": [],
            "_model_module": "@jupyter-widgets/controls",
            "_model_module_version": "1.5.0",
            "_model_name": "HBoxModel",
            "_view_count": null,
            "_view_module": "@jupyter-widgets/controls",
            "_view_module_version": "1.5.0",
            "_view_name": "HBoxView",
            "box_style": "",
            "children": [
              "IPY_MODEL_0399f0e5f6874a1da1ada1b9344b7071",
              "IPY_MODEL_9103c10a223841b2a05a4b0273392d6d",
              "IPY_MODEL_717dfddd7b4543e3aaf8663be1a14ab2"
            ],
            "layout": "IPY_MODEL_257f2f8c889446258dc63a5bc5a91dc7"
          }
        },
        "a6ef9a9951bd49c7a65ba051c3582b50": {
          "model_module": "@jupyter-widgets/controls",
          "model_module_version": "1.5.0",
          "model_name": "ProgressStyleModel",
          "state": {
            "_model_module": "@jupyter-widgets/controls",
            "_model_module_version": "1.5.0",
            "_model_name": "ProgressStyleModel",
            "_view_count": null,
            "_view_module": "@jupyter-widgets/base",
            "_view_module_version": "1.2.0",
            "_view_name": "StyleView",
            "bar_color": null,
            "description_width": ""
          }
        },
        "a76af1a9715c4173a25dcaef7e158e87": {
          "model_module": "@jupyter-widgets/controls",
          "model_module_version": "1.5.0",
          "model_name": "ProgressStyleModel",
          "state": {
            "_model_module": "@jupyter-widgets/controls",
            "_model_module_version": "1.5.0",
            "_model_name": "ProgressStyleModel",
            "_view_count": null,
            "_view_module": "@jupyter-widgets/base",
            "_view_module_version": "1.2.0",
            "_view_name": "StyleView",
            "bar_color": null,
            "description_width": ""
          }
        },
        "aa52a7b20fc441ff9ee436ca03ccd16e": {
          "model_module": "@jupyter-widgets/base",
          "model_module_version": "1.2.0",
          "model_name": "LayoutModel",
          "state": {
            "_model_module": "@jupyter-widgets/base",
            "_model_module_version": "1.2.0",
            "_model_name": "LayoutModel",
            "_view_count": null,
            "_view_module": "@jupyter-widgets/base",
            "_view_module_version": "1.2.0",
            "_view_name": "LayoutView",
            "align_content": null,
            "align_items": null,
            "align_self": null,
            "border": null,
            "bottom": null,
            "display": null,
            "flex": null,
            "flex_flow": null,
            "grid_area": null,
            "grid_auto_columns": null,
            "grid_auto_flow": null,
            "grid_auto_rows": null,
            "grid_column": null,
            "grid_gap": null,
            "grid_row": null,
            "grid_template_areas": null,
            "grid_template_columns": null,
            "grid_template_rows": null,
            "height": null,
            "justify_content": null,
            "justify_items": null,
            "left": null,
            "margin": null,
            "max_height": null,
            "max_width": null,
            "min_height": null,
            "min_width": null,
            "object_fit": null,
            "object_position": null,
            "order": null,
            "overflow": null,
            "overflow_x": null,
            "overflow_y": null,
            "padding": null,
            "right": null,
            "top": null,
            "visibility": null,
            "width": null
          }
        },
        "ab1d9d1a497d4d908329f730644afefd": {
          "model_module": "@jupyter-widgets/base",
          "model_module_version": "1.2.0",
          "model_name": "LayoutModel",
          "state": {
            "_model_module": "@jupyter-widgets/base",
            "_model_module_version": "1.2.0",
            "_model_name": "LayoutModel",
            "_view_count": null,
            "_view_module": "@jupyter-widgets/base",
            "_view_module_version": "1.2.0",
            "_view_name": "LayoutView",
            "align_content": null,
            "align_items": null,
            "align_self": null,
            "border": null,
            "bottom": null,
            "display": null,
            "flex": null,
            "flex_flow": null,
            "grid_area": null,
            "grid_auto_columns": null,
            "grid_auto_flow": null,
            "grid_auto_rows": null,
            "grid_column": null,
            "grid_gap": null,
            "grid_row": null,
            "grid_template_areas": null,
            "grid_template_columns": null,
            "grid_template_rows": null,
            "height": null,
            "justify_content": null,
            "justify_items": null,
            "left": null,
            "margin": null,
            "max_height": null,
            "max_width": null,
            "min_height": null,
            "min_width": null,
            "object_fit": null,
            "object_position": null,
            "order": null,
            "overflow": null,
            "overflow_x": null,
            "overflow_y": null,
            "padding": null,
            "right": null,
            "top": null,
            "visibility": null,
            "width": null
          }
        },
        "abaaeab955234ee7938547a27a453e3b": {
          "model_module": "@jupyter-widgets/controls",
          "model_module_version": "1.5.0",
          "model_name": "HTMLModel",
          "state": {
            "_dom_classes": [],
            "_model_module": "@jupyter-widgets/controls",
            "_model_module_version": "1.5.0",
            "_model_name": "HTMLModel",
            "_view_count": null,
            "_view_module": "@jupyter-widgets/controls",
            "_view_module_version": "1.5.0",
            "_view_name": "HTMLView",
            "description": "",
            "description_tooltip": null,
            "layout": "IPY_MODEL_023567ceeaca42d68d22ca35291d4af1",
            "placeholder": "​",
            "style": "IPY_MODEL_9dddc02a246348b19d07d722f32d4ec8",
            "value": " 112/112 [00:00&lt;00:00, 8.78kB/s]"
          }
        },
        "b449fce31a4841e2b10db0b22bb1d056": {
          "model_module": "@jupyter-widgets/controls",
          "model_module_version": "1.5.0",
          "model_name": "HTMLModel",
          "state": {
            "_dom_classes": [],
            "_model_module": "@jupyter-widgets/controls",
            "_model_module_version": "1.5.0",
            "_model_name": "HTMLModel",
            "_view_count": null,
            "_view_module": "@jupyter-widgets/controls",
            "_view_module_version": "1.5.0",
            "_view_name": "HTMLView",
            "description": "",
            "description_tooltip": null,
            "layout": "IPY_MODEL_dba512d1d3644fdfacf1b5c070474970",
            "placeholder": "​",
            "style": "IPY_MODEL_550eec9f87494fee8dc5b83879dd3719",
            "value": " 3250/3250 [00:00&lt;00:00, 5501.23 examples/s]"
          }
        },
        "b527ace41e6d4f50920a3234bd0e8088": {
          "model_module": "@jupyter-widgets/base",
          "model_module_version": "1.2.0",
          "model_name": "LayoutModel",
          "state": {
            "_model_module": "@jupyter-widgets/base",
            "_model_module_version": "1.2.0",
            "_model_name": "LayoutModel",
            "_view_count": null,
            "_view_module": "@jupyter-widgets/base",
            "_view_module_version": "1.2.0",
            "_view_name": "LayoutView",
            "align_content": null,
            "align_items": null,
            "align_self": null,
            "border": null,
            "bottom": null,
            "display": null,
            "flex": null,
            "flex_flow": null,
            "grid_area": null,
            "grid_auto_columns": null,
            "grid_auto_flow": null,
            "grid_auto_rows": null,
            "grid_column": null,
            "grid_gap": null,
            "grid_row": null,
            "grid_template_areas": null,
            "grid_template_columns": null,
            "grid_template_rows": null,
            "height": null,
            "justify_content": null,
            "justify_items": null,
            "left": null,
            "margin": null,
            "max_height": null,
            "max_width": null,
            "min_height": null,
            "min_width": null,
            "object_fit": null,
            "object_position": null,
            "order": null,
            "overflow": null,
            "overflow_x": null,
            "overflow_y": null,
            "padding": null,
            "right": null,
            "top": null,
            "visibility": null,
            "width": null
          }
        },
        "b656e867833f48b8acb9c4d968559f60": {
          "model_module": "@jupyter-widgets/base",
          "model_module_version": "1.2.0",
          "model_name": "LayoutModel",
          "state": {
            "_model_module": "@jupyter-widgets/base",
            "_model_module_version": "1.2.0",
            "_model_name": "LayoutModel",
            "_view_count": null,
            "_view_module": "@jupyter-widgets/base",
            "_view_module_version": "1.2.0",
            "_view_name": "LayoutView",
            "align_content": null,
            "align_items": null,
            "align_self": null,
            "border": null,
            "bottom": null,
            "display": null,
            "flex": null,
            "flex_flow": null,
            "grid_area": null,
            "grid_auto_columns": null,
            "grid_auto_flow": null,
            "grid_auto_rows": null,
            "grid_column": null,
            "grid_gap": null,
            "grid_row": null,
            "grid_template_areas": null,
            "grid_template_columns": null,
            "grid_template_rows": null,
            "height": null,
            "justify_content": null,
            "justify_items": null,
            "left": null,
            "margin": null,
            "max_height": null,
            "max_width": null,
            "min_height": null,
            "min_width": null,
            "object_fit": null,
            "object_position": null,
            "order": null,
            "overflow": null,
            "overflow_x": null,
            "overflow_y": null,
            "padding": null,
            "right": null,
            "top": null,
            "visibility": null,
            "width": null
          }
        },
        "b6bd39962e934a06938ba02dc7b65cd4": {
          "model_module": "@jupyter-widgets/base",
          "model_module_version": "1.2.0",
          "model_name": "LayoutModel",
          "state": {
            "_model_module": "@jupyter-widgets/base",
            "_model_module_version": "1.2.0",
            "_model_name": "LayoutModel",
            "_view_count": null,
            "_view_module": "@jupyter-widgets/base",
            "_view_module_version": "1.2.0",
            "_view_name": "LayoutView",
            "align_content": null,
            "align_items": null,
            "align_self": null,
            "border": null,
            "bottom": null,
            "display": null,
            "flex": null,
            "flex_flow": null,
            "grid_area": null,
            "grid_auto_columns": null,
            "grid_auto_flow": null,
            "grid_auto_rows": null,
            "grid_column": null,
            "grid_gap": null,
            "grid_row": null,
            "grid_template_areas": null,
            "grid_template_columns": null,
            "grid_template_rows": null,
            "height": null,
            "justify_content": null,
            "justify_items": null,
            "left": null,
            "margin": null,
            "max_height": null,
            "max_width": null,
            "min_height": null,
            "min_width": null,
            "object_fit": null,
            "object_position": null,
            "order": null,
            "overflow": null,
            "overflow_x": null,
            "overflow_y": null,
            "padding": null,
            "right": null,
            "top": null,
            "visibility": null,
            "width": null
          }
        },
        "b960b918a15242938bd2d76f9b4aec1d": {
          "model_module": "@jupyter-widgets/base",
          "model_module_version": "1.2.0",
          "model_name": "LayoutModel",
          "state": {
            "_model_module": "@jupyter-widgets/base",
            "_model_module_version": "1.2.0",
            "_model_name": "LayoutModel",
            "_view_count": null,
            "_view_module": "@jupyter-widgets/base",
            "_view_module_version": "1.2.0",
            "_view_name": "LayoutView",
            "align_content": null,
            "align_items": null,
            "align_self": null,
            "border": null,
            "bottom": null,
            "display": null,
            "flex": null,
            "flex_flow": null,
            "grid_area": null,
            "grid_auto_columns": null,
            "grid_auto_flow": null,
            "grid_auto_rows": null,
            "grid_column": null,
            "grid_gap": null,
            "grid_row": null,
            "grid_template_areas": null,
            "grid_template_columns": null,
            "grid_template_rows": null,
            "height": null,
            "justify_content": null,
            "justify_items": null,
            "left": null,
            "margin": null,
            "max_height": null,
            "max_width": null,
            "min_height": null,
            "min_width": null,
            "object_fit": null,
            "object_position": null,
            "order": null,
            "overflow": null,
            "overflow_x": null,
            "overflow_y": null,
            "padding": null,
            "right": null,
            "top": null,
            "visibility": null,
            "width": null
          }
        },
        "bb044e9a01aa458fb6111e704c683d28": {
          "model_module": "@jupyter-widgets/base",
          "model_module_version": "1.2.0",
          "model_name": "LayoutModel",
          "state": {
            "_model_module": "@jupyter-widgets/base",
            "_model_module_version": "1.2.0",
            "_model_name": "LayoutModel",
            "_view_count": null,
            "_view_module": "@jupyter-widgets/base",
            "_view_module_version": "1.2.0",
            "_view_name": "LayoutView",
            "align_content": null,
            "align_items": null,
            "align_self": null,
            "border": null,
            "bottom": null,
            "display": null,
            "flex": null,
            "flex_flow": null,
            "grid_area": null,
            "grid_auto_columns": null,
            "grid_auto_flow": null,
            "grid_auto_rows": null,
            "grid_column": null,
            "grid_gap": null,
            "grid_row": null,
            "grid_template_areas": null,
            "grid_template_columns": null,
            "grid_template_rows": null,
            "height": null,
            "justify_content": null,
            "justify_items": null,
            "left": null,
            "margin": null,
            "max_height": null,
            "max_width": null,
            "min_height": null,
            "min_width": null,
            "object_fit": null,
            "object_position": null,
            "order": null,
            "overflow": null,
            "overflow_x": null,
            "overflow_y": null,
            "padding": null,
            "right": null,
            "top": null,
            "visibility": null,
            "width": null
          }
        },
        "bc28d0636dfe4c66988932a10e5983a6": {
          "model_module": "@jupyter-widgets/controls",
          "model_module_version": "1.5.0",
          "model_name": "DescriptionStyleModel",
          "state": {
            "_model_module": "@jupyter-widgets/controls",
            "_model_module_version": "1.5.0",
            "_model_name": "DescriptionStyleModel",
            "_view_count": null,
            "_view_module": "@jupyter-widgets/base",
            "_view_module_version": "1.2.0",
            "_view_name": "StyleView",
            "description_width": ""
          }
        },
        "be6300f21e104935b192dca57dda078b": {
          "model_module": "@jupyter-widgets/controls",
          "model_module_version": "1.5.0",
          "model_name": "HTMLModel",
          "state": {
            "_dom_classes": [],
            "_model_module": "@jupyter-widgets/controls",
            "_model_module_version": "1.5.0",
            "_model_name": "HTMLModel",
            "_view_count": null,
            "_view_module": "@jupyter-widgets/controls",
            "_view_module_version": "1.5.0",
            "_view_name": "HTMLView",
            "description": "",
            "description_tooltip": null,
            "layout": "IPY_MODEL_8a27c708f50a40daae689c739f4a7681",
            "placeholder": "​",
            "style": "IPY_MODEL_24eaf9dc9ed04cd285ee64587874c66d",
            "value": "Generating validation split: 100%"
          }
        },
        "c12c07bc57d34a26a836e7094cf83df2": {
          "model_module": "@jupyter-widgets/base",
          "model_module_version": "1.2.0",
          "model_name": "LayoutModel",
          "state": {
            "_model_module": "@jupyter-widgets/base",
            "_model_module_version": "1.2.0",
            "_model_name": "LayoutModel",
            "_view_count": null,
            "_view_module": "@jupyter-widgets/base",
            "_view_module_version": "1.2.0",
            "_view_name": "LayoutView",
            "align_content": null,
            "align_items": null,
            "align_self": null,
            "border": null,
            "bottom": null,
            "display": null,
            "flex": null,
            "flex_flow": null,
            "grid_area": null,
            "grid_auto_columns": null,
            "grid_auto_flow": null,
            "grid_auto_rows": null,
            "grid_column": null,
            "grid_gap": null,
            "grid_row": null,
            "grid_template_areas": null,
            "grid_template_columns": null,
            "grid_template_rows": null,
            "height": null,
            "justify_content": null,
            "justify_items": null,
            "left": null,
            "margin": null,
            "max_height": null,
            "max_width": null,
            "min_height": null,
            "min_width": null,
            "object_fit": null,
            "object_position": null,
            "order": null,
            "overflow": null,
            "overflow_x": null,
            "overflow_y": null,
            "padding": null,
            "right": null,
            "top": null,
            "visibility": null,
            "width": null
          }
        },
        "c1fdde8dcd9e4c8bab33625b1b6886b1": {
          "model_module": "@jupyter-widgets/controls",
          "model_module_version": "1.5.0",
          "model_name": "FloatProgressModel",
          "state": {
            "_dom_classes": [],
            "_model_module": "@jupyter-widgets/controls",
            "_model_module_version": "1.5.0",
            "_model_name": "FloatProgressModel",
            "_view_count": null,
            "_view_module": "@jupyter-widgets/controls",
            "_view_module_version": "1.5.0",
            "_view_name": "ProgressView",
            "bar_style": "success",
            "description": "",
            "description_tooltip": null,
            "layout": "IPY_MODEL_5a6941a71cef4f6f82550a38a11af323",
            "max": 533,
            "min": 0,
            "orientation": "horizontal",
            "style": "IPY_MODEL_0f5932c6e8ff4778ab2b79039da0902b",
            "value": 533
          }
        },
        "c22024efd0d9436e9dae1b9eec54f4c5": {
          "model_module": "@jupyter-widgets/controls",
          "model_module_version": "1.5.0",
          "model_name": "DescriptionStyleModel",
          "state": {
            "_model_module": "@jupyter-widgets/controls",
            "_model_module_version": "1.5.0",
            "_model_name": "DescriptionStyleModel",
            "_view_count": null,
            "_view_module": "@jupyter-widgets/base",
            "_view_module_version": "1.2.0",
            "_view_name": "StyleView",
            "description_width": ""
          }
        },
        "c388a2ada6d042a1b2651b76432bf46a": {
          "model_module": "@jupyter-widgets/controls",
          "model_module_version": "1.5.0",
          "model_name": "DescriptionStyleModel",
          "state": {
            "_model_module": "@jupyter-widgets/controls",
            "_model_module_version": "1.5.0",
            "_model_name": "DescriptionStyleModel",
            "_view_count": null,
            "_view_module": "@jupyter-widgets/base",
            "_view_module_version": "1.2.0",
            "_view_name": "StyleView",
            "description_width": ""
          }
        },
        "c390cbdcf8444faf89f2520436007c7e": {
          "model_module": "@jupyter-widgets/controls",
          "model_module_version": "1.5.0",
          "model_name": "FloatProgressModel",
          "state": {
            "_dom_classes": [],
            "_model_module": "@jupyter-widgets/controls",
            "_model_module_version": "1.5.0",
            "_model_name": "FloatProgressModel",
            "_view_count": null,
            "_view_module": "@jupyter-widgets/controls",
            "_view_module_version": "1.5.0",
            "_view_name": "ProgressView",
            "bar_style": "success",
            "description": "",
            "description_tooltip": null,
            "layout": "IPY_MODEL_4a7cd6e40aae44e5bd740c5e8c76598d",
            "max": 435755784,
            "min": 0,
            "orientation": "horizontal",
            "style": "IPY_MODEL_91855c1009004d4589b14ccecba8b50c",
            "value": 435755784
          }
        },
        "c3ccf8ca2a0f4d8398d833781852dd39": {
          "model_module": "@jupyter-widgets/base",
          "model_module_version": "1.2.0",
          "model_name": "LayoutModel",
          "state": {
            "_model_module": "@jupyter-widgets/base",
            "_model_module_version": "1.2.0",
            "_model_name": "LayoutModel",
            "_view_count": null,
            "_view_module": "@jupyter-widgets/base",
            "_view_module_version": "1.2.0",
            "_view_name": "LayoutView",
            "align_content": null,
            "align_items": null,
            "align_self": null,
            "border": null,
            "bottom": null,
            "display": null,
            "flex": null,
            "flex_flow": null,
            "grid_area": null,
            "grid_auto_columns": null,
            "grid_auto_flow": null,
            "grid_auto_rows": null,
            "grid_column": null,
            "grid_gap": null,
            "grid_row": null,
            "grid_template_areas": null,
            "grid_template_columns": null,
            "grid_template_rows": null,
            "height": null,
            "justify_content": null,
            "justify_items": null,
            "left": null,
            "margin": null,
            "max_height": null,
            "max_width": null,
            "min_height": null,
            "min_width": null,
            "object_fit": null,
            "object_position": null,
            "order": null,
            "overflow": null,
            "overflow_x": null,
            "overflow_y": null,
            "padding": null,
            "right": null,
            "top": null,
            "visibility": null,
            "width": null
          }
        },
        "c48bd47341924c97ade69239eb0aa379": {
          "model_module": "@jupyter-widgets/controls",
          "model_module_version": "1.5.0",
          "model_name": "HTMLModel",
          "state": {
            "_dom_classes": [],
            "_model_module": "@jupyter-widgets/controls",
            "_model_module_version": "1.5.0",
            "_model_name": "HTMLModel",
            "_view_count": null,
            "_view_module": "@jupyter-widgets/controls",
            "_view_module_version": "1.5.0",
            "_view_name": "HTMLView",
            "description": "",
            "description_tooltip": null,
            "layout": "IPY_MODEL_5e114e6369ec4318b0aafd10b36a91fd",
            "placeholder": "​",
            "style": "IPY_MODEL_4126ea7c50214a51879971e391d04d04",
            "value": " 3250/3250 [00:01&lt;00:00, 2202.29 examples/s]"
          }
        },
        "c8fcf5f23a88485095ea706b205ccea5": {
          "model_module": "@jupyter-widgets/controls",
          "model_module_version": "1.5.0",
          "model_name": "HTMLModel",
          "state": {
            "_dom_classes": [],
            "_model_module": "@jupyter-widgets/controls",
            "_model_module_version": "1.5.0",
            "_model_name": "HTMLModel",
            "_view_count": null,
            "_view_module": "@jupyter-widgets/controls",
            "_view_module_version": "1.5.0",
            "_view_name": "HTMLView",
            "description": "",
            "description_tooltip": null,
            "layout": "IPY_MODEL_150af76c6a0344238fb86e42d709cce3",
            "placeholder": "​",
            "style": "IPY_MODEL_74d495d07ddb48d3acd379000696342f",
            "value": "config.json: 100%"
          }
        },
        "c906032ff0044d3f929ecb9b2ba8191a": {
          "model_module": "@jupyter-widgets/base",
          "model_module_version": "1.2.0",
          "model_name": "LayoutModel",
          "state": {
            "_model_module": "@jupyter-widgets/base",
            "_model_module_version": "1.2.0",
            "_model_name": "LayoutModel",
            "_view_count": null,
            "_view_module": "@jupyter-widgets/base",
            "_view_module_version": "1.2.0",
            "_view_name": "LayoutView",
            "align_content": null,
            "align_items": null,
            "align_self": null,
            "border": null,
            "bottom": null,
            "display": null,
            "flex": null,
            "flex_flow": null,
            "grid_area": null,
            "grid_auto_columns": null,
            "grid_auto_flow": null,
            "grid_auto_rows": null,
            "grid_column": null,
            "grid_gap": null,
            "grid_row": null,
            "grid_template_areas": null,
            "grid_template_columns": null,
            "grid_template_rows": null,
            "height": null,
            "justify_content": null,
            "justify_items": null,
            "left": null,
            "margin": null,
            "max_height": null,
            "max_width": null,
            "min_height": null,
            "min_width": null,
            "object_fit": null,
            "object_position": null,
            "order": null,
            "overflow": null,
            "overflow_x": null,
            "overflow_y": null,
            "padding": null,
            "right": null,
            "top": null,
            "visibility": null,
            "width": null
          }
        },
        "ca1f4f7aa93d4f7aa4e854bb1e21e312": {
          "model_module": "@jupyter-widgets/controls",
          "model_module_version": "1.5.0",
          "model_name": "DescriptionStyleModel",
          "state": {
            "_model_module": "@jupyter-widgets/controls",
            "_model_module_version": "1.5.0",
            "_model_name": "DescriptionStyleModel",
            "_view_count": null,
            "_view_module": "@jupyter-widgets/base",
            "_view_module_version": "1.2.0",
            "_view_name": "StyleView",
            "description_width": ""
          }
        },
        "ca747e5d39c642798358627ae2d84963": {
          "model_module": "@jupyter-widgets/controls",
          "model_module_version": "1.5.0",
          "model_name": "HBoxModel",
          "state": {
            "_dom_classes": [],
            "_model_module": "@jupyter-widgets/controls",
            "_model_module_version": "1.5.0",
            "_model_name": "HBoxModel",
            "_view_count": null,
            "_view_module": "@jupyter-widgets/controls",
            "_view_module_version": "1.5.0",
            "_view_name": "HBoxView",
            "box_style": "",
            "children": [
              "IPY_MODEL_f053a5b248aa43049ce8cec25b7cc736",
              "IPY_MODEL_76e4bb6b5abc4b43832d96d8ae5740ec",
              "IPY_MODEL_f217e7732c1443359b7eac6056e597e9"
            ],
            "layout": "IPY_MODEL_dfa30335352f4c5985d9224ad9883109"
          }
        },
        "cee93f1916144febb5e1c488e3baee36": {
          "model_module": "@jupyter-widgets/base",
          "model_module_version": "1.2.0",
          "model_name": "LayoutModel",
          "state": {
            "_model_module": "@jupyter-widgets/base",
            "_model_module_version": "1.2.0",
            "_model_name": "LayoutModel",
            "_view_count": null,
            "_view_module": "@jupyter-widgets/base",
            "_view_module_version": "1.2.0",
            "_view_name": "LayoutView",
            "align_content": null,
            "align_items": null,
            "align_self": null,
            "border": null,
            "bottom": null,
            "display": null,
            "flex": null,
            "flex_flow": null,
            "grid_area": null,
            "grid_auto_columns": null,
            "grid_auto_flow": null,
            "grid_auto_rows": null,
            "grid_column": null,
            "grid_gap": null,
            "grid_row": null,
            "grid_template_areas": null,
            "grid_template_columns": null,
            "grid_template_rows": null,
            "height": null,
            "justify_content": null,
            "justify_items": null,
            "left": null,
            "margin": null,
            "max_height": null,
            "max_width": null,
            "min_height": null,
            "min_width": null,
            "object_fit": null,
            "object_position": null,
            "order": null,
            "overflow": null,
            "overflow_x": null,
            "overflow_y": null,
            "padding": null,
            "right": null,
            "top": null,
            "visibility": null,
            "width": null
          }
        },
        "d3183b788ace4f488cae819e89139adc": {
          "model_module": "@jupyter-widgets/controls",
          "model_module_version": "1.5.0",
          "model_name": "HBoxModel",
          "state": {
            "_dom_classes": [],
            "_model_module": "@jupyter-widgets/controls",
            "_model_module_version": "1.5.0",
            "_model_name": "HBoxModel",
            "_view_count": null,
            "_view_module": "@jupyter-widgets/controls",
            "_view_module_version": "1.5.0",
            "_view_name": "HBoxView",
            "box_style": "",
            "children": [
              "IPY_MODEL_03083220364147f6ab544cb4399b675a",
              "IPY_MODEL_f028b9cf43fe4c7ab69960cf55a4987e",
              "IPY_MODEL_7e850ce50df04f5982b8e3bc737d54c0"
            ],
            "layout": "IPY_MODEL_a1c300a9cf594bd883547920bbf3f51a"
          }
        },
        "d36d088e40dc4af0b1f22cb3056b4590": {
          "model_module": "@jupyter-widgets/base",
          "model_module_version": "1.2.0",
          "model_name": "LayoutModel",
          "state": {
            "_model_module": "@jupyter-widgets/base",
            "_model_module_version": "1.2.0",
            "_model_name": "LayoutModel",
            "_view_count": null,
            "_view_module": "@jupyter-widgets/base",
            "_view_module_version": "1.2.0",
            "_view_name": "LayoutView",
            "align_content": null,
            "align_items": null,
            "align_self": null,
            "border": null,
            "bottom": null,
            "display": null,
            "flex": null,
            "flex_flow": null,
            "grid_area": null,
            "grid_auto_columns": null,
            "grid_auto_flow": null,
            "grid_auto_rows": null,
            "grid_column": null,
            "grid_gap": null,
            "grid_row": null,
            "grid_template_areas": null,
            "grid_template_columns": null,
            "grid_template_rows": null,
            "height": null,
            "justify_content": null,
            "justify_items": null,
            "left": null,
            "margin": null,
            "max_height": null,
            "max_width": null,
            "min_height": null,
            "min_width": null,
            "object_fit": null,
            "object_position": null,
            "order": null,
            "overflow": null,
            "overflow_x": null,
            "overflow_y": null,
            "padding": null,
            "right": null,
            "top": null,
            "visibility": null,
            "width": null
          }
        },
        "d4ca7dc152d3493db8cad6b4dc124333": {
          "model_module": "@jupyter-widgets/controls",
          "model_module_version": "1.5.0",
          "model_name": "DescriptionStyleModel",
          "state": {
            "_model_module": "@jupyter-widgets/controls",
            "_model_module_version": "1.5.0",
            "_model_name": "DescriptionStyleModel",
            "_view_count": null,
            "_view_module": "@jupyter-widgets/base",
            "_view_module_version": "1.2.0",
            "_view_name": "StyleView",
            "description_width": ""
          }
        },
        "d5df310a22fc418c83c71b243d5de439": {
          "model_module": "@jupyter-widgets/controls",
          "model_module_version": "1.5.0",
          "model_name": "HTMLModel",
          "state": {
            "_dom_classes": [],
            "_model_module": "@jupyter-widgets/controls",
            "_model_module_version": "1.5.0",
            "_model_name": "HTMLModel",
            "_view_count": null,
            "_view_module": "@jupyter-widgets/controls",
            "_view_module_version": "1.5.0",
            "_view_name": "HTMLView",
            "description": "",
            "description_tooltip": null,
            "layout": "IPY_MODEL_627e265817444ca49de07161c7855233",
            "placeholder": "​",
            "style": "IPY_MODEL_6cdb216028b748089c622c994cce297c",
            "value": " 14041/14041 [00:05&lt;00:00, 3064.50 examples/s]"
          }
        },
        "d642ade93eb24ae291b378b0cea686dc": {
          "model_module": "@jupyter-widgets/controls",
          "model_module_version": "1.5.0",
          "model_name": "DescriptionStyleModel",
          "state": {
            "_model_module": "@jupyter-widgets/controls",
            "_model_module_version": "1.5.0",
            "_model_name": "DescriptionStyleModel",
            "_view_count": null,
            "_view_module": "@jupyter-widgets/base",
            "_view_module_version": "1.2.0",
            "_view_name": "StyleView",
            "description_width": ""
          }
        },
        "d70ee9c995404f6ca86146c0e8063f5e": {
          "model_module": "@jupyter-widgets/controls",
          "model_module_version": "1.5.0",
          "model_name": "HBoxModel",
          "state": {
            "_dom_classes": [],
            "_model_module": "@jupyter-widgets/controls",
            "_model_module_version": "1.5.0",
            "_model_name": "HBoxModel",
            "_view_count": null,
            "_view_module": "@jupyter-widgets/controls",
            "_view_module_version": "1.5.0",
            "_view_name": "HBoxView",
            "box_style": "",
            "children": [
              "IPY_MODEL_fa8ef79fd43a4b20a25cf5336ae2e8ba",
              "IPY_MODEL_2f126704b4bb45b492653ad3f71b1c0d",
              "IPY_MODEL_5b48c04c8cb54ff087ac71c58ecc808e"
            ],
            "layout": "IPY_MODEL_736e27478d8c49dfb9f928b1d32e36df"
          }
        },
        "d76d16cc6fc844488c9e3288cf6b720c": {
          "model_module": "@jupyter-widgets/controls",
          "model_module_version": "1.5.0",
          "model_name": "ProgressStyleModel",
          "state": {
            "_model_module": "@jupyter-widgets/controls",
            "_model_module_version": "1.5.0",
            "_model_name": "ProgressStyleModel",
            "_view_count": null,
            "_view_module": "@jupyter-widgets/base",
            "_view_module_version": "1.2.0",
            "_view_name": "StyleView",
            "bar_color": null,
            "description_width": ""
          }
        },
        "d9d24099e4be404a9d9c9cad31d9ea29": {
          "model_module": "@jupyter-widgets/controls",
          "model_module_version": "1.5.0",
          "model_name": "ProgressStyleModel",
          "state": {
            "_model_module": "@jupyter-widgets/controls",
            "_model_module_version": "1.5.0",
            "_model_name": "ProgressStyleModel",
            "_view_count": null,
            "_view_module": "@jupyter-widgets/base",
            "_view_module_version": "1.2.0",
            "_view_name": "StyleView",
            "bar_color": null,
            "description_width": ""
          }
        },
        "dba512d1d3644fdfacf1b5c070474970": {
          "model_module": "@jupyter-widgets/base",
          "model_module_version": "1.2.0",
          "model_name": "LayoutModel",
          "state": {
            "_model_module": "@jupyter-widgets/base",
            "_model_module_version": "1.2.0",
            "_model_name": "LayoutModel",
            "_view_count": null,
            "_view_module": "@jupyter-widgets/base",
            "_view_module_version": "1.2.0",
            "_view_name": "LayoutView",
            "align_content": null,
            "align_items": null,
            "align_self": null,
            "border": null,
            "bottom": null,
            "display": null,
            "flex": null,
            "flex_flow": null,
            "grid_area": null,
            "grid_auto_columns": null,
            "grid_auto_flow": null,
            "grid_auto_rows": null,
            "grid_column": null,
            "grid_gap": null,
            "grid_row": null,
            "grid_template_areas": null,
            "grid_template_columns": null,
            "grid_template_rows": null,
            "height": null,
            "justify_content": null,
            "justify_items": null,
            "left": null,
            "margin": null,
            "max_height": null,
            "max_width": null,
            "min_height": null,
            "min_width": null,
            "object_fit": null,
            "object_position": null,
            "order": null,
            "overflow": null,
            "overflow_x": null,
            "overflow_y": null,
            "padding": null,
            "right": null,
            "top": null,
            "visibility": null,
            "width": null
          }
        },
        "ddc6d3e5657c4dabb6b65a5feaa0854d": {
          "model_module": "@jupyter-widgets/controls",
          "model_module_version": "1.5.0",
          "model_name": "ProgressStyleModel",
          "state": {
            "_model_module": "@jupyter-widgets/controls",
            "_model_module_version": "1.5.0",
            "_model_name": "ProgressStyleModel",
            "_view_count": null,
            "_view_module": "@jupyter-widgets/base",
            "_view_module_version": "1.2.0",
            "_view_name": "StyleView",
            "bar_color": null,
            "description_width": ""
          }
        },
        "de9fb1df3df74ffaa1533771666255de": {
          "model_module": "@jupyter-widgets/controls",
          "model_module_version": "1.5.0",
          "model_name": "DescriptionStyleModel",
          "state": {
            "_model_module": "@jupyter-widgets/controls",
            "_model_module_version": "1.5.0",
            "_model_name": "DescriptionStyleModel",
            "_view_count": null,
            "_view_module": "@jupyter-widgets/base",
            "_view_module_version": "1.2.0",
            "_view_name": "StyleView",
            "description_width": ""
          }
        },
        "df3a7a17c99e4afc99189914c3357bef": {
          "model_module": "@jupyter-widgets/base",
          "model_module_version": "1.2.0",
          "model_name": "LayoutModel",
          "state": {
            "_model_module": "@jupyter-widgets/base",
            "_model_module_version": "1.2.0",
            "_model_name": "LayoutModel",
            "_view_count": null,
            "_view_module": "@jupyter-widgets/base",
            "_view_module_version": "1.2.0",
            "_view_name": "LayoutView",
            "align_content": null,
            "align_items": null,
            "align_self": null,
            "border": null,
            "bottom": null,
            "display": null,
            "flex": null,
            "flex_flow": null,
            "grid_area": null,
            "grid_auto_columns": null,
            "grid_auto_flow": null,
            "grid_auto_rows": null,
            "grid_column": null,
            "grid_gap": null,
            "grid_row": null,
            "grid_template_areas": null,
            "grid_template_columns": null,
            "grid_template_rows": null,
            "height": null,
            "justify_content": null,
            "justify_items": null,
            "left": null,
            "margin": null,
            "max_height": null,
            "max_width": null,
            "min_height": null,
            "min_width": null,
            "object_fit": null,
            "object_position": null,
            "order": null,
            "overflow": null,
            "overflow_x": null,
            "overflow_y": null,
            "padding": null,
            "right": null,
            "top": null,
            "visibility": null,
            "width": null
          }
        },
        "dfa30335352f4c5985d9224ad9883109": {
          "model_module": "@jupyter-widgets/base",
          "model_module_version": "1.2.0",
          "model_name": "LayoutModel",
          "state": {
            "_model_module": "@jupyter-widgets/base",
            "_model_module_version": "1.2.0",
            "_model_name": "LayoutModel",
            "_view_count": null,
            "_view_module": "@jupyter-widgets/base",
            "_view_module_version": "1.2.0",
            "_view_name": "LayoutView",
            "align_content": null,
            "align_items": null,
            "align_self": null,
            "border": null,
            "bottom": null,
            "display": null,
            "flex": null,
            "flex_flow": null,
            "grid_area": null,
            "grid_auto_columns": null,
            "grid_auto_flow": null,
            "grid_auto_rows": null,
            "grid_column": null,
            "grid_gap": null,
            "grid_row": null,
            "grid_template_areas": null,
            "grid_template_columns": null,
            "grid_template_rows": null,
            "height": null,
            "justify_content": null,
            "justify_items": null,
            "left": null,
            "margin": null,
            "max_height": null,
            "max_width": null,
            "min_height": null,
            "min_width": null,
            "object_fit": null,
            "object_position": null,
            "order": null,
            "overflow": null,
            "overflow_x": null,
            "overflow_y": null,
            "padding": null,
            "right": null,
            "top": null,
            "visibility": null,
            "width": null
          }
        },
        "e0526d0cdcda42229fe32154b3fe1d3f": {
          "model_module": "@jupyter-widgets/base",
          "model_module_version": "1.2.0",
          "model_name": "LayoutModel",
          "state": {
            "_model_module": "@jupyter-widgets/base",
            "_model_module_version": "1.2.0",
            "_model_name": "LayoutModel",
            "_view_count": null,
            "_view_module": "@jupyter-widgets/base",
            "_view_module_version": "1.2.0",
            "_view_name": "LayoutView",
            "align_content": null,
            "align_items": null,
            "align_self": null,
            "border": null,
            "bottom": null,
            "display": null,
            "flex": null,
            "flex_flow": null,
            "grid_area": null,
            "grid_auto_columns": null,
            "grid_auto_flow": null,
            "grid_auto_rows": null,
            "grid_column": null,
            "grid_gap": null,
            "grid_row": null,
            "grid_template_areas": null,
            "grid_template_columns": null,
            "grid_template_rows": null,
            "height": null,
            "justify_content": null,
            "justify_items": null,
            "left": null,
            "margin": null,
            "max_height": null,
            "max_width": null,
            "min_height": null,
            "min_width": null,
            "object_fit": null,
            "object_position": null,
            "order": null,
            "overflow": null,
            "overflow_x": null,
            "overflow_y": null,
            "padding": null,
            "right": null,
            "top": null,
            "visibility": null,
            "width": null
          }
        },
        "e10bf00a298e4c07a50d6d7dae298220": {
          "model_module": "@jupyter-widgets/base",
          "model_module_version": "1.2.0",
          "model_name": "LayoutModel",
          "state": {
            "_model_module": "@jupyter-widgets/base",
            "_model_module_version": "1.2.0",
            "_model_name": "LayoutModel",
            "_view_count": null,
            "_view_module": "@jupyter-widgets/base",
            "_view_module_version": "1.2.0",
            "_view_name": "LayoutView",
            "align_content": null,
            "align_items": null,
            "align_self": null,
            "border": null,
            "bottom": null,
            "display": null,
            "flex": null,
            "flex_flow": null,
            "grid_area": null,
            "grid_auto_columns": null,
            "grid_auto_flow": null,
            "grid_auto_rows": null,
            "grid_column": null,
            "grid_gap": null,
            "grid_row": null,
            "grid_template_areas": null,
            "grid_template_columns": null,
            "grid_template_rows": null,
            "height": null,
            "justify_content": null,
            "justify_items": null,
            "left": null,
            "margin": null,
            "max_height": null,
            "max_width": null,
            "min_height": null,
            "min_width": null,
            "object_fit": null,
            "object_position": null,
            "order": null,
            "overflow": null,
            "overflow_x": null,
            "overflow_y": null,
            "padding": null,
            "right": null,
            "top": null,
            "visibility": null,
            "width": null
          }
        },
        "e1c541f941a440759adfebdd50a3e3e5": {
          "model_module": "@jupyter-widgets/controls",
          "model_module_version": "1.5.0",
          "model_name": "HTMLModel",
          "state": {
            "_dom_classes": [],
            "_model_module": "@jupyter-widgets/controls",
            "_model_module_version": "1.5.0",
            "_model_name": "HTMLModel",
            "_view_count": null,
            "_view_module": "@jupyter-widgets/controls",
            "_view_module_version": "1.5.0",
            "_view_name": "HTMLView",
            "description": "",
            "description_tooltip": null,
            "layout": "IPY_MODEL_4c6d74a8bf8b478a838a23d52ea68c5a",
            "placeholder": "​",
            "style": "IPY_MODEL_0ba30694ff364419b6df5d5383e52473",
            "value": "Downloading builder script: 100%"
          }
        },
        "e2c44e2a5cad4cf9b3cd4404f6f4e550": {
          "model_module": "@jupyter-widgets/controls",
          "model_module_version": "1.5.0",
          "model_name": "HTMLModel",
          "state": {
            "_dom_classes": [],
            "_model_module": "@jupyter-widgets/controls",
            "_model_module_version": "1.5.0",
            "_model_name": "HTMLModel",
            "_view_count": null,
            "_view_module": "@jupyter-widgets/controls",
            "_view_module_version": "1.5.0",
            "_view_name": "HTMLView",
            "description": "",
            "description_tooltip": null,
            "layout": "IPY_MODEL_6ca2910a8275467f85d2f95cc3725dee",
            "placeholder": "​",
            "style": "IPY_MODEL_17c0c9bfc9664717a7d8ff237e06a1cf",
            "value": "Map: 100%"
          }
        },
        "e3cc7bdcf0af4b3da5cb7b3230b29ecb": {
          "model_module": "@jupyter-widgets/controls",
          "model_module_version": "1.5.0",
          "model_name": "HTMLModel",
          "state": {
            "_dom_classes": [],
            "_model_module": "@jupyter-widgets/controls",
            "_model_module_version": "1.5.0",
            "_model_name": "HTMLModel",
            "_view_count": null,
            "_view_module": "@jupyter-widgets/controls",
            "_view_module_version": "1.5.0",
            "_view_name": "HTMLView",
            "description": "",
            "description_tooltip": null,
            "layout": "IPY_MODEL_62de0019e43c4833b35ec8022b096f84",
            "placeholder": "​",
            "style": "IPY_MODEL_ca1f4f7aa93d4f7aa4e854bb1e21e312",
            "value": " 436M/436M [00:06&lt;00:00, 33.7MB/s]"
          }
        },
        "e3ec2d466bc643a0a6d95f15dd31fd4f": {
          "model_module": "@jupyter-widgets/base",
          "model_module_version": "1.2.0",
          "model_name": "LayoutModel",
          "state": {
            "_model_module": "@jupyter-widgets/base",
            "_model_module_version": "1.2.0",
            "_model_name": "LayoutModel",
            "_view_count": null,
            "_view_module": "@jupyter-widgets/base",
            "_view_module_version": "1.2.0",
            "_view_name": "LayoutView",
            "align_content": null,
            "align_items": null,
            "align_self": null,
            "border": null,
            "bottom": null,
            "display": null,
            "flex": null,
            "flex_flow": null,
            "grid_area": null,
            "grid_auto_columns": null,
            "grid_auto_flow": null,
            "grid_auto_rows": null,
            "grid_column": null,
            "grid_gap": null,
            "grid_row": null,
            "grid_template_areas": null,
            "grid_template_columns": null,
            "grid_template_rows": null,
            "height": null,
            "justify_content": null,
            "justify_items": null,
            "left": null,
            "margin": null,
            "max_height": null,
            "max_width": null,
            "min_height": null,
            "min_width": null,
            "object_fit": null,
            "object_position": null,
            "order": null,
            "overflow": null,
            "overflow_x": null,
            "overflow_y": null,
            "padding": null,
            "right": null,
            "top": null,
            "visibility": null,
            "width": null
          }
        },
        "e4fe17449d9848bd9ee429d8684548fe": {
          "model_module": "@jupyter-widgets/base",
          "model_module_version": "1.2.0",
          "model_name": "LayoutModel",
          "state": {
            "_model_module": "@jupyter-widgets/base",
            "_model_module_version": "1.2.0",
            "_model_name": "LayoutModel",
            "_view_count": null,
            "_view_module": "@jupyter-widgets/base",
            "_view_module_version": "1.2.0",
            "_view_name": "LayoutView",
            "align_content": null,
            "align_items": null,
            "align_self": null,
            "border": null,
            "bottom": null,
            "display": null,
            "flex": null,
            "flex_flow": null,
            "grid_area": null,
            "grid_auto_columns": null,
            "grid_auto_flow": null,
            "grid_auto_rows": null,
            "grid_column": null,
            "grid_gap": null,
            "grid_row": null,
            "grid_template_areas": null,
            "grid_template_columns": null,
            "grid_template_rows": null,
            "height": null,
            "justify_content": null,
            "justify_items": null,
            "left": null,
            "margin": null,
            "max_height": null,
            "max_width": null,
            "min_height": null,
            "min_width": null,
            "object_fit": null,
            "object_position": null,
            "order": null,
            "overflow": null,
            "overflow_x": null,
            "overflow_y": null,
            "padding": null,
            "right": null,
            "top": null,
            "visibility": null,
            "width": null
          }
        },
        "e77a06511d5343fca388c3e349c575cc": {
          "model_module": "@jupyter-widgets/controls",
          "model_module_version": "1.5.0",
          "model_name": "HBoxModel",
          "state": {
            "_dom_classes": [],
            "_model_module": "@jupyter-widgets/controls",
            "_model_module_version": "1.5.0",
            "_model_name": "HBoxModel",
            "_view_count": null,
            "_view_module": "@jupyter-widgets/controls",
            "_view_module_version": "1.5.0",
            "_view_name": "HBoxView",
            "box_style": "",
            "children": [
              "IPY_MODEL_0de2eb77d5d54552a352f618936499d2",
              "IPY_MODEL_1bfdce7631814150920a5056a7b4ac96",
              "IPY_MODEL_abaaeab955234ee7938547a27a453e3b"
            ],
            "layout": "IPY_MODEL_298314c41f894c78915dc19108df626d"
          }
        },
        "e7d15f76cf854699b01f28babd471ec2": {
          "model_module": "@jupyter-widgets/controls",
          "model_module_version": "1.5.0",
          "model_name": "DescriptionStyleModel",
          "state": {
            "_model_module": "@jupyter-widgets/controls",
            "_model_module_version": "1.5.0",
            "_model_name": "DescriptionStyleModel",
            "_view_count": null,
            "_view_module": "@jupyter-widgets/base",
            "_view_module_version": "1.2.0",
            "_view_name": "StyleView",
            "description_width": ""
          }
        },
        "e9f33cffa7254f38ab663c4de32b6c9f": {
          "model_module": "@jupyter-widgets/controls",
          "model_module_version": "1.5.0",
          "model_name": "HTMLModel",
          "state": {
            "_dom_classes": [],
            "_model_module": "@jupyter-widgets/controls",
            "_model_module_version": "1.5.0",
            "_model_name": "HTMLModel",
            "_view_count": null,
            "_view_module": "@jupyter-widgets/controls",
            "_view_module_version": "1.5.0",
            "_view_name": "HTMLView",
            "description": "",
            "description_tooltip": null,
            "layout": "IPY_MODEL_71f4b484f7b74de5a5e58cb2fe08f704",
            "placeholder": "​",
            "style": "IPY_MODEL_71624b50433f4491b965b70ede4fc3be",
            "value": "Map: 100%"
          }
        },
        "ea636221bd64414b926416fc7078ee1e": {
          "model_module": "@jupyter-widgets/controls",
          "model_module_version": "1.5.0",
          "model_name": "ProgressStyleModel",
          "state": {
            "_model_module": "@jupyter-widgets/controls",
            "_model_module_version": "1.5.0",
            "_model_name": "ProgressStyleModel",
            "_view_count": null,
            "_view_module": "@jupyter-widgets/base",
            "_view_module_version": "1.2.0",
            "_view_name": "StyleView",
            "bar_color": null,
            "description_width": ""
          }
        },
        "eaa8cd5724a64989be8072ee655bc08f": {
          "model_module": "@jupyter-widgets/base",
          "model_module_version": "1.2.0",
          "model_name": "LayoutModel",
          "state": {
            "_model_module": "@jupyter-widgets/base",
            "_model_module_version": "1.2.0",
            "_model_name": "LayoutModel",
            "_view_count": null,
            "_view_module": "@jupyter-widgets/base",
            "_view_module_version": "1.2.0",
            "_view_name": "LayoutView",
            "align_content": null,
            "align_items": null,
            "align_self": null,
            "border": null,
            "bottom": null,
            "display": null,
            "flex": null,
            "flex_flow": null,
            "grid_area": null,
            "grid_auto_columns": null,
            "grid_auto_flow": null,
            "grid_auto_rows": null,
            "grid_column": null,
            "grid_gap": null,
            "grid_row": null,
            "grid_template_areas": null,
            "grid_template_columns": null,
            "grid_template_rows": null,
            "height": null,
            "justify_content": null,
            "justify_items": null,
            "left": null,
            "margin": null,
            "max_height": null,
            "max_width": null,
            "min_height": null,
            "min_width": null,
            "object_fit": null,
            "object_position": null,
            "order": null,
            "overflow": null,
            "overflow_x": null,
            "overflow_y": null,
            "padding": null,
            "right": null,
            "top": null,
            "visibility": null,
            "width": null
          }
        },
        "ec7312980b7345f39cb82310a1f10869": {
          "model_module": "@jupyter-widgets/controls",
          "model_module_version": "1.5.0",
          "model_name": "DescriptionStyleModel",
          "state": {
            "_model_module": "@jupyter-widgets/controls",
            "_model_module_version": "1.5.0",
            "_model_name": "DescriptionStyleModel",
            "_view_count": null,
            "_view_module": "@jupyter-widgets/base",
            "_view_module_version": "1.2.0",
            "_view_name": "StyleView",
            "description_width": ""
          }
        },
        "ecfce0b7e5b74d27bada06093bb74a4e": {
          "model_module": "@jupyter-widgets/controls",
          "model_module_version": "1.5.0",
          "model_name": "DescriptionStyleModel",
          "state": {
            "_model_module": "@jupyter-widgets/controls",
            "_model_module_version": "1.5.0",
            "_model_name": "DescriptionStyleModel",
            "_view_count": null,
            "_view_module": "@jupyter-widgets/base",
            "_view_module_version": "1.2.0",
            "_view_name": "StyleView",
            "description_width": ""
          }
        },
        "ee68dc943f07492b8cb23ea5f8786200": {
          "model_module": "@jupyter-widgets/controls",
          "model_module_version": "1.5.0",
          "model_name": "HTMLModel",
          "state": {
            "_dom_classes": [],
            "_model_module": "@jupyter-widgets/controls",
            "_model_module_version": "1.5.0",
            "_model_name": "HTMLModel",
            "_view_count": null,
            "_view_module": "@jupyter-widgets/controls",
            "_view_module_version": "1.5.0",
            "_view_name": "HTMLView",
            "description": "",
            "description_tooltip": null,
            "layout": "IPY_MODEL_e4fe17449d9848bd9ee429d8684548fe",
            "placeholder": "​",
            "style": "IPY_MODEL_5147279800e44b3fa81142a8f12ccf43",
            "value": "tokenizer_config.json: 100%"
          }
        },
        "ee6bed54ee8445d49011d74d27a87355": {
          "model_module": "@jupyter-widgets/controls",
          "model_module_version": "1.5.0",
          "model_name": "DescriptionStyleModel",
          "state": {
            "_model_module": "@jupyter-widgets/controls",
            "_model_module_version": "1.5.0",
            "_model_name": "DescriptionStyleModel",
            "_view_count": null,
            "_view_module": "@jupyter-widgets/base",
            "_view_module_version": "1.2.0",
            "_view_name": "StyleView",
            "description_width": ""
          }
        },
        "ee9ceefb752a4491ac853ec72f750f57": {
          "model_module": "@jupyter-widgets/controls",
          "model_module_version": "1.5.0",
          "model_name": "FloatProgressModel",
          "state": {
            "_dom_classes": [],
            "_model_module": "@jupyter-widgets/controls",
            "_model_module_version": "1.5.0",
            "_model_name": "FloatProgressModel",
            "_view_count": null,
            "_view_module": "@jupyter-widgets/controls",
            "_view_module_version": "1.5.0",
            "_view_name": "ProgressView",
            "bar_style": "success",
            "description": "",
            "description_tooltip": null,
            "layout": "IPY_MODEL_71eddf8ac98b44289f0599b0f14a6b6e",
            "max": 1,
            "min": 0,
            "orientation": "horizontal",
            "style": "IPY_MODEL_0005e956a36e40a69ab946a396136e8f",
            "value": 1
          }
        },
        "f028b9cf43fe4c7ab69960cf55a4987e": {
          "model_module": "@jupyter-widgets/controls",
          "model_module_version": "1.5.0",
          "model_name": "FloatProgressModel",
          "state": {
            "_dom_classes": [],
            "_model_module": "@jupyter-widgets/controls",
            "_model_module_version": "1.5.0",
            "_model_name": "FloatProgressModel",
            "_view_count": null,
            "_view_module": "@jupyter-widgets/controls",
            "_view_module_version": "1.5.0",
            "_view_name": "ProgressView",
            "bar_style": "success",
            "description": "",
            "description_tooltip": null,
            "layout": "IPY_MODEL_957492934ed34b06b8e6504ea4786da0",
            "max": 213450,
            "min": 0,
            "orientation": "horizontal",
            "style": "IPY_MODEL_30af6805dc3d49749973a28f6d4881ec",
            "value": 213450
          }
        },
        "f053a5b248aa43049ce8cec25b7cc736": {
          "model_module": "@jupyter-widgets/controls",
          "model_module_version": "1.5.0",
          "model_name": "HTMLModel",
          "state": {
            "_dom_classes": [],
            "_model_module": "@jupyter-widgets/controls",
            "_model_module_version": "1.5.0",
            "_model_name": "HTMLModel",
            "_view_count": null,
            "_view_module": "@jupyter-widgets/controls",
            "_view_module_version": "1.5.0",
            "_view_name": "HTMLView",
            "description": "",
            "description_tooltip": null,
            "layout": "IPY_MODEL_2e8de3a36b8b4b2b98a0817f2782070d",
            "placeholder": "​",
            "style": "IPY_MODEL_4538de836725405eb58a00ea5870e8f3",
            "value": "README.md: 100%"
          }
        },
        "f0a8c4d7971b46d0a08151757bc3137c": {
          "model_module": "@jupyter-widgets/controls",
          "model_module_version": "1.5.0",
          "model_name": "DescriptionStyleModel",
          "state": {
            "_model_module": "@jupyter-widgets/controls",
            "_model_module_version": "1.5.0",
            "_model_name": "DescriptionStyleModel",
            "_view_count": null,
            "_view_module": "@jupyter-widgets/base",
            "_view_module_version": "1.2.0",
            "_view_name": "StyleView",
            "description_width": ""
          }
        },
        "f217e7732c1443359b7eac6056e597e9": {
          "model_module": "@jupyter-widgets/controls",
          "model_module_version": "1.5.0",
          "model_name": "HTMLModel",
          "state": {
            "_dom_classes": [],
            "_model_module": "@jupyter-widgets/controls",
            "_model_module_version": "1.5.0",
            "_model_name": "HTMLModel",
            "_view_count": null,
            "_view_module": "@jupyter-widgets/controls",
            "_view_module_version": "1.5.0",
            "_view_name": "HTMLView",
            "description": "",
            "description_tooltip": null,
            "layout": "IPY_MODEL_43b9573a44164224b1dec08f8f43fb43",
            "placeholder": "​",
            "style": "IPY_MODEL_ee6bed54ee8445d49011d74d27a87355",
            "value": " 12.3k/12.3k [00:00&lt;00:00, 713kB/s]"
          }
        },
        "f2446e5377ca4f6ba6a581f16f6c800f": {
          "model_module": "@jupyter-widgets/base",
          "model_module_version": "1.2.0",
          "model_name": "LayoutModel",
          "state": {
            "_model_module": "@jupyter-widgets/base",
            "_model_module_version": "1.2.0",
            "_model_name": "LayoutModel",
            "_view_count": null,
            "_view_module": "@jupyter-widgets/base",
            "_view_module_version": "1.2.0",
            "_view_name": "LayoutView",
            "align_content": null,
            "align_items": null,
            "align_self": null,
            "border": null,
            "bottom": null,
            "display": null,
            "flex": null,
            "flex_flow": null,
            "grid_area": null,
            "grid_auto_columns": null,
            "grid_auto_flow": null,
            "grid_auto_rows": null,
            "grid_column": null,
            "grid_gap": null,
            "grid_row": null,
            "grid_template_areas": null,
            "grid_template_columns": null,
            "grid_template_rows": null,
            "height": null,
            "justify_content": null,
            "justify_items": null,
            "left": null,
            "margin": null,
            "max_height": null,
            "max_width": null,
            "min_height": null,
            "min_width": null,
            "object_fit": null,
            "object_position": null,
            "order": null,
            "overflow": null,
            "overflow_x": null,
            "overflow_y": null,
            "padding": null,
            "right": null,
            "top": null,
            "visibility": null,
            "width": null
          }
        },
        "f5a8a55cf2174ad3a95a186fcaf60fdf": {
          "model_module": "@jupyter-widgets/controls",
          "model_module_version": "1.5.0",
          "model_name": "FloatProgressModel",
          "state": {
            "_dom_classes": [],
            "_model_module": "@jupyter-widgets/controls",
            "_model_module_version": "1.5.0",
            "_model_name": "FloatProgressModel",
            "_view_count": null,
            "_view_module": "@jupyter-widgets/controls",
            "_view_module_version": "1.5.0",
            "_view_name": "ProgressView",
            "bar_style": "success",
            "description": "",
            "description_tooltip": null,
            "layout": "IPY_MODEL_8ab1e0421d754ea69c8d21e85859d15b",
            "max": 6338,
            "min": 0,
            "orientation": "horizontal",
            "style": "IPY_MODEL_3ad3bf6c540246e3b4eaf2b1e173a788",
            "value": 6338
          }
        },
        "f6387f1a57c9459b9391e41ecbb0adb2": {
          "model_module": "@jupyter-widgets/controls",
          "model_module_version": "1.5.0",
          "model_name": "HTMLModel",
          "state": {
            "_dom_classes": [],
            "_model_module": "@jupyter-widgets/controls",
            "_model_module_version": "1.5.0",
            "_model_name": "HTMLModel",
            "_view_count": null,
            "_view_module": "@jupyter-widgets/controls",
            "_view_module_version": "1.5.0",
            "_view_name": "HTMLView",
            "description": "",
            "description_tooltip": null,
            "layout": "IPY_MODEL_28445e0156434114afe1eaf195a7255b",
            "placeholder": "​",
            "style": "IPY_MODEL_c22024efd0d9436e9dae1b9eec54f4c5",
            "value": " 2.00/2.00 [00:00&lt;00:00, 180B/s]"
          }
        },
        "f6f65f6493e046d5845cc864974622b6": {
          "model_module": "@jupyter-widgets/base",
          "model_module_version": "1.2.0",
          "model_name": "LayoutModel",
          "state": {
            "_model_module": "@jupyter-widgets/base",
            "_model_module_version": "1.2.0",
            "_model_name": "LayoutModel",
            "_view_count": null,
            "_view_module": "@jupyter-widgets/base",
            "_view_module_version": "1.2.0",
            "_view_name": "LayoutView",
            "align_content": null,
            "align_items": null,
            "align_self": null,
            "border": null,
            "bottom": null,
            "display": null,
            "flex": null,
            "flex_flow": null,
            "grid_area": null,
            "grid_auto_columns": null,
            "grid_auto_flow": null,
            "grid_auto_rows": null,
            "grid_column": null,
            "grid_gap": null,
            "grid_row": null,
            "grid_template_areas": null,
            "grid_template_columns": null,
            "grid_template_rows": null,
            "height": null,
            "justify_content": null,
            "justify_items": null,
            "left": null,
            "margin": null,
            "max_height": null,
            "max_width": null,
            "min_height": null,
            "min_width": null,
            "object_fit": null,
            "object_position": null,
            "order": null,
            "overflow": null,
            "overflow_x": null,
            "overflow_y": null,
            "padding": null,
            "right": null,
            "top": null,
            "visibility": null,
            "width": null
          }
        },
        "f704cd924a1e4ac386fa10cbd89f37f0": {
          "model_module": "@jupyter-widgets/controls",
          "model_module_version": "1.5.0",
          "model_name": "HTMLModel",
          "state": {
            "_dom_classes": [],
            "_model_module": "@jupyter-widgets/controls",
            "_model_module_version": "1.5.0",
            "_model_name": "HTMLModel",
            "_view_count": null,
            "_view_module": "@jupyter-widgets/controls",
            "_view_module_version": "1.5.0",
            "_view_name": "HTMLView",
            "description": "",
            "description_tooltip": null,
            "layout": "IPY_MODEL_c906032ff0044d3f929ecb9b2ba8191a",
            "placeholder": "​",
            "style": "IPY_MODEL_f0a8c4d7971b46d0a08151757bc3137c",
            "value": "Map: 100%"
          }
        },
        "f7ae297879fe4ca1a190075d80ab6409": {
          "model_module": "@jupyter-widgets/base",
          "model_module_version": "1.2.0",
          "model_name": "LayoutModel",
          "state": {
            "_model_module": "@jupyter-widgets/base",
            "_model_module_version": "1.2.0",
            "_model_name": "LayoutModel",
            "_view_count": null,
            "_view_module": "@jupyter-widgets/base",
            "_view_module_version": "1.2.0",
            "_view_name": "LayoutView",
            "align_content": null,
            "align_items": null,
            "align_self": null,
            "border": null,
            "bottom": null,
            "display": null,
            "flex": null,
            "flex_flow": null,
            "grid_area": null,
            "grid_auto_columns": null,
            "grid_auto_flow": null,
            "grid_auto_rows": null,
            "grid_column": null,
            "grid_gap": null,
            "grid_row": null,
            "grid_template_areas": null,
            "grid_template_columns": null,
            "grid_template_rows": null,
            "height": null,
            "justify_content": null,
            "justify_items": null,
            "left": null,
            "margin": null,
            "max_height": null,
            "max_width": null,
            "min_height": null,
            "min_width": null,
            "object_fit": null,
            "object_position": null,
            "order": null,
            "overflow": null,
            "overflow_x": null,
            "overflow_y": null,
            "padding": null,
            "right": null,
            "top": null,
            "visibility": null,
            "width": null
          }
        },
        "f8085ebdcb5541c4be7411570e060c2f": {
          "model_module": "@jupyter-widgets/controls",
          "model_module_version": "1.5.0",
          "model_name": "HBoxModel",
          "state": {
            "_dom_classes": [],
            "_model_module": "@jupyter-widgets/controls",
            "_model_module_version": "1.5.0",
            "_model_name": "HBoxModel",
            "_view_count": null,
            "_view_module": "@jupyter-widgets/controls",
            "_view_module_version": "1.5.0",
            "_view_name": "HBoxView",
            "box_style": "",
            "children": [
              "IPY_MODEL_e2c44e2a5cad4cf9b3cd4404f6f4e550",
              "IPY_MODEL_9360bba1dc0f40c4b3c62a9c76c6a2c4",
              "IPY_MODEL_b449fce31a4841e2b10db0b22bb1d056"
            ],
            "layout": "IPY_MODEL_b656e867833f48b8acb9c4d968559f60"
          }
        },
        "f821a101e4ce43a2bd371448e6daa5ae": {
          "model_module": "@jupyter-widgets/controls",
          "model_module_version": "1.5.0",
          "model_name": "ProgressStyleModel",
          "state": {
            "_model_module": "@jupyter-widgets/controls",
            "_model_module_version": "1.5.0",
            "_model_name": "ProgressStyleModel",
            "_view_count": null,
            "_view_module": "@jupyter-widgets/base",
            "_view_module_version": "1.2.0",
            "_view_name": "StyleView",
            "bar_color": null,
            "description_width": ""
          }
        },
        "fa8ef79fd43a4b20a25cf5336ae2e8ba": {
          "model_module": "@jupyter-widgets/controls",
          "model_module_version": "1.5.0",
          "model_name": "HTMLModel",
          "state": {
            "_dom_classes": [],
            "_model_module": "@jupyter-widgets/controls",
            "_model_module_version": "1.5.0",
            "_model_name": "HTMLModel",
            "_view_count": null,
            "_view_module": "@jupyter-widgets/controls",
            "_view_module_version": "1.5.0",
            "_view_name": "HTMLView",
            "description": "",
            "description_tooltip": null,
            "layout": "IPY_MODEL_5dffa297337c4d17b8482f1951c0f610",
            "placeholder": "​",
            "style": "IPY_MODEL_13f973bac2674e269a3266ef60c3b7d4",
            "value": "pytorch_model.bin: 100%"
          }
        },
        "fc271962ddc949fdb3b41d9330cdd590": {
          "model_module": "@jupyter-widgets/controls",
          "model_module_version": "1.5.0",
          "model_name": "HTMLModel",
          "state": {
            "_dom_classes": [],
            "_model_module": "@jupyter-widgets/controls",
            "_model_module_version": "1.5.0",
            "_model_name": "HTMLModel",
            "_view_count": null,
            "_view_module": "@jupyter-widgets/controls",
            "_view_module_version": "1.5.0",
            "_view_name": "HTMLView",
            "description": "",
            "description_tooltip": null,
            "layout": "IPY_MODEL_55689e5160314f23a6a41f1baf9c145e",
            "placeholder": "​",
            "style": "IPY_MODEL_de9fb1df3df74ffaa1533771666255de",
            "value": " 3453/3453 [00:00&lt;00:00, 6197.67 examples/s]"
          }
        }
      }
    }
  },
  "nbformat": 4,
  "nbformat_minor": 0
}
